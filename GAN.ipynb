{
 "cells": [
  {
   "attachments": {},
   "cell_type": "markdown",
   "metadata": {},
   "source": [
    "# Imports"
   ]
  },
  {
   "cell_type": "code",
   "execution_count": 1,
   "metadata": {},
   "outputs": [
    {
     "name": "stderr",
     "output_type": "stream",
     "text": [
      "2023-08-10 13:44:13.432214: I tensorflow/tsl/cuda/cudart_stub.cc:28] Could not find cuda drivers on your machine, GPU will not be used.\n",
      "2023-08-10 13:44:15.825179: I tensorflow/tsl/cuda/cudart_stub.cc:28] Could not find cuda drivers on your machine, GPU will not be used.\n",
      "2023-08-10 13:44:15.834819: I tensorflow/core/platform/cpu_feature_guard.cc:182] This TensorFlow binary is optimized to use available CPU instructions in performance-critical operations.\n",
      "To enable the following instructions: AVX2 FMA, in other operations, rebuild TensorFlow with the appropriate compiler flags.\n",
      "2023-08-10 13:44:20.767492: W tensorflow/compiler/tf2tensorrt/utils/py_utils.cc:38] TF-TRT Warning: Could not find TensorRT\n"
     ]
    }
   ],
   "source": [
    "import numpy as np\n",
    "import pandas as pd\n",
    "import random as rand\n",
    "import matplotlib.pyplot as plt\n",
    "import tensorflow as tf\n",
    "import csv\n",
    "\n",
    "from keras.utils import to_categorical\n",
    "from keras.layers import Dense, Activation, Conv2D,Conv2DTranspose, Dropout, Reshape, MaxPooling2D, Flatten, LeakyReLU, BatchNormalization\n",
    "from keras.models import Sequential, load_model\n",
    "from keras.losses import BinaryCrossentropy\n",
    "from keras.optimizers import Adam\n",
    "\n",
    "\n",
    "from sklearn.model_selection import train_test_split"
   ]
  },
  {
   "attachments": {},
   "cell_type": "markdown",
   "metadata": {},
   "source": [
    "# Data importing and pre-processing"
   ]
  },
  {
   "cell_type": "code",
   "execution_count": 2,
   "metadata": {},
   "outputs": [],
   "source": [
    "df = pd.read_csv('dataset.csv', header=None)\n",
    "\n",
    "\n",
    "df = df.values.reshape(60, 1,64, 64, 1)\n",
    "\n",
    "labels = np.zeros(60)\n",
    "\n",
    "x_real_train, x_real_test = train_test_split(df, test_size=0.2) #12 test values\n",
    "y_real_train, y_real_test = train_test_split(labels, test_size=0.2)"
   ]
  },
  {
   "attachments": {},
   "cell_type": "markdown",
   "metadata": {},
   "source": [
    "normalize dataset data into range of tanh (-1,1)"
   ]
  },
  {
   "cell_type": "code",
   "execution_count": 3,
   "metadata": {},
   "outputs": [],
   "source": [
    "x_real_train = x_real_train.astype('float32')\n",
    "x_real_train /= 255"
   ]
  },
  {
   "attachments": {},
   "cell_type": "markdown",
   "metadata": {},
   "source": [
    "# Generator Model"
   ]
  },
  {
   "attachments": {},
   "cell_type": "markdown",
   "metadata": {},
   "source": [
    "Create points in latent space to be fed into generator"
   ]
  },
  {
   "cell_type": "code",
   "execution_count": 4,
   "metadata": {},
   "outputs": [],
   "source": [
    "def generate_generator_input():\n",
    "    input = np.random.normal(50,2,size=(1,100))\n",
    "    input = input * 10\n",
    "    \n",
    "\n",
    "    \n",
    "    return input"
   ]
  },
  {
   "cell_type": "code",
   "execution_count": 5,
   "metadata": {},
   "outputs": [],
   "source": [
    "def make_generator():\n",
    "    model = Sequential()\n",
    "    \n",
    "    model.add(Dense(60*8*8, input_shape=(100,)))\n",
    "\n",
    "    model.add(BatchNormalization())\n",
    "    model.add(LeakyReLU())\n",
    "    model.add(Reshape((8,8,60)))\n",
    "\n",
    "    model.add(Dropout(0.3))\n",
    "\n",
    "    \n",
    "    model.add(Conv2DTranspose(128, (1,1), strides=(2,2), padding='same', input_shape=(8,8,60)))\n",
    "    model.add(BatchNormalization())\n",
    "    model.add(LeakyReLU())\n",
    "\n",
    "    model.add(Dropout(0.3))\n",
    "\n",
    "  \n",
    "    \n",
    "    model.add(Conv2DTranspose(64, (1,1), strides=(2,2), padding='same', input_shape=(16,16,60)))\n",
    "    model.add(BatchNormalization())\n",
    "    model.add(LeakyReLU())\n",
    "\n",
    "    model.add(Dropout(0.3))\n",
    "\n",
    "\n",
    "    model.add(Conv2DTranspose(1, (1,1), strides=(2,2), padding='same', input_shape=(32,32,60)))\n",
    "    model.add(Activation(\"tanh\"))\n",
    "    \n",
    "              \n",
    "    model.summary()\n",
    "    \n",
    "    return model\n",
    "    \n",
    "    "
   ]
  },
  {
   "attachments": {},
   "cell_type": "markdown",
   "metadata": {},
   "source": [
    "# Discriminator Model"
   ]
  },
  {
   "cell_type": "code",
   "execution_count": 6,
   "metadata": {},
   "outputs": [],
   "source": [
    "\n",
    "def make_discriminator():\n",
    "    \n",
    "    # 1st set of layers\n",
    "    model = Sequential()\n",
    "    model.add(Conv2D(256, (5,5), strides=(2,2), padding=\"same\", input_shape=(64,64,1)))\n",
    "    model.add(LeakyReLU())\n",
    "    model.add(MaxPooling2D(pool_size=(2,2), strides=(2,2), padding='same'))\n",
    "    model.add(Dropout(0.3))\n",
    "\n",
    "    model.add(Conv2D(512, (5,5), strides=(2,2), padding='same'))\n",
    "    model.add(LeakyReLU())\n",
    "    model.add(MaxPooling2D(pool_size=(2,2), strides=(2,2), padding='same'))\n",
    "    model.add(Dropout(0.3))\n",
    "   \n",
    "    model.add(Conv2D(512, (5,5), strides=(2,2), padding='same'))\n",
    "    model.add(LeakyReLU())\n",
    "    model.add(MaxPooling2D(pool_size=(2,2), strides=(2,2), padding='same'))\n",
    "    model.add(Dropout(0.3))\n",
    "  \n",
    "    \n",
    "    # output layer\n",
    "    model.add(Flatten())\n",
    "    \n",
    "    \n",
    "    model.add(Dense(1)) # Binary classification (2 outputs), so only 1 dense layer needed\n",
    "    model.add(Activation('tanh'))\n",
    "    \n",
    "    model.summary()\n",
    "    return model\n",
    "    "
   ]
  },
  {
   "attachments": {},
   "cell_type": "markdown",
   "metadata": {},
   "source": [
    "# Training"
   ]
  },
  {
   "attachments": {},
   "cell_type": "markdown",
   "metadata": {},
   "source": [
    "First, create the models from the functions"
   ]
  },
  {
   "cell_type": "code",
   "execution_count": 7,
   "metadata": {},
   "outputs": [
    {
     "name": "stdout",
     "output_type": "stream",
     "text": [
      "Model: \"sequential\"\n",
      "_________________________________________________________________\n",
      " Layer (type)                Output Shape              Param #   \n",
      "=================================================================\n",
      " dense (Dense)               (None, 3840)              387840    \n",
      "                                                                 \n",
      " batch_normalization (Batch  (None, 3840)              15360     \n",
      " Normalization)                                                  \n",
      "                                                                 \n",
      " leaky_re_lu (LeakyReLU)     (None, 3840)              0         \n",
      "                                                                 \n",
      " reshape (Reshape)           (None, 8, 8, 60)          0         \n",
      "                                                                 \n",
      " dropout (Dropout)           (None, 8, 8, 60)          0         \n",
      "                                                                 \n",
      " conv2d_transpose (Conv2DTr  (None, 16, 16, 128)       7808      \n",
      " anspose)                                                        \n",
      "                                                                 \n",
      " batch_normalization_1 (Bat  (None, 16, 16, 128)       512       \n",
      " chNormalization)                                                \n",
      "                                                                 \n",
      " leaky_re_lu_1 (LeakyReLU)   (None, 16, 16, 128)       0         \n",
      "                                                                 \n",
      " dropout_1 (Dropout)         (None, 16, 16, 128)       0         \n",
      "                                                                 \n",
      " conv2d_transpose_1 (Conv2D  (None, 32, 32, 64)        8256      \n",
      " Transpose)                                                      \n",
      "                                                                 \n",
      " batch_normalization_2 (Bat  (None, 32, 32, 64)        256       \n",
      " chNormalization)                                                \n",
      "                                                                 \n",
      " leaky_re_lu_2 (LeakyReLU)   (None, 32, 32, 64)        0         \n",
      "                                                                 \n",
      " dropout_2 (Dropout)         (None, 32, 32, 64)        0         \n",
      "                                                                 \n",
      " conv2d_transpose_2 (Conv2D  (None, 64, 64, 1)         65        \n",
      " Transpose)                                                      \n",
      "                                                                 \n",
      " activation (Activation)     (None, 64, 64, 1)         0         \n",
      "                                                                 \n",
      "=================================================================\n",
      "Total params: 420097 (1.60 MB)\n",
      "Trainable params: 412033 (1.57 MB)\n",
      "Non-trainable params: 8064 (31.50 KB)\n",
      "_________________________________________________________________\n",
      "tf.Tensor(\n",
      "[[[[0.99636513]\n",
      "   [0.        ]\n",
      "   [0.        ]\n",
      "   ...\n",
      "   [0.        ]\n",
      "   [0.        ]\n",
      "   [0.        ]]\n",
      "\n",
      "  [[0.        ]\n",
      "   [0.        ]\n",
      "   [0.        ]\n",
      "   ...\n",
      "   [0.        ]\n",
      "   [0.        ]\n",
      "   [0.        ]]\n",
      "\n",
      "  [[0.        ]\n",
      "   [0.        ]\n",
      "   [0.        ]\n",
      "   ...\n",
      "   [0.        ]\n",
      "   [0.        ]\n",
      "   [0.        ]]\n",
      "\n",
      "  ...\n",
      "\n",
      "  [[0.        ]\n",
      "   [0.        ]\n",
      "   [0.        ]\n",
      "   ...\n",
      "   [0.        ]\n",
      "   [0.        ]\n",
      "   [0.        ]]\n",
      "\n",
      "  [[0.        ]\n",
      "   [0.        ]\n",
      "   [0.        ]\n",
      "   ...\n",
      "   [0.        ]\n",
      "   [0.        ]\n",
      "   [0.        ]]\n",
      "\n",
      "  [[0.        ]\n",
      "   [0.        ]\n",
      "   [0.        ]\n",
      "   ...\n",
      "   [0.        ]\n",
      "   [0.        ]\n",
      "   [0.        ]]]], shape=(1, 64, 64, 1), dtype=float32)\n"
     ]
    }
   ],
   "source": [
    "gen_model = make_generator()\n",
    "\n",
    "noise = generate_generator_input()\n",
    "test_gen = gen_model(noise, training = False)\n",
    "\n",
    "print(test_gen)\n",
    "\n"
   ]
  },
  {
   "attachments": {},
   "cell_type": "markdown",
   "metadata": {},
   "source": [
    "Next, test the untrained discriminator on the map of noise generated before\n",
    "\n",
    "Negative values means fake, positive means real"
   ]
  },
  {
   "cell_type": "code",
   "execution_count": 8,
   "metadata": {},
   "outputs": [
    {
     "name": "stdout",
     "output_type": "stream",
     "text": [
      "Model: \"sequential_1\"\n",
      "_________________________________________________________________\n",
      " Layer (type)                Output Shape              Param #   \n",
      "=================================================================\n",
      " conv2d (Conv2D)             (None, 32, 32, 256)       6656      \n",
      "                                                                 \n",
      " leaky_re_lu_3 (LeakyReLU)   (None, 32, 32, 256)       0         \n",
      "                                                                 \n",
      " max_pooling2d (MaxPooling2  (None, 16, 16, 256)       0         \n",
      " D)                                                              \n",
      "                                                                 \n",
      " dropout_3 (Dropout)         (None, 16, 16, 256)       0         \n",
      "                                                                 \n",
      " conv2d_1 (Conv2D)           (None, 8, 8, 512)         3277312   \n",
      "                                                                 \n",
      " leaky_re_lu_4 (LeakyReLU)   (None, 8, 8, 512)         0         \n",
      "                                                                 \n",
      " max_pooling2d_1 (MaxPoolin  (None, 4, 4, 512)         0         \n",
      " g2D)                                                            \n",
      "                                                                 \n",
      " dropout_4 (Dropout)         (None, 4, 4, 512)         0         \n",
      "                                                                 \n",
      " conv2d_2 (Conv2D)           (None, 2, 2, 512)         6554112   \n",
      "                                                                 \n",
      " leaky_re_lu_5 (LeakyReLU)   (None, 2, 2, 512)         0         \n",
      "                                                                 \n",
      " max_pooling2d_2 (MaxPoolin  (None, 1, 1, 512)         0         \n",
      " g2D)                                                            \n",
      "                                                                 \n",
      " dropout_5 (Dropout)         (None, 1, 1, 512)         0         \n",
      "                                                                 \n",
      " flatten (Flatten)           (None, 512)               0         \n",
      "                                                                 \n",
      " dense_1 (Dense)             (None, 1)                 513       \n",
      "                                                                 \n",
      " activation_1 (Activation)   (None, 1)                 0         \n",
      "                                                                 \n",
      "=================================================================\n",
      "Total params: 9838593 (37.53 MB)\n",
      "Trainable params: 9838593 (37.53 MB)\n",
      "Non-trainable params: 0 (0.00 Byte)\n",
      "_________________________________________________________________\n"
     ]
    },
    {
     "name": "stderr",
     "output_type": "stream",
     "text": [
      "2023-08-10 13:44:32.658421: W tensorflow/tsl/framework/cpu_allocator_impl.cc:83] Allocation of 26214400 exceeds 10% of free system memory.\n",
      "2023-08-10 13:44:32.707569: W tensorflow/tsl/framework/cpu_allocator_impl.cc:83] Allocation of 26214400 exceeds 10% of free system memory.\n",
      "2023-08-10 13:44:32.735507: W tensorflow/tsl/framework/cpu_allocator_impl.cc:83] Allocation of 26214400 exceeds 10% of free system memory.\n"
     ]
    },
    {
     "name": "stdout",
     "output_type": "stream",
     "text": [
      "tf.Tensor([[0.02260379]], shape=(1, 1), dtype=float32)\n"
     ]
    }
   ],
   "source": [
    "disc_model = make_discriminator()\n",
    "decision = disc_model(test_gen)\n",
    "print(decision)"
   ]
  },
  {
   "attachments": {},
   "cell_type": "markdown",
   "metadata": {},
   "source": [
    "## Loss and Optimizers"
   ]
  },
  {
   "cell_type": "code",
   "execution_count": 9,
   "metadata": {},
   "outputs": [],
   "source": [
    "cross_entropy = BinaryCrossentropy(from_logits=True)\n",
    "\n"
   ]
  },
  {
   "attachments": {},
   "cell_type": "markdown",
   "metadata": {},
   "source": [
    "Discriminator loss, adapted from: https://www.tensorflow.org/tutorials/generative/dcgan"
   ]
  },
  {
   "cell_type": "code",
   "execution_count": 10,
   "metadata": {},
   "outputs": [],
   "source": [
    "def discrim_loss(real_output, fake_output):\n",
    "    real_loss = cross_entropy(tf.ones_like(real_output), real_output)\n",
    "    fake_loss = cross_entropy(tf.zeros_like(fake_output), fake_output)\n",
    "    total_loss = real_loss + fake_loss\n",
    "    return total_loss"
   ]
  },
  {
   "attachments": {},
   "cell_type": "markdown",
   "metadata": {},
   "source": [
    "Generator loss"
   ]
  },
  {
   "cell_type": "code",
   "execution_count": 11,
   "metadata": {},
   "outputs": [],
   "source": [
    "def generator_loss(fake_output):\n",
    "    return cross_entropy(tf.ones_like(fake_output), fake_output)"
   ]
  },
  {
   "attachments": {},
   "cell_type": "markdown",
   "metadata": {},
   "source": [
    "Optimizers:"
   ]
  },
  {
   "cell_type": "code",
   "execution_count": 12,
   "metadata": {},
   "outputs": [],
   "source": [
    "gen_optimizer = Adam(1e-4)\n",
    "disc_optimizer = Adam(1e-4)"
   ]
  },
  {
   "attachments": {},
   "cell_type": "markdown",
   "metadata": {},
   "source": [
    "Discriminator accuracy"
   ]
  },
  {
   "cell_type": "code",
   "execution_count": 13,
   "metadata": {},
   "outputs": [],
   "source": [
    "def compute_discrim_accuracy(real_output, fake_output):\n",
    "    if real_output >=0:\n",
    "        \n",
    "        if fake_output <0:\n",
    "            accuracy = (real_output + fake_output) / (real_output + fake_output)\n",
    "        else:\n",
    "            accuracy = real_output/ (real_output + fake_output)\n",
    "    elif fake_output <0:\n",
    "        accuracy = fake_output / (real_output + fake_output)\n",
    "    else:\n",
    "        accuracy = 0/ (real_output + fake_output)\n",
    "    \n",
    "    return accuracy"
   ]
  },
  {
   "attachments": {},
   "cell_type": "markdown",
   "metadata": {},
   "source": [
    "## Training"
   ]
  },
  {
   "attachments": {},
   "cell_type": "markdown",
   "metadata": {},
   "source": [
    "training parameters:"
   ]
  },
  {
   "cell_type": "code",
   "execution_count": 14,
   "metadata": {},
   "outputs": [],
   "source": [
    "N_EPOCHS = 25\n",
    "\n",
    "VERBOSE = 1\n"
   ]
  },
  {
   "attachments": {},
   "cell_type": "markdown",
   "metadata": {},
   "source": [
    "Training step"
   ]
  },
  {
   "cell_type": "code",
   "execution_count": 15,
   "metadata": {},
   "outputs": [],
   "source": [
    "@tf.function\n",
    "def training_step(current_batch):\n",
    "    \n",
    "    noise_sample = generate_generator_input()\n",
    "    \n",
    "\n",
    "    with tf.GradientTape() as gen_tape, tf.GradientTape() as disc_tape:\n",
    "\n",
    "        generated_map = gen_model(noise_sample, training=True)\n",
    "        print(\"generated map shape\" + str(generated_map.shape))\n",
    "        \n",
    "        fake_output = disc_model(generated_map,  training=True)\n",
    "        real_output = disc_model(current_batch, training=True)\n",
    "        \n",
    "\n",
    "        gen_loss = generator_loss(fake_output=fake_output)\n",
    "        disc_loss = discrim_loss(real_output=real_output, fake_output=fake_output)\n",
    "\n",
    "        disc_accuracy = compute_discrim_accuracy(real_output, fake_output)\n",
    "\n",
    "        \n",
    "\n",
    "    gen_gradients = gen_tape.gradient(gen_loss, gen_model.trainable_variables)\n",
    "    disc_gradients = disc_tape.gradient(disc_loss, disc_model.trainable_variables)\n",
    "\n",
    "    gen_optimizer.apply_gradients(zip(gen_gradients, gen_model.trainable_variables))\n",
    "    disc_optimizer.apply_gradients(zip(disc_gradients, disc_model.trainable_variables))\n",
    "\n",
    "    return gen_loss, disc_loss, disc_accuracy"
   ]
  },
  {
   "attachments": {},
   "cell_type": "markdown",
   "metadata": {
    "vscode": {
     "languageId": "python"
    }
   },
   "source": [
    "Train models"
   ]
  },
  {
   "cell_type": "code",
   "execution_count": 16,
   "metadata": {},
   "outputs": [],
   "source": [
    "def train(dataset, N_EPOCHS):\n",
    "\n",
    "    gen_losses = []\n",
    "    disc_losses = []\n",
    "\n",
    "    disc_accuracies = []\n",
    "    \n",
    "\n",
    "    for epoch in range(N_EPOCHS):\n",
    "        gen_losses_for_epoch = []\n",
    "        disc_losses_for_epoch = []\n",
    "\n",
    "        print(\"epoch = \" + str(epoch))\n",
    "\n",
    "        for map_batch in dataset:\n",
    "            \n",
    "            map_batch.reshape(1,64,64,1)\n",
    "\n",
    "            \n",
    "            gen_loss, disc_loss, disc_accuracy = training_step(map_batch)\n",
    "\n",
    "            gen_losses_for_epoch.append(gen_loss)\n",
    "            disc_losses_for_epoch.append(disc_loss)\n",
    "            disc_accuracies.append(disc_accuracy)\n",
    "        \n",
    "        avg_gen_loss = sum(gen_losses_for_epoch) / 48\n",
    "        avg_disc_loss = sum(disc_losses_for_epoch) / 48\n",
    "\n",
    "        gen_losses.append(avg_gen_loss)\n",
    "        disc_losses.append(avg_disc_loss)\n",
    "\n",
    "        print(\"Gen loss = \" + str(avg_gen_loss))\n",
    "        print(\"Disc loss = \" + str(avg_disc_loss))\n",
    "    \n",
    "    input_for_map_after_training = generate_generator_input()\n",
    "    generated_map = gen_model(input_for_map_after_training, training=False)\n",
    "\n",
    "    \n",
    "\n",
    "    return gen_losses, disc_losses, generated_map\n"
   ]
  },
  {
   "attachments": {},
   "cell_type": "markdown",
   "metadata": {},
   "source": [
    "Train GAN"
   ]
  },
  {
   "cell_type": "code",
   "execution_count": 17,
   "metadata": {},
   "outputs": [
    {
     "name": "stdout",
     "output_type": "stream",
     "text": [
      "(48, 1, 64, 64, 1)\n",
      "epoch = 0\n",
      "generated map shape(1, 64, 64, 1)\n"
     ]
    },
    {
     "name": "stderr",
     "output_type": "stream",
     "text": [
      "2023-08-10 13:44:38.437900: W tensorflow/tsl/framework/cpu_allocator_impl.cc:83] Allocation of 26214400 exceeds 10% of free system memory.\n",
      "2023-08-10 13:44:38.475573: W tensorflow/tsl/framework/cpu_allocator_impl.cc:83] Allocation of 26214400 exceeds 10% of free system memory.\n"
     ]
    },
    {
     "name": "stdout",
     "output_type": "stream",
     "text": [
      "generated map shape(1, 64, 64, 1)\n"
     ]
    },
    {
     "name": "stderr",
     "output_type": "stream",
     "text": [
      "2023-08-10 13:44:42.046766: W tensorflow/core/common_runtime/type_inference.cc:339] Type inference failed. This indicates an invalid graph that escaped type checking. Error message: INVALID_ARGUMENT: expected compatible input types, but input 1:\n",
      "type_id: TFT_OPTIONAL\n",
      "args {\n",
      "  type_id: TFT_PRODUCT\n",
      "  args {\n",
      "    type_id: TFT_TENSOR\n",
      "    args {\n",
      "      type_id: TFT_BOOL\n",
      "    }\n",
      "  }\n",
      "}\n",
      " is neither a subtype nor a supertype of the combined inputs preceding it:\n",
      "type_id: TFT_OPTIONAL\n",
      "args {\n",
      "  type_id: TFT_PRODUCT\n",
      "  args {\n",
      "    type_id: TFT_TENSOR\n",
      "    args {\n",
      "      type_id: TFT_FLOAT\n",
      "    }\n",
      "  }\n",
      "}\n",
      "\n",
      "\tfor Tuple type infernce function 0\n",
      "\twhile inferring type of node 'cond/PartitionedCall/cond_3/output/_20'\n"
     ]
    },
    {
     "name": "stdout",
     "output_type": "stream",
     "text": [
      "Gen loss = tf.Tensor(1.013165, shape=(), dtype=float32)\n",
      "Disc loss = tf.Tensor(0.8296711, shape=(), dtype=float32)\n",
      "epoch = 1\n",
      "Gen loss = tf.Tensor(1.3112935, shape=(), dtype=float32)\n",
      "Disc loss = tf.Tensor(0.62726825, shape=(), dtype=float32)\n",
      "epoch = 2\n",
      "Gen loss = tf.Tensor(1.3124236, shape=(), dtype=float32)\n",
      "Disc loss = tf.Tensor(0.62684786, shape=(), dtype=float32)\n",
      "epoch = 3\n",
      "Gen loss = tf.Tensor(1.3126572, shape=(), dtype=float32)\n",
      "Disc loss = tf.Tensor(0.626784, shape=(), dtype=float32)\n",
      "epoch = 4\n",
      "Gen loss = tf.Tensor(1.3127664, shape=(), dtype=float32)\n",
      "Disc loss = tf.Tensor(0.6267403, shape=(), dtype=float32)\n",
      "epoch = 5\n",
      "Gen loss = tf.Tensor(1.3128716, shape=(), dtype=float32)\n",
      "Disc loss = tf.Tensor(0.6266871, shape=(), dtype=float32)\n",
      "epoch = 6\n",
      "Gen loss = tf.Tensor(1.3129032, shape=(), dtype=float32)\n",
      "Disc loss = tf.Tensor(0.6266664, shape=(), dtype=float32)\n",
      "epoch = 7\n",
      "Gen loss = tf.Tensor(1.3130481, shape=(), dtype=float32)\n",
      "Disc loss = tf.Tensor(0.6266119, shape=(), dtype=float32)\n",
      "epoch = 8\n",
      "Gen loss = tf.Tensor(1.3130994, shape=(), dtype=float32)\n",
      "Disc loss = tf.Tensor(0.6265966, shape=(), dtype=float32)\n",
      "epoch = 9\n",
      "Gen loss = tf.Tensor(1.3131145, shape=(), dtype=float32)\n",
      "Disc loss = tf.Tensor(0.626581, shape=(), dtype=float32)\n",
      "epoch = 10\n",
      "Gen loss = tf.Tensor(1.3131547, shape=(), dtype=float32)\n",
      "Disc loss = tf.Tensor(0.62656856, shape=(), dtype=float32)\n",
      "epoch = 11\n",
      "Gen loss = tf.Tensor(1.3131622, shape=(), dtype=float32)\n",
      "Disc loss = tf.Tensor(0.62657046, shape=(), dtype=float32)\n",
      "epoch = 12\n",
      "Gen loss = tf.Tensor(1.3131696, shape=(), dtype=float32)\n",
      "Disc loss = tf.Tensor(0.6265629, shape=(), dtype=float32)\n",
      "epoch = 13\n",
      "Gen loss = tf.Tensor(1.3131937, shape=(), dtype=float32)\n",
      "Disc loss = tf.Tensor(0.62655383, shape=(), dtype=float32)\n",
      "epoch = 14\n",
      "Gen loss = tf.Tensor(1.3132113, shape=(), dtype=float32)\n",
      "Disc loss = tf.Tensor(0.6265472, shape=(), dtype=float32)\n",
      "epoch = 15\n",
      "Gen loss = tf.Tensor(1.3132132, shape=(), dtype=float32)\n",
      "Disc loss = tf.Tensor(0.62654454, shape=(), dtype=float32)\n",
      "epoch = 16\n",
      "Gen loss = tf.Tensor(1.3132155, shape=(), dtype=float32)\n",
      "Disc loss = tf.Tensor(0.6265437, shape=(), dtype=float32)\n",
      "epoch = 17\n",
      "Gen loss = tf.Tensor(1.3132217, shape=(), dtype=float32)\n",
      "Disc loss = tf.Tensor(0.6265417, shape=(), dtype=float32)\n",
      "epoch = 18\n",
      "Gen loss = tf.Tensor(1.3132296, shape=(), dtype=float32)\n",
      "Disc loss = tf.Tensor(0.6265375, shape=(), dtype=float32)\n",
      "epoch = 19\n",
      "Gen loss = tf.Tensor(1.3132296, shape=(), dtype=float32)\n",
      "Disc loss = tf.Tensor(0.6265376, shape=(), dtype=float32)\n",
      "epoch = 20\n",
      "Gen loss = tf.Tensor(1.3132325, shape=(), dtype=float32)\n",
      "Disc loss = tf.Tensor(0.62653583, shape=(), dtype=float32)\n",
      "epoch = 21\n",
      "Gen loss = tf.Tensor(1.3132372, shape=(), dtype=float32)\n",
      "Disc loss = tf.Tensor(0.6265332, shape=(), dtype=float32)\n",
      "epoch = 22\n",
      "Gen loss = tf.Tensor(1.3132406, shape=(), dtype=float32)\n",
      "Disc loss = tf.Tensor(0.62653244, shape=(), dtype=float32)\n",
      "epoch = 23\n",
      "Gen loss = tf.Tensor(1.313243, shape=(), dtype=float32)\n",
      "Disc loss = tf.Tensor(0.6265311, shape=(), dtype=float32)\n",
      "epoch = 24\n",
      "Gen loss = tf.Tensor(1.3132433, shape=(), dtype=float32)\n",
      "Disc loss = tf.Tensor(0.6265318, shape=(), dtype=float32)\n",
      "(1, 64, 64, 1)\n",
      "[[[[255.0], [2.0], [10.0], [2.0], [10.0], [2.0], [10.0], [2.0], [-255.0], [2.0], [10.0], [2.0], [10.0], [2.0], [10.0], [2.0], [-255.0], [2.0], [10.0], [2.0], [10.0], [2.0], [10.0], [2.0], [-255.0], [2.0], [10.0], [2.0], [10.0], [2.0], [10.0], [2.0], [255.0], [2.0], [10.0], [2.0], [10.0], [2.0], [10.0], [2.0], [255.0], [2.0], [10.0], [2.0], [10.0], [2.0], [10.0], [2.0], [-255.0], [2.0], [10.0], [2.0], [10.0], [2.0], [10.0], [2.0], [-255.0], [2.0], [10.0], [2.0], [10.0], [2.0], [10.0], [2.0]], [[2.0], [2.0], [2.0], [2.0], [2.0], [2.0], [2.0], [2.0], [2.0], [2.0], [2.0], [2.0], [2.0], [2.0], [2.0], [2.0], [2.0], [2.0], [2.0], [2.0], [2.0], [2.0], [2.0], [2.0], [2.0], [2.0], [2.0], [2.0], [2.0], [2.0], [2.0], [2.0], [2.0], [2.0], [2.0], [2.0], [2.0], [2.0], [2.0], [2.0], [2.0], [2.0], [2.0], [2.0], [2.0], [2.0], [2.0], [2.0], [2.0], [2.0], [2.0], [2.0], [2.0], [2.0], [2.0], [2.0], [2.0], [2.0], [2.0], [2.0], [2.0], [2.0], [2.0], [2.0]], [[10.0], [2.0], [10.0], [2.0], [10.0], [2.0], [10.0], [2.0], [10.0], [2.0], [10.0], [2.0], [10.0], [2.0], [10.0], [2.0], [10.0], [2.0], [10.0], [2.0], [10.0], [2.0], [10.0], [2.0], [10.0], [2.0], [10.0], [2.0], [10.0], [2.0], [10.0], [2.0], [10.0], [2.0], [10.0], [2.0], [10.0], [2.0], [10.0], [2.0], [10.0], [2.0], [10.0], [2.0], [10.0], [2.0], [10.0], [2.0], [10.0], [2.0], [10.0], [2.0], [10.0], [2.0], [10.0], [2.0], [10.0], [2.0], [10.0], [2.0], [10.0], [2.0], [10.0], [2.0]], [[2.0], [2.0], [2.0], [2.0], [2.0], [2.0], [2.0], [2.0], [2.0], [2.0], [2.0], [2.0], [2.0], [2.0], [2.0], [2.0], [2.0], [2.0], [2.0], [2.0], [2.0], [2.0], [2.0], [2.0], [2.0], [2.0], [2.0], [2.0], [2.0], [2.0], [2.0], [2.0], [2.0], [2.0], [2.0], [2.0], [2.0], [2.0], [2.0], [2.0], [2.0], [2.0], [2.0], [2.0], [2.0], [2.0], [2.0], [2.0], [2.0], [2.0], [2.0], [2.0], [2.0], [2.0], [2.0], [2.0], [2.0], [2.0], [2.0], [2.0], [2.0], [2.0], [2.0], [2.0]], [[10.0], [2.0], [10.0], [2.0], [10.0], [2.0], [10.0], [2.0], [10.0], [2.0], [10.0], [2.0], [10.0], [2.0], [10.0], [2.0], [10.0], [2.0], [10.0], [2.0], [10.0], [2.0], [10.0], [2.0], [10.0], [2.0], [10.0], [2.0], [10.0], [2.0], [10.0], [2.0], [10.0], [2.0], [10.0], [2.0], [10.0], [2.0], [10.0], [2.0], [10.0], [2.0], [10.0], [2.0], [10.0], [2.0], [10.0], [2.0], [10.0], [2.0], [10.0], [2.0], [10.0], [2.0], [10.0], [2.0], [10.0], [2.0], [10.0], [2.0], [10.0], [2.0], [10.0], [2.0]], [[2.0], [2.0], [2.0], [2.0], [2.0], [2.0], [2.0], [2.0], [2.0], [2.0], [2.0], [2.0], [2.0], [2.0], [2.0], [2.0], [2.0], [2.0], [2.0], [2.0], [2.0], [2.0], [2.0], [2.0], [2.0], [2.0], [2.0], [2.0], [2.0], [2.0], [2.0], [2.0], [2.0], [2.0], [2.0], [2.0], [2.0], [2.0], [2.0], [2.0], [2.0], [2.0], [2.0], [2.0], [2.0], [2.0], [2.0], [2.0], [2.0], [2.0], [2.0], [2.0], [2.0], [2.0], [2.0], [2.0], [2.0], [2.0], [2.0], [2.0], [2.0], [2.0], [2.0], [2.0]], [[10.0], [2.0], [10.0], [2.0], [10.0], [2.0], [10.0], [2.0], [10.0], [2.0], [10.0], [2.0], [10.0], [2.0], [10.0], [2.0], [10.0], [2.0], [10.0], [2.0], [10.0], [2.0], [10.0], [2.0], [10.0], [2.0], [10.0], [2.0], [10.0], [2.0], [10.0], [2.0], [10.0], [2.0], [10.0], [2.0], [10.0], [2.0], [10.0], [2.0], [10.0], [2.0], [10.0], [2.0], [10.0], [2.0], [10.0], [2.0], [10.0], [2.0], [10.0], [2.0], [10.0], [2.0], [10.0], [2.0], [10.0], [2.0], [10.0], [2.0], [10.0], [2.0], [10.0], [2.0]], [[2.0], [2.0], [2.0], [2.0], [2.0], [2.0], [2.0], [2.0], [2.0], [2.0], [2.0], [2.0], [2.0], [2.0], [2.0], [2.0], [2.0], [2.0], [2.0], [2.0], [2.0], [2.0], [2.0], [2.0], [2.0], [2.0], [2.0], [2.0], [2.0], [2.0], [2.0], [2.0], [2.0], [2.0], [2.0], [2.0], [2.0], [2.0], [2.0], [2.0], [2.0], [2.0], [2.0], [2.0], [2.0], [2.0], [2.0], [2.0], [2.0], [2.0], [2.0], [2.0], [2.0], [2.0], [2.0], [2.0], [2.0], [2.0], [2.0], [2.0], [2.0], [2.0], [2.0], [2.0]], [[255.0], [2.0], [10.0], [2.0], [10.0], [2.0], [10.0], [2.0], [-255.0], [2.0], [10.0], [2.0], [10.0], [2.0], [10.0], [2.0], [-255.0], [2.0], [10.0], [2.0], [10.0], [2.0], [10.0], [2.0], [255.0], [2.0], [10.0], [2.0], [10.0], [2.0], [10.0], [2.0], [255.0], [2.0], [10.0], [2.0], [10.0], [2.0], [10.0], [2.0], [-255.0], [2.0], [10.0], [2.0], [10.0], [2.0], [10.0], [2.0], [-255.0], [2.0], [10.0], [2.0], [10.0], [2.0], [10.0], [2.0], [255.0], [2.0], [10.0], [2.0], [10.0], [2.0], [10.0], [2.0]], [[2.0], [2.0], [2.0], [2.0], [2.0], [2.0], [2.0], [2.0], [2.0], [2.0], [2.0], [2.0], [2.0], [2.0], [2.0], [2.0], [2.0], [2.0], [2.0], [2.0], [2.0], [2.0], [2.0], [2.0], [2.0], [2.0], [2.0], [2.0], [2.0], [2.0], [2.0], [2.0], [2.0], [2.0], [2.0], [2.0], [2.0], [2.0], [2.0], [2.0], [2.0], [2.0], [2.0], [2.0], [2.0], [2.0], [2.0], [2.0], [2.0], [2.0], [2.0], [2.0], [2.0], [2.0], [2.0], [2.0], [2.0], [2.0], [2.0], [2.0], [2.0], [2.0], [2.0], [2.0]], [[10.0], [2.0], [10.0], [2.0], [10.0], [2.0], [10.0], [2.0], [10.0], [2.0], [10.0], [2.0], [10.0], [2.0], [10.0], [2.0], [10.0], [2.0], [10.0], [2.0], [10.0], [2.0], [10.0], [2.0], [10.0], [2.0], [10.0], [2.0], [10.0], [2.0], [10.0], [2.0], [10.0], [2.0], [10.0], [2.0], [10.0], [2.0], [10.0], [2.0], [10.0], [2.0], [10.0], [2.0], [10.0], [2.0], [10.0], [2.0], [10.0], [2.0], [10.0], [2.0], [10.0], [2.0], [10.0], [2.0], [10.0], [2.0], [10.0], [2.0], [10.0], [2.0], [10.0], [2.0]], [[2.0], [2.0], [2.0], [2.0], [2.0], [2.0], [2.0], [2.0], [2.0], [2.0], [2.0], [2.0], [2.0], [2.0], [2.0], [2.0], [2.0], [2.0], [2.0], [2.0], [2.0], [2.0], [2.0], [2.0], [2.0], [2.0], [2.0], [2.0], [2.0], [2.0], [2.0], [2.0], [2.0], [2.0], [2.0], [2.0], [2.0], [2.0], [2.0], [2.0], [2.0], [2.0], [2.0], [2.0], [2.0], [2.0], [2.0], [2.0], [2.0], [2.0], [2.0], [2.0], [2.0], [2.0], [2.0], [2.0], [2.0], [2.0], [2.0], [2.0], [2.0], [2.0], [2.0], [2.0]], [[10.0], [2.0], [10.0], [2.0], [10.0], [2.0], [10.0], [2.0], [10.0], [2.0], [10.0], [2.0], [10.0], [2.0], [10.0], [2.0], [10.0], [2.0], [10.0], [2.0], [10.0], [2.0], [10.0], [2.0], [10.0], [2.0], [10.0], [2.0], [10.0], [2.0], [10.0], [2.0], [10.0], [2.0], [10.0], [2.0], [10.0], [2.0], [10.0], [2.0], [10.0], [2.0], [10.0], [2.0], [10.0], [2.0], [10.0], [2.0], [10.0], [2.0], [10.0], [2.0], [10.0], [2.0], [10.0], [2.0], [10.0], [2.0], [10.0], [2.0], [10.0], [2.0], [10.0], [2.0]], [[2.0], [2.0], [2.0], [2.0], [2.0], [2.0], [2.0], [2.0], [2.0], [2.0], [2.0], [2.0], [2.0], [2.0], [2.0], [2.0], [2.0], [2.0], [2.0], [2.0], [2.0], [2.0], [2.0], [2.0], [2.0], [2.0], [2.0], [2.0], [2.0], [2.0], [2.0], [2.0], [2.0], [2.0], [2.0], [2.0], [2.0], [2.0], [2.0], [2.0], [2.0], [2.0], [2.0], [2.0], [2.0], [2.0], [2.0], [2.0], [2.0], [2.0], [2.0], [2.0], [2.0], [2.0], [2.0], [2.0], [2.0], [2.0], [2.0], [2.0], [2.0], [2.0], [2.0], [2.0]], [[10.0], [2.0], [10.0], [2.0], [10.0], [2.0], [10.0], [2.0], [10.0], [2.0], [10.0], [2.0], [10.0], [2.0], [10.0], [2.0], [10.0], [2.0], [10.0], [2.0], [10.0], [2.0], [10.0], [2.0], [10.0], [2.0], [10.0], [2.0], [10.0], [2.0], [10.0], [2.0], [10.0], [2.0], [10.0], [2.0], [10.0], [2.0], [10.0], [2.0], [10.0], [2.0], [10.0], [2.0], [10.0], [2.0], [10.0], [2.0], [10.0], [2.0], [10.0], [2.0], [10.0], [2.0], [10.0], [2.0], [10.0], [2.0], [10.0], [2.0], [10.0], [2.0], [10.0], [2.0]], [[2.0], [2.0], [2.0], [2.0], [2.0], [2.0], [2.0], [2.0], [2.0], [2.0], [2.0], [2.0], [2.0], [2.0], [2.0], [2.0], [2.0], [2.0], [2.0], [2.0], [2.0], [2.0], [2.0], [2.0], [2.0], [2.0], [2.0], [2.0], [2.0], [2.0], [2.0], [2.0], [2.0], [2.0], [2.0], [2.0], [2.0], [2.0], [2.0], [2.0], [2.0], [2.0], [2.0], [2.0], [2.0], [2.0], [2.0], [2.0], [2.0], [2.0], [2.0], [2.0], [2.0], [2.0], [2.0], [2.0], [2.0], [2.0], [2.0], [2.0], [2.0], [2.0], [2.0], [2.0]], [[255.0], [2.0], [10.0], [2.0], [10.0], [2.0], [10.0], [2.0], [-255.0], [2.0], [10.0], [2.0], [10.0], [2.0], [10.0], [2.0], [255.0], [2.0], [10.0], [2.0], [10.0], [2.0], [10.0], [2.0], [255.0], [2.0], [10.0], [2.0], [10.0], [2.0], [10.0], [2.0], [-255.0], [2.0], [10.0], [2.0], [10.0], [2.0], [10.0], [2.0], [255.0], [2.0], [10.0], [2.0], [10.0], [2.0], [10.0], [2.0], [-255.0], [2.0], [10.0], [2.0], [10.0], [2.0], [10.0], [2.0], [255.0], [2.0], [10.0], [2.0], [10.0], [2.0], [10.0], [2.0]], [[2.0], [2.0], [2.0], [2.0], [2.0], [2.0], [2.0], [2.0], [2.0], [2.0], [2.0], [2.0], [2.0], [2.0], [2.0], [2.0], [2.0], [2.0], [2.0], [2.0], [2.0], [2.0], [2.0], [2.0], [2.0], [2.0], [2.0], [2.0], [2.0], [2.0], [2.0], [2.0], [2.0], [2.0], [2.0], [2.0], [2.0], [2.0], [2.0], [2.0], [2.0], [2.0], [2.0], [2.0], [2.0], [2.0], [2.0], [2.0], [2.0], [2.0], [2.0], [2.0], [2.0], [2.0], [2.0], [2.0], [2.0], [2.0], [2.0], [2.0], [2.0], [2.0], [2.0], [2.0]], [[10.0], [2.0], [10.0], [2.0], [10.0], [2.0], [10.0], [2.0], [10.0], [2.0], [10.0], [2.0], [10.0], [2.0], [10.0], [2.0], [10.0], [2.0], [10.0], [2.0], [10.0], [2.0], [10.0], [2.0], [10.0], [2.0], [10.0], [2.0], [10.0], [2.0], [10.0], [2.0], [10.0], [2.0], [10.0], [2.0], [10.0], [2.0], [10.0], [2.0], [10.0], [2.0], [10.0], [2.0], [10.0], [2.0], [10.0], [2.0], [10.0], [2.0], [10.0], [2.0], [10.0], [2.0], [10.0], [2.0], [10.0], [2.0], [10.0], [2.0], [10.0], [2.0], [10.0], [2.0]], [[2.0], [2.0], [2.0], [2.0], [2.0], [2.0], [2.0], [2.0], [2.0], [2.0], [2.0], [2.0], [2.0], [2.0], [2.0], [2.0], [2.0], [2.0], [2.0], [2.0], [2.0], [2.0], [2.0], [2.0], [2.0], [2.0], [2.0], [2.0], [2.0], [2.0], [2.0], [2.0], [2.0], [2.0], [2.0], [2.0], [2.0], [2.0], [2.0], [2.0], [2.0], [2.0], [2.0], [2.0], [2.0], [2.0], [2.0], [2.0], [2.0], [2.0], [2.0], [2.0], [2.0], [2.0], [2.0], [2.0], [2.0], [2.0], [2.0], [2.0], [2.0], [2.0], [2.0], [2.0]], [[10.0], [2.0], [10.0], [2.0], [10.0], [2.0], [10.0], [2.0], [10.0], [2.0], [10.0], [2.0], [10.0], [2.0], [10.0], [2.0], [10.0], [2.0], [10.0], [2.0], [10.0], [2.0], [10.0], [2.0], [10.0], [2.0], [10.0], [2.0], [10.0], [2.0], [10.0], [2.0], [10.0], [2.0], [10.0], [2.0], [10.0], [2.0], [10.0], [2.0], [10.0], [2.0], [10.0], [2.0], [10.0], [2.0], [10.0], [2.0], [10.0], [2.0], [10.0], [2.0], [10.0], [2.0], [10.0], [2.0], [10.0], [2.0], [10.0], [2.0], [10.0], [2.0], [10.0], [2.0]], [[2.0], [2.0], [2.0], [2.0], [2.0], [2.0], [2.0], [2.0], [2.0], [2.0], [2.0], [2.0], [2.0], [2.0], [2.0], [2.0], [2.0], [2.0], [2.0], [2.0], [2.0], [2.0], [2.0], [2.0], [2.0], [2.0], [2.0], [2.0], [2.0], [2.0], [2.0], [2.0], [2.0], [2.0], [2.0], [2.0], [2.0], [2.0], [2.0], [2.0], [2.0], [2.0], [2.0], [2.0], [2.0], [2.0], [2.0], [2.0], [2.0], [2.0], [2.0], [2.0], [2.0], [2.0], [2.0], [2.0], [2.0], [2.0], [2.0], [2.0], [2.0], [2.0], [2.0], [2.0]], [[10.0], [2.0], [10.0], [2.0], [10.0], [2.0], [10.0], [2.0], [10.0], [2.0], [10.0], [2.0], [10.0], [2.0], [10.0], [2.0], [10.0], [2.0], [10.0], [2.0], [10.0], [2.0], [10.0], [2.0], [10.0], [2.0], [10.0], [2.0], [10.0], [2.0], [10.0], [2.0], [10.0], [2.0], [10.0], [2.0], [10.0], [2.0], [10.0], [2.0], [10.0], [2.0], [10.0], [2.0], [10.0], [2.0], [10.0], [2.0], [10.0], [2.0], [10.0], [2.0], [10.0], [2.0], [10.0], [2.0], [10.0], [2.0], [10.0], [2.0], [10.0], [2.0], [10.0], [2.0]], [[2.0], [2.0], [2.0], [2.0], [2.0], [2.0], [2.0], [2.0], [2.0], [2.0], [2.0], [2.0], [2.0], [2.0], [2.0], [2.0], [2.0], [2.0], [2.0], [2.0], [2.0], [2.0], [2.0], [2.0], [2.0], [2.0], [2.0], [2.0], [2.0], [2.0], [2.0], [2.0], [2.0], [2.0], [2.0], [2.0], [2.0], [2.0], [2.0], [2.0], [2.0], [2.0], [2.0], [2.0], [2.0], [2.0], [2.0], [2.0], [2.0], [2.0], [2.0], [2.0], [2.0], [2.0], [2.0], [2.0], [2.0], [2.0], [2.0], [2.0], [2.0], [2.0], [2.0], [2.0]], [[-255.0], [2.0], [10.0], [2.0], [10.0], [2.0], [10.0], [2.0], [255.0], [2.0], [10.0], [2.0], [10.0], [2.0], [10.0], [2.0], [-255.0], [2.0], [10.0], [2.0], [10.0], [2.0], [10.0], [2.0], [-255.0], [2.0], [10.0], [2.0], [10.0], [2.0], [10.0], [2.0], [-255.0], [2.0], [10.0], [2.0], [10.0], [2.0], [10.0], [2.0], [-255.0], [2.0], [10.0], [2.0], [10.0], [2.0], [10.0], [2.0], [255.0], [2.0], [10.0], [2.0], [10.0], [2.0], [10.0], [2.0], [-255.0], [2.0], [10.0], [2.0], [10.0], [2.0], [10.0], [2.0]], [[2.0], [2.0], [2.0], [2.0], [2.0], [2.0], [2.0], [2.0], [2.0], [2.0], [2.0], [2.0], [2.0], [2.0], [2.0], [2.0], [2.0], [2.0], [2.0], [2.0], [2.0], [2.0], [2.0], [2.0], [2.0], [2.0], [2.0], [2.0], [2.0], [2.0], [2.0], [2.0], [2.0], [2.0], [2.0], [2.0], [2.0], [2.0], [2.0], [2.0], [2.0], [2.0], [2.0], [2.0], [2.0], [2.0], [2.0], [2.0], [2.0], [2.0], [2.0], [2.0], [2.0], [2.0], [2.0], [2.0], [2.0], [2.0], [2.0], [2.0], [2.0], [2.0], [2.0], [2.0]], [[10.0], [2.0], [10.0], [2.0], [10.0], [2.0], [10.0], [2.0], [10.0], [2.0], [10.0], [2.0], [10.0], [2.0], [10.0], [2.0], [10.0], [2.0], [10.0], [2.0], [10.0], [2.0], [10.0], [2.0], [10.0], [2.0], [10.0], [2.0], [10.0], [2.0], [10.0], [2.0], [10.0], [2.0], [10.0], [2.0], [10.0], [2.0], [10.0], [2.0], [10.0], [2.0], [10.0], [2.0], [10.0], [2.0], [10.0], [2.0], [10.0], [2.0], [10.0], [2.0], [10.0], [2.0], [10.0], [2.0], [10.0], [2.0], [10.0], [2.0], [10.0], [2.0], [10.0], [2.0]], [[2.0], [2.0], [2.0], [2.0], [2.0], [2.0], [2.0], [2.0], [2.0], [2.0], [2.0], [2.0], [2.0], [2.0], [2.0], [2.0], [2.0], [2.0], [2.0], [2.0], [2.0], [2.0], [2.0], [2.0], [2.0], [2.0], [2.0], [2.0], [2.0], [2.0], [2.0], [2.0], [2.0], [2.0], [2.0], [2.0], [2.0], [2.0], [2.0], [2.0], [2.0], [2.0], [2.0], [2.0], [2.0], [2.0], [2.0], [2.0], [2.0], [2.0], [2.0], [2.0], [2.0], [2.0], [2.0], [2.0], [2.0], [2.0], [2.0], [2.0], [2.0], [2.0], [2.0], [2.0]], [[10.0], [2.0], [10.0], [2.0], [10.0], [2.0], [10.0], [2.0], [10.0], [2.0], [10.0], [2.0], [10.0], [2.0], [10.0], [2.0], [10.0], [2.0], [10.0], [2.0], [10.0], [2.0], [10.0], [2.0], [10.0], [2.0], [10.0], [2.0], [10.0], [2.0], [10.0], [2.0], [10.0], [2.0], [10.0], [2.0], [10.0], [2.0], [10.0], [2.0], [10.0], [2.0], [10.0], [2.0], [10.0], [2.0], [10.0], [2.0], [10.0], [2.0], [10.0], [2.0], [10.0], [2.0], [10.0], [2.0], [10.0], [2.0], [10.0], [2.0], [10.0], [2.0], [10.0], [2.0]], [[2.0], [2.0], [2.0], [2.0], [2.0], [2.0], [2.0], [2.0], [2.0], [2.0], [2.0], [2.0], [2.0], [2.0], [2.0], [2.0], [2.0], [2.0], [2.0], [2.0], [2.0], [2.0], [2.0], [2.0], [2.0], [2.0], [2.0], [2.0], [2.0], [2.0], [2.0], [2.0], [2.0], [2.0], [2.0], [2.0], [2.0], [2.0], [2.0], [2.0], [2.0], [2.0], [2.0], [2.0], [2.0], [2.0], [2.0], [2.0], [2.0], [2.0], [2.0], [2.0], [2.0], [2.0], [2.0], [2.0], [2.0], [2.0], [2.0], [2.0], [2.0], [2.0], [2.0], [2.0]], [[10.0], [2.0], [10.0], [2.0], [10.0], [2.0], [10.0], [2.0], [10.0], [2.0], [10.0], [2.0], [10.0], [2.0], [10.0], [2.0], [10.0], [2.0], [10.0], [2.0], [10.0], [2.0], [10.0], [2.0], [10.0], [2.0], [10.0], [2.0], [10.0], [2.0], [10.0], [2.0], [10.0], [2.0], [10.0], [2.0], [10.0], [2.0], [10.0], [2.0], [10.0], [2.0], [10.0], [2.0], [10.0], [2.0], [10.0], [2.0], [10.0], [2.0], [10.0], [2.0], [10.0], [2.0], [10.0], [2.0], [10.0], [2.0], [10.0], [2.0], [10.0], [2.0], [10.0], [2.0]], [[2.0], [2.0], [2.0], [2.0], [2.0], [2.0], [2.0], [2.0], [2.0], [2.0], [2.0], [2.0], [2.0], [2.0], [2.0], [2.0], [2.0], [2.0], [2.0], [2.0], [2.0], [2.0], [2.0], [2.0], [2.0], [2.0], [2.0], [2.0], [2.0], [2.0], [2.0], [2.0], [2.0], [2.0], [2.0], [2.0], [2.0], [2.0], [2.0], [2.0], [2.0], [2.0], [2.0], [2.0], [2.0], [2.0], [2.0], [2.0], [2.0], [2.0], [2.0], [2.0], [2.0], [2.0], [2.0], [2.0], [2.0], [2.0], [2.0], [2.0], [2.0], [2.0], [2.0], [2.0]], [[-255.0], [2.0], [10.0], [2.0], [10.0], [2.0], [10.0], [2.0], [255.0], [2.0], [10.0], [2.0], [10.0], [2.0], [10.0], [2.0], [255.0], [2.0], [10.0], [2.0], [10.0], [2.0], [10.0], [2.0], [255.0], [2.0], [10.0], [2.0], [10.0], [2.0], [10.0], [2.0], [255.0], [2.0], [10.0], [2.0], [10.0], [2.0], [10.0], [2.0], [-255.0], [2.0], [10.0], [2.0], [10.0], [2.0], [10.0], [2.0], [255.0], [2.0], [10.0], [2.0], [10.0], [2.0], [10.0], [2.0], [-255.0], [2.0], [10.0], [2.0], [10.0], [2.0], [10.0], [2.0]], [[2.0], [2.0], [2.0], [2.0], [2.0], [2.0], [2.0], [2.0], [2.0], [2.0], [2.0], [2.0], [2.0], [2.0], [2.0], [2.0], [2.0], [2.0], [2.0], [2.0], [2.0], [2.0], [2.0], [2.0], [2.0], [2.0], [2.0], [2.0], [2.0], [2.0], [2.0], [2.0], [2.0], [2.0], [2.0], [2.0], [2.0], [2.0], [2.0], [2.0], [2.0], [2.0], [2.0], [2.0], [2.0], [2.0], [2.0], [2.0], [2.0], [2.0], [2.0], [2.0], [2.0], [2.0], [2.0], [2.0], [2.0], [2.0], [2.0], [2.0], [2.0], [2.0], [2.0], [2.0]], [[10.0], [2.0], [10.0], [2.0], [10.0], [2.0], [10.0], [2.0], [10.0], [2.0], [10.0], [2.0], [10.0], [2.0], [10.0], [2.0], [10.0], [2.0], [10.0], [2.0], [10.0], [2.0], [10.0], [2.0], [10.0], [2.0], [10.0], [2.0], [10.0], [2.0], [10.0], [2.0], [10.0], [2.0], [10.0], [2.0], [10.0], [2.0], [10.0], [2.0], [10.0], [2.0], [10.0], [2.0], [10.0], [2.0], [10.0], [2.0], [10.0], [2.0], [10.0], [2.0], [10.0], [2.0], [10.0], [2.0], [10.0], [2.0], [10.0], [2.0], [10.0], [2.0], [10.0], [2.0]], [[2.0], [2.0], [2.0], [2.0], [2.0], [2.0], [2.0], [2.0], [2.0], [2.0], [2.0], [2.0], [2.0], [2.0], [2.0], [2.0], [2.0], [2.0], [2.0], [2.0], [2.0], [2.0], [2.0], [2.0], [2.0], [2.0], [2.0], [2.0], [2.0], [2.0], [2.0], [2.0], [2.0], [2.0], [2.0], [2.0], [2.0], [2.0], [2.0], [2.0], [2.0], [2.0], [2.0], [2.0], [2.0], [2.0], [2.0], [2.0], [2.0], [2.0], [2.0], [2.0], [2.0], [2.0], [2.0], [2.0], [2.0], [2.0], [2.0], [2.0], [2.0], [2.0], [2.0], [2.0]], [[10.0], [2.0], [10.0], [2.0], [10.0], [2.0], [10.0], [2.0], [10.0], [2.0], [10.0], [2.0], [10.0], [2.0], [10.0], [2.0], [10.0], [2.0], [10.0], [2.0], [10.0], [2.0], [10.0], [2.0], [10.0], [2.0], [10.0], [2.0], [10.0], [2.0], [10.0], [2.0], [10.0], [2.0], [10.0], [2.0], [10.0], [2.0], [10.0], [2.0], [10.0], [2.0], [10.0], [2.0], [10.0], [2.0], [10.0], [2.0], [10.0], [2.0], [10.0], [2.0], [10.0], [2.0], [10.0], [2.0], [10.0], [2.0], [10.0], [2.0], [10.0], [2.0], [10.0], [2.0]], [[2.0], [2.0], [2.0], [2.0], [2.0], [2.0], [2.0], [2.0], [2.0], [2.0], [2.0], [2.0], [2.0], [2.0], [2.0], [2.0], [2.0], [2.0], [2.0], [2.0], [2.0], [2.0], [2.0], [2.0], [2.0], [2.0], [2.0], [2.0], [2.0], [2.0], [2.0], [2.0], [2.0], [2.0], [2.0], [2.0], [2.0], [2.0], [2.0], [2.0], [2.0], [2.0], [2.0], [2.0], [2.0], [2.0], [2.0], [2.0], [2.0], [2.0], [2.0], [2.0], [2.0], [2.0], [2.0], [2.0], [2.0], [2.0], [2.0], [2.0], [2.0], [2.0], [2.0], [2.0]], [[10.0], [2.0], [10.0], [2.0], [10.0], [2.0], [10.0], [2.0], [10.0], [2.0], [10.0], [2.0], [10.0], [2.0], [10.0], [2.0], [10.0], [2.0], [10.0], [2.0], [10.0], [2.0], [10.0], [2.0], [10.0], [2.0], [10.0], [2.0], [10.0], [2.0], [10.0], [2.0], [10.0], [2.0], [10.0], [2.0], [10.0], [2.0], [10.0], [2.0], [10.0], [2.0], [10.0], [2.0], [10.0], [2.0], [10.0], [2.0], [10.0], [2.0], [10.0], [2.0], [10.0], [2.0], [10.0], [2.0], [10.0], [2.0], [10.0], [2.0], [10.0], [2.0], [10.0], [2.0]], [[2.0], [2.0], [2.0], [2.0], [2.0], [2.0], [2.0], [2.0], [2.0], [2.0], [2.0], [2.0], [2.0], [2.0], [2.0], [2.0], [2.0], [2.0], [2.0], [2.0], [2.0], [2.0], [2.0], [2.0], [2.0], [2.0], [2.0], [2.0], [2.0], [2.0], [2.0], [2.0], [2.0], [2.0], [2.0], [2.0], [2.0], [2.0], [2.0], [2.0], [2.0], [2.0], [2.0], [2.0], [2.0], [2.0], [2.0], [2.0], [2.0], [2.0], [2.0], [2.0], [2.0], [2.0], [2.0], [2.0], [2.0], [2.0], [2.0], [2.0], [2.0], [2.0], [2.0], [2.0]], [[-255.0], [2.0], [10.0], [2.0], [10.0], [2.0], [10.0], [2.0], [255.0], [2.0], [10.0], [2.0], [10.0], [2.0], [10.0], [2.0], [-255.0], [2.0], [10.0], [2.0], [10.0], [2.0], [10.0], [2.0], [-255.0], [2.0], [10.0], [2.0], [10.0], [2.0], [10.0], [2.0], [255.0], [2.0], [10.0], [2.0], [10.0], [2.0], [10.0], [2.0], [-255.0], [2.0], [10.0], [2.0], [10.0], [2.0], [10.0], [2.0], [-255.0], [2.0], [10.0], [2.0], [10.0], [2.0], [10.0], [2.0], [255.0], [2.0], [10.0], [2.0], [10.0], [2.0], [10.0], [2.0]], [[2.0], [2.0], [2.0], [2.0], [2.0], [2.0], [2.0], [2.0], [2.0], [2.0], [2.0], [2.0], [2.0], [2.0], [2.0], [2.0], [2.0], [2.0], [2.0], [2.0], [2.0], [2.0], [2.0], [2.0], [2.0], [2.0], [2.0], [2.0], [2.0], [2.0], [2.0], [2.0], [2.0], [2.0], [2.0], [2.0], [2.0], [2.0], [2.0], [2.0], [2.0], [2.0], [2.0], [2.0], [2.0], [2.0], [2.0], [2.0], [2.0], [2.0], [2.0], [2.0], [2.0], [2.0], [2.0], [2.0], [2.0], [2.0], [2.0], [2.0], [2.0], [2.0], [2.0], [2.0]], [[10.0], [2.0], [10.0], [2.0], [10.0], [2.0], [10.0], [2.0], [10.0], [2.0], [10.0], [2.0], [10.0], [2.0], [10.0], [2.0], [10.0], [2.0], [10.0], [2.0], [10.0], [2.0], [10.0], [2.0], [10.0], [2.0], [10.0], [2.0], [10.0], [2.0], [10.0], [2.0], [10.0], [2.0], [10.0], [2.0], [10.0], [2.0], [10.0], [2.0], [10.0], [2.0], [10.0], [2.0], [10.0], [2.0], [10.0], [2.0], [10.0], [2.0], [10.0], [2.0], [10.0], [2.0], [10.0], [2.0], [10.0], [2.0], [10.0], [2.0], [10.0], [2.0], [10.0], [2.0]], [[2.0], [2.0], [2.0], [2.0], [2.0], [2.0], [2.0], [2.0], [2.0], [2.0], [2.0], [2.0], [2.0], [2.0], [2.0], [2.0], [2.0], [2.0], [2.0], [2.0], [2.0], [2.0], [2.0], [2.0], [2.0], [2.0], [2.0], [2.0], [2.0], [2.0], [2.0], [2.0], [2.0], [2.0], [2.0], [2.0], [2.0], [2.0], [2.0], [2.0], [2.0], [2.0], [2.0], [2.0], [2.0], [2.0], [2.0], [2.0], [2.0], [2.0], [2.0], [2.0], [2.0], [2.0], [2.0], [2.0], [2.0], [2.0], [2.0], [2.0], [2.0], [2.0], [2.0], [2.0]], [[10.0], [2.0], [10.0], [2.0], [10.0], [2.0], [10.0], [2.0], [10.0], [2.0], [10.0], [2.0], [10.0], [2.0], [10.0], [2.0], [10.0], [2.0], [10.0], [2.0], [10.0], [2.0], [10.0], [2.0], [10.0], [2.0], [10.0], [2.0], [10.0], [2.0], [10.0], [2.0], [10.0], [2.0], [10.0], [2.0], [10.0], [2.0], [10.0], [2.0], [10.0], [2.0], [10.0], [2.0], [10.0], [2.0], [10.0], [2.0], [10.0], [2.0], [10.0], [2.0], [10.0], [2.0], [10.0], [2.0], [10.0], [2.0], [10.0], [2.0], [10.0], [2.0], [10.0], [2.0]], [[2.0], [2.0], [2.0], [2.0], [2.0], [2.0], [2.0], [2.0], [2.0], [2.0], [2.0], [2.0], [2.0], [2.0], [2.0], [2.0], [2.0], [2.0], [2.0], [2.0], [2.0], [2.0], [2.0], [2.0], [2.0], [2.0], [2.0], [2.0], [2.0], [2.0], [2.0], [2.0], [2.0], [2.0], [2.0], [2.0], [2.0], [2.0], [2.0], [2.0], [2.0], [2.0], [2.0], [2.0], [2.0], [2.0], [2.0], [2.0], [2.0], [2.0], [2.0], [2.0], [2.0], [2.0], [2.0], [2.0], [2.0], [2.0], [2.0], [2.0], [2.0], [2.0], [2.0], [2.0]], [[10.0], [2.0], [10.0], [2.0], [10.0], [2.0], [10.0], [2.0], [10.0], [2.0], [10.0], [2.0], [10.0], [2.0], [10.0], [2.0], [10.0], [2.0], [10.0], [2.0], [10.0], [2.0], [10.0], [2.0], [10.0], [2.0], [10.0], [2.0], [10.0], [2.0], [10.0], [2.0], [10.0], [2.0], [10.0], [2.0], [10.0], [2.0], [10.0], [2.0], [10.0], [2.0], [10.0], [2.0], [10.0], [2.0], [10.0], [2.0], [10.0], [2.0], [10.0], [2.0], [10.0], [2.0], [10.0], [2.0], [10.0], [2.0], [10.0], [2.0], [10.0], [2.0], [10.0], [2.0]], [[2.0], [2.0], [2.0], [2.0], [2.0], [2.0], [2.0], [2.0], [2.0], [2.0], [2.0], [2.0], [2.0], [2.0], [2.0], [2.0], [2.0], [2.0], [2.0], [2.0], [2.0], [2.0], [2.0], [2.0], [2.0], [2.0], [2.0], [2.0], [2.0], [2.0], [2.0], [2.0], [2.0], [2.0], [2.0], [2.0], [2.0], [2.0], [2.0], [2.0], [2.0], [2.0], [2.0], [2.0], [2.0], [2.0], [2.0], [2.0], [2.0], [2.0], [2.0], [2.0], [2.0], [2.0], [2.0], [2.0], [2.0], [2.0], [2.0], [2.0], [2.0], [2.0], [2.0], [2.0]], [[-255.0], [2.0], [10.0], [2.0], [10.0], [2.0], [10.0], [2.0], [-255.0], [2.0], [10.0], [2.0], [10.0], [2.0], [10.0], [2.0], [255.0], [2.0], [10.0], [2.0], [10.0], [2.0], [10.0], [2.0], [255.0], [2.0], [10.0], [2.0], [10.0], [2.0], [10.0], [2.0], [-255.0], [2.0], [10.0], [2.0], [10.0], [2.0], [10.0], [2.0], [-255.0], [2.0], [10.0], [2.0], [10.0], [2.0], [10.0], [2.0], [-255.0], [2.0], [10.0], [2.0], [10.0], [2.0], [10.0], [2.0], [-255.0], [2.0], [10.0], [2.0], [10.0], [2.0], [10.0], [2.0]], [[2.0], [2.0], [2.0], [2.0], [2.0], [2.0], [2.0], [2.0], [2.0], [2.0], [2.0], [2.0], [2.0], [2.0], [2.0], [2.0], [2.0], [2.0], [2.0], [2.0], [2.0], [2.0], [2.0], [2.0], [2.0], [2.0], [2.0], [2.0], [2.0], [2.0], [2.0], [2.0], [2.0], [2.0], [2.0], [2.0], [2.0], [2.0], [2.0], [2.0], [2.0], [2.0], [2.0], [2.0], [2.0], [2.0], [2.0], [2.0], [2.0], [2.0], [2.0], [2.0], [2.0], [2.0], [2.0], [2.0], [2.0], [2.0], [2.0], [2.0], [2.0], [2.0], [2.0], [2.0]], [[10.0], [2.0], [10.0], [2.0], [10.0], [2.0], [10.0], [2.0], [10.0], [2.0], [10.0], [2.0], [10.0], [2.0], [10.0], [2.0], [10.0], [2.0], [10.0], [2.0], [10.0], [2.0], [10.0], [2.0], [10.0], [2.0], [10.0], [2.0], [10.0], [2.0], [10.0], [2.0], [10.0], [2.0], [10.0], [2.0], [10.0], [2.0], [10.0], [2.0], [10.0], [2.0], [10.0], [2.0], [10.0], [2.0], [10.0], [2.0], [10.0], [2.0], [10.0], [2.0], [10.0], [2.0], [10.0], [2.0], [10.0], [2.0], [10.0], [2.0], [10.0], [2.0], [10.0], [2.0]], [[2.0], [2.0], [2.0], [2.0], [2.0], [2.0], [2.0], [2.0], [2.0], [2.0], [2.0], [2.0], [2.0], [2.0], [2.0], [2.0], [2.0], [2.0], [2.0], [2.0], [2.0], [2.0], [2.0], [2.0], [2.0], [2.0], [2.0], [2.0], [2.0], [2.0], [2.0], [2.0], [2.0], [2.0], [2.0], [2.0], [2.0], [2.0], [2.0], [2.0], [2.0], [2.0], [2.0], [2.0], [2.0], [2.0], [2.0], [2.0], [2.0], [2.0], [2.0], [2.0], [2.0], [2.0], [2.0], [2.0], [2.0], [2.0], [2.0], [2.0], [2.0], [2.0], [2.0], [2.0]], [[10.0], [2.0], [10.0], [2.0], [10.0], [2.0], [10.0], [2.0], [10.0], [2.0], [10.0], [2.0], [10.0], [2.0], [10.0], [2.0], [10.0], [2.0], [10.0], [2.0], [10.0], [2.0], [10.0], [2.0], [10.0], [2.0], [10.0], [2.0], [10.0], [2.0], [10.0], [2.0], [10.0], [2.0], [10.0], [2.0], [10.0], [2.0], [10.0], [2.0], [10.0], [2.0], [10.0], [2.0], [10.0], [2.0], [10.0], [2.0], [10.0], [2.0], [10.0], [2.0], [10.0], [2.0], [10.0], [2.0], [10.0], [2.0], [10.0], [2.0], [10.0], [2.0], [10.0], [2.0]], [[2.0], [2.0], [2.0], [2.0], [2.0], [2.0], [2.0], [2.0], [2.0], [2.0], [2.0], [2.0], [2.0], [2.0], [2.0], [2.0], [2.0], [2.0], [2.0], [2.0], [2.0], [2.0], [2.0], [2.0], [2.0], [2.0], [2.0], [2.0], [2.0], [2.0], [2.0], [2.0], [2.0], [2.0], [2.0], [2.0], [2.0], [2.0], [2.0], [2.0], [2.0], [2.0], [2.0], [2.0], [2.0], [2.0], [2.0], [2.0], [2.0], [2.0], [2.0], [2.0], [2.0], [2.0], [2.0], [2.0], [2.0], [2.0], [2.0], [2.0], [2.0], [2.0], [2.0], [2.0]], [[10.0], [2.0], [10.0], [2.0], [10.0], [2.0], [10.0], [2.0], [10.0], [2.0], [10.0], [2.0], [10.0], [2.0], [10.0], [2.0], [10.0], [2.0], [10.0], [2.0], [10.0], [2.0], [10.0], [2.0], [10.0], [2.0], [10.0], [2.0], [10.0], [2.0], [10.0], [2.0], [10.0], [2.0], [10.0], [2.0], [10.0], [2.0], [10.0], [2.0], [10.0], [2.0], [10.0], [2.0], [10.0], [2.0], [10.0], [2.0], [10.0], [2.0], [10.0], [2.0], [10.0], [2.0], [10.0], [2.0], [10.0], [2.0], [10.0], [2.0], [10.0], [2.0], [10.0], [2.0]], [[2.0], [2.0], [2.0], [2.0], [2.0], [2.0], [2.0], [2.0], [2.0], [2.0], [2.0], [2.0], [2.0], [2.0], [2.0], [2.0], [2.0], [2.0], [2.0], [2.0], [2.0], [2.0], [2.0], [2.0], [2.0], [2.0], [2.0], [2.0], [2.0], [2.0], [2.0], [2.0], [2.0], [2.0], [2.0], [2.0], [2.0], [2.0], [2.0], [2.0], [2.0], [2.0], [2.0], [2.0], [2.0], [2.0], [2.0], [2.0], [2.0], [2.0], [2.0], [2.0], [2.0], [2.0], [2.0], [2.0], [2.0], [2.0], [2.0], [2.0], [2.0], [2.0], [2.0], [2.0]], [[-255.0], [2.0], [10.0], [2.0], [10.0], [2.0], [10.0], [2.0], [255.0], [2.0], [10.0], [2.0], [10.0], [2.0], [10.0], [2.0], [255.0], [2.0], [10.0], [2.0], [10.0], [2.0], [10.0], [2.0], [-255.0], [2.0], [10.0], [2.0], [10.0], [2.0], [10.0], [2.0], [-255.0], [2.0], [10.0], [2.0], [10.0], [2.0], [10.0], [2.0], [-255.0], [2.0], [10.0], [2.0], [10.0], [2.0], [10.0], [2.0], [-255.0], [2.0], [10.0], [2.0], [10.0], [2.0], [10.0], [2.0], [255.0], [2.0], [10.0], [2.0], [10.0], [2.0], [10.0], [2.0]], [[2.0], [2.0], [2.0], [2.0], [2.0], [2.0], [2.0], [2.0], [2.0], [2.0], [2.0], [2.0], [2.0], [2.0], [2.0], [2.0], [2.0], [2.0], [2.0], [2.0], [2.0], [2.0], [2.0], [2.0], [2.0], [2.0], [2.0], [2.0], [2.0], [2.0], [2.0], [2.0], [2.0], [2.0], [2.0], [2.0], [2.0], [2.0], [2.0], [2.0], [2.0], [2.0], [2.0], [2.0], [2.0], [2.0], [2.0], [2.0], [2.0], [2.0], [2.0], [2.0], [2.0], [2.0], [2.0], [2.0], [2.0], [2.0], [2.0], [2.0], [2.0], [2.0], [2.0], [2.0]], [[10.0], [2.0], [10.0], [2.0], [10.0], [2.0], [10.0], [2.0], [10.0], [2.0], [10.0], [2.0], [10.0], [2.0], [10.0], [2.0], [10.0], [2.0], [10.0], [2.0], [10.0], [2.0], [10.0], [2.0], [10.0], [2.0], [10.0], [2.0], [10.0], [2.0], [10.0], [2.0], [10.0], [2.0], [10.0], [2.0], [10.0], [2.0], [10.0], [2.0], [10.0], [2.0], [10.0], [2.0], [10.0], [2.0], [10.0], [2.0], [10.0], [2.0], [10.0], [2.0], [10.0], [2.0], [10.0], [2.0], [10.0], [2.0], [10.0], [2.0], [10.0], [2.0], [10.0], [2.0]], [[2.0], [2.0], [2.0], [2.0], [2.0], [2.0], [2.0], [2.0], [2.0], [2.0], [2.0], [2.0], [2.0], [2.0], [2.0], [2.0], [2.0], [2.0], [2.0], [2.0], [2.0], [2.0], [2.0], [2.0], [2.0], [2.0], [2.0], [2.0], [2.0], [2.0], [2.0], [2.0], [2.0], [2.0], [2.0], [2.0], [2.0], [2.0], [2.0], [2.0], [2.0], [2.0], [2.0], [2.0], [2.0], [2.0], [2.0], [2.0], [2.0], [2.0], [2.0], [2.0], [2.0], [2.0], [2.0], [2.0], [2.0], [2.0], [2.0], [2.0], [2.0], [2.0], [2.0], [2.0]], [[10.0], [2.0], [10.0], [2.0], [10.0], [2.0], [10.0], [2.0], [10.0], [2.0], [10.0], [2.0], [10.0], [2.0], [10.0], [2.0], [10.0], [2.0], [10.0], [2.0], [10.0], [2.0], [10.0], [2.0], [10.0], [2.0], [10.0], [2.0], [10.0], [2.0], [10.0], [2.0], [10.0], [2.0], [10.0], [2.0], [10.0], [2.0], [10.0], [2.0], [10.0], [2.0], [10.0], [2.0], [10.0], [2.0], [10.0], [2.0], [10.0], [2.0], [10.0], [2.0], [10.0], [2.0], [10.0], [2.0], [10.0], [2.0], [10.0], [2.0], [10.0], [2.0], [10.0], [2.0]], [[2.0], [2.0], [2.0], [2.0], [2.0], [2.0], [2.0], [2.0], [2.0], [2.0], [2.0], [2.0], [2.0], [2.0], [2.0], [2.0], [2.0], [2.0], [2.0], [2.0], [2.0], [2.0], [2.0], [2.0], [2.0], [2.0], [2.0], [2.0], [2.0], [2.0], [2.0], [2.0], [2.0], [2.0], [2.0], [2.0], [2.0], [2.0], [2.0], [2.0], [2.0], [2.0], [2.0], [2.0], [2.0], [2.0], [2.0], [2.0], [2.0], [2.0], [2.0], [2.0], [2.0], [2.0], [2.0], [2.0], [2.0], [2.0], [2.0], [2.0], [2.0], [2.0], [2.0], [2.0]], [[10.0], [2.0], [10.0], [2.0], [10.0], [2.0], [10.0], [2.0], [10.0], [2.0], [10.0], [2.0], [10.0], [2.0], [10.0], [2.0], [10.0], [2.0], [10.0], [2.0], [10.0], [2.0], [10.0], [2.0], [10.0], [2.0], [10.0], [2.0], [10.0], [2.0], [10.0], [2.0], [10.0], [2.0], [10.0], [2.0], [10.0], [2.0], [10.0], [2.0], [10.0], [2.0], [10.0], [2.0], [10.0], [2.0], [10.0], [2.0], [10.0], [2.0], [10.0], [2.0], [10.0], [2.0], [10.0], [2.0], [10.0], [2.0], [10.0], [2.0], [10.0], [2.0], [10.0], [2.0]], [[2.0], [2.0], [2.0], [2.0], [2.0], [2.0], [2.0], [2.0], [2.0], [2.0], [2.0], [2.0], [2.0], [2.0], [2.0], [2.0], [2.0], [2.0], [2.0], [2.0], [2.0], [2.0], [2.0], [2.0], [2.0], [2.0], [2.0], [2.0], [2.0], [2.0], [2.0], [2.0], [2.0], [2.0], [2.0], [2.0], [2.0], [2.0], [2.0], [2.0], [2.0], [2.0], [2.0], [2.0], [2.0], [2.0], [2.0], [2.0], [2.0], [2.0], [2.0], [2.0], [2.0], [2.0], [2.0], [2.0], [2.0], [2.0], [2.0], [2.0], [2.0], [2.0], [2.0], [2.0]]]]\n"
     ]
    },
    {
     "ename": "ValueError",
     "evalue": "Expected 1D or 2D array, got 4D array instead",
     "output_type": "error",
     "traceback": [
      "\u001b[0;31m---------------------------------------------------------------------------\u001b[0m",
      "\u001b[0;31mValueError\u001b[0m                                Traceback (most recent call last)",
      "Cell \u001b[0;32mIn[17], line 28\u001b[0m\n\u001b[1;32m     22\u001b[0m \u001b[39mprint\u001b[39m(generated_map)\n\u001b[1;32m     24\u001b[0m \u001b[39m#write generated map to csv\u001b[39;00m\n\u001b[0;32m---> 28\u001b[0m np\u001b[39m.\u001b[39;49msavetxt(\u001b[39m'\u001b[39;49m\u001b[39mgenerated_map.csv\u001b[39;49m\u001b[39m'\u001b[39;49m, generated_map, delimiter\u001b[39m=\u001b[39;49m\u001b[39m'\u001b[39;49m\u001b[39m,\u001b[39;49m\u001b[39m'\u001b[39;49m)\n",
      "File \u001b[0;32m<__array_function__ internals>:200\u001b[0m, in \u001b[0;36msavetxt\u001b[0;34m(*args, **kwargs)\u001b[0m\n",
      "File \u001b[0;32m~/.local/lib/python3.10/site-packages/numpy/lib/npyio.py:1555\u001b[0m, in \u001b[0;36msavetxt\u001b[0;34m(fname, X, fmt, delimiter, newline, header, footer, comments, encoding)\u001b[0m\n\u001b[1;32m   1553\u001b[0m \u001b[39m# Handle 1-dimensional arrays\u001b[39;00m\n\u001b[1;32m   1554\u001b[0m \u001b[39mif\u001b[39;00m X\u001b[39m.\u001b[39mndim \u001b[39m==\u001b[39m \u001b[39m0\u001b[39m \u001b[39mor\u001b[39;00m X\u001b[39m.\u001b[39mndim \u001b[39m>\u001b[39m \u001b[39m2\u001b[39m:\n\u001b[0;32m-> 1555\u001b[0m     \u001b[39mraise\u001b[39;00m \u001b[39mValueError\u001b[39;00m(\n\u001b[1;32m   1556\u001b[0m         \u001b[39m\"\u001b[39m\u001b[39mExpected 1D or 2D array, got \u001b[39m\u001b[39m%d\u001b[39;00m\u001b[39mD array instead\u001b[39m\u001b[39m\"\u001b[39m \u001b[39m%\u001b[39m X\u001b[39m.\u001b[39mndim)\n\u001b[1;32m   1557\u001b[0m \u001b[39melif\u001b[39;00m X\u001b[39m.\u001b[39mndim \u001b[39m==\u001b[39m \u001b[39m1\u001b[39m:\n\u001b[1;32m   1558\u001b[0m     \u001b[39m# Common case -- 1d array of numbers\u001b[39;00m\n\u001b[1;32m   1559\u001b[0m     \u001b[39mif\u001b[39;00m X\u001b[39m.\u001b[39mdtype\u001b[39m.\u001b[39mnames \u001b[39mis\u001b[39;00m \u001b[39mNone\u001b[39;00m:\n",
      "\u001b[0;31mValueError\u001b[0m: Expected 1D or 2D array, got 4D array instead"
     ]
    }
   ],
   "source": [
    "print(x_real_train.shape)\n",
    "\n",
    "gen_losses, disc_losses, generated_map = train(x_real_train, N_EPOCHS)\n",
    "\n",
    "# denormalise generated map\n",
    "\n",
    "generated_map *= 255\n",
    "\n",
    "\n",
    "\n",
    "\n",
    "generated_map = generated_map.numpy()\n",
    "\n",
    "generated_map = np.round(generated_map,0)\n",
    "\n",
    "generated_map.reshape(64,64)\n",
    "\n",
    "print(generated_map.shape)\n",
    "\n",
    "generated_map = generated_map.tolist()\n",
    "\n",
    "print(generated_map)\n",
    "\n",
    "#write generated map to csv\n",
    "\n",
    "\n",
    "\n",
    "np.savetxt('generated_map.csv', generated_map, delimiter=',')\n"
   ]
  },
  {
   "attachments": {},
   "cell_type": "markdown",
   "metadata": {},
   "source": [
    "graphs:"
   ]
  },
  {
   "cell_type": "code",
   "execution_count": 18,
   "metadata": {},
   "outputs": [
    {
     "data": {
      "text/plain": [
       "Text(0.5, 0, 'Epoch')"
      ]
     },
     "execution_count": 18,
     "metadata": {},
     "output_type": "execute_result"
    },
    {
     "data": {
      "image/png": "[encoded data removed]",
      "text/plain": [
       "<Figure size 640x480 with 1 Axes>"
      ]
     },
     "metadata": {},
     "output_type": "display_data"
    }
   ],
   "source": [
    "epoch_list = [i for i in range(0,N_EPOCHS)]\n",
    "\n",
    "\n",
    "\n",
    "plt.plot(epoch_list,disc_losses,  'r-')\n",
    "plt.plot(epoch_list, gen_losses, 'b-')\n",
    "plt.title('Gen and Disc loss over epochs')\n",
    "plt.ylabel('Loss')\n",
    "plt.xlabel('Epoch')"
   ]
  }
 ],
 "metadata": {
  "kernelspec": {
   "display_name": "Python 3 (ipykernel)",
   "language": "python",
   "name": "python3"
  },
  "language_info": {
   "codemirror_mode": {
    "name": "ipython",
    "version": 3
   },
   "file_extension": ".py",
   "mimetype": "text/x-python",
   "name": "python",
   "nbconvert_exporter": "python",
   "pygments_lexer": "ipython3",
   "version": "3.10.12"
  }
 },
 "nbformat": 4,
 "nbformat_minor": 2
}
