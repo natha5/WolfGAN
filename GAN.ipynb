{
 "cells": [
  {
   "attachments": {},
   "cell_type": "markdown",
   "metadata": {},
   "source": [
    "# Imports"
   ]
  },
  {
   "cell_type": "code",
   "execution_count": 64,
   "metadata": {},
   "outputs": [],
   "source": [
    "import numpy as np\n",
    "import pandas as pd\n",
    "import random as rand\n",
    "\n",
    "from keras.utils import to_categorical\n",
    "from keras.layers import Dense, Activation, Conv2D,Conv2DTranspose, Dropout, Reshape, MaxPooling2D, Flatten\n",
    "from keras.models import Sequential, load_model\n",
    "\n",
    "from sklearn.model_selection import train_test_split"
   ]
  },
  {
   "attachments": {},
   "cell_type": "markdown",
   "metadata": {},
   "source": [
    "# Data importing and pre-processing"
   ]
  },
  {
   "cell_type": "code",
   "execution_count": 65,
   "metadata": {},
   "outputs": [],
   "source": [
    "df = pd.read_csv('dataset.csv', header=None)\n",
    "\n",
    "\n",
    "df = df.values.reshape(60, 64, 64, 1)\n",
    "\n",
    "labels = np.zeros(60)\n",
    "\n",
    "x_real_train, x_real_test = train_test_split(df, test_size=0.2) #12 test values\n",
    "y_real_train, y_real_test = train_test_split(labels, test_size=0.2)"
   ]
  },
  {
   "attachments": {},
   "cell_type": "markdown",
   "metadata": {},
   "source": [
    "# Generator Model"
   ]
  },
  {
   "attachments": {},
   "cell_type": "markdown",
   "metadata": {},
   "source": [
    "Create points in latent space to be fed into generator"
   ]
  },
  {
   "cell_type": "code",
   "execution_count": 66,
   "metadata": {},
   "outputs": [],
   "source": [
    "def generate_generator_input(no_of_samples):\n",
    "    input = np.random.randn(60*no_of_samples)\n",
    "\n",
    "    input = input.reshape(60,no_of_samples)\n",
    "\n",
    "    return input"
   ]
  },
  {
   "cell_type": "code",
   "execution_count": 67,
   "metadata": {},
   "outputs": [],
   "source": [
    "def make_generator():\n",
    "    model = Sequential()\n",
    "    \n",
    "    model.add(Dense(60*8*8, input_dim=60))\n",
    "    model.add(Activation(\"relu\"))\n",
    "    model.add(Reshape((8,8,60)))\n",
    "    \n",
    "    model.add(Conv2DTranspose(1, (1,1), strides=(2,2), padding='same', input_shape=(8,8,60)))\n",
    "    model.add(Activation(\"relu\"))\n",
    "  \n",
    "    \n",
    "    model.add(Conv2DTranspose(1, (1,1), strides=(2,2), padding='same', input_shape=(16,16,60)))\n",
    "    model.add(Activation(\"relu\"))\n",
    "\n",
    "    model.add(Conv2DTranspose(1, (1,1), strides=(2,2), padding='same', input_shape=(32,32,60)))\n",
    "    model.add(Activation(\"relu\"))\n",
    "\n",
    "    model.add(Dense(1))\n",
    "    model.add(Activation(\"sigmoid\"))\n",
    "\n",
    "              \n",
    "    model.summary()\n",
    "    \n",
    "    return model\n",
    "    \n",
    "    "
   ]
  },
  {
   "attachments": {},
   "cell_type": "markdown",
   "metadata": {},
   "source": [
    "# Discriminator Model"
   ]
  },
  {
   "cell_type": "code",
   "execution_count": 68,
   "metadata": {},
   "outputs": [],
   "source": [
    "\n",
    "def make_discriminator():\n",
    "    \n",
    "    # 1st set of layers\n",
    "    model = Sequential()\n",
    "    model.add(Conv2D(128, kernel_size=5, padding=\"same\", input_shape=(64,64,1)))\n",
    "    model.add(Activation(\"relu\"))\n",
    "    model.add(MaxPooling2D(pool_size=(2,2), strides=(2,2), padding='same'))\n",
    "    \n",
    "    \n",
    "    \n",
    "    # output layer\n",
    "    model.add(Dense(1)) # Binary classification (2 outputs), so only 1 dense layer needed\n",
    "    model.add(Activation(\"sigmoid\"))\n",
    "\n",
    "    model.add(Flatten())\n",
    "    \n",
    "    model.compile(loss='binary_crossentropy', optimizer='adam', metrics=['accuracy'])\n",
    "    model.summary()\n",
    "    \n",
    "    return model\n",
    "    "
   ]
  },
  {
   "attachments": {},
   "cell_type": "markdown",
   "metadata": {},
   "source": [
    "# Training"
   ]
  },
  {
   "attachments": {},
   "cell_type": "markdown",
   "metadata": {},
   "source": [
    "First, create the models from the functions"
   ]
  },
  {
   "cell_type": "code",
   "execution_count": 69,
   "metadata": {},
   "outputs": [
    {
     "name": "stdout",
     "output_type": "stream",
     "text": [
      "Model: \"sequential_18\"\n",
      "_________________________________________________________________\n",
      " Layer (type)                Output Shape              Param #   \n",
      "=================================================================\n",
      " dense_15 (Dense)            (None, 3840)              234240    \n",
      "                                                                 \n",
      " activation_43 (Activation)  (None, 3840)              0         \n",
      "                                                                 \n",
      " reshape_7 (Reshape)         (None, 8, 8, 60)          0         \n",
      "                                                                 \n",
      " conv2d_transpose_21 (Conv2  (None, 16, 16, 1)         61        \n",
      " DTranspose)                                                     \n",
      "                                                                 \n",
      " activation_44 (Activation)  (None, 16, 16, 1)         0         \n",
      "                                                                 \n",
      " conv2d_transpose_22 (Conv2  (None, 32, 32, 1)         2         \n",
      " DTranspose)                                                     \n",
      "                                                                 \n",
      " activation_45 (Activation)  (None, 32, 32, 1)         0         \n",
      "                                                                 \n",
      " conv2d_transpose_23 (Conv2  (None, 64, 64, 1)         2         \n",
      " DTranspose)                                                     \n",
      "                                                                 \n",
      " activation_46 (Activation)  (None, 64, 64, 1)         0         \n",
      "                                                                 \n",
      " dense_16 (Dense)            (None, 64, 64, 1)         2         \n",
      "                                                                 \n",
      " activation_47 (Activation)  (None, 64, 64, 1)         0         \n",
      "                                                                 \n",
      "=================================================================\n",
      "Total params: 234307 (915.26 KB)\n",
      "Trainable params: 234307 (915.26 KB)\n",
      "Non-trainable params: 0 (0.00 Byte)\n",
      "_________________________________________________________________\n",
      "Model: \"sequential_19\"\n",
      "_________________________________________________________________\n",
      " Layer (type)                Output Shape              Param #   \n",
      "=================================================================\n",
      " conv2d_7 (Conv2D)           (None, 64, 64, 128)       3328      \n",
      "                                                                 \n",
      " activation_48 (Activation)  (None, 64, 64, 128)       0         \n",
      "                                                                 \n",
      " max_pooling2d_7 (MaxPoolin  (None, 32, 32, 128)       0         \n",
      " g2D)                                                            \n",
      "                                                                 \n",
      " dense_17 (Dense)            (None, 32, 32, 1)         129       \n",
      "                                                                 \n",
      " activation_49 (Activation)  (None, 32, 32, 1)         0         \n",
      "                                                                 \n",
      " flatten_6 (Flatten)         (None, 1024)              0         \n",
      "                                                                 \n",
      "=================================================================\n",
      "Total params: 3457 (13.50 KB)\n",
      "Trainable params: 3457 (13.50 KB)\n",
      "Non-trainable params: 0 (0.00 Byte)\n",
      "_________________________________________________________________\n"
     ]
    }
   ],
   "source": [
    "gen_model = make_generator()\n",
    "disc_model = make_discriminator()\n"
   ]
  },
  {
   "attachments": {},
   "cell_type": "markdown",
   "metadata": {},
   "source": [
    "Next, create fake training data, and put it together with the real data."
   ]
  },
  {
   "cell_type": "code",
   "execution_count": 70,
   "metadata": {},
   "outputs": [
    {
     "name": "stdout",
     "output_type": "stream",
     "text": [
      "(60, 60)\n",
      "2/2 [==============================] - 0s 7ms/step\n",
      "shapes:\n",
      "x_fake_train : (48, 64, 64, 1)\n",
      "x_fake_test : (12, 64, 64, 1)\n",
      "y_fake_train : (48,)\n",
      "y_fake_test : (12,)\n",
      "x_real_train : (48, 64, 64, 1)\n",
      "x_real_test : (12, 64, 64, 1)\n",
      "y_real_train : (48,)\n",
      "y_real_test : (12,)\n"
     ]
    }
   ],
   "source": [
    "gen_input = generate_generator_input(60)\n",
    "\n",
    "print(gen_input.shape)\n",
    "\n",
    "x_fake = gen_model.predict(gen_input)\n",
    "y_fake = np.ones((60,), dtype=int)\n",
    "\n",
    "x_fake = x_fake.reshape(60, 64, 64, 1)\n",
    "\n",
    "    \n",
    "x_fake_train, x_fake_test = train_test_split(x_fake, test_size=0.2)\n",
    "y_fake_train, y_fake_test = train_test_split(y_fake, test_size=0.2)\n",
    "\n",
    "print(\"shapes:\")\n",
    "print(\"x_fake_train : \" + str(x_fake_train.shape))\n",
    "print(\"x_fake_test : \" + str(x_fake_test.shape))\n",
    "print(\"y_fake_train : \" + str(y_fake_train.shape))\n",
    "print(\"y_fake_test : \" + str(y_fake_test.shape))\n",
    "\n",
    "print(\"x_real_train : \" + str(x_real_train.shape))\n",
    "print(\"x_real_test : \" + str(x_real_test.shape))\n",
    "print(\"y_real_train : \" + str(y_real_train.shape))\n",
    "print(\"y_real_test : \" + str(y_real_test.shape))\n",
    "\n",
    "x_train = np.concatenate((x_fake_train, x_real_train))\n",
    "y_train = np.concatenate((y_fake_train, y_real_train))\n",
    "x_test = np.concatenate((x_fake_test, x_real_test))\n",
    "y_test = np.concatenate((y_fake_test, y_real_test))"
   ]
  },
  {
   "attachments": {},
   "cell_type": "markdown",
   "metadata": {},
   "source": [
    "Now, train the discriminator"
   ]
  },
  {
   "attachments": {},
   "cell_type": "markdown",
   "metadata": {},
   "source": [
    "Disc training parameters:"
   ]
  },
  {
   "cell_type": "code",
   "execution_count": 71,
   "metadata": {},
   "outputs": [],
   "source": [
    "N_EPOCHS = 12\n",
    "BATCH_SIZE = 4\n",
    "VERBOSE = 1\n"
   ]
  },
  {
   "cell_type": "code",
   "execution_count": 72,
   "metadata": {},
   "outputs": [
    {
     "name": "stdout",
     "output_type": "stream",
     "text": [
      "(96, 64, 64, 1)\n",
      "(96,)\n",
      "Epoch 1/12\n",
      "24/24 [==============================] - 1s 30ms/step - loss: 0.4190 - val_loss: 0.3398\n",
      "Epoch 2/12\n",
      "24/24 [==============================] - 1s 25ms/step - loss: 0.3199 - val_loss: 0.2998\n",
      "Epoch 3/12\n",
      "24/24 [==============================] - 1s 26ms/step - loss: 0.2851 - val_loss: 0.2664\n",
      "Epoch 4/12\n",
      "24/24 [==============================] - 1s 26ms/step - loss: 0.2776 - val_loss: 0.2243\n",
      "Epoch 5/12\n",
      "24/24 [==============================] - 1s 24ms/step - loss: 0.2086 - val_loss: 0.1902\n",
      "Epoch 6/12\n",
      "24/24 [==============================] - 1s 26ms/step - loss: 0.1772 - val_loss: 0.1721\n",
      "Epoch 7/12\n",
      "24/24 [==============================] - 1s 24ms/step - loss: 0.1426 - val_loss: 0.1361\n",
      "Epoch 8/12\n",
      "24/24 [==============================] - 1s 23ms/step - loss: 0.1160 - val_loss: 0.0930\n",
      "Epoch 9/12\n",
      "24/24 [==============================] - 1s 24ms/step - loss: 0.0919 - val_loss: 0.0722\n",
      "Epoch 10/12\n",
      "24/24 [==============================] - 1s 48ms/step - loss: 0.0734 - val_loss: 0.0622\n",
      "Epoch 11/12\n",
      "24/24 [==============================] - 1s 45ms/step - loss: 0.0577 - val_loss: 0.0548\n",
      "Epoch 12/12\n",
      "24/24 [==============================] - 1s 30ms/step - loss: 0.0471 - val_loss: 0.0339\n"
     ]
    },
    {
     "data": {
      "text/plain": [
       "<keras.src.callbacks.History at 0x7f07fc03b1c0>"
      ]
     },
     "execution_count": 72,
     "metadata": {},
     "output_type": "execute_result"
    }
   ],
   "source": [
    "print(x_train.shape)\n",
    "print(y_train.shape)\n",
    "\n",
    "disc_model.compile(loss=\"binary_crossentropy\")\n",
    "disc_model.fit(x_train, y_train, batch_size=BATCH_SIZE, epochs=N_EPOCHS, verbose=VERBOSE, validation_data=(x_test, y_test))"
   ]
  },
  {
   "attachments": {},
   "cell_type": "markdown",
   "metadata": {
    "vscode": {
     "languageId": "python"
    }
   },
   "source": [
    "Put models together into full GAN"
   ]
  },
  {
   "cell_type": "code",
   "execution_count": 74,
   "metadata": {},
   "outputs": [],
   "source": [
    "def make_GAN(gen,disc):\n",
    "    disc.trainable = False\n",
    "\n",
    "    model = Sequential()\n",
    "\n",
    "    model.add(gen)\n",
    "    model.add(disc)\n",
    "\n",
    "    model.compile(loss='binary_crossentropy',optimizer='adam')\n",
    "\n",
    "    model.summary()\n",
    "\n",
    "    return model"
   ]
  },
  {
   "attachments": {},
   "cell_type": "markdown",
   "metadata": {},
   "source": [
    "Train GAN"
   ]
  },
  {
   "cell_type": "code",
   "execution_count": 75,
   "metadata": {},
   "outputs": [
    {
     "name": "stdout",
     "output_type": "stream",
     "text": [
      "Model: \"sequential_20\"\n",
      "_________________________________________________________________\n",
      " Layer (type)                Output Shape              Param #   \n",
      "=================================================================\n",
      " sequential_18 (Sequential)  (None, 64, 64, 1)         234307    \n",
      "                                                                 \n",
      " sequential_19 (Sequential)  (None, 1024)              3457      \n",
      "                                                                 \n",
      "=================================================================\n",
      "Total params: 237764 (928.77 KB)\n",
      "Trainable params: 234307 (915.26 KB)\n",
      "Non-trainable params: 3457 (13.50 KB)\n",
      "_________________________________________________________________\n",
      "2/2 [==============================] - 2s 219ms/step - loss: 0.0534\n"
     ]
    },
    {
     "data": {
      "text/plain": [
       "<keras.src.callbacks.History at 0x7f07fe0d77c0>"
      ]
     },
     "execution_count": 75,
     "metadata": {},
     "output_type": "execute_result"
    }
   ],
   "source": [
    "GAN_model = make_GAN(gen_model, disc_model)\n",
    "\n",
    "\n",
    "# create some fake data as input\n",
    "\n",
    "x_gan = generate_generator_input(60)\n",
    "y_gan = np.ones((60))\n",
    "\n",
    "GAN_model.fit(x_gan, y_gan)\n",
    "\n"
   ]
  },
  {
   "attachments": {},
   "cell_type": "markdown",
   "metadata": {},
   "source": [
    "Save generator to file"
   ]
  },
  {
   "cell_type": "code",
   "execution_count": 76,
   "metadata": {},
   "outputs": [
    {
     "name": "stdout",
     "output_type": "stream",
     "text": [
      "WARNING:tensorflow:Compiled the loaded model, but the compiled metrics have yet to be built. `model.compile_metrics` will be empty until you train or evaluate the model.\n"
     ]
    },
    {
     "name": "stderr",
     "output_type": "stream",
     "text": [
      "/home/ubuntu/.local/lib/python3.10/site-packages/keras/src/engine/training.py:3000: UserWarning: You are saving your model as an HDF5 file via `model.save()`. This file format is considered legacy. We recommend using instead the native Keras format, e.g. `model.save('my_model.keras')`.\n",
      "  saving_api.save_model(\n"
     ]
    }
   ],
   "source": [
    "filename = 'gen_model_trained.h5'\n",
    "gen_model.save(filename)"
   ]
  },
  {
   "attachments": {},
   "cell_type": "markdown",
   "metadata": {},
   "source": [
    "Now that all training is done, generate an output value"
   ]
  },
  {
   "cell_type": "code",
   "execution_count": 77,
   "metadata": {},
   "outputs": [
    {
     "name": "stdout",
     "output_type": "stream",
     "text": [
      "WARNING:tensorflow:No training configuration found in the save file, so the model was *not* compiled. Compile it manually.\n"
     ]
    },
    {
     "ename": "ValueError",
     "evalue": "in user code:\n\n    File \"/home/ubuntu/.local/lib/python3.10/site-packages/keras/src/engine/training.py\", line 2341, in predict_function  *\n        return step_function(self, iterator)\n    File \"/home/ubuntu/.local/lib/python3.10/site-packages/keras/src/engine/training.py\", line 2327, in step_function  **\n        outputs = model.distribute_strategy.run(run_step, args=(data,))\n    File \"/home/ubuntu/.local/lib/python3.10/site-packages/keras/src/engine/training.py\", line 2315, in run_step  **\n        outputs = model.predict_step(data)\n    File \"/home/ubuntu/.local/lib/python3.10/site-packages/keras/src/engine/training.py\", line 2283, in predict_step\n        return self(x, training=False)\n    File \"/home/ubuntu/.local/lib/python3.10/site-packages/keras/src/utils/traceback_utils.py\", line 70, in error_handler\n        raise e.with_traceback(filtered_tb) from None\n    File \"/home/ubuntu/.local/lib/python3.10/site-packages/keras/src/engine/input_spec.py\", line 280, in assert_input_compatibility\n        raise ValueError(\n\n    ValueError: Exception encountered when calling layer 'sequential_18' (type Sequential).\n    \n    Input 0 of layer \"dense_15\" is incompatible with the layer: expected axis -1 of input shape to have value 60, but received input with shape (None, 1)\n    \n    Call arguments received by layer 'sequential_18' (type Sequential):\n      • inputs=tf.Tensor(shape=(None, 1), dtype=float32)\n      • training=False\n      • mask=None\n",
     "output_type": "error",
     "traceback": [
      "\u001b[0;31m---------------------------------------------------------------------------\u001b[0m",
      "\u001b[0;31mValueError\u001b[0m                                Traceback (most recent call last)",
      "Cell \u001b[0;32mIn[77], line 9\u001b[0m\n\u001b[1;32m      6\u001b[0m gen_input \u001b[39m=\u001b[39m generate_generator_input(\u001b[39m1\u001b[39m)\n\u001b[1;32m      8\u001b[0m \u001b[39m# create output\u001b[39;00m\n\u001b[0;32m----> 9\u001b[0m output_map \u001b[39m=\u001b[39m model\u001b[39m.\u001b[39;49mpredict(gen_input)\n",
      "File \u001b[0;32m~/.local/lib/python3.10/site-packages/keras/src/utils/traceback_utils.py:70\u001b[0m, in \u001b[0;36mfilter_traceback.<locals>.error_handler\u001b[0;34m(*args, **kwargs)\u001b[0m\n\u001b[1;32m     67\u001b[0m     filtered_tb \u001b[39m=\u001b[39m _process_traceback_frames(e\u001b[39m.\u001b[39m__traceback__)\n\u001b[1;32m     68\u001b[0m     \u001b[39m# To get the full stack trace, call:\u001b[39;00m\n\u001b[1;32m     69\u001b[0m     \u001b[39m# `tf.debugging.disable_traceback_filtering()`\u001b[39;00m\n\u001b[0;32m---> 70\u001b[0m     \u001b[39mraise\u001b[39;00m e\u001b[39m.\u001b[39mwith_traceback(filtered_tb) \u001b[39mfrom\u001b[39;00m \u001b[39mNone\u001b[39;00m\n\u001b[1;32m     71\u001b[0m \u001b[39mfinally\u001b[39;00m:\n\u001b[1;32m     72\u001b[0m     \u001b[39mdel\u001b[39;00m filtered_tb\n",
      "File \u001b[0;32m/tmp/__autograph_generated_fileaoll_ony.py:15\u001b[0m, in \u001b[0;36mouter_factory.<locals>.inner_factory.<locals>.tf__predict_function\u001b[0;34m(iterator)\u001b[0m\n\u001b[1;32m     13\u001b[0m \u001b[39mtry\u001b[39;00m:\n\u001b[1;32m     14\u001b[0m     do_return \u001b[39m=\u001b[39m \u001b[39mTrue\u001b[39;00m\n\u001b[0;32m---> 15\u001b[0m     retval_ \u001b[39m=\u001b[39m ag__\u001b[39m.\u001b[39mconverted_call(ag__\u001b[39m.\u001b[39mld(step_function), (ag__\u001b[39m.\u001b[39mld(\u001b[39mself\u001b[39m), ag__\u001b[39m.\u001b[39mld(iterator)), \u001b[39mNone\u001b[39;00m, fscope)\n\u001b[1;32m     16\u001b[0m \u001b[39mexcept\u001b[39;00m:\n\u001b[1;32m     17\u001b[0m     do_return \u001b[39m=\u001b[39m \u001b[39mFalse\u001b[39;00m\n",
      "\u001b[0;31mValueError\u001b[0m: in user code:\n\n    File \"/home/ubuntu/.local/lib/python3.10/site-packages/keras/src/engine/training.py\", line 2341, in predict_function  *\n        return step_function(self, iterator)\n    File \"/home/ubuntu/.local/lib/python3.10/site-packages/keras/src/engine/training.py\", line 2327, in step_function  **\n        outputs = model.distribute_strategy.run(run_step, args=(data,))\n    File \"/home/ubuntu/.local/lib/python3.10/site-packages/keras/src/engine/training.py\", line 2315, in run_step  **\n        outputs = model.predict_step(data)\n    File \"/home/ubuntu/.local/lib/python3.10/site-packages/keras/src/engine/training.py\", line 2283, in predict_step\n        return self(x, training=False)\n    File \"/home/ubuntu/.local/lib/python3.10/site-packages/keras/src/utils/traceback_utils.py\", line 70, in error_handler\n        raise e.with_traceback(filtered_tb) from None\n    File \"/home/ubuntu/.local/lib/python3.10/site-packages/keras/src/engine/input_spec.py\", line 280, in assert_input_compatibility\n        raise ValueError(\n\n    ValueError: Exception encountered when calling layer 'sequential_18' (type Sequential).\n    \n    Input 0 of layer \"dense_15\" is incompatible with the layer: expected axis -1 of input shape to have value 60, but received input with shape (None, 1)\n    \n    Call arguments received by layer 'sequential_18' (type Sequential):\n      • inputs=tf.Tensor(shape=(None, 1), dtype=float32)\n      • training=False\n      • mask=None\n"
     ]
    }
   ],
   "source": [
    "\n",
    "#load model\n",
    "model = load_model('gen_model_trained.h5')\n",
    "\n",
    "# create the input from noise\n",
    "\n",
    "gen_input = generate_generator_input(1)\n",
    "\n",
    "# create output\n",
    "output_map = model.predict(gen_input)\n",
    "\n"
   ]
  },
  {
   "attachments": {},
   "cell_type": "markdown",
   "metadata": {},
   "source": [
    "Output result graphically"
   ]
  }
 ],
 "metadata": {
  "kernelspec": {
   "display_name": "Python 3 (ipykernel)",
   "language": "python",
   "name": "python3"
  },
  "language_info": {
   "codemirror_mode": {
    "name": "ipython",
    "version": 3
   },
   "file_extension": ".py",
   "mimetype": "text/x-python",
   "name": "python",
   "nbconvert_exporter": "python",
   "pygments_lexer": "ipython3",
   "version": "3.10.12"
  }
 },
 "nbformat": 4,
 "nbformat_minor": 2
}
