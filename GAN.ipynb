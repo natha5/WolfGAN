{
 "cells": [
  {
   "attachments": {},
   "cell_type": "markdown",
   "metadata": {},
   "source": [
    "# Imports"
   ]
  },
  {
   "cell_type": "code",
   "execution_count": 205,
   "metadata": {},
   "outputs": [],
   "source": [
    "import numpy as np\n",
    "import pandas as pd\n",
    "import random as rand\n",
    "import matplotlib.pyplot as plt\n",
    "import tensorflow as tf\n",
    "import csv\n",
    "\n",
    "from keras.utils import to_categorical\n",
    "from keras.layers import Dense, Activation, Conv2D,Conv2DTranspose, Dropout, Reshape, MaxPooling2D, Flatten, LeakyReLU, BatchNormalization\n",
    "from keras.models import Sequential, load_model\n",
    "from keras.losses import BinaryCrossentropy\n",
    "from keras.optimizers import Adam\n",
    "\n",
    "\n",
    "from sklearn.model_selection import train_test_split"
   ]
  },
  {
   "attachments": {},
   "cell_type": "markdown",
   "metadata": {},
   "source": [
    "# Parameters"
   ]
  },
  {
   "cell_type": "code",
   "execution_count": 206,
   "metadata": {},
   "outputs": [],
   "source": [
    "N_EPOCHS = 500\n",
    "BATCH_SIZE = 16\n",
    "DATASET_SIZE = 120\n",
    "TRAIN_DATA_SIZE = 96\n",
    "LATENT_DIM = 128"
   ]
  },
  {
   "attachments": {},
   "cell_type": "markdown",
   "metadata": {},
   "source": [
    "# Data importing and pre-processing"
   ]
  },
  {
   "cell_type": "code",
   "execution_count": 207,
   "metadata": {},
   "outputs": [],
   "source": [
    "df = pd.read_csv('dataset.csv', header=None)\n",
    "\n",
    "\n",
    "df = df.values.reshape(DATASET_SIZE, 64, 64, 1)\n",
    "\n",
    "x_real_train, x_real_test = train_test_split(df, test_size=0.2) #12 test values\n"
   ]
  },
  {
   "attachments": {},
   "cell_type": "markdown",
   "metadata": {},
   "source": [
    "normalize dataset data into range of sigmoid [0,1], and put into batches"
   ]
  },
  {
   "cell_type": "code",
   "execution_count": 208,
   "metadata": {},
   "outputs": [],
   "source": [
    "x_real_train = x_real_train.astype('float32')\n",
    "x_real_train /=255\n",
    "\n",
    "\n",
    "training_data = tf.data.Dataset.from_tensor_slices(x_real_train).shuffle(TRAIN_DATA_SIZE).batch(BATCH_SIZE)"
   ]
  },
  {
   "attachments": {},
   "cell_type": "markdown",
   "metadata": {},
   "source": [
    "Visualise example from dataset"
   ]
  },
  {
   "cell_type": "code",
   "execution_count": 209,
   "metadata": {},
   "outputs": [
    {
     "data": {
      "text/plain": [
       "<matplotlib.image.AxesImage at 0x7f1f3a05cb50>"
      ]
     },
     "execution_count": 209,
     "metadata": {},
     "output_type": "execute_result"
    },
    {
     "data": {
      "image/png": "[encoded data removed]",
      "text/plain": [
       "<Figure size 640x480 with 1 Axes>"
      ]
     },
     "metadata": {},
     "output_type": "display_data"
    }
   ],
   "source": [
    "plt.imshow(x_real_train[0])"
   ]
  },
  {
   "attachments": {},
   "cell_type": "markdown",
   "metadata": {},
   "source": [
    "# Generator Model"
   ]
  },
  {
   "attachments": {},
   "cell_type": "markdown",
   "metadata": {},
   "source": [
    "Create points in latent space to be fed into generator"
   ]
  },
  {
   "cell_type": "code",
   "execution_count": 210,
   "metadata": {},
   "outputs": [],
   "source": [
    "def generate_generator_input(no_of_maps):\n",
    "    input = tf.random.normal(shape=(no_of_maps, LATENT_DIM))\n",
    "    \n",
    "    return input"
   ]
  },
  {
   "cell_type": "code",
   "execution_count": 211,
   "metadata": {},
   "outputs": [],
   "source": [
    "def make_generator():\n",
    "    model = Sequential()\n",
    "    \n",
    "    model.add(Dense(LATENT_DIM*8*8, input_shape=(LATENT_DIM,)))\n",
    "\n",
    "    model.add(BatchNormalization())\n",
    "    model.add(LeakyReLU())\n",
    "    model.add(Reshape((8,8,LATENT_DIM)))\n",
    "\n",
    "\n",
    "    \n",
    "    model.add(Conv2DTranspose(128, kernel_size=4, strides=2, padding='same', use_bias=False, input_shape=(8,8,60)))\n",
    "    model.add(BatchNormalization())\n",
    "    model.add(LeakyReLU())\n",
    "\n",
    "\n",
    "    model.add(Conv2DTranspose(128, kernel_size=4, strides=2, padding='same', use_bias=False, input_shape=(16,16,60)))\n",
    "    model.add(BatchNormalization())\n",
    "    model.add(LeakyReLU())\n",
    "\n",
    "    \n",
    "\n",
    "\n",
    "    model.add(Conv2DTranspose(128, kernel_size=4, strides=2, padding='same', use_bias=False, input_shape=(32,32,60)))\n",
    "    model.add(LeakyReLU())\n",
    "\n",
    "    model.add(Conv2DTranspose(1, kernel_size=5, padding=\"same\"))\n",
    "    model.add(Activation(\"sigmoid\"))\n",
    "    \n",
    "              \n",
    "    model.summary()\n",
    "    \n",
    "    return model\n",
    "    \n",
    "    "
   ]
  },
  {
   "attachments": {},
   "cell_type": "markdown",
   "metadata": {},
   "source": [
    "# Discriminator Model"
   ]
  },
  {
   "cell_type": "code",
   "execution_count": 212,
   "metadata": {},
   "outputs": [],
   "source": [
    "\n",
    "def make_discriminator():\n",
    "    \n",
    "    # 1st set of layers\n",
    "    model = Sequential()\n",
    "    model.add(Conv2D(16, kernel_size=4, strides=2, padding=\"same\", input_shape=(64,64,1)))\n",
    "    model.add(BatchNormalization())\n",
    "    model.add(LeakyReLU())\n",
    "    #model.add(MaxPooling2D(pool_size=(2,2), strides=(2,2), padding='same'))\n",
    "    \n",
    "\n",
    "    model.add(Conv2D(16, kernel_size=4, strides=2, padding='same'))\n",
    "    model.add(BatchNormalization())\n",
    "    model.add(LeakyReLU())\n",
    "    #model.add(MaxPooling2D(pool_size=(2,2), strides=(2,2), padding='same'))\n",
    "    \n",
    "    '''\n",
    "    model.add(Conv2D(16, kernel_size=4, strides=2, padding='same'))\n",
    "    model.add(BatchNormalization())\n",
    "    model.add(LeakyReLU())\n",
    "    #model.add(MaxPooling2D(pool_size=(2,2), strides=(2,2), padding='same'))\n",
    "    '''\n",
    "    model.add(Dense(100, activation='relu'))\n",
    "    #model.add(Activation='relu')\n",
    "    \n",
    "    # output layer\n",
    "    model.add(Flatten())\n",
    "    model.add(Dropout(0.2))\n",
    "    \n",
    "    model.add(Dense(1)) # Binary classification (2 outputs), so only 1 dense layer needed\n",
    "    model.add(Activation('sigmoid'))\n",
    "    \n",
    "    model.summary()\n",
    "    return model\n",
    "    "
   ]
  },
  {
   "attachments": {},
   "cell_type": "markdown",
   "metadata": {},
   "source": [
    "Create the models from the functions"
   ]
  },
  {
   "cell_type": "code",
   "execution_count": 213,
   "metadata": {},
   "outputs": [
    {
     "name": "stdout",
     "output_type": "stream",
     "text": [
      "Model: \"sequential_24\"\n",
      "_________________________________________________________________\n",
      " Layer (type)                Output Shape              Param #   \n",
      "=================================================================\n",
      " dense_25 (Dense)            (None, 8192)              1056768   \n",
      "                                                                 \n",
      " batch_normalization_69 (Ba  (None, 8192)              32768     \n",
      " tchNormalization)                                               \n",
      "                                                                 \n",
      " leaky_re_lu_81 (LeakyReLU)  (None, 8192)              0         \n",
      "                                                                 \n",
      " reshape_12 (Reshape)        (None, 8, 8, 128)         0         \n",
      "                                                                 \n",
      " conv2d_transpose_48 (Conv2  (None, 16, 16, 128)       262144    \n",
      " DTranspose)                                                     \n",
      "                                                                 \n",
      " batch_normalization_70 (Ba  (None, 16, 16, 128)       512       \n",
      " tchNormalization)                                               \n",
      "                                                                 \n",
      " leaky_re_lu_82 (LeakyReLU)  (None, 16, 16, 128)       0         \n",
      "                                                                 \n",
      " conv2d_transpose_49 (Conv2  (None, 32, 32, 128)       262144    \n",
      " DTranspose)                                                     \n",
      "                                                                 \n",
      " batch_normalization_71 (Ba  (None, 32, 32, 128)       512       \n",
      " tchNormalization)                                               \n",
      "                                                                 \n",
      " leaky_re_lu_83 (LeakyReLU)  (None, 32, 32, 128)       0         \n",
      "                                                                 \n",
      " conv2d_transpose_50 (Conv2  (None, 64, 64, 128)       262144    \n",
      " DTranspose)                                                     \n",
      "                                                                 \n",
      " leaky_re_lu_84 (LeakyReLU)  (None, 64, 64, 128)       0         \n",
      "                                                                 \n",
      " conv2d_transpose_51 (Conv2  (None, 64, 64, 1)         3201      \n",
      " DTranspose)                                                     \n",
      "                                                                 \n",
      " activation_22 (Activation)  (None, 64, 64, 1)         0         \n",
      "                                                                 \n",
      "=================================================================\n",
      "Total params: 1880193 (7.17 MB)\n",
      "Trainable params: 1863297 (7.11 MB)\n",
      "Non-trainable params: 16896 (66.00 KB)\n",
      "_________________________________________________________________\n",
      "Model: \"sequential_25\"\n",
      "_________________________________________________________________\n",
      " Layer (type)                Output Shape              Param #   \n",
      "=================================================================\n",
      " conv2d_33 (Conv2D)          (None, 32, 32, 16)        272       \n",
      "                                                                 \n",
      " batch_normalization_72 (Ba  (None, 32, 32, 16)        64        \n",
      " tchNormalization)                                               \n",
      "                                                                 \n",
      " leaky_re_lu_85 (LeakyReLU)  (None, 32, 32, 16)        0         \n",
      "                                                                 \n",
      " conv2d_34 (Conv2D)          (None, 16, 16, 16)        4112      \n",
      "                                                                 \n",
      " batch_normalization_73 (Ba  (None, 16, 16, 16)        64        \n",
      " tchNormalization)                                               \n",
      "                                                                 \n",
      " leaky_re_lu_86 (LeakyReLU)  (None, 16, 16, 16)        0         \n",
      "                                                                 \n",
      " dense_26 (Dense)            (None, 16, 16, 100)       1700      \n",
      "                                                                 \n",
      " flatten_10 (Flatten)        (None, 25600)             0         \n",
      "                                                                 \n",
      " dropout_10 (Dropout)        (None, 25600)             0         \n",
      "                                                                 \n",
      " dense_27 (Dense)            (None, 1)                 25601     \n",
      "                                                                 \n",
      " activation_23 (Activation)  (None, 1)                 0         \n",
      "                                                                 \n",
      "=================================================================\n",
      "Total params: 31813 (124.27 KB)\n",
      "Trainable params: 31749 (124.02 KB)\n",
      "Non-trainable params: 64 (256.00 Byte)\n",
      "_________________________________________________________________\n"
     ]
    }
   ],
   "source": [
    "gen_model = make_generator()\n",
    "\n",
    "disc_model = make_discriminator()\n"
   ]
  },
  {
   "attachments": {},
   "cell_type": "markdown",
   "metadata": {},
   "source": [
    "Next, test the untrained discriminator on the map of noise generated before\n",
    "\n",
    "Negative values means fake, positive means real"
   ]
  },
  {
   "attachments": {},
   "cell_type": "markdown",
   "metadata": {},
   "source": [
    "## Loss and Optimizers"
   ]
  },
  {
   "cell_type": "code",
   "execution_count": 214,
   "metadata": {},
   "outputs": [],
   "source": [
    "cross_entropy = BinaryCrossentropy(from_logits=True)\n",
    "\n"
   ]
  },
  {
   "attachments": {},
   "cell_type": "markdown",
   "metadata": {},
   "source": [
    "Discriminator loss, taken from: https://www.tensorflow.org/tutorials/generative/dcgan"
   ]
  },
  {
   "cell_type": "code",
   "execution_count": 215,
   "metadata": {},
   "outputs": [],
   "source": [
    "def discrim_loss(real_output, fake_output):\n",
    "    real_loss = cross_entropy(tf.ones_like(real_output), real_output)\n",
    "    fake_loss = cross_entropy(tf.zeros_like(fake_output), fake_output)\n",
    "    total_loss = real_loss + fake_loss\n",
    "    return total_loss"
   ]
  },
  {
   "attachments": {},
   "cell_type": "markdown",
   "metadata": {},
   "source": [
    "Generator loss"
   ]
  },
  {
   "cell_type": "code",
   "execution_count": 216,
   "metadata": {},
   "outputs": [],
   "source": [
    "def generator_loss(fake_output):\n",
    "    return cross_entropy(tf.ones_like(fake_output), fake_output)"
   ]
  },
  {
   "attachments": {},
   "cell_type": "markdown",
   "metadata": {},
   "source": [
    "Optimizers:"
   ]
  },
  {
   "cell_type": "code",
   "execution_count": 217,
   "metadata": {},
   "outputs": [],
   "source": [
    "gen_optimizer = Adam(learning_rate =0.0002, beta_1=0.5)\n",
    "disc_optimizer = Adam(learning_rate =0.0002, beta_1=0.5)"
   ]
  },
  {
   "attachments": {},
   "cell_type": "markdown",
   "metadata": {},
   "source": [
    "Discriminator accuracy"
   ]
  },
  {
   "cell_type": "code",
   "execution_count": 218,
   "metadata": {},
   "outputs": [],
   "source": [
    "def compute_discrim_accuracy(real_output, fake_output):\n",
    "    if real_output[0] >=0:\n",
    "        \n",
    "        if fake_output[0] <0:\n",
    "            accuracy = (real_output[0] + fake_output[0]) / (real_output[0] + fake_output[0])\n",
    "        else:\n",
    "            accuracy = real_output[0]/ (real_output[0] + fake_output[0])\n",
    "    elif fake_output[0] <0:\n",
    "        accuracy = fake_output[0] / (real_output[0] + fake_output[0])\n",
    "    else:\n",
    "        accuracy = 0/ (real_output[0] + fake_output[0])\n",
    "    \n",
    "    return accuracy"
   ]
  },
  {
   "attachments": {},
   "cell_type": "markdown",
   "metadata": {},
   "source": [
    "## Training"
   ]
  },
  {
   "attachments": {},
   "cell_type": "markdown",
   "metadata": {},
   "source": [
    "Training step"
   ]
  },
  {
   "cell_type": "code",
   "execution_count": 219,
   "metadata": {},
   "outputs": [],
   "source": [
    "@tf.function\n",
    "def training_step(current_batch):\n",
    "    \n",
    "    noise_sample = generate_generator_input(BATCH_SIZE)\n",
    "    \n",
    "\n",
    "    with tf.GradientTape() as gen_tape, tf.GradientTape() as disc_tape:\n",
    "\n",
    "        generated_map = gen_model(noise_sample, training=True)\n",
    "        print(\"generated map shape\" + str(generated_map.shape))\n",
    "        \n",
    "        fake_output = disc_model(generated_map,  training=True)\n",
    "        real_output = disc_model(current_batch, training=True)\n",
    "        \n",
    "\n",
    "        gen_loss = generator_loss(fake_output=fake_output)\n",
    "        disc_loss = discrim_loss(real_output=real_output, fake_output=fake_output)\n",
    "\n",
    "        disc_accuracy = compute_discrim_accuracy(real_output, fake_output)\n",
    "\n",
    "        \n",
    "\n",
    "    gen_gradients = gen_tape.gradient(gen_loss, gen_model.trainable_variables)\n",
    "    disc_gradients = disc_tape.gradient(disc_loss, disc_model.trainable_variables)\n",
    "\n",
    "    gen_optimizer.apply_gradients(zip(gen_gradients, gen_model.trainable_variables))\n",
    "    disc_optimizer.apply_gradients(zip(disc_gradients, disc_model.trainable_variables))\n",
    "\n",
    "    return gen_loss, disc_loss, disc_accuracy"
   ]
  },
  {
   "attachments": {},
   "cell_type": "markdown",
   "metadata": {
    "vscode": {
     "languageId": "python"
    }
   },
   "source": [
    "Train models"
   ]
  },
  {
   "cell_type": "code",
   "execution_count": 220,
   "metadata": {},
   "outputs": [],
   "source": [
    "def train(dataset, N_EPOCHS):\n",
    "\n",
    "    gen_losses = []\n",
    "    disc_losses = []\n",
    "\n",
    "    disc_accuracies = []\n",
    "    \n",
    "\n",
    "    for epoch in range(N_EPOCHS):\n",
    "        gen_losses_for_epoch = []\n",
    "        disc_losses_for_epoch = []\n",
    "\n",
    "        disc_accuracies_for_epoch = []\n",
    "\n",
    "        print(\"epoch = \" + str(epoch))\n",
    "\n",
    "        for map_batch in dataset:\n",
    "            \n",
    "            \n",
    "            gen_loss, disc_loss, disc_accuracy = training_step(map_batch)\n",
    "\n",
    "            gen_losses_for_epoch.append(gen_loss)\n",
    "            disc_losses_for_epoch.append(disc_loss)\n",
    "            disc_accuracies.append(disc_accuracy)\n",
    "        \n",
    "        avg_gen_loss = sum(gen_losses_for_epoch) / TRAIN_DATA_SIZE\n",
    "        avg_disc_loss = sum(disc_losses_for_epoch) / TRAIN_DATA_SIZE\n",
    "\n",
    "        avg_disc_accuracy = sum(disc_accuracies_for_epoch) / TRAIN_DATA_SIZE\n",
    "\n",
    "        gen_losses.append(avg_gen_loss)\n",
    "        disc_losses.append(avg_disc_loss)\n",
    "\n",
    "        disc_accuracies.append(avg_disc_accuracy)\n",
    "\n",
    "        print(\"Gen loss = \" + str(avg_gen_loss))\n",
    "        print(\"Disc loss = \" + str(avg_disc_loss))\n",
    "\n",
    "        print(\"Disc accuracy = \" + str(avg_disc_accuracy))\n",
    "# generate and show a map after 10 epochs\n",
    "\n",
    "        if epoch % 10 == 0:\n",
    "            noise_input = generate_generator_input(1)\n",
    "            generated_map = gen_model(noise_input, training=False)\n",
    "            generated_map = generated_map.numpy()\n",
    "            generated_map.reshape(64,64)\n",
    "            plt.imshow(generated_map)\n",
    "    \n",
    "    input_for_map_after_training = generate_generator_input(1)\n",
    "    generated_map = gen_model(input_for_map_after_training, training=False)\n",
    "\n",
    "    \n",
    "\n",
    "    return gen_losses, disc_losses, generated_map, disc_accuracies\n"
   ]
  },
  {
   "attachments": {},
   "cell_type": "markdown",
   "metadata": {},
   "source": [
    "Train GAN"
   ]
  },
  {
   "cell_type": "code",
   "execution_count": 221,
   "metadata": {},
   "outputs": [
    {
     "name": "stdout",
     "output_type": "stream",
     "text": [
      "epoch = 0\n",
      "generated map shape(16, 64, 64, 1)\n"
     ]
    },
    {
     "name": "stderr",
     "output_type": "stream",
     "text": [
      "/home/ubuntu/.local/lib/python3.10/site-packages/keras/src/backend.py:5805: UserWarning: \"`binary_crossentropy` received `from_logits=True`, but the `output` argument was produced by a Sigmoid activation and thus does not represent logits. Was this intended?\n",
      "  output, from_logits = _get_logits(\n"
     ]
    },
    {
     "name": "stdout",
     "output_type": "stream",
     "text": [
      "generated map shape(16, 64, 64, 1)\n",
      "Gen loss = tf.Tensor(0.034366567, shape=(), dtype=float32)\n",
      "Disc loss = tf.Tensor(0.10011575, shape=(), dtype=float32)\n",
      "Disc accuracy = 0.0\n"
     ]
    },
    {
     "ename": "AttributeError",
     "evalue": "EagerTensor object has no attribute 'reshape'. \n        If you are looking for numpy-related methods, please run the following:\n        from tensorflow.python.ops.numpy_ops import np_config\n        np_config.enable_numpy_behavior()\n      ",
     "output_type": "error",
     "traceback": [
      "\u001b[0;31m---------------------------------------------------------------------------\u001b[0m",
      "\u001b[0;31mAttributeError\u001b[0m                            Traceback (most recent call last)",
      "Cell \u001b[0;32mIn[221], line 1\u001b[0m\n\u001b[0;32m----> 1\u001b[0m gen_losses, disc_losses, generated_map, disc_accuracies \u001b[39m=\u001b[39m train(training_data, N_EPOCHS)\n",
      "Cell \u001b[0;32mIn[220], line 45\u001b[0m, in \u001b[0;36mtrain\u001b[0;34m(dataset, N_EPOCHS)\u001b[0m\n\u001b[1;32m     43\u001b[0m         noise_input \u001b[39m=\u001b[39m generate_generator_input(\u001b[39m1\u001b[39m)\n\u001b[1;32m     44\u001b[0m         generated_map \u001b[39m=\u001b[39m gen_model(noise_input, training\u001b[39m=\u001b[39m\u001b[39mFalse\u001b[39;00m)\n\u001b[0;32m---> 45\u001b[0m         generated_map\u001b[39m.\u001b[39;49mreshape(\u001b[39m64\u001b[39m,\u001b[39m64\u001b[39m)\n\u001b[1;32m     46\u001b[0m         plt\u001b[39m.\u001b[39mimshow(generated_map)\n\u001b[1;32m     48\u001b[0m input_for_map_after_training \u001b[39m=\u001b[39m generate_generator_input(\u001b[39m1\u001b[39m)\n",
      "File \u001b[0;32m~/.local/lib/python3.10/site-packages/tensorflow/python/framework/ops.py:424\u001b[0m, in \u001b[0;36mTensor.__getattr__\u001b[0;34m(self, name)\u001b[0m\n\u001b[1;32m    420\u001b[0m \u001b[39mdef\u001b[39;00m \u001b[39m__getattr__\u001b[39m(\u001b[39mself\u001b[39m, name):\n\u001b[1;32m    421\u001b[0m   \u001b[39mif\u001b[39;00m name \u001b[39min\u001b[39;00m {\u001b[39m\"\u001b[39m\u001b[39mT\u001b[39m\u001b[39m\"\u001b[39m, \u001b[39m\"\u001b[39m\u001b[39mastype\u001b[39m\u001b[39m\"\u001b[39m, \u001b[39m\"\u001b[39m\u001b[39mravel\u001b[39m\u001b[39m\"\u001b[39m, \u001b[39m\"\u001b[39m\u001b[39mtranspose\u001b[39m\u001b[39m\"\u001b[39m, \u001b[39m\"\u001b[39m\u001b[39mreshape\u001b[39m\u001b[39m\"\u001b[39m, \u001b[39m\"\u001b[39m\u001b[39mclip\u001b[39m\u001b[39m\"\u001b[39m, \u001b[39m\"\u001b[39m\u001b[39msize\u001b[39m\u001b[39m\"\u001b[39m,\n\u001b[1;32m    422\u001b[0m               \u001b[39m\"\u001b[39m\u001b[39mtolist\u001b[39m\u001b[39m\"\u001b[39m, \u001b[39m\"\u001b[39m\u001b[39mdata\u001b[39m\u001b[39m\"\u001b[39m}:\n\u001b[1;32m    423\u001b[0m     \u001b[39m# TODO(wangpeng): Export the enable_numpy_behavior knob\u001b[39;00m\n\u001b[0;32m--> 424\u001b[0m     \u001b[39mraise\u001b[39;00m \u001b[39mAttributeError\u001b[39;00m(\n\u001b[1;32m    425\u001b[0m         \u001b[39mf\u001b[39m\u001b[39m\"\u001b[39m\u001b[39m{\u001b[39;00m\u001b[39mtype\u001b[39m(\u001b[39mself\u001b[39m)\u001b[39m.\u001b[39m\u001b[39m__name__\u001b[39m\u001b[39m}\u001b[39;00m\u001b[39m object has no attribute \u001b[39m\u001b[39m'\u001b[39m\u001b[39m{\u001b[39;00mname\u001b[39m}\u001b[39;00m\u001b[39m'\u001b[39m\u001b[39m. \u001b[39m\u001b[39m\"\u001b[39m \u001b[39m+\u001b[39m \u001b[39m\"\"\"\u001b[39m\n\u001b[1;32m    426\u001b[0m \u001b[39m      If you are looking for numpy-related methods, please run the following:\u001b[39m\n\u001b[1;32m    427\u001b[0m \u001b[39m      from tensorflow.python.ops.numpy_ops import np_config\u001b[39m\n\u001b[1;32m    428\u001b[0m \u001b[39m      np_config.enable_numpy_behavior()\u001b[39m\n\u001b[1;32m    429\u001b[0m \u001b[39m    \u001b[39m\u001b[39m\"\"\"\u001b[39m)\n\u001b[1;32m    430\u001b[0m   \u001b[39mself\u001b[39m\u001b[39m.\u001b[39m\u001b[39m__getattribute__\u001b[39m(name)\n",
      "\u001b[0;31mAttributeError\u001b[0m: EagerTensor object has no attribute 'reshape'. \n        If you are looking for numpy-related methods, please run the following:\n        from tensorflow.python.ops.numpy_ops import np_config\n        np_config.enable_numpy_behavior()\n      "
     ]
    }
   ],
   "source": [
    "\n",
    "gen_losses, disc_losses, generated_map, disc_accuracies = train(training_data, N_EPOCHS)\n"
   ]
  },
  {
   "attachments": {},
   "cell_type": "markdown",
   "metadata": {},
   "source": [
    "Denormalize, save and display generated map output"
   ]
  },
  {
   "cell_type": "code",
   "execution_count": null,
   "metadata": {},
   "outputs": [
    {
     "name": "stdout",
     "output_type": "stream",
     "text": [
      "(64, 64)\n",
      "[[31.0, 85.0, 79.0, 6.0, 23.0, 3.0, 19.0, 5.0, 3.0, 126.0, 15.0, 7.0, 27.0, 2.0, 15.0, 12.0, 1.0, 202.0, 19.0, 11.0, 24.0, 2.0, 15.0, 4.0, 28.0, 209.0, 31.0, 9.0, 124.0, 14.0, 16.0, 5.0, 7.0, 233.0, 12.0, 6.0, 24.0, 15.0, 2.0, 4.0, 15.0, 183.0, 5.0, 2.0, 5.0, 5.0, 7.0, 7.0, 17.0, 138.0, 18.0, 13.0, 6.0, 3.0, 19.0, 2.0, 8.0, 215.0, 28.0, 6.0, 20.0, 12.0, 17.0, 6.0], [5.0, 1.0, 3.0, 1.0, 13.0, 6.0, 2.0, 9.0, 8.0, 10.0, 5.0, 24.0, 12.0, 30.0, 16.0, 60.0, 69.0, 44.0, 100.0, 108.0, 47.0, 196.0, 22.0, 18.0, 23.0, 1.0, 3.0, 160.0, 3.0, 120.0, 6.0, 227.0, 48.0, 193.0, 24.0, 185.0, 58.0, 113.0, 165.0, 220.0, 12.0, 86.0, 50.0, 141.0, 18.0, 15.0, 10.0, 40.0, 24.0, 53.0, 12.0, 221.0, 25.0, 228.0, 3.0, 77.0, 72.0, 22.0, 12.0, 185.0, 125.0, 124.0, 8.0, 15.0], [1.0, 1.0, 0.0, 70.0, 1.0, 2.0, 0.0, 1.0, 1.0, 0.0, 2.0, 8.0, 4.0, 1.0, 1.0, 17.0, 0.0, 4.0, 16.0, 40.0, 14.0, 2.0, 2.0, 30.0, 1.0, 1.0, 3.0, 8.0, 10.0, 0.0, 2.0, 16.0, 3.0, 135.0, 43.0, 164.0, 44.0, 21.0, 4.0, 10.0, 20.0, 15.0, 12.0, 93.0, 59.0, 3.0, 11.0, 1.0, 6.0, 2.0, 100.0, 62.0, 65.0, 2.0, 9.0, 4.0, 2.0, 54.0, 144.0, 168.0, 73.0, 34.0, 13.0, 5.0], [0.0, 2.0, 8.0, 6.0, 1.0, 0.0, 1.0, 1.0, 1.0, 9.0, 2.0, 1.0, 0.0, 0.0, 0.0, 4.0, 0.0, 103.0, 8.0, 19.0, 5.0, 0.0, 14.0, 13.0, 4.0, 4.0, 8.0, 2.0, 1.0, 4.0, 5.0, 67.0, 1.0, 175.0, 24.0, 3.0, 47.0, 196.0, 134.0, 120.0, 16.0, 35.0, 4.0, 5.0, 4.0, 1.0, 10.0, 8.0, 2.0, 150.0, 4.0, 8.0, 3.0, 0.0, 1.0, 4.0, 0.0, 170.0, 5.0, 1.0, 4.0, 11.0, 0.0, 126.0], [1.0, 5.0, 11.0, 8.0, 1.0, 58.0, 3.0, 15.0, 114.0, 0.0, 1.0, 1.0, 5.0, 1.0, 1.0, 39.0, 77.0, 7.0, 46.0, 10.0, 54.0, 0.0, 21.0, 13.0, 30.0, 64.0, 81.0, 15.0, 1.0, 7.0, 3.0, 18.0, 29.0, 1.0, 58.0, 10.0, 10.0, 87.0, 22.0, 108.0, 190.0, 4.0, 15.0, 14.0, 3.0, 10.0, 24.0, 7.0, 141.0, 3.0, 38.0, 13.0, 5.0, 0.0, 3.0, 1.0, 2.0, 201.0, 82.0, 1.0, 25.0, 2.0, 5.0, 3.0], [0.0, 7.0, 0.0, 3.0, 7.0, 17.0, 1.0, 74.0, 7.0, 210.0, 0.0, 46.0, 23.0, 7.0, 2.0, 9.0, 8.0, 34.0, 0.0, 131.0, 22.0, 7.0, 184.0, 137.0, 10.0, 132.0, 51.0, 179.0, 6.0, 100.0, 170.0, 89.0, 30.0, 201.0, 9.0, 184.0, 5.0, 34.0, 55.0, 20.0, 11.0, 109.0, 6.0, 28.0, 86.0, 7.0, 33.0, 6.0, 14.0, 27.0, 4.0, 41.0, 36.0, 1.0, 55.0, 2.0, 50.0, 5.0, 2.0, 18.0, 27.0, 16.0, 2.0, 8.0], [0.0, 0.0, 0.0, 2.0, 0.0, 62.0, 204.0, 3.0, 61.0, 22.0, 0.0, 1.0, 2.0, 37.0, 6.0, 1.0, 10.0, 6.0, 5.0, 2.0, 15.0, 55.0, 119.0, 10.0, 161.0, 68.0, 55.0, 50.0, 51.0, 93.0, 127.0, 72.0, 91.0, 223.0, 0.0, 56.0, 5.0, 4.0, 44.0, 1.0, 69.0, 59.0, 0.0, 4.0, 51.0, 53.0, 19.0, 1.0, 243.0, 3.0, 27.0, 2.0, 44.0, 215.0, 5.0, 12.0, 57.0, 2.0, 2.0, 6.0, 101.0, 99.0, 3.0, 9.0], [0.0, 0.0, 0.0, 0.0, 0.0, 29.0, 0.0, 37.0, 0.0, 0.0, 0.0, 2.0, 41.0, 20.0, 8.0, 2.0, 11.0, 0.0, 1.0, 3.0, 19.0, 39.0, 14.0, 3.0, 0.0, 10.0, 2.0, 96.0, 28.0, 2.0, 52.0, 21.0, 35.0, 1.0, 94.0, 4.0, 104.0, 9.0, 120.0, 1.0, 19.0, 55.0, 41.0, 40.0, 227.0, 4.0, 15.0, 5.0, 3.0, 48.0, 14.0, 2.0, 21.0, 24.0, 13.0, 19.0, 3.0, 4.0, 10.0, 3.0, 24.0, 7.0, 4.0, 7.0], [1.0, 0.0, 2.0, 4.0, 0.0, 1.0, 10.0, 0.0, 104.0, 0.0, 3.0, 1.0, 0.0, 205.0, 169.0, 1.0, 7.0, 10.0, 1.0, 41.0, 9.0, 67.0, 9.0, 1.0, 0.0, 5.0, 193.0, 159.0, 45.0, 41.0, 41.0, 10.0, 6.0, 25.0, 67.0, 34.0, 3.0, 76.0, 58.0, 40.0, 26.0, 100.0, 5.0, 219.0, 31.0, 27.0, 10.0, 3.0, 63.0, 26.0, 0.0, 28.0, 4.0, 94.0, 6.0, 36.0, 23.0, 72.0, 2.0, 27.0, 143.0, 6.0, 18.0, 4.0], [0.0, 0.0, 0.0, 1.0, 41.0, 0.0, 4.0, 17.0, 4.0, 3.0, 4.0, 17.0, 1.0, 2.0, 0.0, 6.0, 16.0, 3.0, 2.0, 0.0, 73.0, 4.0, 13.0, 1.0, 4.0, 64.0, 16.0, 9.0, 19.0, 5.0, 28.0, 11.0, 2.0, 46.0, 117.0, 23.0, 33.0, 12.0, 129.0, 22.0, 11.0, 2.0, 10.0, 26.0, 89.0, 107.0, 72.0, 32.0, 42.0, 1.0, 1.0, 71.0, 4.0, 23.0, 212.0, 227.0, 120.0, 2.0, 2.0, 1.0, 30.0, 45.0, 2.0, 8.0], [1.0, 21.0, 0.0, 44.0, 29.0, 22.0, 0.0, 6.0, 17.0, 1.0, 1.0, 2.0, 5.0, 1.0, 3.0, 92.0, 3.0, 12.0, 3.0, 48.0, 131.0, 1.0, 1.0, 7.0, 5.0, 2.0, 249.0, 19.0, 2.0, 1.0, 1.0, 29.0, 5.0, 7.0, 11.0, 36.0, 7.0, 4.0, 23.0, 71.0, 2.0, 3.0, 1.0, 103.0, 28.0, 44.0, 5.0, 12.0, 24.0, 23.0, 114.0, 7.0, 9.0, 17.0, 1.0, 14.0, 62.0, 2.0, 4.0, 1.0, 2.0, 5.0, 1.0, 2.0], [0.0, 18.0, 240.0, 74.0, 10.0, 1.0, 54.0, 13.0, 9.0, 11.0, 103.0, 39.0, 0.0, 0.0, 1.0, 2.0, 0.0, 49.0, 93.0, 4.0, 3.0, 1.0, 3.0, 2.0, 0.0, 235.0, 90.0, 33.0, 0.0, 3.0, 147.0, 170.0, 4.0, 68.0, 66.0, 5.0, 16.0, 47.0, 95.0, 5.0, 3.0, 1.0, 9.0, 24.0, 97.0, 9.0, 8.0, 3.0, 3.0, 18.0, 175.0, 1.0, 74.0, 20.0, 11.0, 15.0, 1.0, 33.0, 72.0, 7.0, 1.0, 2.0, 0.0, 20.0], [1.0, 18.0, 42.0, 4.0, 9.0, 20.0, 135.0, 1.0, 3.0, 174.0, 32.0, 98.0, 4.0, 0.0, 104.0, 0.0, 0.0, 165.0, 0.0, 1.0, 8.0, 73.0, 0.0, 1.0, 0.0, 241.0, 109.0, 1.0, 14.0, 36.0, 146.0, 33.0, 10.0, 40.0, 9.0, 1.0, 24.0, 55.0, 79.0, 1.0, 7.0, 21.0, 23.0, 132.0, 33.0, 84.0, 21.0, 2.0, 24.0, 151.0, 26.0, 12.0, 15.0, 8.0, 1.0, 90.0, 2.0, 190.0, 10.0, 28.0, 7.0, 1.0, 1.0, 1.0], [0.0, 35.0, 5.0, 226.0, 27.0, 15.0, 5.0, 1.0, 2.0, 27.0, 142.0, 48.0, 3.0, 1.0, 9.0, 1.0, 0.0, 0.0, 2.0, 1.0, 99.0, 0.0, 3.0, 0.0, 0.0, 2.0, 191.0, 92.0, 1.0, 161.0, 57.0, 159.0, 3.0, 22.0, 58.0, 0.0, 47.0, 23.0, 6.0, 41.0, 36.0, 59.0, 25.0, 97.0, 88.0, 2.0, 4.0, 8.0, 12.0, 4.0, 6.0, 206.0, 45.0, 29.0, 22.0, 1.0, 7.0, 18.0, 15.0, 4.0, 1.0, 3.0, 0.0, 1.0], [0.0, 1.0, 0.0, 40.0, 4.0, 18.0, 2.0, 1.0, 15.0, 2.0, 57.0, 2.0, 26.0, 106.0, 111.0, 1.0, 14.0, 3.0, 0.0, 3.0, 158.0, 142.0, 0.0, 0.0, 7.0, 0.0, 38.0, 1.0, 29.0, 7.0, 6.0, 1.0, 3.0, 0.0, 1.0, 3.0, 36.0, 8.0, 22.0, 48.0, 11.0, 8.0, 128.0, 23.0, 87.0, 81.0, 153.0, 4.0, 38.0, 48.0, 30.0, 3.0, 40.0, 155.0, 5.0, 1.0, 2.0, 0.0, 1.0, 0.0, 16.0, 13.0, 0.0, 3.0], [2.0, 0.0, 4.0, 0.0, 2.0, 12.0, 14.0, 0.0, 2.0, 35.0, 25.0, 24.0, 43.0, 0.0, 21.0, 1.0, 0.0, 0.0, 5.0, 0.0, 84.0, 30.0, 8.0, 20.0, 8.0, 3.0, 6.0, 3.0, 3.0, 64.0, 6.0, 65.0, 1.0, 1.0, 0.0, 2.0, 8.0, 14.0, 39.0, 169.0, 13.0, 2.0, 45.0, 216.0, 56.0, 3.0, 170.0, 5.0, 41.0, 27.0, 83.0, 21.0, 106.0, 125.0, 8.0, 0.0, 13.0, 34.0, 6.0, 1.0, 4.0, 4.0, 3.0, 5.0], [5.0, 3.0, 1.0, 3.0, 3.0, 4.0, 13.0, 10.0, 4.0, 12.0, 0.0, 4.0, 115.0, 8.0, 227.0, 0.0, 0.0, 53.0, 0.0, 19.0, 9.0, 1.0, 51.0, 2.0, 1.0, 7.0, 10.0, 0.0, 93.0, 11.0, 8.0, 0.0, 1.0, 1.0, 4.0, 1.0, 96.0, 17.0, 33.0, 58.0, 10.0, 194.0, 109.0, 15.0, 119.0, 10.0, 147.0, 65.0, 3.0, 209.0, 6.0, 17.0, 8.0, 157.0, 3.0, 83.0, 21.0, 17.0, 11.0, 10.0, 17.0, 13.0, 2.0, 11.0], [0.0, 0.0, 1.0, 3.0, 64.0, 24.0, 133.0, 5.0, 192.0, 5.0, 0.0, 1.0, 5.0, 0.0, 10.0, 6.0, 3.0, 3.0, 5.0, 69.0, 12.0, 2.0, 2.0, 15.0, 13.0, 10.0, 1.0, 2.0, 9.0, 8.0, 25.0, 4.0, 2.0, 3.0, 8.0, 127.0, 51.0, 8.0, 32.0, 107.0, 13.0, 3.0, 64.0, 82.0, 11.0, 107.0, 70.0, 166.0, 3.0, 8.0, 53.0, 2.0, 10.0, 4.0, 50.0, 20.0, 75.0, 80.0, 8.0, 126.0, 127.0, 14.0, 40.0, 3.0], [0.0, 27.0, 0.0, 30.0, 12.0, 183.0, 63.0, 215.0, 46.0, 38.0, 0.0, 1.0, 48.0, 0.0, 0.0, 8.0, 5.0, 3.0, 52.0, 18.0, 50.0, 3.0, 1.0, 16.0, 4.0, 11.0, 20.0, 35.0, 38.0, 7.0, 6.0, 1.0, 14.0, 17.0, 8.0, 2.0, 24.0, 6.0, 3.0, 85.0, 28.0, 35.0, 42.0, 1.0, 0.0, 26.0, 216.0, 45.0, 2.0, 192.0, 3.0, 17.0, 11.0, 117.0, 35.0, 209.0, 120.0, 122.0, 162.0, 239.0, 111.0, 216.0, 33.0, 3.0], [1.0, 0.0, 20.0, 1.0, 0.0, 103.0, 7.0, 16.0, 66.0, 24.0, 131.0, 3.0, 58.0, 3.0, 12.0, 3.0, 5.0, 22.0, 210.0, 22.0, 0.0, 0.0, 1.0, 0.0, 0.0, 5.0, 31.0, 5.0, 1.0, 2.0, 20.0, 1.0, 0.0, 192.0, 14.0, 18.0, 45.0, 67.0, 118.0, 121.0, 3.0, 248.0, 106.0, 5.0, 147.0, 22.0, 63.0, 35.0, 8.0, 6.0, 173.0, 0.0, 6.0, 8.0, 25.0, 1.0, 0.0, 101.0, 15.0, 27.0, 3.0, 10.0, 1.0, 16.0], [0.0, 4.0, 24.0, 1.0, 0.0, 30.0, 9.0, 2.0, 46.0, 136.0, 113.0, 116.0, 97.0, 4.0, 16.0, 0.0, 6.0, 93.0, 39.0, 21.0, 2.0, 0.0, 73.0, 0.0, 1.0, 33.0, 48.0, 0.0, 19.0, 29.0, 7.0, 13.0, 0.0, 128.0, 26.0, 3.0, 70.0, 22.0, 12.0, 82.0, 2.0, 244.0, 117.0, 4.0, 74.0, 26.0, 76.0, 4.0, 129.0, 7.0, 81.0, 6.0, 35.0, 13.0, 1.0, 7.0, 100.0, 110.0, 20.0, 12.0, 196.0, 47.0, 3.0, 2.0], [0.0, 25.0, 4.0, 2.0, 55.0, 14.0, 1.0, 10.0, 21.0, 180.0, 23.0, 50.0, 31.0, 11.0, 43.0, 10.0, 9.0, 3.0, 122.0, 18.0, 0.0, 0.0, 3.0, 0.0, 1.0, 3.0, 31.0, 32.0, 49.0, 22.0, 38.0, 21.0, 3.0, 84.0, 124.0, 255.0, 107.0, 232.0, 104.0, 220.0, 3.0, 182.0, 117.0, 25.0, 17.0, 99.0, 2.0, 4.0, 66.0, 190.0, 73.0, 128.0, 140.0, 8.0, 38.0, 12.0, 48.0, 1.0, 15.0, 121.0, 27.0, 5.0, 3.0, 4.0], [0.0, 1.0, 0.0, 2.0, 1.0, 34.0, 4.0, 2.0, 7.0, 4.0, 27.0, 6.0, 144.0, 4.0, 14.0, 4.0, 7.0, 0.0, 0.0, 1.0, 40.0, 10.0, 26.0, 1.0, 7.0, 7.0, 0.0, 6.0, 1.0, 9.0, 173.0, 6.0, 8.0, 7.0, 7.0, 153.0, 48.0, 70.0, 1.0, 8.0, 0.0, 1.0, 2.0, 4.0, 88.0, 6.0, 50.0, 7.0, 104.0, 168.0, 80.0, 38.0, 22.0, 55.0, 11.0, 26.0, 4.0, 215.0, 37.0, 140.0, 73.0, 203.0, 6.0, 2.0], [1.0, 0.0, 1.0, 0.0, 1.0, 213.0, 38.0, 5.0, 1.0, 0.0, 1.0, 39.0, 82.0, 48.0, 110.0, 6.0, 4.0, 8.0, 2.0, 15.0, 25.0, 5.0, 19.0, 0.0, 0.0, 0.0, 0.0, 34.0, 32.0, 10.0, 15.0, 10.0, 15.0, 3.0, 2.0, 94.0, 0.0, 1.0, 1.0, 41.0, 0.0, 1.0, 0.0, 63.0, 3.0, 1.0, 3.0, 11.0, 40.0, 63.0, 55.0, 129.0, 115.0, 3.0, 4.0, 0.0, 15.0, 2.0, 102.0, 18.0, 178.0, 6.0, 134.0, 44.0], [5.0, 0.0, 1.0, 18.0, 1.0, 0.0, 2.0, 4.0, 95.0, 5.0, 179.0, 2.0, 11.0, 9.0, 49.0, 79.0, 9.0, 11.0, 2.0, 5.0, 146.0, 0.0, 2.0, 0.0, 0.0, 48.0, 2.0, 0.0, 9.0, 1.0, 21.0, 5.0, 1.0, 66.0, 51.0, 5.0, 39.0, 47.0, 32.0, 9.0, 0.0, 52.0, 13.0, 56.0, 105.0, 11.0, 31.0, 4.0, 13.0, 61.0, 5.0, 21.0, 149.0, 7.0, 33.0, 95.0, 1.0, 228.0, 151.0, 58.0, 32.0, 22.0, 183.0, 17.0], [0.0, 0.0, 0.0, 2.0, 54.0, 1.0, 4.0, 29.0, 7.0, 75.0, 4.0, 119.0, 108.0, 31.0, 22.0, 29.0, 4.0, 21.0, 1.0, 13.0, 4.0, 0.0, 10.0, 0.0, 5.0, 0.0, 6.0, 1.0, 1.0, 3.0, 11.0, 15.0, 10.0, 1.0, 1.0, 0.0, 1.0, 0.0, 7.0, 0.0, 0.0, 5.0, 1.0, 7.0, 23.0, 9.0, 5.0, 0.0, 2.0, 20.0, 7.0, 150.0, 13.0, 7.0, 11.0, 1.0, 15.0, 12.0, 4.0, 155.0, 245.0, 110.0, 40.0, 4.0], [0.0, 4.0, 2.0, 6.0, 2.0, 10.0, 37.0, 7.0, 187.0, 8.0, 199.0, 1.0, 36.0, 7.0, 249.0, 20.0, 3.0, 5.0, 7.0, 124.0, 60.0, 1.0, 0.0, 1.0, 14.0, 1.0, 2.0, 3.0, 2.0, 6.0, 0.0, 235.0, 8.0, 0.0, 0.0, 0.0, 0.0, 0.0, 10.0, 8.0, 0.0, 1.0, 34.0, 45.0, 4.0, 7.0, 1.0, 12.0, 13.0, 0.0, 0.0, 2.0, 2.0, 10.0, 0.0, 3.0, 3.0, 0.0, 6.0, 10.0, 2.0, 4.0, 177.0, 4.0], [0.0, 23.0, 100.0, 14.0, 6.0, 6.0, 2.0, 28.0, 4.0, 37.0, 16.0, 55.0, 0.0, 13.0, 0.0, 1.0, 0.0, 23.0, 20.0, 1.0, 15.0, 0.0, 2.0, 1.0, 0.0, 161.0, 124.0, 107.0, 3.0, 0.0, 5.0, 7.0, 0.0, 0.0, 21.0, 3.0, 0.0, 27.0, 4.0, 0.0, 0.0, 43.0, 0.0, 4.0, 1.0, 0.0, 0.0, 0.0, 1.0, 0.0, 11.0, 3.0, 0.0, 1.0, 134.0, 15.0, 0.0, 250.0, 4.0, 132.0, 104.0, 10.0, 30.0, 29.0], [0.0, 14.0, 23.0, 0.0, 1.0, 2.0, 8.0, 0.0, 58.0, 62.0, 5.0, 0.0, 6.0, 11.0, 11.0, 0.0, 0.0, 5.0, 11.0, 5.0, 5.0, 2.0, 3.0, 0.0, 0.0, 2.0, 5.0, 29.0, 0.0, 70.0, 21.0, 216.0, 3.0, 54.0, 1.0, 2.0, 0.0, 1.0, 1.0, 1.0, 1.0, 198.0, 4.0, 1.0, 1.0, 42.0, 12.0, 1.0, 2.0, 3.0, 2.0, 38.0, 0.0, 11.0, 103.0, 3.0, 18.0, 82.0, 10.0, 2.0, 3.0, 78.0, 156.0, 2.0], [0.0, 2.0, 1.0, 20.0, 9.0, 0.0, 1.0, 4.0, 18.0, 0.0, 30.0, 1.0, 11.0, 3.0, 4.0, 3.0, 26.0, 1.0, 2.0, 45.0, 18.0, 0.0, 21.0, 3.0, 0.0, 3.0, 2.0, 204.0, 1.0, 232.0, 12.0, 41.0, 2.0, 35.0, 6.0, 5.0, 3.0, 2.0, 5.0, 65.0, 30.0, 1.0, 74.0, 0.0, 6.0, 2.0, 8.0, 1.0, 7.0, 13.0, 184.0, 160.0, 29.0, 3.0, 242.0, 82.0, 1.0, 6.0, 166.0, 3.0, 12.0, 8.0, 23.0, 1.0], [1.0, 0.0, 0.0, 41.0, 35.0, 5.0, 1.0, 1.0, 49.0, 5.0, 3.0, 0.0, 11.0, 134.0, 23.0, 2.0, 13.0, 13.0, 235.0, 2.0, 2.0, 5.0, 76.0, 0.0, 2.0, 32.0, 0.0, 1.0, 18.0, 162.0, 188.0, 61.0, 85.0, 1.0, 8.0, 2.0, 25.0, 6.0, 11.0, 12.0, 101.0, 1.0, 0.0, 0.0, 5.0, 2.0, 4.0, 5.0, 15.0, 124.0, 106.0, 12.0, 2.0, 27.0, 2.0, 9.0, 0.0, 75.0, 0.0, 1.0, 22.0, 2.0, 1.0, 2.0], [2.0, 1.0, 11.0, 0.0, 12.0, 88.0, 195.0, 1.0, 6.0, 49.0, 65.0, 18.0, 67.0, 12.0, 93.0, 23.0, 17.0, 1.0, 69.0, 3.0, 2.0, 204.0, 14.0, 0.0, 3.0, 0.0, 0.0, 45.0, 5.0, 9.0, 3.0, 25.0, 0.0, 0.0, 1.0, 65.0, 102.0, 0.0, 7.0, 4.0, 0.0, 0.0, 0.0, 0.0, 61.0, 53.0, 26.0, 76.0, 11.0, 16.0, 22.0, 15.0, 40.0, 3.0, 2.0, 3.0, 0.0, 4.0, 8.0, 24.0, 80.0, 218.0, 2.0, 6.0], [1.0, 15.0, 2.0, 5.0, 2.0, 71.0, 4.0, 2.0, 2.0, 87.0, 3.0, 87.0, 5.0, 5.0, 23.0, 6.0, 34.0, 135.0, 4.0, 0.0, 0.0, 96.0, 56.0, 1.0, 0.0, 0.0, 47.0, 0.0, 18.0, 2.0, 234.0, 1.0, 0.0, 3.0, 93.0, 9.0, 20.0, 9.0, 118.0, 1.0, 0.0, 10.0, 1.0, 1.0, 5.0, 0.0, 7.0, 1.0, 2.0, 242.0, 14.0, 12.0, 7.0, 2.0, 123.0, 2.0, 0.0, 42.0, 16.0, 96.0, 5.0, 1.0, 46.0, 5.0], [0.0, 13.0, 0.0, 6.0, 36.0, 36.0, 56.0, 134.0, 51.0, 33.0, 21.0, 168.0, 49.0, 152.0, 27.0, 228.0, 7.0, 0.0, 113.0, 0.0, 1.0, 0.0, 8.0, 2.0, 115.0, 0.0, 19.0, 0.0, 0.0, 2.0, 3.0, 7.0, 3.0, 0.0, 12.0, 2.0, 115.0, 0.0, 79.0, 0.0, 0.0, 0.0, 0.0, 174.0, 7.0, 13.0, 12.0, 2.0, 4.0, 0.0, 27.0, 1.0, 4.0, 2.0, 8.0, 2.0, 6.0, 0.0, 0.0, 10.0, 3.0, 31.0, 0.0, 1.0], [0.0, 74.0, 2.0, 21.0, 66.0, 20.0, 156.0, 5.0, 45.0, 17.0, 200.0, 69.0, 149.0, 40.0, 13.0, 190.0, 21.0, 18.0, 9.0, 2.0, 30.0, 0.0, 0.0, 1.0, 3.0, 0.0, 6.0, 0.0, 3.0, 0.0, 0.0, 114.0, 3.0, 1.0, 4.0, 118.0, 2.0, 0.0, 0.0, 3.0, 1.0, 0.0, 1.0, 1.0, 1.0, 161.0, 0.0, 5.0, 2.0, 1.0, 4.0, 1.0, 0.0, 8.0, 2.0, 12.0, 0.0, 0.0, 10.0, 0.0, 4.0, 12.0, 1.0, 6.0], [1.0, 3.0, 215.0, 1.0, 16.0, 74.0, 47.0, 0.0, 1.0, 206.0, 12.0, 103.0, 223.0, 6.0, 16.0, 84.0, 2.0, 11.0, 248.0, 12.0, 4.0, 0.0, 201.0, 54.0, 6.0, 197.0, 251.0, 23.0, 0.0, 0.0, 2.0, 76.0, 0.0, 7.0, 171.0, 10.0, 2.0, 0.0, 2.0, 0.0, 1.0, 22.0, 55.0, 111.0, 0.0, 1.0, 3.0, 8.0, 0.0, 175.0, 243.0, 13.0, 0.0, 0.0, 1.0, 3.0, 0.0, 36.0, 4.0, 2.0, 0.0, 1.0, 0.0, 1.0], [1.0, 77.0, 135.0, 0.0, 15.0, 37.0, 1.0, 0.0, 10.0, 1.0, 118.0, 69.0, 117.0, 28.0, 14.0, 6.0, 24.0, 212.0, 49.0, 19.0, 1.0, 19.0, 3.0, 5.0, 0.0, 246.0, 20.0, 10.0, 2.0, 1.0, 3.0, 7.0, 0.0, 181.0, 1.0, 0.0, 2.0, 30.0, 4.0, 1.0, 2.0, 113.0, 16.0, 37.0, 0.0, 24.0, 4.0, 34.0, 0.0, 197.0, 1.0, 14.0, 0.0, 1.0, 1.0, 0.0, 1.0, 112.0, 8.0, 0.0, 0.0, 0.0, 1.0, 0.0], [0.0, 31.0, 123.0, 72.0, 71.0, 13.0, 10.0, 2.0, 33.0, 2.0, 52.0, 214.0, 36.0, 45.0, 61.0, 1.0, 1.0, 2.0, 165.0, 21.0, 57.0, 30.0, 213.0, 5.0, 0.0, 5.0, 82.0, 155.0, 31.0, 0.0, 17.0, 0.0, 0.0, 1.0, 15.0, 10.0, 4.0, 1.0, 2.0, 1.0, 1.0, 177.0, 4.0, 47.0, 0.0, 62.0, 9.0, 20.0, 1.0, 66.0, 214.0, 46.0, 29.0, 0.0, 10.0, 6.0, 0.0, 1.0, 31.0, 0.0, 0.0, 0.0, 0.0, 0.0], [0.0, 6.0, 12.0, 4.0, 52.0, 1.0, 26.0, 29.0, 60.0, 35.0, 26.0, 25.0, 143.0, 217.0, 3.0, 1.0, 14.0, 0.0, 3.0, 4.0, 2.0, 4.0, 0.0, 1.0, 144.0, 0.0, 0.0, 0.0, 0.0, 4.0, 12.0, 0.0, 2.0, 0.0, 0.0, 0.0, 64.0, 1.0, 11.0, 0.0, 11.0, 8.0, 53.0, 35.0, 4.0, 251.0, 7.0, 204.0, 17.0, 60.0, 0.0, 3.0, 1.0, 22.0, 1.0, 2.0, 1.0, 0.0, 0.0, 0.0, 3.0, 0.0, 0.0, 0.0], [4.0, 205.0, 243.0, 63.0, 6.0, 3.0, 179.0, 78.0, 177.0, 4.0, 35.0, 110.0, 14.0, 7.0, 28.0, 1.0, 18.0, 11.0, 220.0, 8.0, 4.0, 38.0, 14.0, 0.0, 0.0, 0.0, 0.0, 5.0, 0.0, 4.0, 2.0, 2.0, 0.0, 0.0, 0.0, 3.0, 1.0, 24.0, 34.0, 4.0, 2.0, 0.0, 0.0, 2.0, 0.0, 2.0, 23.0, 2.0, 2.0, 1.0, 13.0, 4.0, 10.0, 0.0, 8.0, 0.0, 0.0, 5.0, 0.0, 10.0, 7.0, 2.0, 0.0, 1.0], [2.0, 237.0, 181.0, 14.0, 3.0, 83.0, 37.0, 131.0, 41.0, 163.0, 24.0, 140.0, 16.0, 72.0, 10.0, 11.0, 1.0, 114.0, 7.0, 1.0, 0.0, 3.0, 13.0, 4.0, 0.0, 1.0, 0.0, 0.0, 0.0, 15.0, 34.0, 5.0, 0.0, 1.0, 1.0, 0.0, 0.0, 101.0, 9.0, 5.0, 9.0, 0.0, 15.0, 2.0, 14.0, 7.0, 2.0, 7.0, 0.0, 30.0, 3.0, 0.0, 3.0, 87.0, 21.0, 3.0, 0.0, 4.0, 0.0, 0.0, 2.0, 0.0, 1.0, 1.0], [0.0, 225.0, 5.0, 204.0, 13.0, 221.0, 31.0, 60.0, 16.0, 126.0, 53.0, 11.0, 5.0, 1.0, 155.0, 23.0, 11.0, 116.0, 134.0, 1.0, 4.0, 19.0, 184.0, 0.0, 66.0, 0.0, 0.0, 1.0, 0.0, 4.0, 2.0, 2.0, 2.0, 4.0, 1.0, 3.0, 20.0, 24.0, 41.0, 151.0, 51.0, 0.0, 1.0, 175.0, 10.0, 1.0, 228.0, 2.0, 6.0, 6.0, 3.0, 3.0, 205.0, 0.0, 64.0, 1.0, 2.0, 0.0, 2.0, 127.0, 1.0, 9.0, 0.0, 1.0], [0.0, 61.0, 77.0, 91.0, 17.0, 81.0, 192.0, 62.0, 1.0, 140.0, 97.0, 100.0, 6.0, 25.0, 27.0, 44.0, 68.0, 40.0, 12.0, 41.0, 121.0, 10.0, 8.0, 9.0, 39.0, 0.0, 0.0, 0.0, 0.0, 9.0, 1.0, 7.0, 0.0, 24.0, 140.0, 31.0, 120.0, 2.0, 0.0, 28.0, 19.0, 0.0, 3.0, 251.0, 45.0, 176.0, 2.0, 11.0, 23.0, 127.0, 1.0, 148.0, 7.0, 7.0, 0.0, 5.0, 103.0, 1.0, 18.0, 4.0, 3.0, 12.0, 0.0, 2.0], [2.0, 151.0, 66.0, 34.0, 3.0, 244.0, 192.0, 10.0, 20.0, 8.0, 4.0, 12.0, 4.0, 5.0, 65.0, 15.0, 126.0, 44.0, 54.0, 1.0, 3.0, 137.0, 104.0, 4.0, 14.0, 44.0, 24.0, 2.0, 0.0, 1.0, 6.0, 0.0, 0.0, 250.0, 11.0, 10.0, 1.0, 2.0, 1.0, 160.0, 4.0, 5.0, 49.0, 41.0, 2.0, 1.0, 14.0, 2.0, 1.0, 101.0, 59.0, 4.0, 2.0, 45.0, 44.0, 28.0, 0.0, 197.0, 41.0, 2.0, 0.0, 0.0, 0.0, 6.0], [0.0, 191.0, 230.0, 0.0, 6.0, 199.0, 2.0, 0.0, 17.0, 1.0, 32.0, 85.0, 4.0, 228.0, 164.0, 22.0, 188.0, 4.0, 19.0, 2.0, 1.0, 187.0, 0.0, 13.0, 5.0, 15.0, 0.0, 3.0, 4.0, 2.0, 0.0, 1.0, 0.0, 126.0, 1.0, 0.0, 79.0, 8.0, 9.0, 1.0, 15.0, 40.0, 84.0, 36.0, 6.0, 1.0, 29.0, 10.0, 6.0, 87.0, 10.0, 0.0, 1.0, 16.0, 35.0, 1.0, 6.0, 218.0, 3.0, 2.0, 2.0, 1.0, 0.0, 0.0], [0.0, 124.0, 167.0, 3.0, 10.0, 231.0, 1.0, 36.0, 60.0, 22.0, 21.0, 1.0, 5.0, 110.0, 14.0, 20.0, 6.0, 3.0, 46.0, 1.0, 2.0, 1.0, 123.0, 5.0, 8.0, 2.0, 2.0, 43.0, 20.0, 0.0, 197.0, 2.0, 7.0, 0.0, 6.0, 5.0, 23.0, 70.0, 1.0, 42.0, 7.0, 10.0, 193.0, 50.0, 13.0, 0.0, 19.0, 2.0, 15.0, 0.0, 4.0, 2.0, 5.0, 7.0, 40.0, 5.0, 1.0, 0.0, 3.0, 37.0, 1.0, 0.0, 0.0, 1.0], [1.0, 107.0, 13.0, 177.0, 141.0, 117.0, 12.0, 119.0, 26.0, 4.0, 21.0, 0.0, 5.0, 14.0, 100.0, 16.0, 22.0, 12.0, 1.0, 15.0, 4.0, 84.0, 1.0, 0.0, 54.0, 0.0, 6.0, 68.0, 143.0, 253.0, 3.0, 0.0, 141.0, 0.0, 0.0, 0.0, 18.0, 5.0, 0.0, 10.0, 4.0, 6.0, 33.0, 0.0, 6.0, 6.0, 9.0, 9.0, 36.0, 0.0, 3.0, 0.0, 17.0, 16.0, 3.0, 166.0, 6.0, 89.0, 0.0, 0.0, 6.0, 21.0, 0.0, 2.0], [9.0, 94.0, 41.0, 32.0, 41.0, 1.0, 15.0, 69.0, 216.0, 10.0, 75.0, 21.0, 91.0, 91.0, 95.0, 37.0, 14.0, 1.0, 33.0, 2.0, 48.0, 136.0, 92.0, 80.0, 49.0, 4.0, 0.0, 3.0, 0.0, 34.0, 92.0, 28.0, 79.0, 2.0, 4.0, 19.0, 2.0, 8.0, 1.0, 162.0, 93.0, 25.0, 45.0, 0.0, 3.0, 81.0, 0.0, 40.0, 212.0, 15.0, 102.0, 1.0, 15.0, 29.0, 5.0, 9.0, 48.0, 19.0, 188.0, 1.0, 93.0, 40.0, 1.0, 3.0], [2.0, 41.0, 164.0, 243.0, 186.0, 22.0, 117.0, 28.0, 219.0, 24.0, 7.0, 19.0, 3.0, 5.0, 41.0, 5.0, 39.0, 3.0, 127.0, 7.0, 1.0, 231.0, 29.0, 21.0, 0.0, 0.0, 2.0, 4.0, 1.0, 200.0, 21.0, 67.0, 3.0, 47.0, 0.0, 3.0, 0.0, 3.0, 0.0, 39.0, 1.0, 46.0, 4.0, 36.0, 0.0, 3.0, 1.0, 5.0, 36.0, 248.0, 10.0, 4.0, 0.0, 42.0, 4.0, 176.0, 12.0, 206.0, 115.0, 41.0, 91.0, 0.0, 0.0, 1.0], [1.0, 99.0, 10.0, 56.0, 1.0, 5.0, 18.0, 81.0, 4.0, 3.0, 110.0, 1.0, 37.0, 162.0, 137.0, 10.0, 5.0, 159.0, 14.0, 2.0, 73.0, 100.0, 187.0, 10.0, 1.0, 3.0, 0.0, 2.0, 14.0, 4.0, 78.0, 68.0, 33.0, 80.0, 1.0, 10.0, 48.0, 86.0, 59.0, 221.0, 61.0, 8.0, 1.0, 11.0, 213.0, 3.0, 14.0, 216.0, 17.0, 50.0, 13.0, 19.0, 34.0, 4.0, 236.0, 13.0, 30.0, 9.0, 10.0, 40.0, 19.0, 2.0, 1.0, 1.0], [0.0, 23.0, 128.0, 6.0, 73.0, 46.0, 179.0, 159.0, 165.0, 68.0, 208.0, 1.0, 10.0, 15.0, 54.0, 6.0, 122.0, 6.0, 39.0, 29.0, 72.0, 6.0, 4.0, 11.0, 36.0, 1.0, 0.0, 62.0, 19.0, 171.0, 2.0, 25.0, 54.0, 2.0, 3.0, 9.0, 2.0, 156.0, 39.0, 93.0, 24.0, 127.0, 5.0, 18.0, 21.0, 231.0, 40.0, 182.0, 36.0, 234.0, 10.0, 210.0, 26.0, 131.0, 41.0, 31.0, 178.0, 1.0, 41.0, 0.0, 74.0, 16.0, 3.0, 3.0], [1.0, 44.0, 93.0, 6.0, 9.0, 11.0, 11.0, 18.0, 21.0, 6.0, 38.0, 4.0, 52.0, 50.0, 51.0, 6.0, 2.0, 16.0, 10.0, 7.0, 204.0, 97.0, 17.0, 5.0, 3.0, 1.0, 73.0, 8.0, 11.0, 8.0, 81.0, 12.0, 5.0, 21.0, 45.0, 3.0, 13.0, 126.0, 85.0, 36.0, 0.0, 3.0, 25.0, 3.0, 13.0, 14.0, 87.0, 9.0, 6.0, 12.0, 13.0, 24.0, 52.0, 11.0, 208.0, 3.0, 8.0, 12.0, 4.0, 16.0, 1.0, 0.0, 1.0, 24.0], [1.0, 30.0, 232.0, 2.0, 19.0, 31.0, 68.0, 1.0, 50.0, 2.0, 10.0, 4.0, 17.0, 119.0, 0.0, 1.0, 15.0, 6.0, 3.0, 4.0, 177.0, 28.0, 0.0, 4.0, 5.0, 152.0, 9.0, 35.0, 6.0, 125.0, 1.0, 1.0, 0.0, 7.0, 4.0, 0.0, 8.0, 13.0, 1.0, 1.0, 18.0, 18.0, 15.0, 1.0, 8.0, 206.0, 42.0, 10.0, 10.0, 4.0, 14.0, 15.0, 0.0, 178.0, 34.0, 31.0, 41.0, 5.0, 23.0, 0.0, 81.0, 19.0, 10.0, 5.0], [1.0, 61.0, 173.0, 21.0, 34.0, 1.0, 2.0, 36.0, 31.0, 0.0, 167.0, 4.0, 36.0, 16.0, 8.0, 1.0, 128.0, 0.0, 27.0, 11.0, 26.0, 0.0, 26.0, 26.0, 7.0, 7.0, 47.0, 59.0, 104.0, 7.0, 93.0, 35.0, 5.0, 0.0, 47.0, 7.0, 9.0, 1.0, 22.0, 14.0, 5.0, 8.0, 121.0, 96.0, 2.0, 20.0, 67.0, 35.0, 10.0, 4.0, 174.0, 38.0, 17.0, 14.0, 12.0, 15.0, 13.0, 6.0, 46.0, 21.0, 22.0, 1.0, 1.0, 2.0], [6.0, 69.0, 137.0, 68.0, 75.0, 138.0, 104.0, 39.0, 22.0, 39.0, 165.0, 16.0, 150.0, 214.0, 1.0, 95.0, 51.0, 42.0, 76.0, 15.0, 171.0, 129.0, 1.0, 8.0, 67.0, 23.0, 199.0, 63.0, 89.0, 101.0, 1.0, 14.0, 70.0, 33.0, 6.0, 12.0, 12.0, 40.0, 11.0, 94.0, 22.0, 228.0, 24.0, 48.0, 7.0, 81.0, 5.0, 171.0, 2.0, 231.0, 2.0, 104.0, 3.0, 46.0, 45.0, 16.0, 15.0, 15.0, 7.0, 10.0, 59.0, 22.0, 4.0, 1.0], [9.0, 89.0, 115.0, 13.0, 7.0, 80.0, 107.0, 46.0, 51.0, 43.0, 4.0, 9.0, 165.0, 205.0, 17.0, 31.0, 240.0, 17.0, 100.0, 1.0, 39.0, 153.0, 30.0, 61.0, 250.0, 15.0, 62.0, 2.0, 21.0, 93.0, 67.0, 9.0, 109.0, 164.0, 48.0, 18.0, 201.0, 114.0, 9.0, 0.0, 73.0, 3.0, 73.0, 31.0, 127.0, 112.0, 96.0, 8.0, 8.0, 2.0, 134.0, 14.0, 211.0, 63.0, 38.0, 1.0, 10.0, 1.0, 83.0, 122.0, 162.0, 2.0, 1.0, 4.0], [13.0, 128.0, 95.0, 101.0, 150.0, 22.0, 70.0, 42.0, 20.0, 4.0, 43.0, 219.0, 8.0, 21.0, 35.0, 125.0, 10.0, 8.0, 7.0, 64.0, 2.0, 166.0, 38.0, 239.0, 43.0, 31.0, 42.0, 6.0, 107.0, 199.0, 31.0, 51.0, 9.0, 108.0, 129.0, 113.0, 47.0, 5.0, 27.0, 199.0, 1.0, 172.0, 198.0, 16.0, 17.0, 96.0, 8.0, 116.0, 6.0, 7.0, 106.0, 171.0, 193.0, 134.0, 45.0, 45.0, 10.0, 127.0, 185.0, 7.0, 47.0, 3.0, 79.0, 2.0], [1.0, 52.0, 1.0, 241.0, 46.0, 122.0, 16.0, 73.0, 9.0, 14.0, 7.0, 180.0, 56.0, 76.0, 1.0, 47.0, 60.0, 195.0, 3.0, 3.0, 156.0, 150.0, 6.0, 154.0, 16.0, 12.0, 5.0, 6.0, 19.0, 52.0, 3.0, 73.0, 68.0, 224.0, 99.0, 26.0, 197.0, 30.0, 4.0, 9.0, 38.0, 132.0, 49.0, 53.0, 31.0, 44.0, 162.0, 11.0, 27.0, 20.0, 38.0, 8.0, 52.0, 20.0, 10.0, 0.0, 9.0, 9.0, 32.0, 0.0, 52.0, 3.0, 1.0, 1.0], [1.0, 90.0, 169.0, 27.0, 70.0, 153.0, 204.0, 204.0, 16.0, 146.0, 245.0, 179.0, 244.0, 12.0, 54.0, 157.0, 111.0, 212.0, 149.0, 69.0, 39.0, 5.0, 27.0, 120.0, 122.0, 5.0, 3.0, 9.0, 47.0, 57.0, 86.0, 66.0, 89.0, 241.0, 228.0, 166.0, 225.0, 48.0, 11.0, 60.0, 28.0, 35.0, 55.0, 75.0, 103.0, 12.0, 20.0, 53.0, 4.0, 27.0, 3.0, 2.0, 96.0, 0.0, 1.0, 51.0, 216.0, 0.0, 1.0, 41.0, 4.0, 1.0, 1.0, 1.0], [2.0, 53.0, 181.0, 59.0, 0.0, 28.0, 18.0, 31.0, 49.0, 33.0, 85.0, 107.0, 177.0, 3.0, 6.0, 17.0, 25.0, 3.0, 13.0, 95.0, 183.0, 18.0, 21.0, 25.0, 51.0, 1.0, 10.0, 11.0, 135.0, 6.0, 110.0, 38.0, 12.0, 69.0, 41.0, 90.0, 24.0, 1.0, 121.0, 1.0, 249.0, 1.0, 17.0, 17.0, 5.0, 118.0, 233.0, 3.0, 39.0, 1.0, 9.0, 36.0, 0.0, 0.0, 2.0, 1.0, 5.0, 127.0, 6.0, 5.0, 0.0, 1.0, 0.0, 6.0], [2.0, 164.0, 237.0, 5.0, 1.0, 8.0, 27.0, 13.0, 61.0, 22.0, 216.0, 173.0, 32.0, 7.0, 42.0, 16.0, 135.0, 3.0, 43.0, 123.0, 43.0, 75.0, 17.0, 210.0, 27.0, 114.0, 111.0, 212.0, 203.0, 19.0, 24.0, 33.0, 29.0, 8.0, 17.0, 47.0, 166.0, 51.0, 9.0, 40.0, 221.0, 4.0, 10.0, 6.0, 3.0, 177.0, 8.0, 225.0, 32.0, 50.0, 45.0, 47.0, 5.0, 3.0, 0.0, 66.0, 2.0, 46.0, 1.0, 5.0, 0.0, 6.0, 0.0, 1.0], [3.0, 68.0, 208.0, 196.0, 79.0, 126.0, 194.0, 15.0, 62.0, 15.0, 114.0, 206.0, 170.0, 112.0, 44.0, 51.0, 14.0, 98.0, 103.0, 149.0, 85.0, 219.0, 11.0, 17.0, 155.0, 198.0, 195.0, 92.0, 118.0, 15.0, 53.0, 81.0, 80.0, 15.0, 83.0, 10.0, 99.0, 24.0, 177.0, 82.0, 188.0, 8.0, 99.0, 11.0, 34.0, 62.0, 57.0, 43.0, 48.0, 22.0, 88.0, 17.0, 46.0, 3.0, 24.0, 16.0, 11.0, 1.0, 20.0, 5.0, 5.0, 16.0, 4.0, 5.0], [6.0, 1.0, 112.0, 1.0, 64.0, 1.0, 36.0, 119.0, 23.0, 5.0, 4.0, 2.0, 5.0, 1.0, 110.0, 47.0, 26.0, 76.0, 12.0, 12.0, 1.0, 63.0, 130.0, 120.0, 21.0, 47.0, 193.0, 6.0, 25.0, 2.0, 78.0, 67.0, 16.0, 2.0, 20.0, 5.0, 24.0, 10.0, 16.0, 94.0, 205.0, 5.0, 25.0, 21.0, 5.0, 15.0, 145.0, 162.0, 62.0, 5.0, 162.0, 6.0, 8.0, 10.0, 71.0, 1.0, 25.0, 0.0, 5.0, 36.0, 76.0, 9.0, 9.0, 1.0], [9.0, 16.0, 4.0, 6.0, 1.0, 1.0, 2.0, 6.0, 8.0, 0.0, 2.0, 8.0, 3.0, 7.0, 1.0, 1.0, 2.0, 1.0, 1.0, 4.0, 1.0, 6.0, 4.0, 8.0, 3.0, 17.0, 4.0, 28.0, 12.0, 6.0, 3.0, 14.0, 2.0, 3.0, 1.0, 17.0, 1.0, 1.0, 1.0, 19.0, 5.0, 5.0, 2.0, 6.0, 2.0, 6.0, 2.0, 3.0, 1.0, 6.0, 2.0, 6.0, 1.0, 1.0, 2.0, 1.0, 1.0, 0.0, 0.0, 1.0, 1.0, 2.0, 1.0, 15.0]]\n"
     ]
    }
   ],
   "source": [
    "# denormalise generated map\n",
    "\n",
    "generated_map *= 255\n",
    "\n",
    "generated_map = generated_map.numpy()\n",
    "\n",
    "generated_map = np.reshape(generated_map, (64,64))\n",
    "\n",
    "generated_map = np.round(generated_map,0)\n",
    "print(generated_map.shape)\n",
    "\n",
    "#write generated map to csv\n",
    "\n",
    "\n",
    "np.savetxt('generated_map.csv', generated_map, delimiter=',', fmt='%i')\n",
    "\n",
    "generated_map = generated_map.tolist()\n",
    "\n",
    "print(generated_map)\n",
    "\n",
    "\n",
    "plt.i"
   ]
  },
  {
   "cell_type": "code",
   "execution_count": null,
   "metadata": {},
   "outputs": [
    {
     "data": {
      "text/plain": [
       "<matplotlib.image.AxesImage at 0x7f1f642d04f0>"
      ]
     },
     "execution_count": 168,
     "metadata": {},
     "output_type": "execute_result"
    },
    {
     "data": {
      "image/png": "[encoded data removed]",
      "text/plain": [
       "<Figure size 640x480 with 1 Axes>"
      ]
     },
     "metadata": {},
     "output_type": "display_data"
    }
   ],
   "source": [
    "plt.imshow(generated_map)"
   ]
  },
  {
   "attachments": {},
   "cell_type": "markdown",
   "metadata": {},
   "source": [
    "# Graphs:"
   ]
  },
  {
   "attachments": {},
   "cell_type": "markdown",
   "metadata": {},
   "source": [
    "Losses"
   ]
  },
  {
   "cell_type": "code",
   "execution_count": null,
   "metadata": {},
   "outputs": [
    {
     "data": {
      "text/plain": [
       "Text(0.5, 0, 'Epoch')"
      ]
     },
     "execution_count": 166,
     "metadata": {},
     "output_type": "execute_result"
    },
    {
     "data": {
      "image/png": "[encoded data removed]",
      "text/plain": [
       "<Figure size 640x480 with 1 Axes>"
      ]
     },
     "metadata": {},
     "output_type": "display_data"
    }
   ],
   "source": [
    "epoch_list = [i for i in range(0,N_EPOCHS)]\n",
    "\n",
    "\n",
    "plt.plot(epoch_list, disc_losses,  'r-')\n",
    "plt.plot(epoch_list, gen_losses, 'b-')\n",
    "plt.title('Gen and Disc loss over epochs')\n",
    "plt.ylabel('Loss')\n",
    "plt.xlabel('Epoch')"
   ]
  },
  {
   "attachments": {},
   "cell_type": "markdown",
   "metadata": {},
   "source": [
    "Discriminator Accuracy"
   ]
  },
  {
   "cell_type": "code",
   "execution_count": null,
   "metadata": {},
   "outputs": [
    {
     "ename": "ValueError",
     "evalue": "setting an array element with a sequence. The requested array has an inhomogeneous shape after 1 dimensions. The detected shape was (1400,) + inhomogeneous part.",
     "output_type": "error",
     "traceback": [
      "\u001b[0;31m---------------------------------------------------------------------------\u001b[0m",
      "\u001b[0;31mValueError\u001b[0m                                Traceback (most recent call last)",
      "Cell \u001b[0;32mIn[167], line 1\u001b[0m\n\u001b[0;32m----> 1\u001b[0m plt\u001b[39m.\u001b[39;49mplot(epoch_list, disc_accuracies,  \u001b[39m'\u001b[39;49m\u001b[39mr-\u001b[39;49m\u001b[39m'\u001b[39;49m)\n\u001b[1;32m      3\u001b[0m plt\u001b[39m.\u001b[39mtitle(\u001b[39m'\u001b[39m\u001b[39mDisc accuracy over epochs\u001b[39m\u001b[39m'\u001b[39m)\n\u001b[1;32m      4\u001b[0m plt\u001b[39m.\u001b[39mylabel(\u001b[39m'\u001b[39m\u001b[39mAccuracy\u001b[39m\u001b[39m'\u001b[39m)\n",
      "File \u001b[0;32m/usr/lib/python3/dist-packages/matplotlib/pyplot.py:2757\u001b[0m, in \u001b[0;36mplot\u001b[0;34m(scalex, scaley, data, *args, **kwargs)\u001b[0m\n\u001b[1;32m   2755\u001b[0m \u001b[39m@_copy_docstring_and_deprecators\u001b[39m(Axes\u001b[39m.\u001b[39mplot)\n\u001b[1;32m   2756\u001b[0m \u001b[39mdef\u001b[39;00m \u001b[39mplot\u001b[39m(\u001b[39m*\u001b[39margs, scalex\u001b[39m=\u001b[39m\u001b[39mTrue\u001b[39;00m, scaley\u001b[39m=\u001b[39m\u001b[39mTrue\u001b[39;00m, data\u001b[39m=\u001b[39m\u001b[39mNone\u001b[39;00m, \u001b[39m*\u001b[39m\u001b[39m*\u001b[39mkwargs):\n\u001b[0;32m-> 2757\u001b[0m     \u001b[39mreturn\u001b[39;00m gca()\u001b[39m.\u001b[39;49mplot(\n\u001b[1;32m   2758\u001b[0m         \u001b[39m*\u001b[39;49margs, scalex\u001b[39m=\u001b[39;49mscalex, scaley\u001b[39m=\u001b[39;49mscaley,\n\u001b[1;32m   2759\u001b[0m         \u001b[39m*\u001b[39;49m\u001b[39m*\u001b[39;49m({\u001b[39m\"\u001b[39;49m\u001b[39mdata\u001b[39;49m\u001b[39m\"\u001b[39;49m: data} \u001b[39mif\u001b[39;49;00m data \u001b[39mis\u001b[39;49;00m \u001b[39mnot\u001b[39;49;00m \u001b[39mNone\u001b[39;49;00m \u001b[39melse\u001b[39;49;00m {}), \u001b[39m*\u001b[39;49m\u001b[39m*\u001b[39;49mkwargs)\n",
      "File \u001b[0;32m/usr/lib/python3/dist-packages/matplotlib/axes/_axes.py:1632\u001b[0m, in \u001b[0;36mAxes.plot\u001b[0;34m(self, scalex, scaley, data, *args, **kwargs)\u001b[0m\n\u001b[1;32m   1390\u001b[0m \u001b[39m\u001b[39m\u001b[39m\"\"\"\u001b[39;00m\n\u001b[1;32m   1391\u001b[0m \u001b[39mPlot y versus x as lines and/or markers.\u001b[39;00m\n\u001b[1;32m   1392\u001b[0m \n\u001b[0;32m   (...)\u001b[0m\n\u001b[1;32m   1629\u001b[0m \u001b[39m(``'green'``) or hex strings (``'#008000'``).\u001b[39;00m\n\u001b[1;32m   1630\u001b[0m \u001b[39m\"\"\"\u001b[39;00m\n\u001b[1;32m   1631\u001b[0m kwargs \u001b[39m=\u001b[39m cbook\u001b[39m.\u001b[39mnormalize_kwargs(kwargs, mlines\u001b[39m.\u001b[39mLine2D)\n\u001b[0;32m-> 1632\u001b[0m lines \u001b[39m=\u001b[39m [\u001b[39m*\u001b[39m\u001b[39mself\u001b[39m\u001b[39m.\u001b[39m_get_lines(\u001b[39m*\u001b[39margs, data\u001b[39m=\u001b[39mdata, \u001b[39m*\u001b[39m\u001b[39m*\u001b[39mkwargs)]\n\u001b[1;32m   1633\u001b[0m \u001b[39mfor\u001b[39;00m line \u001b[39min\u001b[39;00m lines:\n\u001b[1;32m   1634\u001b[0m     \u001b[39mself\u001b[39m\u001b[39m.\u001b[39madd_line(line)\n",
      "File \u001b[0;32m/usr/lib/python3/dist-packages/matplotlib/axes/_base.py:312\u001b[0m, in \u001b[0;36m_process_plot_var_args.__call__\u001b[0;34m(self, data, *args, **kwargs)\u001b[0m\n\u001b[1;32m    310\u001b[0m     this \u001b[39m+\u001b[39m\u001b[39m=\u001b[39m args[\u001b[39m0\u001b[39m],\n\u001b[1;32m    311\u001b[0m     args \u001b[39m=\u001b[39m args[\u001b[39m1\u001b[39m:]\n\u001b[0;32m--> 312\u001b[0m \u001b[39myield from\u001b[39;00m \u001b[39mself\u001b[39;49m\u001b[39m.\u001b[39;49m_plot_args(this, kwargs)\n",
      "File \u001b[0;32m/usr/lib/python3/dist-packages/matplotlib/axes/_base.py:488\u001b[0m, in \u001b[0;36m_process_plot_var_args._plot_args\u001b[0;34m(self, tup, kwargs, return_kwargs)\u001b[0m\n\u001b[1;32m    486\u001b[0m \u001b[39mif\u001b[39;00m \u001b[39mlen\u001b[39m(xy) \u001b[39m==\u001b[39m \u001b[39m2\u001b[39m:\n\u001b[1;32m    487\u001b[0m     x \u001b[39m=\u001b[39m _check_1d(xy[\u001b[39m0\u001b[39m])\n\u001b[0;32m--> 488\u001b[0m     y \u001b[39m=\u001b[39m _check_1d(xy[\u001b[39m1\u001b[39;49m])\n\u001b[1;32m    489\u001b[0m \u001b[39melse\u001b[39;00m:\n\u001b[1;32m    490\u001b[0m     x, y \u001b[39m=\u001b[39m index_of(xy[\u001b[39m-\u001b[39m\u001b[39m1\u001b[39m])\n",
      "File \u001b[0;32m/usr/lib/python3/dist-packages/matplotlib/cbook/__init__.py:1304\u001b[0m, in \u001b[0;36m_check_1d\u001b[0;34m(x)\u001b[0m\n\u001b[1;32m   1302\u001b[0m \u001b[39m\u001b[39m\u001b[39m\"\"\"Convert scalars to 1D arrays; pass-through arrays as is.\"\"\"\u001b[39;00m\n\u001b[1;32m   1303\u001b[0m \u001b[39mif\u001b[39;00m \u001b[39mnot\u001b[39;00m \u001b[39mhasattr\u001b[39m(x, \u001b[39m'\u001b[39m\u001b[39mshape\u001b[39m\u001b[39m'\u001b[39m) \u001b[39mor\u001b[39;00m \u001b[39mlen\u001b[39m(x\u001b[39m.\u001b[39mshape) \u001b[39m<\u001b[39m \u001b[39m1\u001b[39m:\n\u001b[0;32m-> 1304\u001b[0m     \u001b[39mreturn\u001b[39;00m np\u001b[39m.\u001b[39;49matleast_1d(x)\n\u001b[1;32m   1305\u001b[0m \u001b[39melse\u001b[39;00m:\n\u001b[1;32m   1306\u001b[0m     \u001b[39mtry\u001b[39;00m:\n\u001b[1;32m   1307\u001b[0m         \u001b[39m# work around\u001b[39;00m\n\u001b[1;32m   1308\u001b[0m         \u001b[39m# https://github.com/pandas-dev/pandas/issues/27775 which\u001b[39;00m\n\u001b[0;32m   (...)\u001b[0m\n\u001b[1;32m   1319\u001b[0m         \u001b[39m# This code should correctly identify and coerce to a\u001b[39;00m\n\u001b[1;32m   1320\u001b[0m         \u001b[39m# numpy array all pandas versions.\u001b[39;00m\n",
      "File \u001b[0;32m<__array_function__ internals>:200\u001b[0m, in \u001b[0;36matleast_1d\u001b[0;34m(*args, **kwargs)\u001b[0m\n",
      "File \u001b[0;32m~/.local/lib/python3.10/site-packages/numpy/core/shape_base.py:65\u001b[0m, in \u001b[0;36matleast_1d\u001b[0;34m(*arys)\u001b[0m\n\u001b[1;32m     63\u001b[0m res \u001b[39m=\u001b[39m []\n\u001b[1;32m     64\u001b[0m \u001b[39mfor\u001b[39;00m ary \u001b[39min\u001b[39;00m arys:\n\u001b[0;32m---> 65\u001b[0m     ary \u001b[39m=\u001b[39m asanyarray(ary)\n\u001b[1;32m     66\u001b[0m     \u001b[39mif\u001b[39;00m ary\u001b[39m.\u001b[39mndim \u001b[39m==\u001b[39m \u001b[39m0\u001b[39m:\n\u001b[1;32m     67\u001b[0m         result \u001b[39m=\u001b[39m ary\u001b[39m.\u001b[39mreshape(\u001b[39m1\u001b[39m)\n",
      "\u001b[0;31mValueError\u001b[0m: setting an array element with a sequence. The requested array has an inhomogeneous shape after 1 dimensions. The detected shape was (1400,) + inhomogeneous part."
     ]
    },
    {
     "data": {
      "image/png": "[encoded data removed]",
      "text/plain": [
       "<Figure size 640x480 with 1 Axes>"
      ]
     },
     "metadata": {},
     "output_type": "display_data"
    }
   ],
   "source": [
    "plt.plot(epoch_list, disc_accuracies,  'r-')\n",
    "\n",
    "plt.title('Disc accuracy over epochs')\n",
    "plt.ylabel('Accuracy')\n",
    "plt.xlabel('Epoch')"
   ]
  }
 ],
 "metadata": {
  "kernelspec": {
   "display_name": "Python 3 (ipykernel)",
   "language": "python",
   "name": "python3"
  },
  "language_info": {
   "codemirror_mode": {
    "name": "ipython",
    "version": 3
   },
   "file_extension": ".py",
   "mimetype": "text/x-python",
   "name": "python",
   "nbconvert_exporter": "python",
   "pygments_lexer": "ipython3",
   "version": "3.10.12"
  }
 },
 "nbformat": 4,
 "nbformat_minor": 2
}
