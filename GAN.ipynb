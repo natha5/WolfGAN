{
 "cells": [
  {
   "attachments": {},
   "cell_type": "markdown",
   "metadata": {},
   "source": [
    "# Imports"
   ]
  },
  {
   "cell_type": "code",
   "execution_count": 133,
   "metadata": {},
   "outputs": [],
   "source": [
    "import numpy as np\n",
    "import pandas as pd\n",
    "import random as rand\n",
    "import matplotlib.pyplot as plt\n",
    "import tensorflow as tf\n",
    "import csv\n",
    "\n",
    "from keras.utils import to_categorical\n",
    "from keras.layers import Dense, Activation, Conv2D,Conv2DTranspose, Dropout, Reshape, MaxPooling2D, Flatten, LeakyReLU, BatchNormalization\n",
    "from keras.models import Sequential, load_model\n",
    "from keras.losses import BinaryCrossentropy\n",
    "from keras.optimizers import Adam\n",
    "\n",
    "\n",
    "from sklearn.model_selection import train_test_split"
   ]
  },
  {
   "attachments": {},
   "cell_type": "markdown",
   "metadata": {},
   "source": [
    "# Parameters"
   ]
  },
  {
   "cell_type": "code",
   "execution_count": 134,
   "metadata": {},
   "outputs": [],
   "source": [
    "N_EPOCHS = 100\n",
    "BATCH_SIZE = 16\n",
    "DATASET_SIZE = 120\n",
    "TRAIN_DATA_SIZE = 96\n",
    "LATENT_DIM = 128"
   ]
  },
  {
   "attachments": {},
   "cell_type": "markdown",
   "metadata": {},
   "source": [
    "# Data importing and pre-processing"
   ]
  },
  {
   "cell_type": "code",
   "execution_count": 135,
   "metadata": {},
   "outputs": [],
   "source": [
    "df = pd.read_csv('dataset.csv', header=None)\n",
    "\n",
    "\n",
    "df = df.values.reshape(DATASET_SIZE, 64, 64, 1)\n",
    "\n",
    "x_real_train, x_real_test = train_test_split(df, test_size=0.2) #12 test values\n"
   ]
  },
  {
   "attachments": {},
   "cell_type": "markdown",
   "metadata": {},
   "source": [
    "normalize dataset data into range of sigmoid [0,1], and put into batches"
   ]
  },
  {
   "cell_type": "code",
   "execution_count": 136,
   "metadata": {},
   "outputs": [],
   "source": [
    "x_real_train = x_real_train.astype('float32')\n",
    "x_real_train /=255\n",
    "\n",
    "\n",
    "training_data = tf.data.Dataset.from_tensor_slices(x_real_train).shuffle(TRAIN_DATA_SIZE).batch(BATCH_SIZE)"
   ]
  },
  {
   "attachments": {},
   "cell_type": "markdown",
   "metadata": {},
   "source": [
    "# Generator Model"
   ]
  },
  {
   "attachments": {},
   "cell_type": "markdown",
   "metadata": {},
   "source": [
    "Create points in latent space to be fed into generator"
   ]
  },
  {
   "cell_type": "code",
   "execution_count": 137,
   "metadata": {},
   "outputs": [],
   "source": [
    "def generate_generator_input(no_of_maps):\n",
    "    input = tf.random.normal(shape=(no_of_maps, LATENT_DIM))\n",
    "    \n",
    "    return input"
   ]
  },
  {
   "cell_type": "code",
   "execution_count": 138,
   "metadata": {},
   "outputs": [],
   "source": [
    "def make_generator():\n",
    "    model = Sequential()\n",
    "    \n",
    "    model.add(Dense(LATENT_DIM*8*8, input_shape=(LATENT_DIM,)))\n",
    "\n",
    "    model.add(BatchNormalization())\n",
    "    model.add(LeakyReLU())\n",
    "    model.add(Reshape((8,8,LATENT_DIM)))\n",
    "\n",
    "\n",
    "    \n",
    "    model.add(Conv2DTranspose(128, kernel_size=4, strides=2, padding='same', use_bias=False, input_shape=(8,8,60)))\n",
    "    model.add(BatchNormalization())\n",
    "    model.add(LeakyReLU())\n",
    "\n",
    "\n",
    "    model.add(Conv2DTranspose(128, kernel_size=4, strides=2, padding='same', use_bias=False, input_shape=(16,16,60)))\n",
    "    model.add(BatchNormalization())\n",
    "    model.add(LeakyReLU())\n",
    "\n",
    "    \n",
    "\n",
    "\n",
    "    model.add(Conv2DTranspose(128, kernel_size=4, strides=2, padding='same', use_bias=False, input_shape=(32,32,60)))\n",
    "    model.add(LeakyReLU())\n",
    "\n",
    "    model.add(Conv2DTranspose(1, kernel_size=5, padding=\"same\"))\n",
    "    model.add(Activation(\"sigmoid\"))\n",
    "    \n",
    "              \n",
    "    model.summary()\n",
    "    \n",
    "    return model\n",
    "    \n",
    "    "
   ]
  },
  {
   "attachments": {},
   "cell_type": "markdown",
   "metadata": {},
   "source": [
    "# Discriminator Model"
   ]
  },
  {
   "cell_type": "code",
   "execution_count": 139,
   "metadata": {},
   "outputs": [],
   "source": [
    "\n",
    "def make_discriminator():\n",
    "    \n",
    "    # 1st set of layers\n",
    "    model = Sequential()\n",
    "    model.add(Conv2D(16, kernel_size=4, strides=2, padding=\"same\", input_shape=(64,64,1)))\n",
    "    model.add(BatchNormalization())\n",
    "    model.add(LeakyReLU())\n",
    "    #model.add(MaxPooling2D(pool_size=(2,2), strides=(2,2), padding='same'))\n",
    "    \n",
    "\n",
    "    model.add(Conv2D(16, kernel_size=4, strides=2, padding='same'))\n",
    "    model.add(BatchNormalization())\n",
    "    model.add(LeakyReLU())\n",
    "    #model.add(MaxPooling2D(pool_size=(2,2), strides=(2,2), padding='same'))\n",
    "    \n",
    "   \n",
    "    model.add(Conv2D(16, kernel_size=4, strides=2, padding='same'))\n",
    "    model.add(BatchNormalization())\n",
    "    model.add(LeakyReLU())\n",
    "    #model.add(MaxPooling2D(pool_size=(2,2), strides=(2,2), padding='same'))\n",
    "    \n",
    "\n",
    "    \n",
    "    # output layer\n",
    "    model.add(Flatten())\n",
    "    model.add(Dropout(0.2))\n",
    "    \n",
    "    model.add(Dense(1)) # Binary classification (2 outputs), so only 1 dense layer needed\n",
    "    model.add(Activation('sigmoid'))\n",
    "    \n",
    "    model.summary()\n",
    "    return model\n",
    "    "
   ]
  },
  {
   "attachments": {},
   "cell_type": "markdown",
   "metadata": {},
   "source": [
    "Create the models from the functions"
   ]
  },
  {
   "cell_type": "code",
   "execution_count": 140,
   "metadata": {},
   "outputs": [
    {
     "name": "stdout",
     "output_type": "stream",
     "text": [
      "Model: \"sequential_14\"\n",
      "_________________________________________________________________\n",
      " Layer (type)                Output Shape              Param #   \n",
      "=================================================================\n",
      " dense_14 (Dense)            (None, 8192)              1056768   \n",
      "                                                                 \n",
      " batch_normalization_42 (Ba  (None, 8192)              32768     \n",
      " tchNormalization)                                               \n",
      "                                                                 \n",
      " leaky_re_lu_49 (LeakyReLU)  (None, 8192)              0         \n",
      "                                                                 \n",
      " reshape_7 (Reshape)         (None, 8, 8, 128)         0         \n",
      "                                                                 \n",
      " conv2d_transpose_28 (Conv2  (None, 16, 16, 128)       262144    \n",
      " DTranspose)                                                     \n",
      "                                                                 \n",
      " batch_normalization_43 (Ba  (None, 16, 16, 128)       512       \n",
      " tchNormalization)                                               \n",
      "                                                                 \n",
      " leaky_re_lu_50 (LeakyReLU)  (None, 16, 16, 128)       0         \n",
      "                                                                 \n",
      " conv2d_transpose_29 (Conv2  (None, 32, 32, 128)       262144    \n",
      " DTranspose)                                                     \n",
      "                                                                 \n",
      " batch_normalization_44 (Ba  (None, 32, 32, 128)       512       \n",
      " tchNormalization)                                               \n",
      "                                                                 \n",
      " leaky_re_lu_51 (LeakyReLU)  (None, 32, 32, 128)       0         \n",
      "                                                                 \n",
      " conv2d_transpose_30 (Conv2  (None, 64, 64, 128)       262144    \n",
      " DTranspose)                                                     \n",
      "                                                                 \n",
      " leaky_re_lu_52 (LeakyReLU)  (None, 64, 64, 128)       0         \n",
      "                                                                 \n",
      " conv2d_transpose_31 (Conv2  (None, 64, 64, 1)         3201      \n",
      " DTranspose)                                                     \n",
      "                                                                 \n",
      " activation_14 (Activation)  (None, 64, 64, 1)         0         \n",
      "                                                                 \n",
      "=================================================================\n",
      "Total params: 1880193 (7.17 MB)\n",
      "Trainable params: 1863297 (7.11 MB)\n",
      "Non-trainable params: 16896 (66.00 KB)\n",
      "_________________________________________________________________\n",
      "Model: \"sequential_15\"\n",
      "_________________________________________________________________\n",
      " Layer (type)                Output Shape              Param #   \n",
      "=================================================================\n",
      " conv2d_21 (Conv2D)          (None, 32, 32, 16)        272       \n",
      "                                                                 \n",
      " batch_normalization_45 (Ba  (None, 32, 32, 16)        64        \n",
      " tchNormalization)                                               \n",
      "                                                                 \n",
      " leaky_re_lu_53 (LeakyReLU)  (None, 32, 32, 16)        0         \n",
      "                                                                 \n",
      " conv2d_22 (Conv2D)          (None, 16, 16, 16)        4112      \n",
      "                                                                 \n",
      " batch_normalization_46 (Ba  (None, 16, 16, 16)        64        \n",
      " tchNormalization)                                               \n",
      "                                                                 \n",
      " leaky_re_lu_54 (LeakyReLU)  (None, 16, 16, 16)        0         \n",
      "                                                                 \n",
      " conv2d_23 (Conv2D)          (None, 8, 8, 16)          4112      \n",
      "                                                                 \n",
      " batch_normalization_47 (Ba  (None, 8, 8, 16)          64        \n",
      " tchNormalization)                                               \n",
      "                                                                 \n",
      " leaky_re_lu_55 (LeakyReLU)  (None, 8, 8, 16)          0         \n",
      "                                                                 \n",
      " flatten_7 (Flatten)         (None, 1024)              0         \n",
      "                                                                 \n",
      " dropout_7 (Dropout)         (None, 1024)              0         \n",
      "                                                                 \n",
      " dense_15 (Dense)            (None, 1)                 1025      \n",
      "                                                                 \n",
      " activation_15 (Activation)  (None, 1)                 0         \n",
      "                                                                 \n",
      "=================================================================\n",
      "Total params: 9713 (37.94 KB)\n",
      "Trainable params: 9617 (37.57 KB)\n",
      "Non-trainable params: 96 (384.00 Byte)\n",
      "_________________________________________________________________\n"
     ]
    }
   ],
   "source": [
    "gen_model = make_generator()\n",
    "\n",
    "disc_model = make_discriminator()\n"
   ]
  },
  {
   "attachments": {},
   "cell_type": "markdown",
   "metadata": {},
   "source": [
    "Next, test the untrained discriminator on the map of noise generated before\n",
    "\n",
    "Negative values means fake, positive means real"
   ]
  },
  {
   "attachments": {},
   "cell_type": "markdown",
   "metadata": {},
   "source": [
    "## Loss and Optimizers"
   ]
  },
  {
   "cell_type": "code",
   "execution_count": 141,
   "metadata": {},
   "outputs": [],
   "source": [
    "cross_entropy = BinaryCrossentropy(from_logits=True)\n",
    "\n"
   ]
  },
  {
   "attachments": {},
   "cell_type": "markdown",
   "metadata": {},
   "source": [
    "Discriminator loss, taken from: https://www.tensorflow.org/tutorials/generative/dcgan"
   ]
  },
  {
   "cell_type": "code",
   "execution_count": 142,
   "metadata": {},
   "outputs": [],
   "source": [
    "def discrim_loss(real_output, fake_output):\n",
    "    real_loss = cross_entropy(tf.ones_like(real_output), real_output)\n",
    "    fake_loss = cross_entropy(tf.zeros_like(fake_output), fake_output)\n",
    "    total_loss = real_loss + fake_loss\n",
    "    return total_loss"
   ]
  },
  {
   "attachments": {},
   "cell_type": "markdown",
   "metadata": {},
   "source": [
    "Generator loss"
   ]
  },
  {
   "cell_type": "code",
   "execution_count": 143,
   "metadata": {},
   "outputs": [],
   "source": [
    "def generator_loss(fake_output):\n",
    "    return cross_entropy(tf.ones_like(fake_output), fake_output)"
   ]
  },
  {
   "attachments": {},
   "cell_type": "markdown",
   "metadata": {},
   "source": [
    "Optimizers:"
   ]
  },
  {
   "cell_type": "code",
   "execution_count": 144,
   "metadata": {},
   "outputs": [],
   "source": [
    "gen_optimizer = Adam(learning_rate =0.0002, beta_1=0.5)\n",
    "disc_optimizer = Adam(learning_rate =0.0002, beta_1=0.5)"
   ]
  },
  {
   "attachments": {},
   "cell_type": "markdown",
   "metadata": {},
   "source": [
    "Discriminator accuracy"
   ]
  },
  {
   "cell_type": "code",
   "execution_count": 145,
   "metadata": {},
   "outputs": [],
   "source": [
    "def compute_discrim_accuracy(real_output, fake_output):\n",
    "    if real_output[0] >=0:\n",
    "        \n",
    "        if fake_output[0] <0:\n",
    "            accuracy = (real_output[0] + fake_output[0]) / (real_output[0] + fake_output[0])\n",
    "        else:\n",
    "            accuracy = real_output[0]/ (real_output[0] + fake_output[0])\n",
    "    elif fake_output[0] <0:\n",
    "        accuracy = fake_output[0] / (real_output[0] + fake_output[0])\n",
    "    else:\n",
    "        accuracy = 0/ (real_output[0] + fake_output[0])\n",
    "    \n",
    "    return accuracy"
   ]
  },
  {
   "attachments": {},
   "cell_type": "markdown",
   "metadata": {},
   "source": [
    "## Training"
   ]
  },
  {
   "attachments": {},
   "cell_type": "markdown",
   "metadata": {},
   "source": [
    "Training step"
   ]
  },
  {
   "cell_type": "code",
   "execution_count": 146,
   "metadata": {},
   "outputs": [],
   "source": [
    "@tf.function\n",
    "def training_step(current_batch):\n",
    "    \n",
    "    noise_sample = generate_generator_input(BATCH_SIZE)\n",
    "    \n",
    "\n",
    "    with tf.GradientTape() as gen_tape, tf.GradientTape() as disc_tape:\n",
    "\n",
    "        generated_map = gen_model(noise_sample, training=True)\n",
    "        print(\"generated map shape\" + str(generated_map.shape))\n",
    "        \n",
    "        fake_output = disc_model(generated_map,  training=True)\n",
    "        real_output = disc_model(current_batch, training=True)\n",
    "        \n",
    "\n",
    "        gen_loss = generator_loss(fake_output=fake_output)\n",
    "        disc_loss = discrim_loss(real_output=real_output, fake_output=fake_output)\n",
    "\n",
    "        disc_accuracy = compute_discrim_accuracy(real_output, fake_output)\n",
    "\n",
    "        \n",
    "\n",
    "    gen_gradients = gen_tape.gradient(gen_loss, gen_model.trainable_variables)\n",
    "    disc_gradients = disc_tape.gradient(disc_loss, disc_model.trainable_variables)\n",
    "\n",
    "    gen_optimizer.apply_gradients(zip(gen_gradients, gen_model.trainable_variables))\n",
    "    disc_optimizer.apply_gradients(zip(disc_gradients, disc_model.trainable_variables))\n",
    "\n",
    "    return gen_loss, disc_loss, disc_accuracy"
   ]
  },
  {
   "attachments": {},
   "cell_type": "markdown",
   "metadata": {
    "vscode": {
     "languageId": "python"
    }
   },
   "source": [
    "Train models"
   ]
  },
  {
   "cell_type": "code",
   "execution_count": 147,
   "metadata": {},
   "outputs": [],
   "source": [
    "def train(dataset, N_EPOCHS):\n",
    "\n",
    "    gen_losses = []\n",
    "    disc_losses = []\n",
    "\n",
    "    disc_accuracies = []\n",
    "    \n",
    "\n",
    "    for epoch in range(N_EPOCHS):\n",
    "        gen_losses_for_epoch = []\n",
    "        disc_losses_for_epoch = []\n",
    "\n",
    "        disc_accuracies_for_epoch = []\n",
    "\n",
    "        print(\"epoch = \" + str(epoch))\n",
    "\n",
    "        for map_batch in dataset:\n",
    "            \n",
    "            \n",
    "            gen_loss, disc_loss, disc_accuracy = training_step(map_batch)\n",
    "\n",
    "            gen_losses_for_epoch.append(gen_loss)\n",
    "            disc_losses_for_epoch.append(disc_loss)\n",
    "            disc_accuracies.append(disc_accuracy)\n",
    "        \n",
    "        avg_gen_loss = sum(gen_losses_for_epoch) / TRAIN_DATA_SIZE\n",
    "        avg_disc_loss = sum(disc_losses_for_epoch) / TRAIN_DATA_SIZE\n",
    "\n",
    "        avg_disc_accuracy = sum(disc_accuracies_for_epoch) / TRAIN_DATA_SIZE\n",
    "\n",
    "        gen_losses.append(avg_gen_loss)\n",
    "        disc_losses.append(avg_disc_loss)\n",
    "\n",
    "        disc_accuracies.append(avg_disc_accuracy)\n",
    "\n",
    "        print(\"Gen loss = \" + str(avg_gen_loss))\n",
    "        print(\"Disc loss = \" + str(avg_disc_loss))\n",
    "\n",
    "        print(\"Disc accuracy = \" + str(avg_disc_accuracy))\n",
    "    \n",
    "    input_for_map_after_training = generate_generator_input(1)\n",
    "    generated_map = gen_model(input_for_map_after_training, training=False)\n",
    "\n",
    "    \n",
    "\n",
    "    return gen_losses, disc_losses, generated_map, disc_accuracies\n"
   ]
  },
  {
   "attachments": {},
   "cell_type": "markdown",
   "metadata": {},
   "source": [
    "Train GAN"
   ]
  },
  {
   "cell_type": "code",
   "execution_count": 148,
   "metadata": {},
   "outputs": [
    {
     "name": "stdout",
     "output_type": "stream",
     "text": [
      "epoch = 0\n",
      "generated map shape(16, 64, 64, 1)\n"
     ]
    },
    {
     "name": "stderr",
     "output_type": "stream",
     "text": [
      "/home/ubuntu/.local/lib/python3.10/site-packages/keras/src/backend.py:5805: UserWarning: \"`binary_crossentropy` received `from_logits=True`, but the `output` argument was produced by a Sigmoid activation and thus does not represent logits. Was this intended?\n",
      "  output, from_logits = _get_logits(\n"
     ]
    },
    {
     "name": "stdout",
     "output_type": "stream",
     "text": [
      "generated map shape(16, 64, 64, 1)\n",
      "Gen loss = tf.Tensor(0.025657909, shape=(), dtype=float32)\n",
      "Disc loss = tf.Tensor(0.15896516, shape=(), dtype=float32)\n",
      "Disc accuracy = 0.0\n",
      "epoch = 1\n"
     ]
    },
    {
     "ename": "KeyboardInterrupt",
     "evalue": "",
     "output_type": "error",
     "traceback": [
      "\u001b[0;31m---------------------------------------------------------------------------\u001b[0m",
      "\u001b[0;31mKeyboardInterrupt\u001b[0m                         Traceback (most recent call last)",
      "Cell \u001b[0;32mIn[148], line 1\u001b[0m\n\u001b[0;32m----> 1\u001b[0m gen_losses, disc_losses, generated_map, disc_accuracies \u001b[39m=\u001b[39m train(training_data, N_EPOCHS)\n",
      "Cell \u001b[0;32mIn[147], line 20\u001b[0m, in \u001b[0;36mtrain\u001b[0;34m(dataset, N_EPOCHS)\u001b[0m\n\u001b[1;32m     15\u001b[0m \u001b[39mprint\u001b[39m(\u001b[39m\"\u001b[39m\u001b[39mepoch = \u001b[39m\u001b[39m\"\u001b[39m \u001b[39m+\u001b[39m \u001b[39mstr\u001b[39m(epoch))\n\u001b[1;32m     17\u001b[0m \u001b[39mfor\u001b[39;00m map_batch \u001b[39min\u001b[39;00m dataset:\n\u001b[0;32m---> 20\u001b[0m     gen_loss, disc_loss, disc_accuracy \u001b[39m=\u001b[39m training_step(map_batch)\n\u001b[1;32m     22\u001b[0m     gen_losses_for_epoch\u001b[39m.\u001b[39mappend(gen_loss)\n\u001b[1;32m     23\u001b[0m     disc_losses_for_epoch\u001b[39m.\u001b[39mappend(disc_loss)\n",
      "File \u001b[0;32m~/.local/lib/python3.10/site-packages/tensorflow/python/util/traceback_utils.py:150\u001b[0m, in \u001b[0;36mfilter_traceback.<locals>.error_handler\u001b[0;34m(*args, **kwargs)\u001b[0m\n\u001b[1;32m    148\u001b[0m filtered_tb \u001b[39m=\u001b[39m \u001b[39mNone\u001b[39;00m\n\u001b[1;32m    149\u001b[0m \u001b[39mtry\u001b[39;00m:\n\u001b[0;32m--> 150\u001b[0m   \u001b[39mreturn\u001b[39;00m fn(\u001b[39m*\u001b[39;49margs, \u001b[39m*\u001b[39;49m\u001b[39m*\u001b[39;49mkwargs)\n\u001b[1;32m    151\u001b[0m \u001b[39mexcept\u001b[39;00m \u001b[39mException\u001b[39;00m \u001b[39mas\u001b[39;00m e:\n\u001b[1;32m    152\u001b[0m   filtered_tb \u001b[39m=\u001b[39m _process_traceback_frames(e\u001b[39m.\u001b[39m__traceback__)\n",
      "File \u001b[0;32m~/.local/lib/python3.10/site-packages/tensorflow/python/eager/polymorphic_function/polymorphic_function.py:825\u001b[0m, in \u001b[0;36mFunction.__call__\u001b[0;34m(self, *args, **kwds)\u001b[0m\n\u001b[1;32m    822\u001b[0m compiler \u001b[39m=\u001b[39m \u001b[39m\"\u001b[39m\u001b[39mxla\u001b[39m\u001b[39m\"\u001b[39m \u001b[39mif\u001b[39;00m \u001b[39mself\u001b[39m\u001b[39m.\u001b[39m_jit_compile \u001b[39melse\u001b[39;00m \u001b[39m\"\u001b[39m\u001b[39mnonXla\u001b[39m\u001b[39m\"\u001b[39m\n\u001b[1;32m    824\u001b[0m \u001b[39mwith\u001b[39;00m OptionalXlaContext(\u001b[39mself\u001b[39m\u001b[39m.\u001b[39m_jit_compile):\n\u001b[0;32m--> 825\u001b[0m   result \u001b[39m=\u001b[39m \u001b[39mself\u001b[39;49m\u001b[39m.\u001b[39;49m_call(\u001b[39m*\u001b[39;49margs, \u001b[39m*\u001b[39;49m\u001b[39m*\u001b[39;49mkwds)\n\u001b[1;32m    827\u001b[0m new_tracing_count \u001b[39m=\u001b[39m \u001b[39mself\u001b[39m\u001b[39m.\u001b[39mexperimental_get_tracing_count()\n\u001b[1;32m    828\u001b[0m without_tracing \u001b[39m=\u001b[39m (tracing_count \u001b[39m==\u001b[39m new_tracing_count)\n",
      "File \u001b[0;32m~/.local/lib/python3.10/site-packages/tensorflow/python/eager/polymorphic_function/polymorphic_function.py:857\u001b[0m, in \u001b[0;36mFunction._call\u001b[0;34m(self, *args, **kwds)\u001b[0m\n\u001b[1;32m    854\u001b[0m   \u001b[39mself\u001b[39m\u001b[39m.\u001b[39m_lock\u001b[39m.\u001b[39mrelease()\n\u001b[1;32m    855\u001b[0m   \u001b[39m# In this case we have created variables on the first call, so we run the\u001b[39;00m\n\u001b[1;32m    856\u001b[0m   \u001b[39m# defunned version which is guaranteed to never create variables.\u001b[39;00m\n\u001b[0;32m--> 857\u001b[0m   \u001b[39mreturn\u001b[39;00m \u001b[39mself\u001b[39;49m\u001b[39m.\u001b[39;49m_no_variable_creation_fn(\u001b[39m*\u001b[39;49margs, \u001b[39m*\u001b[39;49m\u001b[39m*\u001b[39;49mkwds)  \u001b[39m# pylint: disable=not-callable\u001b[39;00m\n\u001b[1;32m    858\u001b[0m \u001b[39melif\u001b[39;00m \u001b[39mself\u001b[39m\u001b[39m.\u001b[39m_variable_creation_fn \u001b[39mis\u001b[39;00m \u001b[39mnot\u001b[39;00m \u001b[39mNone\u001b[39;00m:\n\u001b[1;32m    859\u001b[0m   \u001b[39m# Release the lock early so that multiple threads can perform the call\u001b[39;00m\n\u001b[1;32m    860\u001b[0m   \u001b[39m# in parallel.\u001b[39;00m\n\u001b[1;32m    861\u001b[0m   \u001b[39mself\u001b[39m\u001b[39m.\u001b[39m_lock\u001b[39m.\u001b[39mrelease()\n",
      "File \u001b[0;32m~/.local/lib/python3.10/site-packages/tensorflow/python/eager/polymorphic_function/tracing_compiler.py:148\u001b[0m, in \u001b[0;36mTracingCompiler.__call__\u001b[0;34m(self, *args, **kwargs)\u001b[0m\n\u001b[1;32m    145\u001b[0m \u001b[39mwith\u001b[39;00m \u001b[39mself\u001b[39m\u001b[39m.\u001b[39m_lock:\n\u001b[1;32m    146\u001b[0m   (concrete_function,\n\u001b[1;32m    147\u001b[0m    filtered_flat_args) \u001b[39m=\u001b[39m \u001b[39mself\u001b[39m\u001b[39m.\u001b[39m_maybe_define_function(args, kwargs)\n\u001b[0;32m--> 148\u001b[0m \u001b[39mreturn\u001b[39;00m concrete_function\u001b[39m.\u001b[39;49m_call_flat(\n\u001b[1;32m    149\u001b[0m     filtered_flat_args, captured_inputs\u001b[39m=\u001b[39;49mconcrete_function\u001b[39m.\u001b[39;49mcaptured_inputs)\n",
      "File \u001b[0;32m~/.local/lib/python3.10/site-packages/tensorflow/python/eager/polymorphic_function/monomorphic_function.py:1349\u001b[0m, in \u001b[0;36mConcreteFunction._call_flat\u001b[0;34m(self, args, captured_inputs)\u001b[0m\n\u001b[1;32m   1345\u001b[0m possible_gradient_type \u001b[39m=\u001b[39m gradients_util\u001b[39m.\u001b[39mPossibleTapeGradientTypes(args)\n\u001b[1;32m   1346\u001b[0m \u001b[39mif\u001b[39;00m (possible_gradient_type \u001b[39m==\u001b[39m gradients_util\u001b[39m.\u001b[39mPOSSIBLE_GRADIENT_TYPES_NONE\n\u001b[1;32m   1347\u001b[0m     \u001b[39mand\u001b[39;00m executing_eagerly):\n\u001b[1;32m   1348\u001b[0m   \u001b[39m# No tape is watching; skip to running the function.\u001b[39;00m\n\u001b[0;32m-> 1349\u001b[0m   \u001b[39mreturn\u001b[39;00m \u001b[39mself\u001b[39m\u001b[39m.\u001b[39m_build_call_outputs(\u001b[39mself\u001b[39;49m\u001b[39m.\u001b[39;49m_inference_function(\u001b[39m*\u001b[39;49margs))\n\u001b[1;32m   1350\u001b[0m forward_backward \u001b[39m=\u001b[39m \u001b[39mself\u001b[39m\u001b[39m.\u001b[39m_select_forward_and_backward_functions(\n\u001b[1;32m   1351\u001b[0m     args,\n\u001b[1;32m   1352\u001b[0m     possible_gradient_type,\n\u001b[1;32m   1353\u001b[0m     executing_eagerly)\n\u001b[1;32m   1354\u001b[0m forward_function, args_with_tangents \u001b[39m=\u001b[39m forward_backward\u001b[39m.\u001b[39mforward()\n",
      "File \u001b[0;32m~/.local/lib/python3.10/site-packages/tensorflow/python/eager/polymorphic_function/atomic_function.py:196\u001b[0m, in \u001b[0;36mAtomicFunction.__call__\u001b[0;34m(self, *args)\u001b[0m\n\u001b[1;32m    194\u001b[0m \u001b[39mwith\u001b[39;00m record\u001b[39m.\u001b[39mstop_recording():\n\u001b[1;32m    195\u001b[0m   \u001b[39mif\u001b[39;00m \u001b[39mself\u001b[39m\u001b[39m.\u001b[39m_bound_context\u001b[39m.\u001b[39mexecuting_eagerly():\n\u001b[0;32m--> 196\u001b[0m     outputs \u001b[39m=\u001b[39m \u001b[39mself\u001b[39;49m\u001b[39m.\u001b[39;49m_bound_context\u001b[39m.\u001b[39;49mcall_function(\n\u001b[1;32m    197\u001b[0m         \u001b[39mself\u001b[39;49m\u001b[39m.\u001b[39;49mname,\n\u001b[1;32m    198\u001b[0m         \u001b[39mlist\u001b[39;49m(args),\n\u001b[1;32m    199\u001b[0m         \u001b[39mlen\u001b[39;49m(\u001b[39mself\u001b[39;49m\u001b[39m.\u001b[39;49mfunction_type\u001b[39m.\u001b[39;49mflat_outputs),\n\u001b[1;32m    200\u001b[0m     )\n\u001b[1;32m    201\u001b[0m   \u001b[39melse\u001b[39;00m:\n\u001b[1;32m    202\u001b[0m     outputs \u001b[39m=\u001b[39m make_call_op_in_graph(\u001b[39mself\u001b[39m, \u001b[39mlist\u001b[39m(args))\n",
      "File \u001b[0;32m~/.local/lib/python3.10/site-packages/tensorflow/python/eager/context.py:1457\u001b[0m, in \u001b[0;36mContext.call_function\u001b[0;34m(self, name, tensor_inputs, num_outputs)\u001b[0m\n\u001b[1;32m   1455\u001b[0m cancellation_context \u001b[39m=\u001b[39m cancellation\u001b[39m.\u001b[39mcontext()\n\u001b[1;32m   1456\u001b[0m \u001b[39mif\u001b[39;00m cancellation_context \u001b[39mis\u001b[39;00m \u001b[39mNone\u001b[39;00m:\n\u001b[0;32m-> 1457\u001b[0m   outputs \u001b[39m=\u001b[39m execute\u001b[39m.\u001b[39;49mexecute(\n\u001b[1;32m   1458\u001b[0m       name\u001b[39m.\u001b[39;49mdecode(\u001b[39m\"\u001b[39;49m\u001b[39mutf-8\u001b[39;49m\u001b[39m\"\u001b[39;49m),\n\u001b[1;32m   1459\u001b[0m       num_outputs\u001b[39m=\u001b[39;49mnum_outputs,\n\u001b[1;32m   1460\u001b[0m       inputs\u001b[39m=\u001b[39;49mtensor_inputs,\n\u001b[1;32m   1461\u001b[0m       attrs\u001b[39m=\u001b[39;49mattrs,\n\u001b[1;32m   1462\u001b[0m       ctx\u001b[39m=\u001b[39;49m\u001b[39mself\u001b[39;49m,\n\u001b[1;32m   1463\u001b[0m   )\n\u001b[1;32m   1464\u001b[0m \u001b[39melse\u001b[39;00m:\n\u001b[1;32m   1465\u001b[0m   outputs \u001b[39m=\u001b[39m execute\u001b[39m.\u001b[39mexecute_with_cancellation(\n\u001b[1;32m   1466\u001b[0m       name\u001b[39m.\u001b[39mdecode(\u001b[39m\"\u001b[39m\u001b[39mutf-8\u001b[39m\u001b[39m\"\u001b[39m),\n\u001b[1;32m   1467\u001b[0m       num_outputs\u001b[39m=\u001b[39mnum_outputs,\n\u001b[0;32m   (...)\u001b[0m\n\u001b[1;32m   1471\u001b[0m       cancellation_manager\u001b[39m=\u001b[39mcancellation_context,\n\u001b[1;32m   1472\u001b[0m   )\n",
      "File \u001b[0;32m~/.local/lib/python3.10/site-packages/tensorflow/python/eager/execute.py:53\u001b[0m, in \u001b[0;36mquick_execute\u001b[0;34m(op_name, num_outputs, inputs, attrs, ctx, name)\u001b[0m\n\u001b[1;32m     51\u001b[0m \u001b[39mtry\u001b[39;00m:\n\u001b[1;32m     52\u001b[0m   ctx\u001b[39m.\u001b[39mensure_initialized()\n\u001b[0;32m---> 53\u001b[0m   tensors \u001b[39m=\u001b[39m pywrap_tfe\u001b[39m.\u001b[39;49mTFE_Py_Execute(ctx\u001b[39m.\u001b[39;49m_handle, device_name, op_name,\n\u001b[1;32m     54\u001b[0m                                       inputs, attrs, num_outputs)\n\u001b[1;32m     55\u001b[0m \u001b[39mexcept\u001b[39;00m core\u001b[39m.\u001b[39m_NotOkStatusException \u001b[39mas\u001b[39;00m e:\n\u001b[1;32m     56\u001b[0m   \u001b[39mif\u001b[39;00m name \u001b[39mis\u001b[39;00m \u001b[39mnot\u001b[39;00m \u001b[39mNone\u001b[39;00m:\n",
      "\u001b[0;31mKeyboardInterrupt\u001b[0m: "
     ]
    }
   ],
   "source": [
    "\n",
    "gen_losses, disc_losses, generated_map, disc_accuracies = train(training_data, N_EPOCHS)\n"
   ]
  },
  {
   "attachments": {},
   "cell_type": "markdown",
   "metadata": {},
   "source": [
    "Denormalize, save and display generated map output"
   ]
  },
  {
   "cell_type": "code",
   "execution_count": null,
   "metadata": {},
   "outputs": [
    {
     "name": "stdout",
     "output_type": "stream",
     "text": [
      "(64, 64)\n",
      "[[16.0, 3.0, 2.0, 95.0, 4.0, 2.0, 2.0, 6.0, 1.0, 5.0, 1.0, 7.0, 1.0, 1.0, 4.0, 17.0, 1.0, 5.0, 4.0, 30.0, 2.0, 5.0, 19.0, 20.0, 2.0, 3.0, 7.0, 13.0, 1.0, 5.0, 1.0, 24.0, 1.0, 7.0, 5.0, 52.0, 0.0, 3.0, 5.0, 30.0, 2.0, 7.0, 11.0, 29.0, 7.0, 9.0, 3.0, 44.0, 3.0, 7.0, 13.0, 66.0, 7.0, 9.0, 10.0, 23.0, 1.0, 8.0, 2.0, 56.0, 11.0, 8.0, 31.0, 43.0], [89.0, 4.0, 130.0, 13.0, 9.0, 2.0, 11.0, 2.0, 73.0, 20.0, 69.0, 2.0, 172.0, 1.0, 2.0, 1.0, 28.0, 6.0, 15.0, 26.0, 116.0, 1.0, 1.0, 2.0, 114.0, 4.0, 33.0, 2.0, 128.0, 8.0, 92.0, 12.0, 28.0, 19.0, 24.0, 6.0, 129.0, 0.0, 1.0, 1.0, 15.0, 1.0, 58.0, 3.0, 220.0, 10.0, 6.0, 2.0, 77.0, 4.0, 149.0, 43.0, 238.0, 18.0, 1.0, 14.0, 13.0, 54.0, 149.0, 2.0, 118.0, 8.0, 9.0, 11.0], [4.0, 5.0, 10.0, 10.0, 6.0, 6.0, 1.0, 9.0, 2.0, 0.0, 53.0, 4.0, 20.0, 21.0, 5.0, 64.0, 80.0, 0.0, 32.0, 1.0, 1.0, 28.0, 8.0, 23.0, 22.0, 2.0, 2.0, 19.0, 40.0, 6.0, 58.0, 64.0, 0.0, 3.0, 1.0, 12.0, 0.0, 11.0, 1.0, 19.0, 42.0, 0.0, 1.0, 6.0, 6.0, 120.0, 18.0, 61.0, 8.0, 4.0, 7.0, 139.0, 27.0, 202.0, 8.0, 175.0, 3.0, 55.0, 215.0, 23.0, 46.0, 36.0, 55.0, 4.0], [150.0, 26.0, 65.0, 166.0, 81.0, 142.0, 40.0, 5.0, 13.0, 155.0, 26.0, 0.0, 74.0, 59.0, 2.0, 3.0, 21.0, 204.0, 12.0, 1.0, 119.0, 11.0, 83.0, 8.0, 2.0, 15.0, 20.0, 31.0, 80.0, 199.0, 144.0, 23.0, 118.0, 138.0, 100.0, 7.0, 89.0, 24.0, 6.0, 3.0, 9.0, 71.0, 35.0, 93.0, 203.0, 173.0, 157.0, 11.0, 199.0, 141.0, 163.0, 153.0, 106.0, 230.0, 49.0, 116.0, 214.0, 239.0, 92.0, 15.0, 90.0, 44.0, 38.0, 6.0], [13.0, 177.0, 127.0, 11.0, 32.0, 3.0, 111.0, 5.0, 10.0, 47.0, 8.0, 0.0, 9.0, 2.0, 6.0, 25.0, 4.0, 17.0, 4.0, 6.0, 3.0, 3.0, 94.0, 2.0, 4.0, 57.0, 4.0, 11.0, 15.0, 12.0, 17.0, 128.0, 120.0, 169.0, 238.0, 13.0, 11.0, 44.0, 56.0, 1.0, 2.0, 40.0, 58.0, 15.0, 8.0, 71.0, 198.0, 105.0, 13.0, 121.0, 23.0, 50.0, 53.0, 154.0, 63.0, 174.0, 164.0, 63.0, 75.0, 103.0, 72.0, 206.0, 25.0, 5.0], [138.0, 8.0, 62.0, 2.0, 35.0, 14.0, 57.0, 176.0, 35.0, 20.0, 224.0, 102.0, 44.0, 132.0, 4.0, 67.0, 19.0, 15.0, 120.0, 39.0, 35.0, 65.0, 19.0, 11.0, 4.0, 41.0, 107.0, 28.0, 20.0, 140.0, 142.0, 12.0, 223.0, 45.0, 4.0, 75.0, 81.0, 51.0, 11.0, 83.0, 1.0, 82.0, 200.0, 238.0, 219.0, 193.0, 59.0, 4.0, 29.0, 45.0, 166.0, 222.0, 63.0, 197.0, 4.0, 47.0, 24.0, 31.0, 10.0, 224.0, 250.0, 232.0, 5.0, 7.0], [4.0, 61.0, 2.0, 7.0, 20.0, 135.0, 76.0, 26.0, 121.0, 128.0, 1.0, 54.0, 131.0, 15.0, 70.0, 99.0, 19.0, 32.0, 25.0, 111.0, 70.0, 204.0, 213.0, 37.0, 28.0, 87.0, 1.0, 12.0, 17.0, 134.0, 59.0, 82.0, 19.0, 104.0, 1.0, 22.0, 171.0, 62.0, 31.0, 133.0, 22.0, 64.0, 11.0, 46.0, 43.0, 70.0, 20.0, 128.0, 26.0, 209.0, 28.0, 39.0, 10.0, 94.0, 4.0, 94.0, 20.0, 85.0, 8.0, 232.0, 64.0, 243.0, 121.0, 6.0], [40.0, 26.0, 52.0, 4.0, 5.0, 4.0, 27.0, 93.0, 1.0, 14.0, 20.0, 35.0, 1.0, 1.0, 5.0, 2.0, 47.0, 21.0, 92.0, 41.0, 60.0, 156.0, 11.0, 35.0, 4.0, 27.0, 8.0, 7.0, 15.0, 3.0, 192.0, 65.0, 38.0, 89.0, 41.0, 2.0, 23.0, 17.0, 18.0, 230.0, 227.0, 74.0, 196.0, 14.0, 19.0, 30.0, 133.0, 58.0, 89.0, 56.0, 239.0, 19.0, 55.0, 17.0, 198.0, 59.0, 127.0, 51.0, 234.0, 5.0, 28.0, 99.0, 19.0, 6.0], [6.0, 21.0, 18.0, 212.0, 21.0, 11.0, 1.0, 225.0, 129.0, 19.0, 75.0, 55.0, 39.0, 27.0, 12.0, 130.0, 19.0, 7.0, 150.0, 19.0, 104.0, 16.0, 25.0, 198.0, 15.0, 45.0, 19.0, 47.0, 1.0, 2.0, 84.0, 37.0, 32.0, 6.0, 115.0, 5.0, 13.0, 63.0, 37.0, 250.0, 43.0, 33.0, 151.0, 29.0, 97.0, 70.0, 16.0, 52.0, 10.0, 200.0, 50.0, 235.0, 40.0, 49.0, 47.0, 42.0, 48.0, 95.0, 166.0, 17.0, 81.0, 64.0, 20.0, 1.0], [241.0, 15.0, 108.0, 14.0, 1.0, 11.0, 52.0, 11.0, 23.0, 82.0, 167.0, 7.0, 29.0, 8.0, 8.0, 2.0, 8.0, 17.0, 154.0, 3.0, 18.0, 5.0, 10.0, 11.0, 12.0, 0.0, 15.0, 1.0, 38.0, 18.0, 44.0, 30.0, 3.0, 0.0, 6.0, 2.0, 48.0, 12.0, 7.0, 8.0, 3.0, 2.0, 3.0, 4.0, 23.0, 53.0, 8.0, 204.0, 177.0, 151.0, 197.0, 5.0, 191.0, 121.0, 161.0, 123.0, 14.0, 145.0, 110.0, 234.0, 254.0, 183.0, 59.0, 1.0], [56.0, 20.0, 1.0, 218.0, 81.0, 181.0, 2.0, 54.0, 130.0, 97.0, 4.0, 2.0, 5.0, 25.0, 18.0, 31.0, 77.0, 15.0, 5.0, 8.0, 19.0, 30.0, 15.0, 201.0, 127.0, 11.0, 4.0, 124.0, 7.0, 72.0, 98.0, 3.0, 9.0, 2.0, 29.0, 133.0, 64.0, 3.0, 1.0, 42.0, 74.0, 3.0, 37.0, 6.0, 84.0, 33.0, 42.0, 190.0, 28.0, 186.0, 15.0, 76.0, 144.0, 188.0, 59.0, 32.0, 9.0, 64.0, 115.0, 209.0, 4.0, 235.0, 183.0, 9.0], [100.0, 2.0, 2.0, 23.0, 6.0, 0.0, 5.0, 24.0, 1.0, 198.0, 2.0, 0.0, 8.0, 4.0, 81.0, 198.0, 1.0, 17.0, 125.0, 15.0, 8.0, 3.0, 24.0, 22.0, 2.0, 53.0, 157.0, 22.0, 226.0, 110.0, 62.0, 8.0, 18.0, 100.0, 117.0, 10.0, 5.0, 214.0, 72.0, 47.0, 57.0, 114.0, 253.0, 106.0, 157.0, 162.0, 79.0, 22.0, 220.0, 40.0, 30.0, 18.0, 105.0, 224.0, 176.0, 13.0, 23.0, 20.0, 45.0, 2.0, 108.0, 49.0, 27.0, 12.0], [7.0, 52.0, 70.0, 65.0, 25.0, 3.0, 52.0, 1.0, 16.0, 21.0, 23.0, 2.0, 5.0, 26.0, 23.0, 56.0, 4.0, 12.0, 3.0, 5.0, 13.0, 23.0, 47.0, 28.0, 117.0, 14.0, 31.0, 100.0, 117.0, 7.0, 31.0, 174.0, 155.0, 52.0, 23.0, 10.0, 27.0, 3.0, 2.0, 140.0, 24.0, 33.0, 15.0, 228.0, 180.0, 20.0, 147.0, 38.0, 237.0, 20.0, 60.0, 168.0, 141.0, 245.0, 9.0, 252.0, 19.0, 141.0, 246.0, 142.0, 35.0, 166.0, 26.0, 2.0], [19.0, 13.0, 13.0, 27.0, 2.0, 2.0, 3.0, 10.0, 149.0, 8.0, 4.0, 2.0, 41.0, 3.0, 18.0, 1.0, 1.0, 1.0, 191.0, 216.0, 85.0, 49.0, 50.0, 33.0, 11.0, 47.0, 43.0, 140.0, 203.0, 163.0, 6.0, 10.0, 10.0, 86.0, 100.0, 67.0, 71.0, 97.0, 84.0, 2.0, 10.0, 97.0, 168.0, 82.0, 67.0, 246.0, 35.0, 1.0, 10.0, 67.0, 20.0, 102.0, 145.0, 129.0, 4.0, 11.0, 47.0, 184.0, 5.0, 31.0, 77.0, 96.0, 1.0, 6.0], [5.0, 2.0, 7.0, 1.0, 49.0, 2.0, 34.0, 49.0, 10.0, 2.0, 17.0, 1.0, 65.0, 131.0, 62.0, 98.0, 7.0, 29.0, 73.0, 12.0, 2.0, 213.0, 122.0, 62.0, 14.0, 195.0, 27.0, 154.0, 16.0, 115.0, 23.0, 98.0, 33.0, 67.0, 97.0, 60.0, 57.0, 127.0, 129.0, 12.0, 71.0, 78.0, 16.0, 8.0, 49.0, 36.0, 164.0, 6.0, 26.0, 48.0, 24.0, 217.0, 58.0, 82.0, 11.0, 5.0, 15.0, 55.0, 76.0, 35.0, 40.0, 179.0, 120.0, 8.0], [101.0, 7.0, 3.0, 1.0, 7.0, 55.0, 23.0, 11.0, 117.0, 17.0, 10.0, 6.0, 0.0, 0.0, 8.0, 15.0, 1.0, 20.0, 48.0, 197.0, 147.0, 15.0, 5.0, 94.0, 113.0, 64.0, 64.0, 139.0, 42.0, 122.0, 79.0, 5.0, 143.0, 17.0, 40.0, 32.0, 21.0, 65.0, 137.0, 117.0, 183.0, 91.0, 103.0, 28.0, 17.0, 27.0, 185.0, 243.0, 66.0, 7.0, 98.0, 3.0, 32.0, 8.0, 221.0, 24.0, 19.0, 31.0, 4.0, 3.0, 6.0, 2.0, 1.0, 0.0], [18.0, 5.0, 150.0, 21.0, 193.0, 75.0, 64.0, 236.0, 40.0, 8.0, 58.0, 3.0, 5.0, 71.0, 4.0, 78.0, 43.0, 10.0, 92.0, 42.0, 70.0, 95.0, 4.0, 135.0, 66.0, 57.0, 106.0, 30.0, 196.0, 6.0, 3.0, 102.0, 15.0, 40.0, 82.0, 39.0, 137.0, 0.0, 4.0, 13.0, 37.0, 50.0, 142.0, 33.0, 81.0, 89.0, 8.0, 27.0, 34.0, 71.0, 37.0, 6.0, 58.0, 82.0, 37.0, 47.0, 5.0, 7.0, 132.0, 41.0, 12.0, 111.0, 80.0, 1.0], [175.0, 5.0, 8.0, 13.0, 22.0, 3.0, 182.0, 200.0, 18.0, 0.0, 23.0, 6.0, 5.0, 134.0, 29.0, 1.0, 12.0, 20.0, 59.0, 6.0, 138.0, 9.0, 72.0, 9.0, 11.0, 72.0, 83.0, 37.0, 36.0, 6.0, 114.0, 110.0, 62.0, 18.0, 110.0, 9.0, 17.0, 11.0, 29.0, 146.0, 239.0, 23.0, 198.0, 1.0, 23.0, 167.0, 225.0, 247.0, 59.0, 81.0, 234.0, 2.0, 55.0, 140.0, 249.0, 15.0, 3.0, 2.0, 55.0, 1.0, 120.0, 35.0, 49.0, 0.0], [19.0, 3.0, 1.0, 7.0, 8.0, 31.0, 1.0, 119.0, 182.0, 11.0, 0.0, 16.0, 2.0, 168.0, 5.0, 48.0, 23.0, 28.0, 24.0, 4.0, 27.0, 82.0, 17.0, 60.0, 53.0, 19.0, 14.0, 5.0, 27.0, 14.0, 81.0, 127.0, 46.0, 178.0, 11.0, 34.0, 132.0, 10.0, 145.0, 69.0, 117.0, 10.0, 2.0, 205.0, 184.0, 73.0, 147.0, 131.0, 18.0, 206.0, 12.0, 178.0, 58.0, 203.0, 125.0, 56.0, 1.0, 6.0, 2.0, 53.0, 42.0, 78.0, 80.0, 3.0], [75.0, 6.0, 2.0, 0.0, 48.0, 1.0, 160.0, 167.0, 11.0, 41.0, 60.0, 28.0, 4.0, 0.0, 7.0, 6.0, 4.0, 4.0, 16.0, 8.0, 36.0, 24.0, 99.0, 23.0, 35.0, 68.0, 245.0, 124.0, 143.0, 42.0, 40.0, 97.0, 195.0, 8.0, 234.0, 16.0, 100.0, 238.0, 107.0, 11.0, 214.0, 4.0, 207.0, 73.0, 42.0, 121.0, 96.0, 43.0, 124.0, 12.0, 217.0, 113.0, 111.0, 142.0, 125.0, 232.0, 217.0, 45.0, 193.0, 46.0, 59.0, 2.0, 16.0, 22.0], [13.0, 11.0, 62.0, 0.0, 1.0, 0.0, 10.0, 197.0, 49.0, 147.0, 5.0, 133.0, 18.0, 77.0, 26.0, 14.0, 16.0, 68.0, 15.0, 6.0, 65.0, 73.0, 54.0, 30.0, 40.0, 209.0, 133.0, 135.0, 195.0, 139.0, 93.0, 196.0, 62.0, 29.0, 63.0, 39.0, 107.0, 4.0, 5.0, 128.0, 158.0, 17.0, 28.0, 178.0, 112.0, 115.0, 6.0, 237.0, 235.0, 194.0, 78.0, 120.0, 61.0, 131.0, 23.0, 244.0, 49.0, 199.0, 127.0, 108.0, 122.0, 188.0, 23.0, 3.0], [14.0, 15.0, 2.0, 0.0, 2.0, 2.0, 39.0, 4.0, 19.0, 20.0, 9.0, 112.0, 3.0, 187.0, 26.0, 9.0, 1.0, 59.0, 57.0, 31.0, 1.0, 56.0, 6.0, 19.0, 20.0, 59.0, 97.0, 91.0, 117.0, 66.0, 4.0, 81.0, 23.0, 210.0, 216.0, 66.0, 68.0, 164.0, 27.0, 4.0, 6.0, 252.0, 254.0, 81.0, 93.0, 100.0, 27.0, 36.0, 42.0, 67.0, 105.0, 39.0, 47.0, 45.0, 3.0, 4.0, 219.0, 21.0, 4.0, 62.0, 116.0, 142.0, 3.0, 10.0], [4.0, 10.0, 66.0, 0.0, 5.0, 3.0, 52.0, 155.0, 12.0, 33.0, 1.0, 5.0, 20.0, 185.0, 20.0, 138.0, 28.0, 3.0, 24.0, 28.0, 9.0, 21.0, 6.0, 206.0, 3.0, 214.0, 38.0, 15.0, 36.0, 70.0, 14.0, 48.0, 95.0, 202.0, 7.0, 79.0, 9.0, 198.0, 58.0, 63.0, 70.0, 216.0, 110.0, 10.0, 16.0, 26.0, 9.0, 19.0, 15.0, 249.0, 4.0, 34.0, 31.0, 193.0, 17.0, 137.0, 118.0, 26.0, 17.0, 88.0, 14.0, 241.0, 195.0, 1.0], [154.0, 38.0, 4.0, 187.0, 16.0, 23.0, 89.0, 60.0, 83.0, 13.0, 1.0, 3.0, 2.0, 0.0, 0.0, 4.0, 4.0, 16.0, 3.0, 70.0, 182.0, 76.0, 32.0, 62.0, 89.0, 58.0, 241.0, 13.0, 62.0, 3.0, 80.0, 22.0, 62.0, 40.0, 139.0, 42.0, 1.0, 6.0, 247.0, 225.0, 137.0, 75.0, 188.0, 25.0, 7.0, 2.0, 167.0, 100.0, 60.0, 1.0, 100.0, 4.0, 0.0, 1.0, 36.0, 15.0, 126.0, 36.0, 114.0, 1.0, 14.0, 10.0, 0.0, 2.0], [17.0, 4.0, 32.0, 29.0, 120.0, 1.0, 39.0, 51.0, 201.0, 31.0, 94.0, 5.0, 14.0, 47.0, 213.0, 29.0, 1.0, 4.0, 19.0, 47.0, 22.0, 183.0, 24.0, 45.0, 8.0, 102.0, 177.0, 46.0, 10.0, 45.0, 112.0, 11.0, 25.0, 64.0, 91.0, 7.0, 101.0, 72.0, 7.0, 207.0, 35.0, 172.0, 34.0, 15.0, 24.0, 66.0, 77.0, 67.0, 22.0, 82.0, 46.0, 2.0, 49.0, 18.0, 26.0, 5.0, 26.0, 70.0, 56.0, 148.0, 116.0, 154.0, 22.0, 1.0], [95.0, 6.0, 107.0, 4.0, 7.0, 1.0, 161.0, 99.0, 10.0, 9.0, 5.0, 2.0, 50.0, 2.0, 2.0, 0.0, 2.0, 0.0, 19.0, 2.0, 18.0, 15.0, 143.0, 31.0, 54.0, 7.0, 4.0, 21.0, 58.0, 192.0, 73.0, 14.0, 148.0, 5.0, 23.0, 126.0, 26.0, 17.0, 226.0, 10.0, 22.0, 17.0, 125.0, 19.0, 34.0, 3.0, 181.0, 71.0, 70.0, 21.0, 177.0, 6.0, 4.0, 9.0, 215.0, 196.0, 68.0, 147.0, 115.0, 74.0, 136.0, 140.0, 102.0, 0.0], [12.0, 8.0, 2.0, 3.0, 13.0, 14.0, 2.0, 102.0, 61.0, 1.0, 0.0, 2.0, 32.0, 13.0, 18.0, 2.0, 87.0, 2.0, 4.0, 17.0, 10.0, 16.0, 67.0, 145.0, 69.0, 174.0, 28.0, 60.0, 87.0, 26.0, 28.0, 23.0, 86.0, 6.0, 9.0, 189.0, 93.0, 88.0, 63.0, 118.0, 47.0, 7.0, 3.0, 121.0, 15.0, 1.0, 2.0, 185.0, 63.0, 201.0, 6.0, 153.0, 227.0, 50.0, 57.0, 35.0, 2.0, 168.0, 74.0, 171.0, 12.0, 137.0, 97.0, 9.0], [113.0, 3.0, 27.0, 11.0, 134.0, 2.0, 207.0, 19.0, 10.0, 2.0, 26.0, 0.0, 6.0, 3.0, 1.0, 40.0, 5.0, 23.0, 190.0, 54.0, 132.0, 205.0, 88.0, 11.0, 93.0, 2.0, 158.0, 152.0, 32.0, 250.0, 155.0, 20.0, 93.0, 44.0, 162.0, 170.0, 44.0, 40.0, 55.0, 11.0, 60.0, 8.0, 195.0, 1.0, 20.0, 8.0, 33.0, 87.0, 132.0, 17.0, 23.0, 5.0, 106.0, 26.0, 151.0, 62.0, 25.0, 100.0, 61.0, 8.0, 172.0, 17.0, 57.0, 37.0], [23.0, 122.0, 62.0, 7.0, 22.0, 3.0, 41.0, 163.0, 83.0, 22.0, 102.0, 24.0, 22.0, 4.0, 11.0, 96.0, 15.0, 55.0, 60.0, 228.0, 147.0, 74.0, 147.0, 144.0, 26.0, 166.0, 21.0, 51.0, 44.0, 112.0, 33.0, 132.0, 112.0, 126.0, 69.0, 192.0, 29.0, 4.0, 78.0, 32.0, 27.0, 206.0, 165.0, 33.0, 103.0, 42.0, 134.0, 193.0, 221.0, 2.0, 4.0, 60.0, 81.0, 68.0, 6.0, 209.0, 30.0, 35.0, 108.0, 212.0, 153.0, 157.0, 24.0, 8.0], [56.0, 44.0, 38.0, 21.0, 78.0, 11.0, 8.0, 44.0, 30.0, 41.0, 3.0, 19.0, 4.0, 56.0, 6.0, 34.0, 4.0, 136.0, 26.0, 4.0, 94.0, 51.0, 4.0, 22.0, 43.0, 85.0, 146.0, 99.0, 23.0, 45.0, 3.0, 7.0, 20.0, 115.0, 27.0, 55.0, 8.0, 27.0, 17.0, 1.0, 8.0, 12.0, 32.0, 216.0, 84.0, 122.0, 115.0, 3.0, 6.0, 29.0, 15.0, 109.0, 66.0, 100.0, 11.0, 2.0, 2.0, 154.0, 15.0, 176.0, 234.0, 121.0, 5.0, 9.0], [4.0, 8.0, 15.0, 6.0, 5.0, 226.0, 35.0, 54.0, 0.0, 146.0, 18.0, 3.0, 24.0, 51.0, 1.0, 6.0, 19.0, 24.0, 20.0, 2.0, 19.0, 26.0, 60.0, 25.0, 34.0, 175.0, 28.0, 163.0, 22.0, 96.0, 48.0, 14.0, 103.0, 15.0, 38.0, 5.0, 18.0, 29.0, 60.0, 166.0, 58.0, 171.0, 51.0, 8.0, 17.0, 214.0, 128.0, 43.0, 48.0, 107.0, 6.0, 46.0, 30.0, 154.0, 36.0, 9.0, 42.0, 36.0, 10.0, 77.0, 31.0, 95.0, 109.0, 6.0], [146.0, 15.0, 2.0, 30.0, 14.0, 5.0, 3.0, 1.0, 6.0, 44.0, 129.0, 233.0, 9.0, 38.0, 99.0, 71.0, 6.0, 5.0, 10.0, 2.0, 6.0, 3.0, 214.0, 178.0, 101.0, 84.0, 37.0, 27.0, 2.0, 1.0, 6.0, 54.0, 123.0, 3.0, 90.0, 96.0, 17.0, 6.0, 43.0, 91.0, 109.0, 46.0, 73.0, 5.0, 4.0, 11.0, 178.0, 128.0, 90.0, 8.0, 110.0, 25.0, 10.0, 1.0, 134.0, 35.0, 17.0, 18.0, 23.0, 8.0, 42.0, 4.0, 0.0, 1.0], [47.0, 6.0, 124.0, 78.0, 3.0, 33.0, 71.0, 10.0, 28.0, 10.0, 42.0, 61.0, 24.0, 172.0, 47.0, 56.0, 9.0, 3.0, 44.0, 18.0, 83.0, 108.0, 40.0, 105.0, 117.0, 85.0, 69.0, 13.0, 43.0, 1.0, 58.0, 33.0, 79.0, 2.0, 118.0, 46.0, 209.0, 9.0, 5.0, 150.0, 81.0, 102.0, 192.0, 18.0, 18.0, 146.0, 12.0, 158.0, 35.0, 75.0, 44.0, 16.0, 168.0, 50.0, 199.0, 2.0, 21.0, 26.0, 235.0, 10.0, 39.0, 71.0, 12.0, 1.0], [179.0, 7.0, 198.0, 21.0, 6.0, 1.0, 70.0, 4.0, 1.0, 0.0, 4.0, 3.0, 34.0, 2.0, 59.0, 18.0, 48.0, 3.0, 2.0, 36.0, 1.0, 2.0, 104.0, 42.0, 17.0, 7.0, 165.0, 2.0, 0.0, 5.0, 4.0, 11.0, 11.0, 51.0, 99.0, 1.0, 6.0, 2.0, 24.0, 47.0, 182.0, 28.0, 6.0, 9.0, 112.0, 123.0, 134.0, 199.0, 253.0, 69.0, 41.0, 5.0, 8.0, 8.0, 127.0, 97.0, 156.0, 88.0, 211.0, 3.0, 109.0, 30.0, 52.0, 1.0], [33.0, 39.0, 2.0, 8.0, 44.0, 3.0, 5.0, 4.0, 26.0, 4.0, 1.0, 63.0, 117.0, 7.0, 9.0, 8.0, 10.0, 123.0, 2.0, 26.0, 54.0, 2.0, 10.0, 30.0, 41.0, 74.0, 15.0, 16.0, 14.0, 10.0, 1.0, 9.0, 31.0, 27.0, 13.0, 1.0, 11.0, 14.0, 7.0, 33.0, 192.0, 35.0, 1.0, 9.0, 94.0, 67.0, 14.0, 248.0, 10.0, 15.0, 9.0, 10.0, 79.0, 12.0, 10.0, 36.0, 18.0, 34.0, 148.0, 68.0, 5.0, 106.0, 49.0, 4.0], [91.0, 12.0, 4.0, 20.0, 1.0, 6.0, 19.0, 20.0, 14.0, 13.0, 23.0, 184.0, 55.0, 23.0, 10.0, 58.0, 12.0, 40.0, 174.0, 11.0, 197.0, 31.0, 13.0, 111.0, 47.0, 24.0, 97.0, 32.0, 36.0, 21.0, 181.0, 241.0, 5.0, 44.0, 97.0, 2.0, 34.0, 15.0, 73.0, 11.0, 7.0, 1.0, 6.0, 0.0, 14.0, 26.0, 27.0, 46.0, 4.0, 4.0, 99.0, 2.0, 47.0, 7.0, 96.0, 30.0, 203.0, 113.0, 194.0, 3.0, 188.0, 5.0, 11.0, 15.0], [13.0, 41.0, 44.0, 18.0, 3.0, 1.0, 58.0, 6.0, 15.0, 8.0, 17.0, 33.0, 156.0, 18.0, 13.0, 15.0, 23.0, 15.0, 44.0, 136.0, 94.0, 3.0, 8.0, 60.0, 150.0, 41.0, 28.0, 27.0, 169.0, 70.0, 2.0, 121.0, 75.0, 31.0, 35.0, 32.0, 9.0, 2.0, 6.0, 19.0, 106.0, 10.0, 6.0, 9.0, 21.0, 6.0, 108.0, 128.0, 207.0, 30.0, 132.0, 11.0, 78.0, 226.0, 163.0, 114.0, 55.0, 61.0, 128.0, 60.0, 88.0, 182.0, 16.0, 2.0], [38.0, 14.0, 2.0, 4.0, 1.0, 18.0, 1.0, 4.0, 16.0, 9.0, 57.0, 67.0, 2.0, 46.0, 24.0, 8.0, 34.0, 29.0, 10.0, 65.0, 16.0, 13.0, 62.0, 16.0, 65.0, 43.0, 102.0, 42.0, 59.0, 40.0, 4.0, 4.0, 52.0, 154.0, 87.0, 132.0, 22.0, 10.0, 4.0, 2.0, 5.0, 27.0, 3.0, 3.0, 12.0, 46.0, 48.0, 9.0, 2.0, 3.0, 12.0, 86.0, 156.0, 171.0, 9.0, 4.0, 61.0, 199.0, 78.0, 52.0, 125.0, 22.0, 2.0, 9.0], [2.0, 16.0, 2.0, 1.0, 5.0, 68.0, 7.0, 6.0, 10.0, 1.0, 0.0, 13.0, 29.0, 47.0, 111.0, 16.0, 60.0, 10.0, 175.0, 5.0, 43.0, 170.0, 187.0, 24.0, 67.0, 121.0, 33.0, 105.0, 43.0, 144.0, 149.0, 17.0, 23.0, 13.0, 79.0, 11.0, 11.0, 9.0, 69.0, 69.0, 32.0, 14.0, 5.0, 1.0, 59.0, 3.0, 53.0, 8.0, 23.0, 25.0, 6.0, 2.0, 16.0, 104.0, 88.0, 23.0, 21.0, 90.0, 93.0, 129.0, 11.0, 30.0, 45.0, 12.0], [60.0, 5.0, 1.0, 91.0, 4.0, 1.0, 44.0, 39.0, 12.0, 80.0, 12.0, 212.0, 82.0, 7.0, 4.0, 3.0, 103.0, 24.0, 36.0, 8.0, 8.0, 4.0, 20.0, 49.0, 23.0, 26.0, 10.0, 68.0, 6.0, 1.0, 7.0, 10.0, 10.0, 18.0, 6.0, 169.0, 43.0, 3.0, 1.0, 5.0, 1.0, 2.0, 1.0, 63.0, 179.0, 0.0, 51.0, 59.0, 15.0, 59.0, 5.0, 26.0, 18.0, 1.0, 4.0, 104.0, 8.0, 149.0, 199.0, 26.0, 52.0, 11.0, 1.0, 1.0], [28.0, 6.0, 5.0, 30.0, 11.0, 34.0, 37.0, 1.0, 5.0, 91.0, 15.0, 11.0, 137.0, 15.0, 11.0, 86.0, 65.0, 19.0, 10.0, 54.0, 82.0, 60.0, 7.0, 184.0, 54.0, 38.0, 10.0, 10.0, 71.0, 0.0, 0.0, 7.0, 245.0, 6.0, 20.0, 21.0, 58.0, 97.0, 1.0, 92.0, 12.0, 0.0, 3.0, 8.0, 1.0, 56.0, 37.0, 68.0, 40.0, 56.0, 47.0, 7.0, 16.0, 91.0, 1.0, 15.0, 48.0, 18.0, 37.0, 51.0, 36.0, 124.0, 20.0, 6.0], [144.0, 1.0, 25.0, 16.0, 3.0, 19.0, 207.0, 105.0, 79.0, 234.0, 216.0, 4.0, 9.0, 1.0, 4.0, 26.0, 8.0, 22.0, 39.0, 17.0, 4.0, 109.0, 70.0, 171.0, 67.0, 138.0, 237.0, 2.0, 5.0, 1.0, 1.0, 7.0, 5.0, 3.0, 36.0, 20.0, 3.0, 5.0, 140.0, 5.0, 3.0, 5.0, 93.0, 0.0, 11.0, 2.0, 33.0, 1.0, 83.0, 14.0, 41.0, 7.0, 6.0, 26.0, 144.0, 45.0, 12.0, 119.0, 77.0, 2.0, 207.0, 4.0, 10.0, 1.0], [42.0, 0.0, 1.0, 72.0, 26.0, 155.0, 5.0, 1.0, 0.0, 74.0, 9.0, 12.0, 28.0, 2.0, 2.0, 16.0, 176.0, 6.0, 15.0, 3.0, 44.0, 106.0, 17.0, 77.0, 158.0, 100.0, 59.0, 7.0, 18.0, 37.0, 16.0, 22.0, 251.0, 4.0, 0.0, 29.0, 88.0, 36.0, 54.0, 17.0, 100.0, 19.0, 0.0, 188.0, 33.0, 1.0, 1.0, 18.0, 4.0, 3.0, 2.0, 1.0, 60.0, 3.0, 126.0, 20.0, 3.0, 124.0, 46.0, 49.0, 57.0, 38.0, 41.0, 5.0], [160.0, 0.0, 21.0, 41.0, 2.0, 47.0, 29.0, 10.0, 12.0, 24.0, 109.0, 2.0, 34.0, 21.0, 42.0, 18.0, 5.0, 18.0, 144.0, 37.0, 132.0, 12.0, 33.0, 11.0, 3.0, 33.0, 97.0, 45.0, 186.0, 23.0, 145.0, 229.0, 20.0, 6.0, 81.0, 4.0, 93.0, 10.0, 35.0, 7.0, 0.0, 5.0, 104.0, 4.0, 2.0, 22.0, 0.0, 3.0, 3.0, 18.0, 172.0, 7.0, 87.0, 42.0, 25.0, 6.0, 3.0, 32.0, 111.0, 1.0, 8.0, 5.0, 6.0, 8.0], [15.0, 44.0, 41.0, 75.0, 95.0, 19.0, 87.0, 23.0, 19.0, 38.0, 202.0, 14.0, 93.0, 26.0, 3.0, 87.0, 10.0, 83.0, 5.0, 87.0, 63.0, 6.0, 26.0, 69.0, 65.0, 54.0, 47.0, 207.0, 69.0, 139.0, 12.0, 119.0, 87.0, 44.0, 12.0, 125.0, 150.0, 73.0, 8.0, 111.0, 189.0, 8.0, 80.0, 30.0, 9.0, 1.0, 1.0, 30.0, 2.0, 81.0, 17.0, 15.0, 24.0, 9.0, 89.0, 22.0, 8.0, 41.0, 59.0, 10.0, 120.0, 105.0, 17.0, 3.0], [39.0, 70.0, 94.0, 154.0, 86.0, 3.0, 75.0, 13.0, 16.0, 20.0, 4.0, 10.0, 44.0, 2.0, 1.0, 55.0, 1.0, 31.0, 68.0, 58.0, 45.0, 141.0, 4.0, 2.0, 89.0, 7.0, 2.0, 174.0, 19.0, 150.0, 2.0, 22.0, 2.0, 144.0, 166.0, 58.0, 10.0, 2.0, 0.0, 43.0, 173.0, 199.0, 18.0, 51.0, 4.0, 1.0, 1.0, 15.0, 13.0, 56.0, 26.0, 0.0, 12.0, 21.0, 0.0, 5.0, 14.0, 130.0, 110.0, 38.0, 44.0, 120.0, 5.0, 14.0], [2.0, 11.0, 20.0, 50.0, 8.0, 116.0, 85.0, 29.0, 29.0, 59.0, 5.0, 12.0, 16.0, 86.0, 8.0, 12.0, 24.0, 7.0, 8.0, 92.0, 54.0, 13.0, 24.0, 155.0, 28.0, 31.0, 3.0, 139.0, 20.0, 188.0, 7.0, 139.0, 36.0, 52.0, 49.0, 2.0, 10.0, 21.0, 2.0, 155.0, 6.0, 26.0, 13.0, 0.0, 155.0, 6.0, 14.0, 168.0, 47.0, 12.0, 3.0, 42.0, 9.0, 30.0, 68.0, 1.0, 11.0, 20.0, 27.0, 104.0, 15.0, 54.0, 52.0, 4.0], [198.0, 31.0, 1.0, 60.0, 81.0, 2.0, 12.0, 37.0, 15.0, 217.0, 5.0, 90.0, 15.0, 0.0, 11.0, 2.0, 4.0, 11.0, 48.0, 17.0, 4.0, 1.0, 19.0, 156.0, 74.0, 93.0, 11.0, 16.0, 17.0, 9.0, 99.0, 23.0, 71.0, 19.0, 218.0, 16.0, 4.0, 0.0, 1.0, 0.0, 2.0, 8.0, 2.0, 20.0, 1.0, 6.0, 2.0, 1.0, 11.0, 30.0, 4.0, 2.0, 2.0, 1.0, 0.0, 1.0, 15.0, 73.0, 3.0, 11.0, 7.0, 21.0, 1.0, 2.0], [22.0, 3.0, 37.0, 95.0, 89.0, 8.0, 42.0, 4.0, 15.0, 87.0, 96.0, 22.0, 7.0, 75.0, 7.0, 75.0, 11.0, 32.0, 215.0, 12.0, 207.0, 8.0, 25.0, 88.0, 5.0, 80.0, 15.0, 137.0, 12.0, 5.0, 14.0, 98.0, 93.0, 9.0, 189.0, 96.0, 2.0, 3.0, 174.0, 3.0, 0.0, 2.0, 21.0, 36.0, 83.0, 6.0, 52.0, 7.0, 3.0, 1.0, 43.0, 31.0, 1.0, 5.0, 2.0, 16.0, 8.0, 1.0, 121.0, 33.0, 27.0, 12.0, 17.0, 0.0], [139.0, 32.0, 226.0, 118.0, 84.0, 3.0, 5.0, 1.0, 18.0, 1.0, 2.0, 10.0, 75.0, 17.0, 25.0, 1.0, 9.0, 9.0, 2.0, 6.0, 4.0, 10.0, 11.0, 16.0, 2.0, 0.0, 5.0, 24.0, 39.0, 17.0, 30.0, 4.0, 1.0, 1.0, 58.0, 61.0, 11.0, 3.0, 7.0, 1.0, 0.0, 1.0, 1.0, 0.0, 1.0, 0.0, 1.0, 0.0, 3.0, 0.0, 0.0, 4.0, 12.0, 1.0, 0.0, 0.0, 1.0, 12.0, 2.0, 15.0, 7.0, 2.0, 3.0, 0.0], [7.0, 3.0, 5.0, 182.0, 17.0, 12.0, 1.0, 78.0, 220.0, 5.0, 1.0, 17.0, 81.0, 49.0, 20.0, 10.0, 46.0, 45.0, 8.0, 0.0, 0.0, 7.0, 18.0, 10.0, 154.0, 2.0, 0.0, 146.0, 42.0, 9.0, 31.0, 2.0, 72.0, 10.0, 5.0, 151.0, 6.0, 2.0, 9.0, 1.0, 10.0, 1.0, 0.0, 3.0, 4.0, 0.0, 1.0, 0.0, 233.0, 1.0, 5.0, 35.0, 13.0, 0.0, 29.0, 0.0, 15.0, 1.0, 4.0, 6.0, 2.0, 2.0, 19.0, 1.0], [206.0, 9.0, 72.0, 6.0, 171.0, 15.0, 91.0, 145.0, 1.0, 11.0, 111.0, 73.0, 202.0, 12.0, 2.0, 17.0, 0.0, 9.0, 3.0, 2.0, 216.0, 129.0, 202.0, 28.0, 9.0, 102.0, 237.0, 29.0, 17.0, 31.0, 92.0, 147.0, 167.0, 19.0, 255.0, 8.0, 39.0, 24.0, 21.0, 54.0, 1.0, 8.0, 32.0, 1.0, 36.0, 2.0, 39.0, 23.0, 1.0, 62.0, 157.0, 0.0, 61.0, 21.0, 12.0, 1.0, 0.0, 3.0, 15.0, 0.0, 2.0, 1.0, 3.0, 30.0], [18.0, 33.0, 137.0, 51.0, 50.0, 2.0, 7.0, 7.0, 64.0, 94.0, 55.0, 149.0, 150.0, 215.0, 68.0, 25.0, 22.0, 23.0, 21.0, 68.0, 143.0, 28.0, 137.0, 191.0, 108.0, 29.0, 8.0, 29.0, 15.0, 67.0, 9.0, 236.0, 9.0, 40.0, 54.0, 85.0, 201.0, 158.0, 68.0, 68.0, 1.0, 7.0, 165.0, 44.0, 16.0, 0.0, 11.0, 10.0, 68.0, 44.0, 5.0, 231.0, 5.0, 1.0, 107.0, 6.0, 2.0, 9.0, 221.0, 1.0, 12.0, 10.0, 3.0, 0.0], [82.0, 85.0, 85.0, 35.0, 86.0, 6.0, 16.0, 42.0, 86.0, 232.0, 192.0, 198.0, 52.0, 250.0, 97.0, 10.0, 1.0, 102.0, 51.0, 100.0, 207.0, 15.0, 4.0, 21.0, 40.0, 26.0, 2.0, 8.0, 20.0, 20.0, 3.0, 15.0, 7.0, 8.0, 114.0, 57.0, 4.0, 44.0, 3.0, 10.0, 29.0, 158.0, 123.0, 1.0, 4.0, 40.0, 8.0, 133.0, 99.0, 41.0, 6.0, 133.0, 1.0, 1.0, 1.0, 15.0, 7.0, 29.0, 0.0, 7.0, 44.0, 9.0, 2.0, 4.0], [1.0, 130.0, 52.0, 68.0, 76.0, 157.0, 8.0, 91.0, 16.0, 48.0, 8.0, 10.0, 8.0, 233.0, 91.0, 15.0, 3.0, 11.0, 78.0, 5.0, 121.0, 11.0, 0.0, 34.0, 31.0, 100.0, 20.0, 1.0, 10.0, 113.0, 32.0, 46.0, 26.0, 41.0, 20.0, 13.0, 2.0, 52.0, 47.0, 215.0, 19.0, 47.0, 14.0, 0.0, 14.0, 6.0, 1.0, 16.0, 14.0, 12.0, 6.0, 0.0, 7.0, 1.0, 0.0, 8.0, 3.0, 1.0, 0.0, 2.0, 2.0, 0.0, 23.0, 2.0], [107.0, 71.0, 66.0, 174.0, 9.0, 22.0, 22.0, 101.0, 9.0, 159.0, 61.0, 39.0, 16.0, 3.0, 112.0, 3.0, 180.0, 34.0, 206.0, 205.0, 22.0, 36.0, 2.0, 2.0, 7.0, 2.0, 6.0, 10.0, 1.0, 1.0, 23.0, 2.0, 91.0, 9.0, 12.0, 14.0, 14.0, 27.0, 1.0, 1.0, 4.0, 83.0, 3.0, 166.0, 1.0, 1.0, 11.0, 0.0, 3.0, 1.0, 1.0, 3.0, 11.0, 0.0, 0.0, 0.0, 0.0, 11.0, 2.0, 1.0, 3.0, 9.0, 0.0, 8.0], [12.0, 0.0, 5.0, 19.0, 139.0, 1.0, 8.0, 1.0, 24.0, 18.0, 4.0, 3.0, 12.0, 42.0, 16.0, 157.0, 5.0, 17.0, 175.0, 23.0, 67.0, 2.0, 17.0, 8.0, 22.0, 8.0, 2.0, 1.0, 10.0, 0.0, 34.0, 95.0, 136.0, 0.0, 15.0, 1.0, 39.0, 7.0, 21.0, 5.0, 71.0, 9.0, 98.0, 1.0, 0.0, 3.0, 103.0, 1.0, 1.0, 0.0, 8.0, 54.0, 23.0, 1.0, 63.0, 3.0, 1.0, 0.0, 9.0, 1.0, 11.0, 1.0, 9.0, 0.0], [218.0, 24.0, 223.0, 7.0, 20.0, 3.0, 24.0, 70.0, 15.0, 41.0, 180.0, 72.0, 89.0, 7.0, 43.0, 1.0, 2.0, 10.0, 14.0, 7.0, 1.0, 1.0, 9.0, 74.0, 2.0, 106.0, 201.0, 75.0, 21.0, 24.0, 9.0, 50.0, 31.0, 4.0, 120.0, 1.0, 1.0, 0.0, 0.0, 1.0, 2.0, 2.0, 5.0, 0.0, 16.0, 0.0, 3.0, 1.0, 0.0, 1.0, 0.0, 0.0, 1.0, 0.0, 0.0, 0.0, 41.0, 1.0, 0.0, 0.0, 1.0, 1.0, 61.0, 0.0], [14.0, 118.0, 165.0, 59.0, 188.0, 33.0, 167.0, 24.0, 53.0, 5.0, 212.0, 223.0, 10.0, 225.0, 16.0, 9.0, 65.0, 6.0, 14.0, 29.0, 26.0, 8.0, 153.0, 12.0, 14.0, 63.0, 80.0, 53.0, 22.0, 4.0, 21.0, 7.0, 135.0, 16.0, 12.0, 127.0, 86.0, 5.0, 102.0, 15.0, 176.0, 0.0, 17.0, 46.0, 23.0, 2.0, 17.0, 0.0, 11.0, 4.0, 4.0, 0.0, 3.0, 2.0, 4.0, 0.0, 22.0, 0.0, 26.0, 1.0, 27.0, 0.0, 5.0, 2.0], [177.0, 3.0, 2.0, 44.0, 2.0, 71.0, 113.0, 58.0, 83.0, 3.0, 51.0, 45.0, 109.0, 12.0, 11.0, 3.0, 44.0, 6.0, 136.0, 166.0, 10.0, 31.0, 177.0, 14.0, 198.0, 39.0, 23.0, 46.0, 26.0, 2.0, 65.0, 4.0, 4.0, 8.0, 181.0, 9.0, 199.0, 24.0, 11.0, 13.0, 19.0, 38.0, 8.0, 2.0, 1.0, 2.0, 3.0, 11.0, 4.0, 3.0, 15.0, 0.0, 2.0, 0.0, 61.0, 16.0, 1.0, 2.0, 1.0, 1.0, 2.0, 0.0, 0.0, 155.0], [30.0, 31.0, 63.0, 8.0, 59.0, 19.0, 9.0, 51.0, 235.0, 73.0, 112.0, 12.0, 89.0, 17.0, 2.0, 2.0, 0.0, 135.0, 13.0, 210.0, 148.0, 110.0, 43.0, 108.0, 18.0, 22.0, 52.0, 101.0, 85.0, 41.0, 4.0, 199.0, 6.0, 88.0, 7.0, 70.0, 4.0, 1.0, 2.0, 142.0, 10.0, 241.0, 106.0, 1.0, 177.0, 6.0, 22.0, 20.0, 0.0, 9.0, 2.0, 35.0, 49.0, 11.0, 7.0, 11.0, 10.0, 2.0, 24.0, 0.0, 20.0, 13.0, 11.0, 0.0], [97.0, 42.0, 14.0, 54.0, 4.0, 73.0, 34.0, 7.0, 16.0, 56.0, 23.0, 44.0, 28.0, 42.0, 3.0, 1.0, 5.0, 67.0, 25.0, 178.0, 36.0, 224.0, 70.0, 3.0, 16.0, 86.0, 1.0, 35.0, 7.0, 171.0, 23.0, 2.0, 6.0, 105.0, 16.0, 47.0, 2.0, 24.0, 6.0, 3.0, 34.0, 143.0, 1.0, 9.0, 3.0, 137.0, 6.0, 0.0, 5.0, 16.0, 0.0, 15.0, 78.0, 225.0, 46.0, 0.0, 1.0, 25.0, 0.0, 16.0, 6.0, 3.0, 6.0, 8.0], [37.0, 4.0, 73.0, 7.0, 19.0, 6.0, 28.0, 34.0, 100.0, 61.0, 130.0, 8.0, 101.0, 20.0, 47.0, 113.0, 74.0, 209.0, 206.0, 15.0, 7.0, 26.0, 115.0, 28.0, 69.0, 130.0, 180.0, 4.0, 24.0, 130.0, 160.0, 23.0, 59.0, 14.0, 159.0, 0.0, 8.0, 62.0, 20.0, 224.0, 147.0, 124.0, 143.0, 2.0, 71.0, 38.0, 72.0, 76.0, 131.0, 55.0, 175.0, 1.0, 23.0, 66.0, 75.0, 2.0, 24.0, 4.0, 52.0, 1.0, 3.0, 7.0, 4.0, 14.0], [40.0, 12.0, 4.0, 2.0, 2.0, 1.0, 5.0, 3.0, 3.0, 3.0, 4.0, 7.0, 7.0, 14.0, 0.0, 3.0, 2.0, 2.0, 10.0, 2.0, 10.0, 4.0, 4.0, 5.0, 3.0, 3.0, 10.0, 6.0, 7.0, 1.0, 1.0, 2.0, 2.0, 4.0, 11.0, 10.0, 7.0, 0.0, 1.0, 2.0, 1.0, 2.0, 1.0, 1.0, 2.0, 5.0, 0.0, 3.0, 2.0, 3.0, 17.0, 8.0, 10.0, 2.0, 0.0, 1.0, 1.0, 4.0, 2.0, 1.0, 2.0, 3.0, 1.0, 20.0]]\n"
     ]
    }
   ],
   "source": [
    "# denormalise generated map\n",
    "\n",
    "generated_map *= 255\n",
    "\n",
    "generated_map = generated_map.numpy()\n",
    "\n",
    "generated_map = np.reshape(generated_map, (64,64))\n",
    "\n",
    "generated_map = np.round(generated_map,0)\n",
    "print(generated_map.shape)\n",
    "\n",
    "#write generated map to csv\n",
    "\n",
    "\n",
    "np.savetxt('generated_map.csv', generated_map, delimiter=',', fmt='%i')\n",
    "\n",
    "generated_map = generated_map.tolist()\n",
    "\n",
    "print(generated_map)"
   ]
  },
  {
   "attachments": {},
   "cell_type": "markdown",
   "metadata": {},
   "source": [
    "# Graphs:"
   ]
  },
  {
   "attachments": {},
   "cell_type": "markdown",
   "metadata": {},
   "source": [
    "Losses"
   ]
  },
  {
   "cell_type": "code",
   "execution_count": null,
   "metadata": {},
   "outputs": [
    {
     "data": {
      "text/plain": [
       "Text(0.5, 0, 'Epoch')"
      ]
     },
     "execution_count": 131,
     "metadata": {},
     "output_type": "execute_result"
    },
    {
     "data": {
      "image/png": "[encoded data removed]",
      "text/plain": [
       "<Figure size 640x480 with 1 Axes>"
      ]
     },
     "metadata": {},
     "output_type": "display_data"
    }
   ],
   "source": [
    "epoch_list = [i for i in range(0,N_EPOCHS)]\n",
    "\n",
    "\n",
    "plt.plot(epoch_list, disc_losses,  'r-')\n",
    "plt.plot(epoch_list, gen_losses, 'b-')\n",
    "plt.title('Gen and Disc loss over epochs')\n",
    "plt.ylabel('Loss')\n",
    "plt.xlabel('Epoch')"
   ]
  },
  {
   "attachments": {},
   "cell_type": "markdown",
   "metadata": {},
   "source": [
    "Discriminator Accuracy"
   ]
  },
  {
   "cell_type": "code",
   "execution_count": null,
   "metadata": {},
   "outputs": [
    {
     "ename": "ValueError",
     "evalue": "setting an array element with a sequence. The requested array has an inhomogeneous shape after 1 dimensions. The detected shape was (700,) + inhomogeneous part.",
     "output_type": "error",
     "traceback": [
      "\u001b[0;31m---------------------------------------------------------------------------\u001b[0m",
      "\u001b[0;31mValueError\u001b[0m                                Traceback (most recent call last)",
      "Cell \u001b[0;32mIn[132], line 1\u001b[0m\n\u001b[0;32m----> 1\u001b[0m plt\u001b[39m.\u001b[39;49mplot(epoch_list, disc_accuracies,  \u001b[39m'\u001b[39;49m\u001b[39mr-\u001b[39;49m\u001b[39m'\u001b[39;49m)\n\u001b[1;32m      3\u001b[0m plt\u001b[39m.\u001b[39mtitle(\u001b[39m'\u001b[39m\u001b[39mDisc accuracy over epochs\u001b[39m\u001b[39m'\u001b[39m)\n\u001b[1;32m      4\u001b[0m plt\u001b[39m.\u001b[39mylabel(\u001b[39m'\u001b[39m\u001b[39mAccuracy\u001b[39m\u001b[39m'\u001b[39m)\n",
      "File \u001b[0;32m/usr/lib/python3/dist-packages/matplotlib/pyplot.py:2757\u001b[0m, in \u001b[0;36mplot\u001b[0;34m(scalex, scaley, data, *args, **kwargs)\u001b[0m\n\u001b[1;32m   2755\u001b[0m \u001b[39m@_copy_docstring_and_deprecators\u001b[39m(Axes\u001b[39m.\u001b[39mplot)\n\u001b[1;32m   2756\u001b[0m \u001b[39mdef\u001b[39;00m \u001b[39mplot\u001b[39m(\u001b[39m*\u001b[39margs, scalex\u001b[39m=\u001b[39m\u001b[39mTrue\u001b[39;00m, scaley\u001b[39m=\u001b[39m\u001b[39mTrue\u001b[39;00m, data\u001b[39m=\u001b[39m\u001b[39mNone\u001b[39;00m, \u001b[39m*\u001b[39m\u001b[39m*\u001b[39mkwargs):\n\u001b[0;32m-> 2757\u001b[0m     \u001b[39mreturn\u001b[39;00m gca()\u001b[39m.\u001b[39;49mplot(\n\u001b[1;32m   2758\u001b[0m         \u001b[39m*\u001b[39;49margs, scalex\u001b[39m=\u001b[39;49mscalex, scaley\u001b[39m=\u001b[39;49mscaley,\n\u001b[1;32m   2759\u001b[0m         \u001b[39m*\u001b[39;49m\u001b[39m*\u001b[39;49m({\u001b[39m\"\u001b[39;49m\u001b[39mdata\u001b[39;49m\u001b[39m\"\u001b[39;49m: data} \u001b[39mif\u001b[39;49;00m data \u001b[39mis\u001b[39;49;00m \u001b[39mnot\u001b[39;49;00m \u001b[39mNone\u001b[39;49;00m \u001b[39melse\u001b[39;49;00m {}), \u001b[39m*\u001b[39;49m\u001b[39m*\u001b[39;49mkwargs)\n",
      "File \u001b[0;32m/usr/lib/python3/dist-packages/matplotlib/axes/_axes.py:1632\u001b[0m, in \u001b[0;36mAxes.plot\u001b[0;34m(self, scalex, scaley, data, *args, **kwargs)\u001b[0m\n\u001b[1;32m   1390\u001b[0m \u001b[39m\u001b[39m\u001b[39m\"\"\"\u001b[39;00m\n\u001b[1;32m   1391\u001b[0m \u001b[39mPlot y versus x as lines and/or markers.\u001b[39;00m\n\u001b[1;32m   1392\u001b[0m \n\u001b[0;32m   (...)\u001b[0m\n\u001b[1;32m   1629\u001b[0m \u001b[39m(``'green'``) or hex strings (``'#008000'``).\u001b[39;00m\n\u001b[1;32m   1630\u001b[0m \u001b[39m\"\"\"\u001b[39;00m\n\u001b[1;32m   1631\u001b[0m kwargs \u001b[39m=\u001b[39m cbook\u001b[39m.\u001b[39mnormalize_kwargs(kwargs, mlines\u001b[39m.\u001b[39mLine2D)\n\u001b[0;32m-> 1632\u001b[0m lines \u001b[39m=\u001b[39m [\u001b[39m*\u001b[39m\u001b[39mself\u001b[39m\u001b[39m.\u001b[39m_get_lines(\u001b[39m*\u001b[39margs, data\u001b[39m=\u001b[39mdata, \u001b[39m*\u001b[39m\u001b[39m*\u001b[39mkwargs)]\n\u001b[1;32m   1633\u001b[0m \u001b[39mfor\u001b[39;00m line \u001b[39min\u001b[39;00m lines:\n\u001b[1;32m   1634\u001b[0m     \u001b[39mself\u001b[39m\u001b[39m.\u001b[39madd_line(line)\n",
      "File \u001b[0;32m/usr/lib/python3/dist-packages/matplotlib/axes/_base.py:312\u001b[0m, in \u001b[0;36m_process_plot_var_args.__call__\u001b[0;34m(self, data, *args, **kwargs)\u001b[0m\n\u001b[1;32m    310\u001b[0m     this \u001b[39m+\u001b[39m\u001b[39m=\u001b[39m args[\u001b[39m0\u001b[39m],\n\u001b[1;32m    311\u001b[0m     args \u001b[39m=\u001b[39m args[\u001b[39m1\u001b[39m:]\n\u001b[0;32m--> 312\u001b[0m \u001b[39myield from\u001b[39;00m \u001b[39mself\u001b[39;49m\u001b[39m.\u001b[39;49m_plot_args(this, kwargs)\n",
      "File \u001b[0;32m/usr/lib/python3/dist-packages/matplotlib/axes/_base.py:488\u001b[0m, in \u001b[0;36m_process_plot_var_args._plot_args\u001b[0;34m(self, tup, kwargs, return_kwargs)\u001b[0m\n\u001b[1;32m    486\u001b[0m \u001b[39mif\u001b[39;00m \u001b[39mlen\u001b[39m(xy) \u001b[39m==\u001b[39m \u001b[39m2\u001b[39m:\n\u001b[1;32m    487\u001b[0m     x \u001b[39m=\u001b[39m _check_1d(xy[\u001b[39m0\u001b[39m])\n\u001b[0;32m--> 488\u001b[0m     y \u001b[39m=\u001b[39m _check_1d(xy[\u001b[39m1\u001b[39;49m])\n\u001b[1;32m    489\u001b[0m \u001b[39melse\u001b[39;00m:\n\u001b[1;32m    490\u001b[0m     x, y \u001b[39m=\u001b[39m index_of(xy[\u001b[39m-\u001b[39m\u001b[39m1\u001b[39m])\n",
      "File \u001b[0;32m/usr/lib/python3/dist-packages/matplotlib/cbook/__init__.py:1304\u001b[0m, in \u001b[0;36m_check_1d\u001b[0;34m(x)\u001b[0m\n\u001b[1;32m   1302\u001b[0m \u001b[39m\u001b[39m\u001b[39m\"\"\"Convert scalars to 1D arrays; pass-through arrays as is.\"\"\"\u001b[39;00m\n\u001b[1;32m   1303\u001b[0m \u001b[39mif\u001b[39;00m \u001b[39mnot\u001b[39;00m \u001b[39mhasattr\u001b[39m(x, \u001b[39m'\u001b[39m\u001b[39mshape\u001b[39m\u001b[39m'\u001b[39m) \u001b[39mor\u001b[39;00m \u001b[39mlen\u001b[39m(x\u001b[39m.\u001b[39mshape) \u001b[39m<\u001b[39m \u001b[39m1\u001b[39m:\n\u001b[0;32m-> 1304\u001b[0m     \u001b[39mreturn\u001b[39;00m np\u001b[39m.\u001b[39;49matleast_1d(x)\n\u001b[1;32m   1305\u001b[0m \u001b[39melse\u001b[39;00m:\n\u001b[1;32m   1306\u001b[0m     \u001b[39mtry\u001b[39;00m:\n\u001b[1;32m   1307\u001b[0m         \u001b[39m# work around\u001b[39;00m\n\u001b[1;32m   1308\u001b[0m         \u001b[39m# https://github.com/pandas-dev/pandas/issues/27775 which\u001b[39;00m\n\u001b[0;32m   (...)\u001b[0m\n\u001b[1;32m   1319\u001b[0m         \u001b[39m# This code should correctly identify and coerce to a\u001b[39;00m\n\u001b[1;32m   1320\u001b[0m         \u001b[39m# numpy array all pandas versions.\u001b[39;00m\n",
      "File \u001b[0;32m<__array_function__ internals>:200\u001b[0m, in \u001b[0;36matleast_1d\u001b[0;34m(*args, **kwargs)\u001b[0m\n",
      "File \u001b[0;32m~/.local/lib/python3.10/site-packages/numpy/core/shape_base.py:65\u001b[0m, in \u001b[0;36matleast_1d\u001b[0;34m(*arys)\u001b[0m\n\u001b[1;32m     63\u001b[0m res \u001b[39m=\u001b[39m []\n\u001b[1;32m     64\u001b[0m \u001b[39mfor\u001b[39;00m ary \u001b[39min\u001b[39;00m arys:\n\u001b[0;32m---> 65\u001b[0m     ary \u001b[39m=\u001b[39m asanyarray(ary)\n\u001b[1;32m     66\u001b[0m     \u001b[39mif\u001b[39;00m ary\u001b[39m.\u001b[39mndim \u001b[39m==\u001b[39m \u001b[39m0\u001b[39m:\n\u001b[1;32m     67\u001b[0m         result \u001b[39m=\u001b[39m ary\u001b[39m.\u001b[39mreshape(\u001b[39m1\u001b[39m)\n",
      "\u001b[0;31mValueError\u001b[0m: setting an array element with a sequence. The requested array has an inhomogeneous shape after 1 dimensions. The detected shape was (700,) + inhomogeneous part."
     ]
    },
    {
     "data": {
      "image/png": "[encoded data removed]",
      "text/plain": [
       "<Figure size 640x480 with 1 Axes>"
      ]
     },
     "metadata": {},
     "output_type": "display_data"
    }
   ],
   "source": [
    "plt.plot(epoch_list, disc_accuracies,  'r-')\n",
    "\n",
    "plt.title('Disc accuracy over epochs')\n",
    "plt.ylabel('Accuracy')\n",
    "plt.xlabel('Epoch')"
   ]
  }
 ],
 "metadata": {
  "kernelspec": {
   "display_name": "Python 3 (ipykernel)",
   "language": "python",
   "name": "python3"
  },
  "language_info": {
   "codemirror_mode": {
    "name": "ipython",
    "version": 3
   },
   "file_extension": ".py",
   "mimetype": "text/x-python",
   "name": "python",
   "nbconvert_exporter": "python",
   "pygments_lexer": "ipython3",
   "version": "3.10.12"
  }
 },
 "nbformat": 4,
 "nbformat_minor": 2
}
