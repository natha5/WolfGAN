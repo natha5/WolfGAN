{
 "cells": [
  {
   "attachments": {},
   "cell_type": "markdown",
   "metadata": {},
   "source": [
    "# Imports"
   ]
  },
  {
   "cell_type": "code",
   "execution_count": 220,
   "metadata": {},
   "outputs": [],
   "source": [
    "import numpy as np\n",
    "import pandas as pd\n",
    "import random as rand\n",
    "import matplotlib.pyplot as plt\n",
    "import tensorflow as tf\n",
    "import csv\n",
    "\n",
    "from keras.utils import to_categorical\n",
    "from keras.layers import Dense, Activation, Conv2D,Conv2DTranspose, Dropout, Reshape, MaxPooling2D, Flatten, LeakyReLU, BatchNormalization\n",
    "from keras.models import Sequential, load_model\n",
    "from keras.losses import BinaryCrossentropy\n",
    "from keras.optimizers import Adam\n",
    "\n",
    "\n",
    "from sklearn.model_selection import train_test_split"
   ]
  },
  {
   "attachments": {},
   "cell_type": "markdown",
   "metadata": {},
   "source": [
    "# Data importing and pre-processing"
   ]
  },
  {
   "cell_type": "code",
   "execution_count": 221,
   "metadata": {},
   "outputs": [],
   "source": [
    "df = pd.read_csv('dataset.csv', header=None)\n",
    "\n",
    "\n",
    "df = df.values.reshape(60, 64, 64, 1)\n",
    "\n",
    "labels = np.zeros(60)\n",
    "\n",
    "x_real_train, x_real_test = train_test_split(df, test_size=0.2) #12 test values\n",
    "y_real_train, y_real_test = train_test_split(labels, test_size=0.2)"
   ]
  },
  {
   "attachments": {},
   "cell_type": "markdown",
   "metadata": {},
   "source": [
    "normalize dataset data into range of tanh (-1,1)"
   ]
  },
  {
   "cell_type": "code",
   "execution_count": 222,
   "metadata": {},
   "outputs": [],
   "source": [
    "x_real_train = x_real_train.astype('float32')\n",
    "x_real_train = x_real_train / 255\n",
    "\n",
    "BATCH_SIZE = 8\n",
    "\n",
    "\n",
    "training_data = tf.data.Dataset.from_tensor_slices(x_real_train).shuffle(48).batch(8)"
   ]
  },
  {
   "attachments": {},
   "cell_type": "markdown",
   "metadata": {},
   "source": [
    "# Generator Model"
   ]
  },
  {
   "attachments": {},
   "cell_type": "markdown",
   "metadata": {},
   "source": [
    "Create points in latent space to be fed into generator"
   ]
  },
  {
   "cell_type": "code",
   "execution_count": 223,
   "metadata": {},
   "outputs": [],
   "source": [
    "def generate_generator_input():\n",
    "    input = np.random.normal(50,2,size=(1,100))\n",
    "    input = input * 10\n",
    "    \n",
    "\n",
    "    \n",
    "    return input"
   ]
  },
  {
   "cell_type": "code",
   "execution_count": 224,
   "metadata": {},
   "outputs": [],
   "source": [
    "def make_generator():\n",
    "    model = Sequential()\n",
    "    \n",
    "    model.add(Dense(60*8*8, input_shape=(100,)))\n",
    "\n",
    "    model.add(BatchNormalization())\n",
    "    model.add(LeakyReLU())\n",
    "    model.add(Reshape((8,8,60)))\n",
    "\n",
    "    model.add(Dropout(0.3))\n",
    "\n",
    "    \n",
    "    model.add(Conv2DTranspose(60, kernel_size=4, strides=(2,2), padding='same', use_bias=False, input_shape=(8,8,60)))\n",
    "    model.add(BatchNormalization())\n",
    "    model.add(LeakyReLU())\n",
    "\n",
    "    model.add(Dropout(0.3))\n",
    "\n",
    "  \n",
    "    \n",
    "    model.add(Conv2DTranspose(120, kernel_size=4, strides=(2,2), padding='same', use_bias=False, input_shape=(16,16,60)))\n",
    "    model.add(BatchNormalization())\n",
    "    model.add(LeakyReLU())\n",
    "\n",
    "    model.add(Dropout(0.3))\n",
    "\n",
    "\n",
    "    model.add(Conv2DTranspose(240, kernel_size=4, strides=(2,2), padding='same', use_bias=False, input_shape=(32,32,60)))\n",
    "    model.add(LeakyReLU())\n",
    "\n",
    "    model.add(Dense(1))\n",
    "    model.add(Activation(\"sigmoid\"))\n",
    "    \n",
    "              \n",
    "    model.summary()\n",
    "    \n",
    "    return model\n",
    "    \n",
    "    "
   ]
  },
  {
   "attachments": {},
   "cell_type": "markdown",
   "metadata": {},
   "source": [
    "# Discriminator Model"
   ]
  },
  {
   "cell_type": "code",
   "execution_count": 225,
   "metadata": {},
   "outputs": [],
   "source": [
    "\n",
    "def make_discriminator():\n",
    "    \n",
    "    # 1st set of layers\n",
    "    model = Sequential()\n",
    "    model.add(Conv2D(64, kernel_size=4, strides=(2,2), padding=\"same\", input_shape=(64,64,1)))\n",
    "    model.add(BatchNormalization())\n",
    "    model.add(LeakyReLU())\n",
    "    model.add(MaxPooling2D(pool_size=(2,2), strides=(2,2), padding='same'))\n",
    "    \n",
    "\n",
    "    model.add(Conv2D(128, kernel_size=4, strides=(2,2), padding='same'))\n",
    "    model.add(BatchNormalization())\n",
    "    model.add(LeakyReLU())\n",
    "    model.add(MaxPooling2D(pool_size=(2,2), strides=(2,2), padding='same'))\n",
    "    \n",
    "   \n",
    "    model.add(Conv2D(256, kernel_size=4, strides=(2,2), padding='same'))\n",
    "    model.add(BatchNormalization())\n",
    "    model.add(LeakyReLU())\n",
    "    model.add(MaxPooling2D(pool_size=(2,2), strides=(2,2), padding='same'))\n",
    "    \n",
    "    model.add(Conv2D(512, kernel_size=4, strides=(2,2), padding='same'))\n",
    "    model.add(BatchNormalization())\n",
    "    model.add(LeakyReLU())\n",
    "    model.add(MaxPooling2D(pool_size=(2,2), strides=(2,2), padding='same'))\n",
    "\n",
    "\n",
    "  \n",
    "    \n",
    "    # output layer\n",
    "    model.add(Flatten())\n",
    "    model.add(Dropout(0.2))\n",
    "    \n",
    "    model.add(Dense(1)) # Binary classification (2 outputs), so only 1 dense layer needed\n",
    "    model.add(Activation('sigmoid'))\n",
    "    \n",
    "    model.summary()\n",
    "    return model\n",
    "    "
   ]
  },
  {
   "attachments": {},
   "cell_type": "markdown",
   "metadata": {},
   "source": [
    "# Training"
   ]
  },
  {
   "attachments": {},
   "cell_type": "markdown",
   "metadata": {},
   "source": [
    "First, create the models from the functions"
   ]
  },
  {
   "cell_type": "code",
   "execution_count": 226,
   "metadata": {},
   "outputs": [
    {
     "name": "stdout",
     "output_type": "stream",
     "text": [
      "Model: \"sequential_25\"\n",
      "_________________________________________________________________\n",
      " Layer (type)                Output Shape              Param #   \n",
      "=================================================================\n",
      " dense_33 (Dense)            (None, 3840)              387840    \n",
      "                                                                 \n",
      " batch_normalization_81 (Ba  (None, 3840)              15360     \n",
      " tchNormalization)                                               \n",
      "                                                                 \n",
      " leaky_re_lu_89 (LeakyReLU)  (None, 3840)              0         \n",
      "                                                                 \n",
      " reshape_13 (Reshape)        (None, 8, 8, 60)          0         \n",
      "                                                                 \n",
      " dropout_60 (Dropout)        (None, 8, 8, 60)          0         \n",
      "                                                                 \n",
      " conv2d_transpose_39 (Conv2  (None, 16, 16, 60)        57600     \n",
      " DTranspose)                                                     \n",
      "                                                                 \n",
      " batch_normalization_82 (Ba  (None, 16, 16, 60)        240       \n",
      " tchNormalization)                                               \n",
      "                                                                 \n",
      " leaky_re_lu_90 (LeakyReLU)  (None, 16, 16, 60)        0         \n",
      "                                                                 \n",
      " dropout_61 (Dropout)        (None, 16, 16, 60)        0         \n",
      "                                                                 \n",
      " conv2d_transpose_40 (Conv2  (None, 32, 32, 120)       115200    \n",
      " DTranspose)                                                     \n",
      "                                                                 \n",
      " batch_normalization_83 (Ba  (None, 32, 32, 120)       480       \n",
      " tchNormalization)                                               \n",
      "                                                                 \n",
      " leaky_re_lu_91 (LeakyReLU)  (None, 32, 32, 120)       0         \n",
      "                                                                 \n",
      " dropout_62 (Dropout)        (None, 32, 32, 120)       0         \n",
      "                                                                 \n",
      " conv2d_transpose_41 (Conv2  (None, 64, 64, 240)       460800    \n",
      " DTranspose)                                                     \n",
      "                                                                 \n",
      " leaky_re_lu_92 (LeakyReLU)  (None, 64, 64, 240)       0         \n",
      "                                                                 \n",
      " dense_34 (Dense)            (None, 64, 64, 1)         241       \n",
      "                                                                 \n",
      " activation_24 (Activation)  (None, 64, 64, 1)         0         \n",
      "                                                                 \n",
      "=================================================================\n",
      "Total params: 1037761 (3.96 MB)\n",
      "Trainable params: 1029721 (3.93 MB)\n",
      "Non-trainable params: 8040 (31.41 KB)\n",
      "_________________________________________________________________\n",
      "tf.Tensor(\n",
      "[[[[0.46042728]\n",
      "   [0.34138858]\n",
      "   [0.28255194]\n",
      "   ...\n",
      "   [0.45010465]\n",
      "   [0.46093896]\n",
      "   [0.69402575]]\n",
      "\n",
      "  [[0.74498385]\n",
      "   [0.5152558 ]\n",
      "   [0.60241383]\n",
      "   ...\n",
      "   [0.56851774]\n",
      "   [0.05552254]\n",
      "   [0.8200986 ]]\n",
      "\n",
      "  [[0.5888035 ]\n",
      "   [0.21050313]\n",
      "   [0.5028706 ]\n",
      "   ...\n",
      "   [0.3683717 ]\n",
      "   [0.12190956]\n",
      "   [0.4890505 ]]\n",
      "\n",
      "  ...\n",
      "\n",
      "  [[0.1344444 ]\n",
      "   [0.00932804]\n",
      "   [0.18802677]\n",
      "   ...\n",
      "   [0.95064616]\n",
      "   [0.49686313]\n",
      "   [0.7218414 ]]\n",
      "\n",
      "  [[0.74045175]\n",
      "   [0.5330961 ]\n",
      "   [0.6177308 ]\n",
      "   ...\n",
      "   [0.98930055]\n",
      "   [0.59998775]\n",
      "   [0.21638392]]\n",
      "\n",
      "  [[0.67099035]\n",
      "   [0.77081496]\n",
      "   [0.48092568]\n",
      "   ...\n",
      "   [0.5655986 ]\n",
      "   [0.6099458 ]\n",
      "   [0.38273177]]]], shape=(1, 64, 64, 1), dtype=float32)\n"
     ]
    }
   ],
   "source": [
    "gen_model = make_generator()\n",
    "\n",
    "noise = generate_generator_input()\n",
    "test_gen = gen_model(noise, training = False)\n",
    "\n",
    "print(test_gen)\n",
    "\n"
   ]
  },
  {
   "attachments": {},
   "cell_type": "markdown",
   "metadata": {},
   "source": [
    "Next, test the untrained discriminator on the map of noise generated before\n",
    "\n",
    "Negative values means fake, positive means real"
   ]
  },
  {
   "cell_type": "code",
   "execution_count": 227,
   "metadata": {},
   "outputs": [
    {
     "name": "stdout",
     "output_type": "stream",
     "text": [
      "Model: \"sequential_26\"\n",
      "_________________________________________________________________\n",
      " Layer (type)                Output Shape              Param #   \n",
      "=================================================================\n",
      " conv2d_42 (Conv2D)          (None, 32, 32, 64)        1088      \n",
      "                                                                 \n",
      " batch_normalization_84 (Ba  (None, 32, 32, 64)        256       \n",
      " tchNormalization)                                               \n",
      "                                                                 \n",
      " leaky_re_lu_93 (LeakyReLU)  (None, 32, 32, 64)        0         \n",
      "                                                                 \n",
      " max_pooling2d_42 (MaxPooli  (None, 16, 16, 64)        0         \n",
      " ng2D)                                                           \n",
      "                                                                 \n",
      " conv2d_43 (Conv2D)          (None, 8, 8, 128)         131200    \n",
      "                                                                 \n",
      " batch_normalization_85 (Ba  (None, 8, 8, 128)         512       \n",
      " tchNormalization)                                               \n",
      "                                                                 \n",
      " leaky_re_lu_94 (LeakyReLU)  (None, 8, 8, 128)         0         \n",
      "                                                                 \n",
      " max_pooling2d_43 (MaxPooli  (None, 4, 4, 128)         0         \n",
      " ng2D)                                                           \n",
      "                                                                 \n",
      " conv2d_44 (Conv2D)          (None, 2, 2, 256)         524544    \n",
      "                                                                 \n",
      " batch_normalization_86 (Ba  (None, 2, 2, 256)         1024      \n",
      " tchNormalization)                                               \n",
      "                                                                 \n",
      " leaky_re_lu_95 (LeakyReLU)  (None, 2, 2, 256)         0         \n",
      "                                                                 \n",
      " max_pooling2d_44 (MaxPooli  (None, 1, 1, 256)         0         \n",
      " ng2D)                                                           \n",
      "                                                                 \n",
      " conv2d_45 (Conv2D)          (None, 1, 1, 512)         2097664   \n",
      "                                                                 \n",
      " batch_normalization_87 (Ba  (None, 1, 1, 512)         2048      \n",
      " tchNormalization)                                               \n",
      "                                                                 \n",
      " leaky_re_lu_96 (LeakyReLU)  (None, 1, 1, 512)         0         \n",
      "                                                                 \n",
      " max_pooling2d_45 (MaxPooli  (None, 1, 1, 512)         0         \n",
      " ng2D)                                                           \n",
      "                                                                 \n",
      " flatten_12 (Flatten)        (None, 512)               0         \n",
      "                                                                 \n",
      " dropout_63 (Dropout)        (None, 512)               0         \n",
      "                                                                 \n",
      " dense_35 (Dense)            (None, 1)                 513       \n",
      "                                                                 \n",
      " activation_25 (Activation)  (None, 1)                 0         \n",
      "                                                                 \n",
      "=================================================================\n",
      "Total params: 2758849 (10.52 MB)\n",
      "Trainable params: 2756929 (10.52 MB)\n",
      "Non-trainable params: 1920 (7.50 KB)\n",
      "_________________________________________________________________\n",
      "tf.Tensor([[0.50831]], shape=(1, 1), dtype=float32)\n"
     ]
    }
   ],
   "source": [
    "disc_model = make_discriminator()\n",
    "decision = disc_model(test_gen)\n",
    "print(decision)"
   ]
  },
  {
   "attachments": {},
   "cell_type": "markdown",
   "metadata": {},
   "source": [
    "## Loss and Optimizers"
   ]
  },
  {
   "cell_type": "code",
   "execution_count": 228,
   "metadata": {},
   "outputs": [],
   "source": [
    "cross_entropy = BinaryCrossentropy(from_logits=True)\n",
    "\n"
   ]
  },
  {
   "attachments": {},
   "cell_type": "markdown",
   "metadata": {},
   "source": [
    "Discriminator loss, adapted from: https://www.tensorflow.org/tutorials/generative/dcgan"
   ]
  },
  {
   "cell_type": "code",
   "execution_count": 229,
   "metadata": {},
   "outputs": [],
   "source": [
    "def discrim_loss(real_output, fake_output):\n",
    "    real_loss = cross_entropy(tf.ones_like(real_output), real_output)\n",
    "    fake_loss = cross_entropy(tf.zeros_like(fake_output), fake_output)\n",
    "    total_loss = real_loss + fake_loss\n",
    "    return total_loss"
   ]
  },
  {
   "attachments": {},
   "cell_type": "markdown",
   "metadata": {},
   "source": [
    "Generator loss"
   ]
  },
  {
   "cell_type": "code",
   "execution_count": 230,
   "metadata": {},
   "outputs": [],
   "source": [
    "def generator_loss(fake_output):\n",
    "    return cross_entropy(tf.ones_like(fake_output), fake_output)"
   ]
  },
  {
   "attachments": {},
   "cell_type": "markdown",
   "metadata": {},
   "source": [
    "Optimizers:"
   ]
  },
  {
   "cell_type": "code",
   "execution_count": 231,
   "metadata": {},
   "outputs": [],
   "source": [
    "gen_optimizer = Adam(learning_rate =1e-4, beta_1=0.5)\n",
    "disc_optimizer = Adam(learning_rate =1e-4, beta_1=0.5)"
   ]
  },
  {
   "attachments": {},
   "cell_type": "markdown",
   "metadata": {},
   "source": [
    "Discriminator accuracy"
   ]
  },
  {
   "cell_type": "code",
   "execution_count": 232,
   "metadata": {},
   "outputs": [],
   "source": [
    "def compute_discrim_accuracy(real_output, fake_output):\n",
    "    if real_output[0] >=0:\n",
    "        \n",
    "        if fake_output[0] <0:\n",
    "            accuracy = (real_output[0] + fake_output[0]) / (real_output[0] + fake_output[0])\n",
    "        else:\n",
    "            accuracy = real_output[0]/ (real_output[0] + fake_output[0])\n",
    "    elif fake_output[0] <0:\n",
    "        accuracy = fake_output[0] / (real_output[0] + fake_output[0])\n",
    "    else:\n",
    "        accuracy = 0/ (real_output[0] + fake_output[0])\n",
    "    \n",
    "    return accuracy"
   ]
  },
  {
   "attachments": {},
   "cell_type": "markdown",
   "metadata": {},
   "source": [
    "## Training"
   ]
  },
  {
   "attachments": {},
   "cell_type": "markdown",
   "metadata": {},
   "source": [
    "training parameters:"
   ]
  },
  {
   "cell_type": "code",
   "execution_count": 233,
   "metadata": {},
   "outputs": [],
   "source": [
    "N_EPOCHS = 50\n",
    "\n",
    "VERBOSE = 1\n"
   ]
  },
  {
   "attachments": {},
   "cell_type": "markdown",
   "metadata": {},
   "source": [
    "Training step"
   ]
  },
  {
   "cell_type": "code",
   "execution_count": 234,
   "metadata": {},
   "outputs": [],
   "source": [
    "@tf.function\n",
    "def training_step(current_batch):\n",
    "    \n",
    "    noise_sample = generate_generator_input()\n",
    "    \n",
    "\n",
    "    with tf.GradientTape() as gen_tape, tf.GradientTape() as disc_tape:\n",
    "\n",
    "        generated_map = gen_model(noise_sample, training=True)\n",
    "        print(\"generated map shape\" + str(generated_map.shape))\n",
    "        \n",
    "        fake_output = disc_model(generated_map,  training=True)\n",
    "        real_output = disc_model(current_batch, training=True)\n",
    "        \n",
    "\n",
    "        gen_loss = generator_loss(fake_output=fake_output)\n",
    "        disc_loss = discrim_loss(real_output=real_output, fake_output=fake_output)\n",
    "\n",
    "        disc_accuracy = compute_discrim_accuracy(real_output, fake_output)\n",
    "\n",
    "        \n",
    "\n",
    "    gen_gradients = gen_tape.gradient(gen_loss, gen_model.trainable_variables)\n",
    "    disc_gradients = disc_tape.gradient(disc_loss, disc_model.trainable_variables)\n",
    "\n",
    "    gen_optimizer.apply_gradients(zip(gen_gradients, gen_model.trainable_variables))\n",
    "    disc_optimizer.apply_gradients(zip(disc_gradients, disc_model.trainable_variables))\n",
    "\n",
    "    return gen_loss, disc_loss, disc_accuracy"
   ]
  },
  {
   "attachments": {},
   "cell_type": "markdown",
   "metadata": {
    "vscode": {
     "languageId": "python"
    }
   },
   "source": [
    "Train models"
   ]
  },
  {
   "cell_type": "code",
   "execution_count": 235,
   "metadata": {},
   "outputs": [],
   "source": [
    "def train(dataset, N_EPOCHS):\n",
    "\n",
    "    gen_losses = []\n",
    "    disc_losses = []\n",
    "\n",
    "    disc_accuracies = []\n",
    "    \n",
    "\n",
    "    for epoch in range(N_EPOCHS):\n",
    "        gen_losses_for_epoch = []\n",
    "        disc_losses_for_epoch = []\n",
    "\n",
    "        disc_accuracies_for_epoch = []\n",
    "\n",
    "        print(\"epoch = \" + str(epoch))\n",
    "\n",
    "        for map_batch in dataset:\n",
    "            \n",
    "            \n",
    "            gen_loss, disc_loss, disc_accuracy = training_step(map_batch)\n",
    "\n",
    "            gen_losses_for_epoch.append(gen_loss)\n",
    "            disc_losses_for_epoch.append(disc_loss)\n",
    "            disc_accuracies.append(disc_accuracy)\n",
    "        \n",
    "        avg_gen_loss = sum(gen_losses_for_epoch) / 48\n",
    "        avg_disc_loss = sum(disc_losses_for_epoch) / 48\n",
    "\n",
    "        avg_disc_accuracy = sum(disc_accuracies_for_epoch) / 48\n",
    "\n",
    "        gen_losses.append(avg_gen_loss)\n",
    "        disc_losses.append(avg_disc_loss)\n",
    "\n",
    "        disc_accuracies.append(avg_disc_accuracy)\n",
    "\n",
    "        print(\"Gen loss = \" + str(avg_gen_loss))\n",
    "        print(\"Disc loss = \" + str(avg_disc_loss))\n",
    "\n",
    "        print(\"Disc accuracy = \" + str(avg_disc_accuracy))\n",
    "    \n",
    "    input_for_map_after_training = generate_generator_input()\n",
    "    generated_map = gen_model(input_for_map_after_training, training=False)\n",
    "\n",
    "    \n",
    "\n",
    "    return gen_losses, disc_losses, generated_map, disc_accuracies\n"
   ]
  },
  {
   "attachments": {},
   "cell_type": "markdown",
   "metadata": {},
   "source": [
    "Train GAN"
   ]
  },
  {
   "cell_type": "code",
   "execution_count": 236,
   "metadata": {},
   "outputs": [
    {
     "name": "stdout",
     "output_type": "stream",
     "text": [
      "epoch = 0\n",
      "generated map shape(1, 64, 64, 1)\n"
     ]
    },
    {
     "name": "stderr",
     "output_type": "stream",
     "text": [
      "/home/ubuntu/.local/lib/python3.10/site-packages/keras/src/backend.py:5805: UserWarning: \"`binary_crossentropy` received `from_logits=True`, but the `output` argument was produced by a Sigmoid activation and thus does not represent logits. Was this intended?\n",
      "  output, from_logits = _get_logits(\n"
     ]
    },
    {
     "name": "stdout",
     "output_type": "stream",
     "text": [
      "generated map shape(1, 64, 64, 1)\n",
      "Gen loss = tf.Tensor(0.08661581, shape=(), dtype=float32)\n",
      "Disc loss = tf.Tensor(0.16152556, shape=(), dtype=float32)\n",
      "Disc accuracy = 0.0\n",
      "epoch = 1\n",
      "Gen loss = tf.Tensor(0.086642206, shape=(), dtype=float32)\n",
      "Disc loss = tf.Tensor(0.15354799, shape=(), dtype=float32)\n",
      "Disc accuracy = 0.0\n",
      "epoch = 2\n",
      "Gen loss = tf.Tensor(0.08668233, shape=(), dtype=float32)\n",
      "Disc loss = tf.Tensor(0.14581288, shape=(), dtype=float32)\n",
      "Disc accuracy = 0.0\n",
      "epoch = 3\n",
      "Gen loss = tf.Tensor(0.08673528, shape=(), dtype=float32)\n",
      "Disc loss = tf.Tensor(0.14256863, shape=(), dtype=float32)\n",
      "Disc accuracy = 0.0\n",
      "epoch = 4\n",
      "Gen loss = tf.Tensor(0.086753376, shape=(), dtype=float32)\n",
      "Disc loss = tf.Tensor(0.13678128, shape=(), dtype=float32)\n",
      "Disc accuracy = 0.0\n",
      "epoch = 5\n",
      "Gen loss = tf.Tensor(0.08682746, shape=(), dtype=float32)\n",
      "Disc loss = tf.Tensor(0.13764744, shape=(), dtype=float32)\n",
      "Disc accuracy = 0.0\n",
      "epoch = 6\n",
      "Gen loss = tf.Tensor(0.08692195, shape=(), dtype=float32)\n",
      "Disc loss = tf.Tensor(0.13641752, shape=(), dtype=float32)\n",
      "Disc accuracy = 0.0\n",
      "epoch = 7\n",
      "Gen loss = tf.Tensor(0.08698613, shape=(), dtype=float32)\n",
      "Disc loss = tf.Tensor(0.12664823, shape=(), dtype=float32)\n",
      "Disc accuracy = 0.0\n",
      "epoch = 8\n",
      "Gen loss = tf.Tensor(0.0871121, shape=(), dtype=float32)\n",
      "Disc loss = tf.Tensor(0.12497687, shape=(), dtype=float32)\n",
      "Disc accuracy = 0.0\n",
      "epoch = 9\n",
      "Gen loss = tf.Tensor(0.087215304, shape=(), dtype=float32)\n",
      "Disc loss = tf.Tensor(0.12160496, shape=(), dtype=float32)\n",
      "Disc accuracy = 0.0\n",
      "epoch = 10\n",
      "Gen loss = tf.Tensor(0.08734172, shape=(), dtype=float32)\n",
      "Disc loss = tf.Tensor(0.119586654, shape=(), dtype=float32)\n",
      "Disc accuracy = 0.0\n",
      "epoch = 11\n",
      "Gen loss = tf.Tensor(0.08748699, shape=(), dtype=float32)\n",
      "Disc loss = tf.Tensor(0.11777216, shape=(), dtype=float32)\n",
      "Disc accuracy = 0.0\n",
      "epoch = 12\n",
      "Gen loss = tf.Tensor(0.087616034, shape=(), dtype=float32)\n",
      "Disc loss = tf.Tensor(0.11631829, shape=(), dtype=float32)\n",
      "Disc accuracy = 0.0\n",
      "epoch = 13\n",
      "Gen loss = tf.Tensor(0.08772942, shape=(), dtype=float32)\n",
      "Disc loss = tf.Tensor(0.11130049, shape=(), dtype=float32)\n",
      "Disc accuracy = 0.0\n",
      "epoch = 14\n",
      "Gen loss = tf.Tensor(0.08790562, shape=(), dtype=float32)\n",
      "Disc loss = tf.Tensor(0.11267081, shape=(), dtype=float32)\n",
      "Disc accuracy = 0.0\n",
      "epoch = 15\n",
      "Gen loss = tf.Tensor(0.08818159, shape=(), dtype=float32)\n",
      "Disc loss = tf.Tensor(0.10747961, shape=(), dtype=float32)\n",
      "Disc accuracy = 0.0\n",
      "epoch = 16\n",
      "Gen loss = tf.Tensor(0.08835194, shape=(), dtype=float32)\n",
      "Disc loss = tf.Tensor(0.10636061, shape=(), dtype=float32)\n",
      "Disc accuracy = 0.0\n",
      "epoch = 17\n",
      "Gen loss = tf.Tensor(0.08856072, shape=(), dtype=float32)\n",
      "Disc loss = tf.Tensor(0.10745498, shape=(), dtype=float32)\n",
      "Disc accuracy = 0.0\n",
      "epoch = 18\n",
      "Gen loss = tf.Tensor(0.08881233, shape=(), dtype=float32)\n",
      "Disc loss = tf.Tensor(0.107684374, shape=(), dtype=float32)\n",
      "Disc accuracy = 0.0\n",
      "epoch = 19\n",
      "Gen loss = tf.Tensor(0.08919559, shape=(), dtype=float32)\n",
      "Disc loss = tf.Tensor(0.10700556, shape=(), dtype=float32)\n",
      "Disc accuracy = 0.0\n",
      "epoch = 20\n",
      "Gen loss = tf.Tensor(0.08966339, shape=(), dtype=float32)\n",
      "Disc loss = tf.Tensor(0.10568241, shape=(), dtype=float32)\n",
      "Disc accuracy = 0.0\n",
      "epoch = 21\n",
      "Gen loss = tf.Tensor(0.09001275, shape=(), dtype=float32)\n",
      "Disc loss = tf.Tensor(0.10409363, shape=(), dtype=float32)\n",
      "Disc accuracy = 0.0\n",
      "epoch = 22\n",
      "Gen loss = tf.Tensor(0.0905418, shape=(), dtype=float32)\n",
      "Disc loss = tf.Tensor(0.10410449, shape=(), dtype=float32)\n",
      "Disc accuracy = 0.0\n",
      "epoch = 23\n",
      "Gen loss = tf.Tensor(0.09130681, shape=(), dtype=float32)\n",
      "Disc loss = tf.Tensor(0.10208509, shape=(), dtype=float32)\n",
      "Disc accuracy = 0.0\n",
      "epoch = 24\n",
      "Gen loss = tf.Tensor(0.091771334, shape=(), dtype=float32)\n",
      "Disc loss = tf.Tensor(0.09850938, shape=(), dtype=float32)\n",
      "Disc accuracy = 0.0\n",
      "epoch = 25\n",
      "Gen loss = tf.Tensor(0.09274071, shape=(), dtype=float32)\n",
      "Disc loss = tf.Tensor(0.0975081, shape=(), dtype=float32)\n",
      "Disc accuracy = 0.0\n",
      "epoch = 26\n",
      "Gen loss = tf.Tensor(0.09349566, shape=(), dtype=float32)\n",
      "Disc loss = tf.Tensor(0.0959751, shape=(), dtype=float32)\n",
      "Disc accuracy = 0.0\n",
      "epoch = 27\n",
      "Gen loss = tf.Tensor(0.09426731, shape=(), dtype=float32)\n",
      "Disc loss = tf.Tensor(0.09493288, shape=(), dtype=float32)\n",
      "Disc accuracy = 0.0\n",
      "epoch = 28\n",
      "Gen loss = tf.Tensor(0.09518752, shape=(), dtype=float32)\n",
      "Disc loss = tf.Tensor(0.09460879, shape=(), dtype=float32)\n",
      "Disc accuracy = 0.0\n",
      "epoch = 29\n",
      "Gen loss = tf.Tensor(0.09588837, shape=(), dtype=float32)\n",
      "Disc loss = tf.Tensor(0.0932373, shape=(), dtype=float32)\n",
      "Disc accuracy = 0.0\n",
      "epoch = 30\n",
      "Gen loss = tf.Tensor(0.096577704, shape=(), dtype=float32)\n",
      "Disc loss = tf.Tensor(0.08883626, shape=(), dtype=float32)\n",
      "Disc accuracy = 0.0\n",
      "epoch = 31\n",
      "Gen loss = tf.Tensor(0.097768836, shape=(), dtype=float32)\n",
      "Disc loss = tf.Tensor(0.08883885, shape=(), dtype=float32)\n",
      "Disc accuracy = 0.0\n",
      "epoch = 32\n",
      "Gen loss = tf.Tensor(0.098356284, shape=(), dtype=float32)\n",
      "Disc loss = tf.Tensor(0.0924534, shape=(), dtype=float32)\n",
      "Disc accuracy = 0.0\n",
      "epoch = 33\n",
      "Gen loss = tf.Tensor(0.09883102, shape=(), dtype=float32)\n",
      "Disc loss = tf.Tensor(0.08979229, shape=(), dtype=float32)\n",
      "Disc accuracy = 0.0\n",
      "epoch = 34\n",
      "Gen loss = tf.Tensor(0.09961432, shape=(), dtype=float32)\n",
      "Disc loss = tf.Tensor(0.087244, shape=(), dtype=float32)\n",
      "Disc accuracy = 0.0\n",
      "epoch = 35\n",
      "Gen loss = tf.Tensor(0.10055398, shape=(), dtype=float32)\n",
      "Disc loss = tf.Tensor(0.08632786, shape=(), dtype=float32)\n",
      "Disc accuracy = 0.0\n",
      "epoch = 36\n",
      "Gen loss = tf.Tensor(0.10121864, shape=(), dtype=float32)\n",
      "Disc loss = tf.Tensor(0.08569383, shape=(), dtype=float32)\n",
      "Disc accuracy = 0.0\n",
      "epoch = 37\n",
      "Gen loss = tf.Tensor(0.101823725, shape=(), dtype=float32)\n",
      "Disc loss = tf.Tensor(0.08339559, shape=(), dtype=float32)\n",
      "Disc accuracy = 0.0\n",
      "epoch = 38\n",
      "Gen loss = tf.Tensor(0.10254419, shape=(), dtype=float32)\n",
      "Disc loss = tf.Tensor(0.0851048, shape=(), dtype=float32)\n",
      "Disc accuracy = 0.0\n",
      "epoch = 39\n",
      "Gen loss = tf.Tensor(0.102458805, shape=(), dtype=float32)\n",
      "Disc loss = tf.Tensor(0.08380305, shape=(), dtype=float32)\n",
      "Disc accuracy = 0.0\n",
      "epoch = 40\n",
      "Gen loss = tf.Tensor(0.10389621, shape=(), dtype=float32)\n",
      "Disc loss = tf.Tensor(0.083306275, shape=(), dtype=float32)\n",
      "Disc accuracy = 0.0\n",
      "epoch = 41\n",
      "Gen loss = tf.Tensor(0.10473633, shape=(), dtype=float32)\n",
      "Disc loss = tf.Tensor(0.08105817, shape=(), dtype=float32)\n",
      "Disc accuracy = 0.0\n",
      "epoch = 42\n",
      "Gen loss = tf.Tensor(0.10500992, shape=(), dtype=float32)\n",
      "Disc loss = tf.Tensor(0.08233992, shape=(), dtype=float32)\n",
      "Disc accuracy = 0.0\n",
      "epoch = 43\n",
      "Gen loss = tf.Tensor(0.10586835, shape=(), dtype=float32)\n",
      "Disc loss = tf.Tensor(0.078519374, shape=(), dtype=float32)\n",
      "Disc accuracy = 0.0\n",
      "epoch = 44\n",
      "Gen loss = tf.Tensor(0.106455795, shape=(), dtype=float32)\n",
      "Disc loss = tf.Tensor(0.07891852, shape=(), dtype=float32)\n",
      "Disc accuracy = 0.0\n",
      "epoch = 45\n",
      "Gen loss = tf.Tensor(0.10709486, shape=(), dtype=float32)\n",
      "Disc loss = tf.Tensor(0.07906353, shape=(), dtype=float32)\n",
      "Disc accuracy = 0.0\n",
      "epoch = 46\n",
      "Gen loss = tf.Tensor(0.10797992, shape=(), dtype=float32)\n",
      "Disc loss = tf.Tensor(0.07705508, shape=(), dtype=float32)\n",
      "Disc accuracy = 0.0\n",
      "epoch = 47\n",
      "Gen loss = tf.Tensor(0.10885691, shape=(), dtype=float32)\n",
      "Disc loss = tf.Tensor(0.07670017, shape=(), dtype=float32)\n",
      "Disc accuracy = 0.0\n",
      "epoch = 48\n",
      "Gen loss = tf.Tensor(0.10899699, shape=(), dtype=float32)\n",
      "Disc loss = tf.Tensor(0.07713159, shape=(), dtype=float32)\n",
      "Disc accuracy = 0.0\n",
      "epoch = 49\n",
      "Gen loss = tf.Tensor(0.11022272, shape=(), dtype=float32)\n",
      "Disc loss = tf.Tensor(0.075967886, shape=(), dtype=float32)\n",
      "Disc accuracy = 0.0\n",
      "(64, 64)\n",
      "[[10.0, 0.0, 1.0, 0.0, 255.0, 1.0, 248.0, 1.0, 209.0, 0.0, 0.0, 254.0, 199.0, 0.0, 4.0, 0.0, 0.0, 0.0, 255.0, 1.0, 254.0, 130.0, 255.0, 237.0, 254.0, 0.0, 151.0, 1.0, 252.0, 229.0, 0.0, 0.0, 1.0, 0.0, 102.0, 0.0, 242.0, 0.0, 215.0, 0.0, 4.0, 39.0, 0.0, 249.0, 1.0, 2.0, 255.0, 2.0, 255.0, 119.0, 1.0, 117.0, 0.0, 17.0, 1.0, 13.0, 255.0, 4.0, 65.0, 0.0, 253.0, 251.0, 114.0, 248.0], [253.0, 36.0, 254.0, 195.0, 255.0, 255.0, 253.0, 0.0, 255.0, 0.0, 255.0, 255.0, 0.0, 255.0, 255.0, 1.0, 255.0, 0.0, 255.0, 255.0, 1.0, 255.0, 0.0, 4.0, 255.0, 3.0, 14.0, 247.0, 254.0, 3.0, 0.0, 255.0, 10.0, 0.0, 0.0, 0.0, 6.0, 0.0, 0.0, 0.0, 255.0, 0.0, 254.0, 233.0, 0.0, 4.0, 0.0, 0.0, 0.0, 0.0, 255.0, 0.0, 0.0, 184.0, 0.0, 254.0, 255.0, 0.0, 2.0, 255.0, 18.0, 247.0, 0.0, 255.0], [187.0, 1.0, 249.0, 0.0, 252.0, 213.0, 0.0, 4.0, 255.0, 111.0, 255.0, 245.0, 255.0, 0.0, 0.0, 194.0, 7.0, 236.0, 0.0, 0.0, 255.0, 0.0, 249.0, 240.0, 35.0, 255.0, 0.0, 254.0, 255.0, 255.0, 0.0, 255.0, 255.0, 255.0, 234.0, 254.0, 255.0, 82.0, 255.0, 255.0, 250.0, 253.0, 18.0, 255.0, 255.0, 1.0, 0.0, 255.0, 0.0, 255.0, 0.0, 255.0, 255.0, 0.0, 0.0, 0.0, 0.0, 2.0, 0.0, 255.0, 0.0, 255.0, 0.0, 251.0], [73.0, 255.0, 1.0, 0.0, 0.0, 159.0, 255.0, 0.0, 253.0, 255.0, 253.0, 0.0, 223.0, 0.0, 255.0, 164.0, 217.0, 255.0, 11.0, 0.0, 0.0, 255.0, 0.0, 7.0, 0.0, 254.0, 255.0, 0.0, 0.0, 79.0, 87.0, 255.0, 255.0, 136.0, 0.0, 0.0, 0.0, 255.0, 255.0, 0.0, 255.0, 255.0, 255.0, 0.0, 0.0, 0.0, 4.0, 2.0, 255.0, 255.0, 255.0, 0.0, 255.0, 2.0, 255.0, 0.0, 253.0, 0.0, 0.0, 255.0, 0.0, 0.0, 0.0, 1.0], [253.0, 0.0, 242.0, 206.0, 255.0, 0.0, 0.0, 255.0, 10.0, 247.0, 255.0, 255.0, 255.0, 248.0, 191.0, 255.0, 255.0, 0.0, 255.0, 249.0, 255.0, 0.0, 0.0, 255.0, 251.0, 255.0, 255.0, 1.0, 229.0, 76.0, 0.0, 255.0, 255.0, 202.0, 255.0, 255.0, 11.0, 255.0, 1.0, 255.0, 255.0, 0.0, 255.0, 252.0, 255.0, 244.0, 255.0, 249.0, 0.0, 255.0, 255.0, 0.0, 0.0, 231.0, 251.0, 255.0, 0.0, 232.0, 0.0, 21.0, 255.0, 1.0, 10.0, 255.0], [3.0, 110.0, 247.0, 67.0, 119.0, 26.0, 253.0, 255.0, 4.0, 226.0, 255.0, 0.0, 1.0, 0.0, 0.0, 255.0, 4.0, 0.0, 255.0, 0.0, 255.0, 255.0, 0.0, 0.0, 34.0, 0.0, 255.0, 50.0, 33.0, 255.0, 0.0, 0.0, 250.0, 0.0, 255.0, 0.0, 0.0, 255.0, 255.0, 254.0, 252.0, 0.0, 255.0, 255.0, 255.0, 255.0, 252.0, 0.0, 255.0, 255.0, 255.0, 0.0, 255.0, 234.0, 1.0, 54.0, 255.0, 0.0, 255.0, 0.0, 255.0, 0.0, 0.0, 174.0], [229.0, 247.0, 1.0, 255.0, 1.0, 0.0, 251.0, 0.0, 0.0, 0.0, 254.0, 0.0, 255.0, 1.0, 254.0, 255.0, 255.0, 255.0, 0.0, 0.0, 255.0, 255.0, 164.0, 255.0, 255.0, 0.0, 0.0, 0.0, 255.0, 255.0, 255.0, 255.0, 0.0, 0.0, 255.0, 255.0, 0.0, 254.0, 14.0, 255.0, 0.0, 255.0, 254.0, 255.0, 3.0, 255.0, 1.0, 0.0, 0.0, 0.0, 255.0, 255.0, 188.0, 255.0, 255.0, 255.0, 255.0, 0.0, 0.0, 0.0, 0.0, 255.0, 6.0, 240.0], [193.0, 0.0, 0.0, 0.0, 255.0, 255.0, 254.0, 0.0, 0.0, 100.0, 1.0, 0.0, 0.0, 0.0, 0.0, 234.0, 0.0, 4.0, 255.0, 0.0, 0.0, 255.0, 255.0, 0.0, 12.0, 0.0, 0.0, 0.0, 0.0, 255.0, 255.0, 0.0, 0.0, 251.0, 255.0, 0.0, 0.0, 255.0, 255.0, 214.0, 1.0, 255.0, 0.0, 0.0, 0.0, 255.0, 255.0, 0.0, 0.0, 0.0, 0.0, 0.0, 0.0, 255.0, 0.0, 19.0, 0.0, 1.0, 0.0, 0.0, 0.0, 255.0, 255.0, 248.0], [255.0, 0.0, 255.0, 109.0, 0.0, 0.0, 0.0, 255.0, 0.0, 74.0, 255.0, 0.0, 255.0, 0.0, 0.0, 255.0, 5.0, 0.0, 255.0, 0.0, 226.0, 0.0, 255.0, 104.0, 255.0, 0.0, 255.0, 255.0, 2.0, 0.0, 255.0, 255.0, 255.0, 250.0, 255.0, 0.0, 255.0, 0.0, 44.0, 0.0, 255.0, 0.0, 255.0, 255.0, 255.0, 3.0, 255.0, 255.0, 255.0, 253.0, 255.0, 243.0, 0.0, 0.0, 0.0, 171.0, 255.0, 255.0, 255.0, 216.0, 0.0, 0.0, 0.0, 254.0], [255.0, 0.0, 8.0, 0.0, 243.0, 0.0, 252.0, 0.0, 255.0, 0.0, 254.0, 255.0, 255.0, 255.0, 254.0, 247.0, 255.0, 255.0, 255.0, 255.0, 88.0, 0.0, 0.0, 254.0, 255.0, 67.0, 0.0, 255.0, 246.0, 0.0, 1.0, 255.0, 255.0, 0.0, 255.0, 255.0, 0.0, 255.0, 255.0, 255.0, 139.0, 1.0, 255.0, 249.0, 0.0, 255.0, 0.0, 255.0, 255.0, 0.0, 0.0, 255.0, 0.0, 0.0, 0.0, 1.0, 255.0, 232.0, 11.0, 0.0, 255.0, 0.0, 255.0, 255.0], [0.0, 255.0, 255.0, 0.0, 255.0, 46.0, 253.0, 29.0, 0.0, 255.0, 0.0, 2.0, 255.0, 0.0, 0.0, 255.0, 225.0, 255.0, 0.0, 0.0, 255.0, 0.0, 3.0, 0.0, 0.0, 255.0, 0.0, 48.0, 255.0, 19.0, 21.0, 0.0, 255.0, 0.0, 0.0, 8.0, 240.0, 255.0, 106.0, 255.0, 0.0, 255.0, 0.0, 0.0, 27.0, 0.0, 255.0, 0.0, 241.0, 0.0, 2.0, 0.0, 0.0, 0.0, 255.0, 1.0, 255.0, 0.0, 0.0, 0.0, 192.0, 6.0, 0.0, 1.0], [255.0, 0.0, 255.0, 0.0, 0.0, 182.0, 1.0, 0.0, 0.0, 0.0, 0.0, 0.0, 255.0, 255.0, 0.0, 255.0, 255.0, 124.0, 0.0, 0.0, 254.0, 0.0, 0.0, 0.0, 0.0, 5.0, 255.0, 0.0, 0.0, 255.0, 255.0, 212.0, 233.0, 255.0, 255.0, 0.0, 0.0, 0.0, 123.0, 0.0, 0.0, 0.0, 255.0, 245.0, 0.0, 0.0, 255.0, 0.0, 0.0, 89.0, 255.0, 0.0, 0.0, 0.0, 77.0, 167.0, 10.0, 0.0, 217.0, 0.0, 255.0, 4.0, 253.0, 38.0], [255.0, 8.0, 255.0, 0.0, 0.0, 128.0, 0.0, 255.0, 255.0, 216.0, 255.0, 65.0, 255.0, 255.0, 255.0, 0.0, 255.0, 183.0, 255.0, 255.0, 1.0, 0.0, 133.0, 255.0, 0.0, 248.0, 255.0, 255.0, 255.0, 0.0, 0.0, 0.0, 254.0, 3.0, 255.0, 0.0, 255.0, 0.0, 0.0, 210.0, 255.0, 255.0, 193.0, 105.0, 255.0, 0.0, 255.0, 255.0, 0.0, 0.0, 255.0, 2.0, 255.0, 255.0, 255.0, 0.0, 201.0, 255.0, 0.0, 255.0, 255.0, 255.0, 0.0, 253.0], [103.0, 7.0, 254.0, 254.0, 0.0, 255.0, 0.0, 0.0, 0.0, 151.0, 0.0, 254.0, 0.0, 0.0, 253.0, 255.0, 255.0, 255.0, 255.0, 0.0, 255.0, 10.0, 1.0, 255.0, 0.0, 0.0, 0.0, 0.0, 255.0, 255.0, 253.0, 255.0, 255.0, 0.0, 255.0, 0.0, 0.0, 255.0, 255.0, 0.0, 255.0, 0.0, 0.0, 255.0, 255.0, 255.0, 0.0, 0.0, 255.0, 0.0, 255.0, 0.0, 20.0, 0.0, 255.0, 255.0, 254.0, 0.0, 255.0, 0.0, 255.0, 254.0, 0.0, 255.0], [0.0, 0.0, 255.0, 254.0, 29.0, 255.0, 0.0, 0.0, 255.0, 255.0, 255.0, 0.0, 255.0, 29.0, 0.0, 254.0, 255.0, 252.0, 255.0, 255.0, 21.0, 255.0, 0.0, 2.0, 255.0, 0.0, 144.0, 0.0, 0.0, 255.0, 0.0, 255.0, 0.0, 2.0, 255.0, 238.0, 255.0, 255.0, 255.0, 255.0, 0.0, 159.0, 255.0, 0.0, 255.0, 255.0, 255.0, 255.0, 255.0, 255.0, 255.0, 0.0, 255.0, 255.0, 255.0, 255.0, 255.0, 255.0, 0.0, 0.0, 0.0, 82.0, 202.0, 193.0], [198.0, 0.0, 255.0, 0.0, 4.0, 16.0, 0.0, 253.0, 0.0, 0.0, 0.0, 0.0, 0.0, 0.0, 242.0, 226.0, 0.0, 255.0, 1.0, 0.0, 0.0, 0.0, 196.0, 191.0, 255.0, 255.0, 255.0, 0.0, 0.0, 255.0, 255.0, 50.0, 114.0, 255.0, 0.0, 206.0, 0.0, 193.0, 255.0, 255.0, 255.0, 0.0, 255.0, 0.0, 0.0, 255.0, 0.0, 0.0, 0.0, 255.0, 50.0, 198.0, 0.0, 255.0, 255.0, 255.0, 0.0, 0.0, 0.0, 0.0, 0.0, 255.0, 255.0, 253.0], [253.0, 1.0, 248.0, 0.0, 255.0, 254.0, 112.0, 255.0, 255.0, 253.0, 0.0, 0.0, 0.0, 0.0, 70.0, 0.0, 255.0, 255.0, 250.0, 255.0, 255.0, 0.0, 255.0, 255.0, 255.0, 0.0, 255.0, 0.0, 255.0, 250.0, 0.0, 0.0, 255.0, 252.0, 255.0, 255.0, 255.0, 255.0, 255.0, 4.0, 6.0, 0.0, 255.0, 243.0, 255.0, 255.0, 169.0, 0.0, 255.0, 8.0, 255.0, 0.0, 0.0, 254.0, 255.0, 255.0, 0.0, 158.0, 2.0, 255.0, 255.0, 0.0, 0.0, 83.0], [198.0, 0.0, 1.0, 0.0, 215.0, 0.0, 0.0, 255.0, 255.0, 0.0, 0.0, 79.0, 0.0, 0.0, 255.0, 0.0, 241.0, 0.0, 0.0, 0.0, 255.0, 0.0, 0.0, 255.0, 2.0, 0.0, 0.0, 0.0, 0.0, 0.0, 255.0, 0.0, 255.0, 255.0, 255.0, 1.0, 0.0, 0.0, 255.0, 76.0, 255.0, 0.0, 0.0, 0.0, 0.0, 0.0, 0.0, 6.0, 8.0, 255.0, 0.0, 0.0, 0.0, 254.0, 185.0, 255.0, 40.0, 84.0, 255.0, 255.0, 6.0, 111.0, 0.0, 139.0], [168.0, 0.0, 0.0, 0.0, 255.0, 0.0, 255.0, 250.0, 255.0, 255.0, 255.0, 0.0, 255.0, 255.0, 255.0, 8.0, 255.0, 255.0, 0.0, 0.0, 36.0, 145.0, 255.0, 0.0, 162.0, 0.0, 255.0, 248.0, 255.0, 255.0, 0.0, 159.0, 2.0, 0.0, 0.0, 0.0, 1.0, 70.0, 245.0, 0.0, 254.0, 0.0, 0.0, 0.0, 255.0, 132.0, 219.0, 14.0, 255.0, 0.0, 255.0, 232.0, 255.0, 0.0, 255.0, 0.0, 254.0, 17.0, 0.0, 255.0, 255.0, 0.0, 255.0, 6.0], [253.0, 255.0, 0.0, 0.0, 0.0, 0.0, 0.0, 255.0, 2.0, 255.0, 249.0, 0.0, 0.0, 255.0, 251.0, 0.0, 0.0, 255.0, 0.0, 0.0, 0.0, 0.0, 254.0, 0.0, 255.0, 255.0, 255.0, 0.0, 0.0, 255.0, 255.0, 255.0, 0.0, 255.0, 255.0, 0.0, 0.0, 0.0, 255.0, 255.0, 0.0, 255.0, 255.0, 0.0, 0.0, 0.0, 0.0, 20.0, 0.0, 255.0, 255.0, 0.0, 8.0, 0.0, 255.0, 0.0, 255.0, 255.0, 255.0, 0.0, 0.0, 255.0, 255.0, 77.0], [255.0, 239.0, 255.0, 255.0, 255.0, 0.0, 0.0, 255.0, 255.0, 176.0, 255.0, 0.0, 255.0, 0.0, 255.0, 255.0, 175.0, 0.0, 255.0, 255.0, 255.0, 4.0, 239.0, 255.0, 255.0, 45.0, 255.0, 239.0, 255.0, 255.0, 255.0, 255.0, 255.0, 0.0, 255.0, 255.0, 255.0, 0.0, 0.0, 255.0, 255.0, 0.0, 255.0, 255.0, 255.0, 255.0, 0.0, 255.0, 255.0, 1.0, 255.0, 0.0, 255.0, 68.0, 0.0, 1.0, 255.0, 255.0, 255.0, 255.0, 0.0, 0.0, 101.0, 3.0], [231.0, 0.0, 255.0, 5.0, 1.0, 255.0, 0.0, 215.0, 0.0, 0.0, 255.0, 255.0, 255.0, 56.0, 0.0, 0.0, 0.0, 0.0, 255.0, 0.0, 255.0, 0.0, 0.0, 0.0, 8.0, 0.0, 0.0, 0.0, 0.0, 251.0, 0.0, 0.0, 255.0, 0.0, 0.0, 4.0, 26.0, 255.0, 0.0, 0.0, 0.0, 0.0, 0.0, 0.0, 181.0, 0.0, 255.0, 0.0, 255.0, 255.0, 0.0, 0.0, 255.0, 255.0, 255.0, 255.0, 255.0, 0.0, 255.0, 0.0, 255.0, 215.0, 0.0, 215.0], [250.0, 13.0, 0.0, 0.0, 254.0, 0.0, 0.0, 255.0, 254.0, 255.0, 0.0, 0.0, 2.0, 255.0, 194.0, 255.0, 0.0, 181.0, 245.0, 0.0, 254.0, 255.0, 0.0, 255.0, 0.0, 0.0, 158.0, 0.0, 12.0, 0.0, 20.0, 0.0, 0.0, 0.0, 255.0, 0.0, 0.0, 255.0, 255.0, 255.0, 1.0, 0.0, 255.0, 0.0, 255.0, 255.0, 0.0, 255.0, 0.0, 255.0, 255.0, 0.0, 250.0, 0.0, 253.0, 194.0, 2.0, 59.0, 255.0, 0.0, 0.0, 0.0, 255.0, 14.0], [28.0, 0.0, 0.0, 0.0, 255.0, 255.0, 0.0, 255.0, 0.0, 66.0, 0.0, 0.0, 239.0, 243.0, 255.0, 255.0, 0.0, 255.0, 0.0, 0.0, 0.0, 255.0, 0.0, 225.0, 250.0, 44.0, 11.0, 0.0, 255.0, 71.0, 255.0, 0.0, 0.0, 0.0, 255.0, 0.0, 255.0, 255.0, 83.0, 255.0, 0.0, 0.0, 0.0, 0.0, 0.0, 10.0, 255.0, 1.0, 1.0, 0.0, 0.0, 0.0, 255.0, 250.0, 185.0, 0.0, 255.0, 255.0, 0.0, 0.0, 0.0, 0.0, 0.0, 0.0], [255.0, 0.0, 255.0, 255.0, 255.0, 0.0, 255.0, 255.0, 255.0, 0.0, 0.0, 255.0, 1.0, 51.0, 0.0, 255.0, 0.0, 183.0, 255.0, 0.0, 244.0, 0.0, 255.0, 254.0, 255.0, 0.0, 0.0, 241.0, 254.0, 42.0, 255.0, 252.0, 255.0, 255.0, 255.0, 0.0, 255.0, 0.0, 0.0, 255.0, 16.0, 0.0, 0.0, 0.0, 255.0, 80.0, 255.0, 255.0, 0.0, 0.0, 255.0, 0.0, 255.0, 0.0, 60.0, 255.0, 255.0, 255.0, 0.0, 255.0, 255.0, 255.0, 0.0, 0.0], [255.0, 0.0, 0.0, 0.0, 255.0, 0.0, 0.0, 0.0, 255.0, 0.0, 0.0, 0.0, 193.0, 0.0, 255.0, 0.0, 0.0, 0.0, 255.0, 255.0, 0.0, 255.0, 0.0, 2.0, 255.0, 0.0, 0.0, 0.0, 255.0, 0.0, 6.0, 0.0, 0.0, 0.0, 235.0, 255.0, 31.0, 0.0, 0.0, 0.0, 255.0, 35.0, 0.0, 0.0, 0.0, 0.0, 253.0, 255.0, 32.0, 0.0, 255.0, 0.0, 255.0, 0.0, 0.0, 200.0, 0.0, 0.0, 255.0, 0.0, 255.0, 246.0, 249.0, 215.0], [255.0, 254.0, 255.0, 0.0, 255.0, 0.0, 255.0, 254.0, 20.0, 0.0, 198.0, 3.0, 255.0, 2.0, 253.0, 0.0, 229.0, 255.0, 0.0, 0.0, 14.0, 12.0, 0.0, 0.0, 35.0, 9.0, 255.0, 0.0, 255.0, 17.0, 255.0, 0.0, 3.0, 255.0, 7.0, 1.0, 255.0, 255.0, 255.0, 255.0, 255.0, 255.0, 8.0, 27.0, 4.0, 255.0, 0.0, 255.0, 255.0, 255.0, 0.0, 0.0, 255.0, 255.0, 15.0, 255.0, 219.0, 255.0, 0.0, 3.0, 255.0, 0.0, 250.0, 233.0], [255.0, 0.0, 255.0, 0.0, 0.0, 42.0, 0.0, 0.0, 1.0, 255.0, 0.0, 0.0, 4.0, 255.0, 255.0, 0.0, 255.0, 255.0, 255.0, 2.0, 248.0, 0.0, 0.0, 0.0, 255.0, 116.0, 0.0, 0.0, 255.0, 233.0, 0.0, 0.0, 101.0, 255.0, 255.0, 217.0, 255.0, 0.0, 255.0, 0.0, 74.0, 0.0, 255.0, 0.0, 0.0, 0.0, 1.0, 0.0, 246.0, 0.0, 0.0, 0.0, 0.0, 255.0, 0.0, 255.0, 255.0, 255.0, 255.0, 0.0, 0.0, 0.0, 255.0, 0.0], [254.0, 0.0, 0.0, 255.0, 115.0, 0.0, 0.0, 132.0, 2.0, 13.0, 255.0, 0.0, 7.0, 2.0, 255.0, 255.0, 0.0, 0.0, 233.0, 0.0, 255.0, 255.0, 255.0, 255.0, 1.0, 0.0, 255.0, 0.0, 255.0, 255.0, 255.0, 243.0, 255.0, 249.0, 0.0, 2.0, 0.0, 0.0, 76.0, 255.0, 255.0, 255.0, 1.0, 0.0, 255.0, 253.0, 0.0, 0.0, 113.0, 255.0, 255.0, 255.0, 12.0, 0.0, 246.0, 14.0, 0.0, 255.0, 255.0, 199.0, 255.0, 2.0, 1.0, 229.0], [255.0, 0.0, 0.0, 0.0, 255.0, 255.0, 0.0, 244.0, 255.0, 0.0, 255.0, 248.0, 255.0, 255.0, 0.0, 0.0, 17.0, 0.0, 3.0, 2.0, 255.0, 0.0, 0.0, 3.0, 255.0, 211.0, 221.0, 0.0, 255.0, 255.0, 255.0, 255.0, 31.0, 0.0, 3.0, 0.0, 255.0, 232.0, 0.0, 214.0, 0.0, 6.0, 255.0, 0.0, 255.0, 255.0, 255.0, 9.0, 0.0, 255.0, 0.0, 0.0, 255.0, 255.0, 0.0, 255.0, 0.0, 0.0, 3.0, 1.0, 255.0, 1.0, 0.0, 15.0], [176.0, 0.0, 255.0, 4.0, 255.0, 255.0, 0.0, 32.0, 0.0, 255.0, 255.0, 0.0, 255.0, 255.0, 255.0, 84.0, 255.0, 0.0, 255.0, 0.0, 255.0, 0.0, 255.0, 0.0, 230.0, 0.0, 255.0, 254.0, 250.0, 1.0, 0.0, 255.0, 0.0, 0.0, 255.0, 0.0, 255.0, 255.0, 0.0, 255.0, 244.0, 255.0, 255.0, 0.0, 255.0, 255.0, 0.0, 255.0, 0.0, 0.0, 196.0, 255.0, 0.0, 255.0, 163.0, 0.0, 253.0, 0.0, 252.0, 255.0, 0.0, 255.0, 0.0, 247.0], [253.0, 1.0, 214.0, 0.0, 30.0, 18.0, 255.0, 142.0, 0.0, 51.0, 0.0, 2.0, 255.0, 255.0, 0.0, 0.0, 0.0, 0.0, 80.0, 0.0, 0.0, 0.0, 4.0, 0.0, 255.0, 0.0, 255.0, 0.0, 254.0, 255.0, 248.0, 255.0, 0.0, 253.0, 0.0, 0.0, 4.0, 0.0, 255.0, 0.0, 0.0, 255.0, 255.0, 0.0, 0.0, 11.0, 0.0, 255.0, 0.0, 0.0, 0.0, 0.0, 238.0, 0.0, 0.0, 1.0, 0.0, 255.0, 0.0, 0.0, 0.0, 0.0, 255.0, 138.0], [254.0, 0.0, 0.0, 255.0, 255.0, 0.0, 244.0, 18.0, 255.0, 0.0, 0.0, 255.0, 0.0, 0.0, 252.0, 255.0, 255.0, 163.0, 255.0, 0.0, 2.0, 0.0, 0.0, 255.0, 0.0, 0.0, 255.0, 0.0, 255.0, 1.0, 0.0, 255.0, 255.0, 22.0, 255.0, 0.0, 198.0, 0.0, 255.0, 0.0, 255.0, 27.0, 255.0, 105.0, 254.0, 175.0, 23.0, 255.0, 255.0, 255.0, 255.0, 0.0, 48.0, 0.0, 176.0, 0.0, 255.0, 255.0, 252.0, 222.0, 255.0, 255.0, 255.0, 255.0], [235.0, 0.0, 1.0, 0.0, 255.0, 0.0, 0.0, 0.0, 255.0, 255.0, 0.0, 255.0, 0.0, 0.0, 0.0, 221.0, 255.0, 0.0, 0.0, 0.0, 6.0, 252.0, 1.0, 0.0, 0.0, 0.0, 255.0, 100.0, 255.0, 1.0, 255.0, 0.0, 254.0, 0.0, 255.0, 239.0, 255.0, 216.0, 4.0, 0.0, 255.0, 0.0, 255.0, 255.0, 255.0, 0.0, 228.0, 0.0, 0.0, 0.0, 0.0, 255.0, 250.0, 0.0, 115.0, 0.0, 255.0, 255.0, 32.0, 255.0, 0.0, 255.0, 0.0, 156.0], [1.0, 255.0, 243.0, 0.0, 3.0, 0.0, 255.0, 0.0, 255.0, 255.0, 2.0, 255.0, 255.0, 0.0, 255.0, 12.0, 255.0, 228.0, 255.0, 1.0, 255.0, 0.0, 255.0, 0.0, 0.0, 255.0, 255.0, 250.0, 255.0, 0.0, 255.0, 255.0, 217.0, 255.0, 255.0, 255.0, 61.0, 126.0, 255.0, 253.0, 0.0, 83.0, 255.0, 0.0, 252.0, 252.0, 0.0, 255.0, 255.0, 0.0, 0.0, 0.0, 0.0, 0.0, 0.0, 14.0, 255.0, 0.0, 0.0, 255.0, 0.0, 0.0, 238.0, 3.0], [13.0, 255.0, 10.0, 0.0, 73.0, 0.0, 0.0, 0.0, 255.0, 0.0, 255.0, 0.0, 0.0, 157.0, 0.0, 252.0, 64.0, 253.0, 255.0, 0.0, 201.0, 0.0, 0.0, 0.0, 253.0, 0.0, 255.0, 0.0, 0.0, 0.0, 255.0, 0.0, 255.0, 0.0, 254.0, 0.0, 0.0, 1.0, 64.0, 0.0, 0.0, 0.0, 255.0, 0.0, 0.0, 240.0, 9.0, 255.0, 0.0, 255.0, 255.0, 0.0, 0.0, 255.0, 32.0, 0.0, 0.0, 1.0, 255.0, 0.0, 2.0, 255.0, 0.0, 0.0], [1.0, 116.0, 255.0, 1.0, 255.0, 0.0, 255.0, 255.0, 255.0, 0.0, 255.0, 0.0, 255.0, 255.0, 255.0, 255.0, 0.0, 255.0, 6.0, 0.0, 255.0, 255.0, 0.0, 246.0, 0.0, 244.0, 255.0, 0.0, 255.0, 0.0, 255.0, 255.0, 0.0, 0.0, 200.0, 0.0, 255.0, 0.0, 255.0, 0.0, 252.0, 255.0, 5.0, 0.0, 0.0, 21.0, 255.0, 255.0, 255.0, 192.0, 255.0, 0.0, 255.0, 0.0, 0.0, 255.0, 255.0, 255.0, 0.0, 255.0, 255.0, 0.0, 0.0, 255.0], [255.0, 0.0, 2.0, 0.0, 255.0, 158.0, 0.0, 233.0, 0.0, 0.0, 255.0, 0.0, 6.0, 0.0, 0.0, 255.0, 0.0, 0.0, 0.0, 0.0, 0.0, 0.0, 0.0, 0.0, 0.0, 0.0, 255.0, 0.0, 0.0, 244.0, 105.0, 236.0, 0.0, 0.0, 184.0, 255.0, 255.0, 0.0, 0.0, 70.0, 0.0, 249.0, 0.0, 0.0, 0.0, 255.0, 0.0, 234.0, 232.0, 0.0, 0.0, 255.0, 0.0, 191.0, 0.0, 242.0, 255.0, 0.0, 28.0, 255.0, 255.0, 0.0, 0.0, 250.0], [9.0, 255.0, 255.0, 73.0, 255.0, 255.0, 242.0, 0.0, 255.0, 0.0, 44.0, 0.0, 255.0, 255.0, 36.0, 255.0, 0.0, 0.0, 255.0, 0.0, 255.0, 255.0, 255.0, 255.0, 255.0, 80.0, 0.0, 0.0, 251.0, 222.0, 0.0, 0.0, 0.0, 0.0, 255.0, 0.0, 255.0, 47.0, 0.0, 0.0, 255.0, 255.0, 22.0, 9.0, 0.0, 159.0, 0.0, 0.0, 255.0, 0.0, 255.0, 0.0, 0.0, 255.0, 0.0, 26.0, 255.0, 0.0, 255.0, 213.0, 0.0, 0.0, 255.0, 30.0], [1.0, 0.0, 0.0, 0.0, 255.0, 0.0, 255.0, 255.0, 0.0, 0.0, 35.0, 0.0, 0.0, 252.0, 243.0, 0.0, 0.0, 0.0, 0.0, 0.0, 25.0, 0.0, 0.0, 238.0, 0.0, 255.0, 0.0, 0.0, 0.0, 255.0, 22.0, 251.0, 255.0, 254.0, 251.0, 0.0, 0.0, 47.0, 0.0, 0.0, 0.0, 0.0, 0.0, 0.0, 0.0, 252.0, 255.0, 0.0, 0.0, 0.0, 0.0, 62.0, 60.0, 210.0, 0.0, 184.0, 255.0, 91.0, 0.0, 0.0, 0.0, 244.0, 255.0, 1.0], [251.0, 0.0, 255.0, 0.0, 220.0, 0.0, 255.0, 12.0, 2.0, 0.0, 0.0, 0.0, 255.0, 0.0, 254.0, 255.0, 255.0, 0.0, 255.0, 0.0, 4.0, 1.0, 255.0, 0.0, 255.0, 0.0, 255.0, 255.0, 255.0, 0.0, 212.0, 0.0, 255.0, 0.0, 57.0, 0.0, 255.0, 255.0, 255.0, 255.0, 255.0, 33.0, 255.0, 255.0, 104.0, 0.0, 255.0, 11.0, 255.0, 233.0, 255.0, 255.0, 255.0, 0.0, 0.0, 0.0, 255.0, 62.0, 255.0, 0.0, 104.0, 255.0, 252.0, 71.0], [255.0, 254.0, 13.0, 255.0, 255.0, 0.0, 255.0, 0.0, 0.0, 0.0, 0.0, 254.0, 0.0, 59.0, 0.0, 0.0, 254.0, 0.0, 0.0, 0.0, 3.0, 0.0, 0.0, 0.0, 0.0, 0.0, 255.0, 255.0, 255.0, 0.0, 0.0, 1.0, 28.0, 0.0, 0.0, 0.0, 3.0, 255.0, 0.0, 0.0, 20.0, 0.0, 0.0, 255.0, 249.0, 255.0, 0.0, 254.0, 0.0, 0.0, 0.0, 255.0, 0.0, 255.0, 0.0, 254.0, 28.0, 0.0, 0.0, 255.0, 0.0, 0.0, 0.0, 255.0], [254.0, 0.0, 255.0, 255.0, 255.0, 0.0, 255.0, 86.0, 246.0, 250.0, 44.0, 0.0, 255.0, 255.0, 255.0, 255.0, 0.0, 255.0, 248.0, 0.0, 255.0, 255.0, 255.0, 255.0, 0.0, 0.0, 0.0, 255.0, 253.0, 0.0, 255.0, 255.0, 0.0, 255.0, 255.0, 94.0, 255.0, 5.0, 255.0, 0.0, 0.0, 255.0, 6.0, 0.0, 255.0, 255.0, 31.0, 244.0, 255.0, 255.0, 0.0, 255.0, 255.0, 0.0, 255.0, 255.0, 255.0, 93.0, 0.0, 0.0, 0.0, 0.0, 131.0, 104.0], [255.0, 0.0, 255.0, 0.0, 0.0, 255.0, 255.0, 0.0, 0.0, 252.0, 255.0, 0.0, 0.0, 242.0, 0.0, 255.0, 0.0, 255.0, 253.0, 0.0, 0.0, 0.0, 77.0, 255.0, 251.0, 0.0, 244.0, 50.0, 0.0, 0.0, 0.0, 255.0, 255.0, 255.0, 255.0, 0.0, 0.0, 250.0, 0.0, 101.0, 255.0, 0.0, 0.0, 0.0, 0.0, 255.0, 255.0, 255.0, 44.0, 255.0, 255.0, 0.0, 0.0, 0.0, 252.0, 255.0, 255.0, 0.0, 7.0, 0.0, 1.0, 96.0, 0.0, 1.0], [254.0, 255.0, 255.0, 0.0, 255.0, 254.0, 255.0, 255.0, 254.0, 255.0, 255.0, 255.0, 255.0, 0.0, 255.0, 255.0, 255.0, 3.0, 255.0, 0.0, 255.0, 0.0, 255.0, 0.0, 87.0, 248.0, 0.0, 0.0, 0.0, 255.0, 0.0, 0.0, 0.0, 255.0, 0.0, 0.0, 2.0, 255.0, 16.0, 255.0, 255.0, 254.0, 255.0, 255.0, 0.0, 0.0, 255.0, 255.0, 0.0, 0.0, 0.0, 251.0, 254.0, 255.0, 42.0, 255.0, 0.0, 255.0, 0.0, 255.0, 255.0, 255.0, 98.0, 255.0], [252.0, 251.0, 255.0, 0.0, 255.0, 0.0, 0.0, 4.0, 0.0, 0.0, 1.0, 0.0, 255.0, 16.0, 0.0, 2.0, 255.0, 0.0, 0.0, 1.0, 0.0, 255.0, 222.0, 0.0, 0.0, 0.0, 255.0, 252.0, 0.0, 255.0, 255.0, 0.0, 255.0, 251.0, 255.0, 0.0, 249.0, 255.0, 0.0, 248.0, 0.0, 0.0, 254.0, 0.0, 255.0, 255.0, 0.0, 255.0, 34.0, 128.0, 0.0, 0.0, 255.0, 0.0, 0.0, 40.0, 11.0, 141.0, 0.0, 255.0, 255.0, 255.0, 40.0, 7.0], [219.0, 255.0, 17.0, 2.0, 0.0, 255.0, 254.0, 0.0, 252.0, 0.0, 255.0, 11.0, 255.0, 255.0, 0.0, 255.0, 255.0, 0.0, 246.0, 0.0, 70.0, 0.0, 0.0, 254.0, 255.0, 1.0, 255.0, 0.0, 0.0, 0.0, 255.0, 0.0, 0.0, 254.0, 205.0, 255.0, 0.0, 255.0, 255.0, 0.0, 255.0, 0.0, 255.0, 0.0, 0.0, 250.0, 255.0, 255.0, 61.0, 255.0, 175.0, 0.0, 226.0, 240.0, 251.0, 255.0, 6.0, 0.0, 255.0, 0.0, 54.0, 0.0, 255.0, 0.0], [255.0, 0.0, 139.0, 0.0, 22.0, 172.0, 255.0, 0.0, 0.0, 0.0, 250.0, 0.0, 0.0, 255.0, 232.0, 0.0, 0.0, 0.0, 0.0, 0.0, 0.0, 0.0, 255.0, 255.0, 0.0, 255.0, 0.0, 0.0, 0.0, 241.0, 0.0, 255.0, 0.0, 255.0, 0.0, 0.0, 0.0, 0.0, 0.0, 255.0, 55.0, 253.0, 92.0, 0.0, 0.0, 255.0, 0.0, 6.0, 0.0, 255.0, 0.0, 0.0, 0.0, 0.0, 0.0, 255.0, 0.0, 0.0, 255.0, 210.0, 0.0, 0.0, 255.0, 0.0], [244.0, 0.0, 255.0, 255.0, 0.0, 0.0, 255.0, 255.0, 255.0, 0.0, 255.0, 0.0, 0.0, 0.0, 255.0, 255.0, 255.0, 0.0, 255.0, 255.0, 255.0, 255.0, 255.0, 0.0, 255.0, 0.0, 41.0, 6.0, 255.0, 0.0, 253.0, 255.0, 255.0, 255.0, 255.0, 0.0, 255.0, 0.0, 255.0, 249.0, 255.0, 0.0, 255.0, 255.0, 0.0, 0.0, 255.0, 255.0, 255.0, 255.0, 0.0, 0.0, 255.0, 0.0, 255.0, 255.0, 255.0, 255.0, 255.0, 255.0, 1.0, 1.0, 255.0, 255.0], [255.0, 0.0, 0.0, 3.0, 255.0, 0.0, 4.0, 2.0, 255.0, 0.0, 255.0, 253.0, 53.0, 0.0, 233.0, 0.0, 0.0, 0.0, 255.0, 255.0, 255.0, 0.0, 0.0, 253.0, 0.0, 0.0, 60.0, 255.0, 255.0, 255.0, 0.0, 8.0, 255.0, 0.0, 0.0, 0.0, 0.0, 255.0, 249.0, 0.0, 255.0, 0.0, 0.0, 241.0, 54.0, 0.0, 255.0, 255.0, 233.0, 0.0, 0.0, 0.0, 255.0, 0.0, 255.0, 255.0, 255.0, 0.0, 231.0, 0.0, 254.0, 0.0, 255.0, 248.0], [201.0, 14.0, 255.0, 0.0, 255.0, 0.0, 255.0, 54.0, 255.0, 255.0, 0.0, 0.0, 0.0, 0.0, 255.0, 255.0, 234.0, 255.0, 0.0, 254.0, 0.0, 255.0, 133.0, 88.0, 255.0, 1.0, 122.0, 0.0, 255.0, 252.0, 255.0, 255.0, 0.0, 20.0, 0.0, 0.0, 255.0, 0.0, 0.0, 255.0, 0.0, 0.0, 0.0, 0.0, 255.0, 255.0, 255.0, 2.0, 147.0, 255.0, 255.0, 0.0, 253.0, 255.0, 255.0, 255.0, 0.0, 254.0, 251.0, 0.0, 255.0, 0.0, 0.0, 253.0], [66.0, 11.0, 0.0, 0.0, 255.0, 0.0, 159.0, 0.0, 254.0, 3.0, 255.0, 0.0, 0.0, 0.0, 86.0, 255.0, 0.0, 255.0, 255.0, 255.0, 2.0, 0.0, 0.0, 255.0, 255.0, 255.0, 255.0, 0.0, 0.0, 0.0, 0.0, 0.0, 0.0, 0.0, 255.0, 0.0, 114.0, 255.0, 0.0, 0.0, 0.0, 255.0, 255.0, 0.0, 254.0, 255.0, 255.0, 246.0, 255.0, 254.0, 194.0, 0.0, 0.0, 255.0, 255.0, 0.0, 0.0, 0.0, 255.0, 0.0, 20.0, 4.0, 0.0, 88.0], [35.0, 172.0, 255.0, 0.0, 9.0, 255.0, 189.0, 47.0, 255.0, 255.0, 4.0, 255.0, 255.0, 255.0, 0.0, 244.0, 255.0, 0.0, 0.0, 0.0, 255.0, 0.0, 1.0, 200.0, 255.0, 255.0, 228.0, 255.0, 255.0, 0.0, 0.0, 255.0, 255.0, 255.0, 255.0, 255.0, 31.0, 41.0, 245.0, 255.0, 0.0, 1.0, 249.0, 255.0, 255.0, 249.0, 254.0, 255.0, 0.0, 255.0, 255.0, 247.0, 255.0, 0.0, 255.0, 255.0, 255.0, 255.0, 1.0, 0.0, 255.0, 2.0, 0.0, 255.0], [254.0, 255.0, 255.0, 0.0, 255.0, 1.0, 255.0, 87.0, 0.0, 43.0, 255.0, 255.0, 255.0, 0.0, 0.0, 255.0, 0.0, 0.0, 0.0, 0.0, 0.0, 0.0, 15.0, 0.0, 251.0, 255.0, 0.0, 0.0, 251.0, 255.0, 217.0, 0.0, 245.0, 0.0, 255.0, 0.0, 255.0, 255.0, 0.0, 0.0, 255.0, 0.0, 1.0, 0.0, 255.0, 0.0, 255.0, 255.0, 255.0, 213.0, 255.0, 0.0, 0.0, 92.0, 0.0, 255.0, 0.0, 0.0, 1.0, 0.0, 255.0, 255.0, 0.0, 254.0], [99.0, 255.0, 1.0, 255.0, 0.0, 0.0, 41.0, 255.0, 255.0, 0.0, 0.0, 0.0, 232.0, 0.0, 6.0, 0.0, 1.0, 0.0, 255.0, 255.0, 255.0, 255.0, 0.0, 0.0, 255.0, 0.0, 255.0, 0.0, 1.0, 255.0, 0.0, 255.0, 254.0, 0.0, 255.0, 255.0, 0.0, 255.0, 255.0, 5.0, 2.0, 0.0, 255.0, 255.0, 0.0, 255.0, 6.0, 0.0, 0.0, 0.0, 255.0, 216.0, 255.0, 255.0, 255.0, 255.0, 0.0, 255.0, 255.0, 0.0, 187.0, 255.0, 0.0, 62.0], [255.0, 19.0, 1.0, 0.0, 255.0, 255.0, 255.0, 0.0, 0.0, 132.0, 0.0, 0.0, 0.0, 255.0, 255.0, 255.0, 0.0, 255.0, 255.0, 0.0, 0.0, 255.0, 0.0, 1.0, 0.0, 236.0, 255.0, 0.0, 255.0, 255.0, 200.0, 143.0, 0.0, 242.0, 0.0, 62.0, 0.0, 255.0, 0.0, 0.0, 0.0, 0.0, 0.0, 255.0, 68.0, 255.0, 255.0, 104.0, 255.0, 247.0, 0.0, 0.0, 0.0, 136.0, 0.0, 243.0, 3.0, 0.0, 0.0, 247.0, 0.0, 14.0, 0.0, 0.0], [244.0, 1.0, 17.0, 255.0, 0.0, 151.0, 255.0, 255.0, 255.0, 0.0, 0.0, 255.0, 255.0, 0.0, 255.0, 27.0, 255.0, 0.0, 1.0, 255.0, 255.0, 0.0, 255.0, 255.0, 255.0, 0.0, 255.0, 0.0, 255.0, 53.0, 255.0, 0.0, 255.0, 0.0, 255.0, 240.0, 255.0, 0.0, 255.0, 255.0, 255.0, 0.0, 150.0, 0.0, 0.0, 0.0, 255.0, 255.0, 255.0, 10.0, 255.0, 0.0, 255.0, 0.0, 0.0, 255.0, 255.0, 0.0, 255.0, 39.0, 255.0, 0.0, 10.0, 255.0], [168.0, 0.0, 70.0, 0.0, 0.0, 254.0, 0.0, 255.0, 255.0, 0.0, 0.0, 255.0, 0.0, 85.0, 0.0, 253.0, 96.0, 0.0, 0.0, 255.0, 0.0, 0.0, 255.0, 0.0, 255.0, 0.0, 255.0, 0.0, 2.0, 0.0, 255.0, 0.0, 255.0, 0.0, 28.0, 0.0, 254.0, 0.0, 255.0, 254.0, 9.0, 0.0, 0.0, 0.0, 255.0, 255.0, 0.0, 0.0, 255.0, 0.0, 6.0, 0.0, 254.0, 0.0, 255.0, 2.0, 0.0, 235.0, 0.0, 0.0, 0.0, 0.0, 255.0, 255.0], [0.0, 218.0, 255.0, 0.0, 26.0, 0.0, 0.0, 0.0, 11.0, 0.0, 0.0, 26.0, 255.0, 0.0, 0.0, 54.0, 255.0, 12.0, 239.0, 0.0, 255.0, 0.0, 255.0, 255.0, 255.0, 0.0, 0.0, 255.0, 0.0, 255.0, 255.0, 212.0, 1.0, 255.0, 0.0, 4.0, 0.0, 255.0, 255.0, 0.0, 63.0, 255.0, 3.0, 220.0, 0.0, 255.0, 255.0, 255.0, 0.0, 3.0, 45.0, 27.0, 67.0, 0.0, 1.0, 4.0, 255.0, 255.0, 89.0, 0.0, 255.0, 0.0, 255.0, 1.0], [210.0, 251.0, 251.0, 4.0, 0.0, 0.0, 1.0, 0.0, 0.0, 0.0, 0.0, 0.0, 8.0, 255.0, 254.0, 0.0, 44.0, 255.0, 0.0, 0.0, 0.0, 0.0, 254.0, 0.0, 255.0, 255.0, 255.0, 0.0, 0.0, 217.0, 255.0, 0.0, 255.0, 239.0, 255.0, 0.0, 0.0, 0.0, 0.0, 255.0, 243.0, 255.0, 250.0, 0.0, 255.0, 241.0, 249.0, 15.0, 0.0, 2.0, 24.0, 0.0, 0.0, 255.0, 0.0, 194.0, 0.0, 1.0, 213.0, 58.0, 255.0, 1.0, 0.0, 14.0], [253.0, 59.0, 253.0, 249.0, 255.0, 255.0, 255.0, 255.0, 255.0, 255.0, 232.0, 255.0, 255.0, 255.0, 255.0, 0.0, 255.0, 214.0, 255.0, 255.0, 255.0, 255.0, 238.0, 255.0, 255.0, 0.0, 0.0, 255.0, 215.0, 0.0, 253.0, 49.0, 255.0, 48.0, 0.0, 0.0, 255.0, 225.0, 0.0, 255.0, 255.0, 255.0, 234.0, 0.0, 255.0, 0.0, 0.0, 255.0, 0.0, 0.0, 255.0, 0.0, 255.0, 255.0, 34.0, 250.0, 255.0, 255.0, 0.0, 0.0, 255.0, 250.0, 3.0, 255.0], [0.0, 0.0, 0.0, 201.0, 16.0, 29.0, 15.0, 255.0, 10.0, 0.0, 0.0, 2.0, 205.0, 193.0, 255.0, 0.0, 1.0, 0.0, 0.0, 0.0, 1.0, 255.0, 44.0, 0.0, 0.0, 0.0, 0.0, 255.0, 255.0, 252.0, 111.0, 0.0, 241.0, 0.0, 21.0, 0.0, 0.0, 0.0, 0.0, 0.0, 0.0, 0.0, 27.0, 0.0, 254.0, 0.0, 0.0, 0.0, 0.0, 0.0, 254.0, 9.0, 37.0, 255.0, 0.0, 255.0, 0.0, 255.0, 255.0, 0.0, 0.0, 255.0, 255.0, 20.0], [248.0, 240.0, 2.0, 27.0, 254.0, 255.0, 0.0, 243.0, 255.0, 255.0, 255.0, 80.0, 252.0, 255.0, 43.0, 0.0, 9.0, 255.0, 255.0, 14.0, 165.0, 255.0, 255.0, 58.0, 58.0, 17.0, 255.0, 0.0, 0.0, 0.0, 0.0, 0.0, 82.0, 5.0, 0.0, 0.0, 251.0, 205.0, 252.0, 151.0, 1.0, 255.0, 255.0, 23.0, 255.0, 251.0, 251.0, 0.0, 255.0, 0.0, 255.0, 0.0, 255.0, 0.0, 255.0, 253.0, 0.0, 238.0, 255.0, 0.0, 169.0, 255.0, 255.0, 27.0], [251.0, 255.0, 1.0, 0.0, 222.0, 132.0, 249.0, 1.0, 5.0, 0.0, 9.0, 207.0, 0.0, 0.0, 0.0, 205.0, 36.0, 255.0, 255.0, 156.0, 12.0, 1.0, 249.0, 1.0, 26.0, 253.0, 255.0, 165.0, 0.0, 13.0, 6.0, 4.0, 254.0, 255.0, 12.0, 0.0, 0.0, 1.0, 2.0, 0.0, 16.0, 252.0, 105.0, 0.0, 104.0, 0.0, 246.0, 0.0, 72.0, 0.0, 28.0, 0.0, 0.0, 16.0, 255.0, 233.0, 2.0, 14.0, 205.0, 47.0, 225.0, 222.0, 136.0, 66.0]]\n"
     ]
    }
   ],
   "source": [
    "\n",
    "\n",
    "gen_losses, disc_losses, generated_map, disc_accuracies = train(training_data, N_EPOCHS)\n",
    "\n",
    "# denormalise generated map\n",
    "\n",
    "generated_map = generated_map * 255\n",
    "\n",
    "\n",
    "\n",
    "\n",
    "generated_map = generated_map.numpy()\n",
    "\n",
    "\n",
    "\n",
    "generated_map = np.reshape(generated_map, (64,64))\n",
    "\n",
    "generated_map = np.round(generated_map,0)\n",
    "print(generated_map.shape)\n",
    "\n",
    "#write generated map to csv\n",
    "\n",
    "\n",
    "np.savetxt('generated_map.csv', generated_map, delimiter=',', fmt='%i')\n",
    "\n",
    "generated_map = generated_map.tolist()\n",
    "\n",
    "print(generated_map)\n"
   ]
  },
  {
   "attachments": {},
   "cell_type": "markdown",
   "metadata": {},
   "source": [
    "graphs:"
   ]
  },
  {
   "cell_type": "code",
   "execution_count": 237,
   "metadata": {},
   "outputs": [
    {
     "data": {
      "text/plain": [
       "Text(0.5, 0, 'Epoch')"
      ]
     },
     "execution_count": 237,
     "metadata": {},
     "output_type": "execute_result"
    },
    {
     "data": {
      "image/png": "[encoded data removed]",
      "text/plain": [
       "<Figure size 640x480 with 1 Axes>"
      ]
     },
     "metadata": {},
     "output_type": "display_data"
    }
   ],
   "source": [
    "epoch_list = [i for i in range(0,N_EPOCHS)]\n",
    "\n",
    "\n",
    "\n",
    "plt.plot(epoch_list, disc_losses,  'r-')\n",
    "plt.plot(epoch_list, gen_losses, 'b-')\n",
    "plt.title('Gen and Disc loss over epochs')\n",
    "plt.ylabel('Loss')\n",
    "plt.xlabel('Epoch')"
   ]
  },
  {
   "cell_type": "code",
   "execution_count": 238,
   "metadata": {},
   "outputs": [
    {
     "ename": "ValueError",
     "evalue": "setting an array element with a sequence. The requested array has an inhomogeneous shape after 1 dimensions. The detected shape was (350,) + inhomogeneous part.",
     "output_type": "error",
     "traceback": [
      "\u001b[0;31m---------------------------------------------------------------------------\u001b[0m",
      "\u001b[0;31mValueError\u001b[0m                                Traceback (most recent call last)",
      "Cell \u001b[0;32mIn[238], line 1\u001b[0m\n\u001b[0;32m----> 1\u001b[0m plt\u001b[39m.\u001b[39;49mplot(epoch_list, disc_accuracies,  \u001b[39m'\u001b[39;49m\u001b[39mr-\u001b[39;49m\u001b[39m'\u001b[39;49m)\n\u001b[1;32m      3\u001b[0m plt\u001b[39m.\u001b[39mtitle(\u001b[39m'\u001b[39m\u001b[39mDisc accuracy over epochs\u001b[39m\u001b[39m'\u001b[39m)\n\u001b[1;32m      4\u001b[0m plt\u001b[39m.\u001b[39mylabel(\u001b[39m'\u001b[39m\u001b[39mAccuracy\u001b[39m\u001b[39m'\u001b[39m)\n",
      "File \u001b[0;32m/usr/lib/python3/dist-packages/matplotlib/pyplot.py:2757\u001b[0m, in \u001b[0;36mplot\u001b[0;34m(scalex, scaley, data, *args, **kwargs)\u001b[0m\n\u001b[1;32m   2755\u001b[0m \u001b[39m@_copy_docstring_and_deprecators\u001b[39m(Axes\u001b[39m.\u001b[39mplot)\n\u001b[1;32m   2756\u001b[0m \u001b[39mdef\u001b[39;00m \u001b[39mplot\u001b[39m(\u001b[39m*\u001b[39margs, scalex\u001b[39m=\u001b[39m\u001b[39mTrue\u001b[39;00m, scaley\u001b[39m=\u001b[39m\u001b[39mTrue\u001b[39;00m, data\u001b[39m=\u001b[39m\u001b[39mNone\u001b[39;00m, \u001b[39m*\u001b[39m\u001b[39m*\u001b[39mkwargs):\n\u001b[0;32m-> 2757\u001b[0m     \u001b[39mreturn\u001b[39;00m gca()\u001b[39m.\u001b[39;49mplot(\n\u001b[1;32m   2758\u001b[0m         \u001b[39m*\u001b[39;49margs, scalex\u001b[39m=\u001b[39;49mscalex, scaley\u001b[39m=\u001b[39;49mscaley,\n\u001b[1;32m   2759\u001b[0m         \u001b[39m*\u001b[39;49m\u001b[39m*\u001b[39;49m({\u001b[39m\"\u001b[39;49m\u001b[39mdata\u001b[39;49m\u001b[39m\"\u001b[39;49m: data} \u001b[39mif\u001b[39;49;00m data \u001b[39mis\u001b[39;49;00m \u001b[39mnot\u001b[39;49;00m \u001b[39mNone\u001b[39;49;00m \u001b[39melse\u001b[39;49;00m {}), \u001b[39m*\u001b[39;49m\u001b[39m*\u001b[39;49mkwargs)\n",
      "File \u001b[0;32m/usr/lib/python3/dist-packages/matplotlib/axes/_axes.py:1632\u001b[0m, in \u001b[0;36mAxes.plot\u001b[0;34m(self, scalex, scaley, data, *args, **kwargs)\u001b[0m\n\u001b[1;32m   1390\u001b[0m \u001b[39m\u001b[39m\u001b[39m\"\"\"\u001b[39;00m\n\u001b[1;32m   1391\u001b[0m \u001b[39mPlot y versus x as lines and/or markers.\u001b[39;00m\n\u001b[1;32m   1392\u001b[0m \n\u001b[0;32m   (...)\u001b[0m\n\u001b[1;32m   1629\u001b[0m \u001b[39m(``'green'``) or hex strings (``'#008000'``).\u001b[39;00m\n\u001b[1;32m   1630\u001b[0m \u001b[39m\"\"\"\u001b[39;00m\n\u001b[1;32m   1631\u001b[0m kwargs \u001b[39m=\u001b[39m cbook\u001b[39m.\u001b[39mnormalize_kwargs(kwargs, mlines\u001b[39m.\u001b[39mLine2D)\n\u001b[0;32m-> 1632\u001b[0m lines \u001b[39m=\u001b[39m [\u001b[39m*\u001b[39m\u001b[39mself\u001b[39m\u001b[39m.\u001b[39m_get_lines(\u001b[39m*\u001b[39margs, data\u001b[39m=\u001b[39mdata, \u001b[39m*\u001b[39m\u001b[39m*\u001b[39mkwargs)]\n\u001b[1;32m   1633\u001b[0m \u001b[39mfor\u001b[39;00m line \u001b[39min\u001b[39;00m lines:\n\u001b[1;32m   1634\u001b[0m     \u001b[39mself\u001b[39m\u001b[39m.\u001b[39madd_line(line)\n",
      "File \u001b[0;32m/usr/lib/python3/dist-packages/matplotlib/axes/_base.py:312\u001b[0m, in \u001b[0;36m_process_plot_var_args.__call__\u001b[0;34m(self, data, *args, **kwargs)\u001b[0m\n\u001b[1;32m    310\u001b[0m     this \u001b[39m+\u001b[39m\u001b[39m=\u001b[39m args[\u001b[39m0\u001b[39m],\n\u001b[1;32m    311\u001b[0m     args \u001b[39m=\u001b[39m args[\u001b[39m1\u001b[39m:]\n\u001b[0;32m--> 312\u001b[0m \u001b[39myield from\u001b[39;00m \u001b[39mself\u001b[39;49m\u001b[39m.\u001b[39;49m_plot_args(this, kwargs)\n",
      "File \u001b[0;32m/usr/lib/python3/dist-packages/matplotlib/axes/_base.py:488\u001b[0m, in \u001b[0;36m_process_plot_var_args._plot_args\u001b[0;34m(self, tup, kwargs, return_kwargs)\u001b[0m\n\u001b[1;32m    486\u001b[0m \u001b[39mif\u001b[39;00m \u001b[39mlen\u001b[39m(xy) \u001b[39m==\u001b[39m \u001b[39m2\u001b[39m:\n\u001b[1;32m    487\u001b[0m     x \u001b[39m=\u001b[39m _check_1d(xy[\u001b[39m0\u001b[39m])\n\u001b[0;32m--> 488\u001b[0m     y \u001b[39m=\u001b[39m _check_1d(xy[\u001b[39m1\u001b[39;49m])\n\u001b[1;32m    489\u001b[0m \u001b[39melse\u001b[39;00m:\n\u001b[1;32m    490\u001b[0m     x, y \u001b[39m=\u001b[39m index_of(xy[\u001b[39m-\u001b[39m\u001b[39m1\u001b[39m])\n",
      "File \u001b[0;32m/usr/lib/python3/dist-packages/matplotlib/cbook/__init__.py:1304\u001b[0m, in \u001b[0;36m_check_1d\u001b[0;34m(x)\u001b[0m\n\u001b[1;32m   1302\u001b[0m \u001b[39m\u001b[39m\u001b[39m\"\"\"Convert scalars to 1D arrays; pass-through arrays as is.\"\"\"\u001b[39;00m\n\u001b[1;32m   1303\u001b[0m \u001b[39mif\u001b[39;00m \u001b[39mnot\u001b[39;00m \u001b[39mhasattr\u001b[39m(x, \u001b[39m'\u001b[39m\u001b[39mshape\u001b[39m\u001b[39m'\u001b[39m) \u001b[39mor\u001b[39;00m \u001b[39mlen\u001b[39m(x\u001b[39m.\u001b[39mshape) \u001b[39m<\u001b[39m \u001b[39m1\u001b[39m:\n\u001b[0;32m-> 1304\u001b[0m     \u001b[39mreturn\u001b[39;00m np\u001b[39m.\u001b[39;49matleast_1d(x)\n\u001b[1;32m   1305\u001b[0m \u001b[39melse\u001b[39;00m:\n\u001b[1;32m   1306\u001b[0m     \u001b[39mtry\u001b[39;00m:\n\u001b[1;32m   1307\u001b[0m         \u001b[39m# work around\u001b[39;00m\n\u001b[1;32m   1308\u001b[0m         \u001b[39m# https://github.com/pandas-dev/pandas/issues/27775 which\u001b[39;00m\n\u001b[0;32m   (...)\u001b[0m\n\u001b[1;32m   1319\u001b[0m         \u001b[39m# This code should correctly identify and coerce to a\u001b[39;00m\n\u001b[1;32m   1320\u001b[0m         \u001b[39m# numpy array all pandas versions.\u001b[39;00m\n",
      "File \u001b[0;32m<__array_function__ internals>:200\u001b[0m, in \u001b[0;36matleast_1d\u001b[0;34m(*args, **kwargs)\u001b[0m\n",
      "File \u001b[0;32m~/.local/lib/python3.10/site-packages/numpy/core/shape_base.py:65\u001b[0m, in \u001b[0;36matleast_1d\u001b[0;34m(*arys)\u001b[0m\n\u001b[1;32m     63\u001b[0m res \u001b[39m=\u001b[39m []\n\u001b[1;32m     64\u001b[0m \u001b[39mfor\u001b[39;00m ary \u001b[39min\u001b[39;00m arys:\n\u001b[0;32m---> 65\u001b[0m     ary \u001b[39m=\u001b[39m asanyarray(ary)\n\u001b[1;32m     66\u001b[0m     \u001b[39mif\u001b[39;00m ary\u001b[39m.\u001b[39mndim \u001b[39m==\u001b[39m \u001b[39m0\u001b[39m:\n\u001b[1;32m     67\u001b[0m         result \u001b[39m=\u001b[39m ary\u001b[39m.\u001b[39mreshape(\u001b[39m1\u001b[39m)\n",
      "\u001b[0;31mValueError\u001b[0m: setting an array element with a sequence. The requested array has an inhomogeneous shape after 1 dimensions. The detected shape was (350,) + inhomogeneous part."
     ]
    },
    {
     "data": {
      "image/png": "[encoded data removed]",
      "text/plain": [
       "<Figure size 640x480 with 1 Axes>"
      ]
     },
     "metadata": {},
     "output_type": "display_data"
    }
   ],
   "source": [
    "plt.plot(epoch_list, disc_accuracies,  'r-')\n",
    "\n",
    "plt.title('Disc accuracy over epochs')\n",
    "plt.ylabel('Accuracy')\n",
    "plt.xlabel('Epoch')"
   ]
  }
 ],
 "metadata": {
  "kernelspec": {
   "display_name": "Python 3 (ipykernel)",
   "language": "python",
   "name": "python3"
  },
  "language_info": {
   "codemirror_mode": {
    "name": "ipython",
    "version": 3
   },
   "file_extension": ".py",
   "mimetype": "text/x-python",
   "name": "python",
   "nbconvert_exporter": "python",
   "pygments_lexer": "ipython3",
   "version": "3.10.12"
  }
 },
 "nbformat": 4,
 "nbformat_minor": 2
}
