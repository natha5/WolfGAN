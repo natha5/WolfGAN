{
 "cells": [
  {
   "attachments": {},
   "cell_type": "markdown",
   "metadata": {},
   "source": [
    "# Imports"
   ]
  },
  {
   "cell_type": "code",
   "execution_count": 19,
   "metadata": {},
   "outputs": [],
   "source": [
    "import numpy as np\n",
    "import pandas as pd\n",
    "import random as rand\n",
    "import matplotlib.pyplot as plt\n",
    "import tensorflow as tf\n",
    "import csv\n",
    "\n",
    "from keras.utils import to_categorical\n",
    "from keras.layers import Dense, Activation, Conv2D,Conv2DTranspose, Dropout, Reshape, MaxPooling2D, Flatten, LeakyReLU, BatchNormalization\n",
    "from keras.models import Sequential, load_model\n",
    "from keras.losses import BinaryCrossentropy\n",
    "from keras.optimizers import Adam\n",
    "\n",
    "\n",
    "from sklearn.model_selection import train_test_split"
   ]
  },
  {
   "attachments": {},
   "cell_type": "markdown",
   "metadata": {},
   "source": [
    "# Data importing and pre-processing"
   ]
  },
  {
   "cell_type": "code",
   "execution_count": 20,
   "metadata": {},
   "outputs": [],
   "source": [
    "df = pd.read_csv('dataset.csv', header=None)\n",
    "\n",
    "\n",
    "df = df.values.reshape(60, 64, 64, 1)\n",
    "\n",
    "labels = np.zeros(60)\n",
    "\n",
    "x_real_train, x_real_test = train_test_split(df, test_size=0.2) #12 test values\n",
    "y_real_train, y_real_test = train_test_split(labels, test_size=0.2)"
   ]
  },
  {
   "attachments": {},
   "cell_type": "markdown",
   "metadata": {},
   "source": [
    "normalize dataset data into range of tanh (-1,1)"
   ]
  },
  {
   "cell_type": "code",
   "execution_count": 21,
   "metadata": {},
   "outputs": [],
   "source": [
    "x_real_train = x_real_train.astype('float32')\n",
    "x_real_train = (x_real_train - 127.5) / 127.5\n",
    "\n",
    "\n",
    "training_data = tf.data.Dataset.from_tensor_slices(x_real_train).shuffle(48).batch(4)"
   ]
  },
  {
   "attachments": {},
   "cell_type": "markdown",
   "metadata": {},
   "source": [
    "# Generator Model"
   ]
  },
  {
   "attachments": {},
   "cell_type": "markdown",
   "metadata": {},
   "source": [
    "Create points in latent space to be fed into generator"
   ]
  },
  {
   "cell_type": "code",
   "execution_count": 22,
   "metadata": {},
   "outputs": [],
   "source": [
    "def generate_generator_input():\n",
    "    input = np.random.normal(50,2,size=(1,100))\n",
    "    input = input * 10\n",
    "    \n",
    "\n",
    "    \n",
    "    return input"
   ]
  },
  {
   "cell_type": "code",
   "execution_count": 23,
   "metadata": {},
   "outputs": [],
   "source": [
    "def make_generator():\n",
    "    model = Sequential()\n",
    "    \n",
    "    model.add(Dense(60*8*8, input_shape=(100,)))\n",
    "\n",
    "    model.add(BatchNormalization())\n",
    "    model.add(LeakyReLU())\n",
    "    model.add(Reshape((8,8,60)))\n",
    "\n",
    "    model.add(Dropout(0.3))\n",
    "\n",
    "    \n",
    "    model.add(Conv2DTranspose(1, (1,1), strides=(2,2), padding='same', use_bias=False, input_shape=(8,8,60)))\n",
    "    model.add(BatchNormalization())\n",
    "    model.add(LeakyReLU())\n",
    "\n",
    "    model.add(Dropout(0.3))\n",
    "\n",
    "  \n",
    "    \n",
    "    model.add(Conv2DTranspose(1, (1,1), strides=(2,2), padding='same', use_bias=False, input_shape=(16,16,60)))\n",
    "    model.add(BatchNormalization())\n",
    "    model.add(LeakyReLU())\n",
    "\n",
    "    model.add(Dropout(0.3))\n",
    "\n",
    "\n",
    "    model.add(Conv2DTranspose(1, (1,1), strides=(2,2), padding='same', use_bias=False, input_shape=(32,32,60)))\n",
    "    model.add(Activation(\"tanh\"))\n",
    "    \n",
    "              \n",
    "    model.summary()\n",
    "    \n",
    "    return model\n",
    "    \n",
    "    "
   ]
  },
  {
   "attachments": {},
   "cell_type": "markdown",
   "metadata": {},
   "source": [
    "# Discriminator Model"
   ]
  },
  {
   "cell_type": "code",
   "execution_count": 24,
   "metadata": {},
   "outputs": [],
   "source": [
    "\n",
    "def make_discriminator():\n",
    "    \n",
    "    # 1st set of layers\n",
    "    model = Sequential()\n",
    "    model.add(Conv2D(256, (5,5), strides=(2,2), padding=\"same\", input_shape=(64,64,1)))\n",
    "    model.add(BatchNormalization())\n",
    "    model.add(LeakyReLU())\n",
    "    model.add(MaxPooling2D(pool_size=(2,2), strides=(2,2), padding='same'))\n",
    "    model.add(Dropout(0.3))\n",
    "\n",
    "    model.add(Conv2D(1024, (5,5), strides=(2,2), padding='same'))\n",
    "    model.add(BatchNormalization())\n",
    "    model.add(LeakyReLU())\n",
    "    model.add(MaxPooling2D(pool_size=(2,2), strides=(2,2), padding='same'))\n",
    "    model.add(Dropout(0.3))\n",
    "   \n",
    "    model.add(Conv2D(1024, (5,5), strides=(2,2), padding='same'))\n",
    "    model.add(BatchNormalization())\n",
    "    model.add(LeakyReLU())\n",
    "    model.add(MaxPooling2D(pool_size=(2,2), strides=(2,2), padding='same'))\n",
    "    model.add(Dropout(0.3))\n",
    "\n",
    "    model.add(Conv2D(2048, (5,5), strides=(2,2), padding='same'))\n",
    "    model.add(BatchNormalization())\n",
    "    model.add(LeakyReLU())\n",
    "    model.add(MaxPooling2D(pool_size=(2,2), strides=(2,2), padding='same'))\n",
    "    model.add(Dropout(0.3))\n",
    "  \n",
    "    \n",
    "    # output layer\n",
    "    model.add(Flatten())\n",
    "    \n",
    "    \n",
    "    model.add(Dense(1)) # Binary classification (2 outputs), so only 1 dense layer needed\n",
    "    model.add(Activation('tanh'))\n",
    "    \n",
    "    model.summary()\n",
    "    return model\n",
    "    "
   ]
  },
  {
   "attachments": {},
   "cell_type": "markdown",
   "metadata": {},
   "source": [
    "# Training"
   ]
  },
  {
   "attachments": {},
   "cell_type": "markdown",
   "metadata": {},
   "source": [
    "First, create the models from the functions"
   ]
  },
  {
   "cell_type": "code",
   "execution_count": 25,
   "metadata": {},
   "outputs": [
    {
     "name": "stdout",
     "output_type": "stream",
     "text": [
      "Model: \"sequential_2\"\n",
      "_________________________________________________________________\n",
      " Layer (type)                Output Shape              Param #   \n",
      "=================================================================\n",
      " dense_2 (Dense)             (None, 3840)              387840    \n",
      "                                                                 \n",
      " batch_normalization_3 (Bat  (None, 3840)              15360     \n",
      " chNormalization)                                                \n",
      "                                                                 \n",
      " leaky_re_lu_7 (LeakyReLU)   (None, 3840)              0         \n",
      "                                                                 \n",
      " reshape_1 (Reshape)         (None, 8, 8, 60)          0         \n",
      "                                                                 \n",
      " dropout_7 (Dropout)         (None, 8, 8, 60)          0         \n",
      "                                                                 \n",
      " conv2d_transpose_3 (Conv2D  (None, 16, 16, 1)         60        \n",
      " Transpose)                                                      \n",
      "                                                                 \n",
      " batch_normalization_4 (Bat  (None, 16, 16, 1)         4         \n",
      " chNormalization)                                                \n",
      "                                                                 \n",
      " leaky_re_lu_8 (LeakyReLU)   (None, 16, 16, 1)         0         \n",
      "                                                                 \n",
      " dropout_8 (Dropout)         (None, 16, 16, 1)         0         \n",
      "                                                                 \n",
      " conv2d_transpose_4 (Conv2D  (None, 32, 32, 1)         1         \n",
      " Transpose)                                                      \n",
      "                                                                 \n",
      " batch_normalization_5 (Bat  (None, 32, 32, 1)         4         \n",
      " chNormalization)                                                \n",
      "                                                                 \n",
      " leaky_re_lu_9 (LeakyReLU)   (None, 32, 32, 1)         0         \n",
      "                                                                 \n",
      " dropout_9 (Dropout)         (None, 32, 32, 1)         0         \n",
      "                                                                 \n",
      " conv2d_transpose_5 (Conv2D  (None, 64, 64, 1)         1         \n",
      " Transpose)                                                      \n",
      "                                                                 \n",
      " activation_2 (Activation)   (None, 64, 64, 1)         0         \n",
      "                                                                 \n",
      "=================================================================\n",
      "Total params: 403270 (1.54 MB)\n",
      "Trainable params: 395586 (1.51 MB)\n",
      "Non-trainable params: 7684 (30.02 KB)\n",
      "_________________________________________________________________\n",
      "tf.Tensor(\n",
      "[[[[-1.]\n",
      "   [ 0.]\n",
      "   [ 0.]\n",
      "   ...\n",
      "   [ 0.]\n",
      "   [ 0.]\n",
      "   [ 0.]]\n",
      "\n",
      "  [[ 0.]\n",
      "   [ 0.]\n",
      "   [ 0.]\n",
      "   ...\n",
      "   [ 0.]\n",
      "   [ 0.]\n",
      "   [ 0.]]\n",
      "\n",
      "  [[ 0.]\n",
      "   [ 0.]\n",
      "   [ 0.]\n",
      "   ...\n",
      "   [ 0.]\n",
      "   [ 0.]\n",
      "   [ 0.]]\n",
      "\n",
      "  ...\n",
      "\n",
      "  [[ 0.]\n",
      "   [ 0.]\n",
      "   [ 0.]\n",
      "   ...\n",
      "   [ 0.]\n",
      "   [ 0.]\n",
      "   [ 0.]]\n",
      "\n",
      "  [[ 0.]\n",
      "   [ 0.]\n",
      "   [ 0.]\n",
      "   ...\n",
      "   [ 0.]\n",
      "   [ 0.]\n",
      "   [ 0.]]\n",
      "\n",
      "  [[ 0.]\n",
      "   [ 0.]\n",
      "   [ 0.]\n",
      "   ...\n",
      "   [ 0.]\n",
      "   [ 0.]\n",
      "   [ 0.]]]], shape=(1, 64, 64, 1), dtype=float32)\n"
     ]
    }
   ],
   "source": [
    "gen_model = make_generator()\n",
    "\n",
    "noise = generate_generator_input()\n",
    "test_gen = gen_model(noise, training = False)\n",
    "\n",
    "print(test_gen)\n",
    "\n"
   ]
  },
  {
   "attachments": {},
   "cell_type": "markdown",
   "metadata": {},
   "source": [
    "Next, test the untrained discriminator on the map of noise generated before\n",
    "\n",
    "Negative values means fake, positive means real"
   ]
  },
  {
   "cell_type": "code",
   "execution_count": 26,
   "metadata": {},
   "outputs": [
    {
     "ename": "TypeError",
     "evalue": "The added layer must be an instance of class Layer. Received: layer=<class 'keras.src.layers.normalization.batch_normalization.BatchNormalization'> of type <class 'type'>.",
     "output_type": "error",
     "traceback": [
      "\u001b[0;31m---------------------------------------------------------------------------\u001b[0m",
      "\u001b[0;31mTypeError\u001b[0m                                 Traceback (most recent call last)",
      "Cell \u001b[0;32mIn[26], line 1\u001b[0m\n\u001b[0;32m----> 1\u001b[0m disc_model \u001b[39m=\u001b[39m make_discriminator()\n\u001b[1;32m      2\u001b[0m decision \u001b[39m=\u001b[39m disc_model(test_gen)\n\u001b[1;32m      3\u001b[0m \u001b[39mprint\u001b[39m(decision)\n",
      "Cell \u001b[0;32mIn[24], line 6\u001b[0m, in \u001b[0;36mmake_discriminator\u001b[0;34m()\u001b[0m\n\u001b[1;32m      4\u001b[0m model \u001b[39m=\u001b[39m Sequential()\n\u001b[1;32m      5\u001b[0m model\u001b[39m.\u001b[39madd(Conv2D(\u001b[39m256\u001b[39m, (\u001b[39m5\u001b[39m,\u001b[39m5\u001b[39m), strides\u001b[39m=\u001b[39m(\u001b[39m2\u001b[39m,\u001b[39m2\u001b[39m), padding\u001b[39m=\u001b[39m\u001b[39m\"\u001b[39m\u001b[39msame\u001b[39m\u001b[39m\"\u001b[39m, input_shape\u001b[39m=\u001b[39m(\u001b[39m64\u001b[39m,\u001b[39m64\u001b[39m,\u001b[39m1\u001b[39m)))\n\u001b[0;32m----> 6\u001b[0m model\u001b[39m.\u001b[39;49madd(BatchNormalization)\n\u001b[1;32m      7\u001b[0m model\u001b[39m.\u001b[39madd(LeakyReLU())\n\u001b[1;32m      8\u001b[0m model\u001b[39m.\u001b[39madd(MaxPooling2D(pool_size\u001b[39m=\u001b[39m(\u001b[39m2\u001b[39m,\u001b[39m2\u001b[39m), strides\u001b[39m=\u001b[39m(\u001b[39m2\u001b[39m,\u001b[39m2\u001b[39m), padding\u001b[39m=\u001b[39m\u001b[39m'\u001b[39m\u001b[39msame\u001b[39m\u001b[39m'\u001b[39m))\n",
      "File \u001b[0;32m~/.local/lib/python3.10/site-packages/tensorflow/python/trackable/base.py:204\u001b[0m, in \u001b[0;36mno_automatic_dependency_tracking.<locals>._method_wrapper\u001b[0;34m(self, *args, **kwargs)\u001b[0m\n\u001b[1;32m    202\u001b[0m \u001b[39mself\u001b[39m\u001b[39m.\u001b[39m_self_setattr_tracking \u001b[39m=\u001b[39m \u001b[39mFalse\u001b[39;00m  \u001b[39m# pylint: disable=protected-access\u001b[39;00m\n\u001b[1;32m    203\u001b[0m \u001b[39mtry\u001b[39;00m:\n\u001b[0;32m--> 204\u001b[0m   result \u001b[39m=\u001b[39m method(\u001b[39mself\u001b[39;49m, \u001b[39m*\u001b[39;49margs, \u001b[39m*\u001b[39;49m\u001b[39m*\u001b[39;49mkwargs)\n\u001b[1;32m    205\u001b[0m \u001b[39mfinally\u001b[39;00m:\n\u001b[1;32m    206\u001b[0m   \u001b[39mself\u001b[39m\u001b[39m.\u001b[39m_self_setattr_tracking \u001b[39m=\u001b[39m previous_value  \u001b[39m# pylint: disable=protected-access\u001b[39;00m\n",
      "File \u001b[0;32m~/.local/lib/python3.10/site-packages/keras/src/utils/traceback_utils.py:70\u001b[0m, in \u001b[0;36mfilter_traceback.<locals>.error_handler\u001b[0;34m(*args, **kwargs)\u001b[0m\n\u001b[1;32m     67\u001b[0m     filtered_tb \u001b[39m=\u001b[39m _process_traceback_frames(e\u001b[39m.\u001b[39m__traceback__)\n\u001b[1;32m     68\u001b[0m     \u001b[39m# To get the full stack trace, call:\u001b[39;00m\n\u001b[1;32m     69\u001b[0m     \u001b[39m# `tf.debugging.disable_traceback_filtering()`\u001b[39;00m\n\u001b[0;32m---> 70\u001b[0m     \u001b[39mraise\u001b[39;00m e\u001b[39m.\u001b[39mwith_traceback(filtered_tb) \u001b[39mfrom\u001b[39;00m \u001b[39mNone\u001b[39;00m\n\u001b[1;32m     71\u001b[0m \u001b[39mfinally\u001b[39;00m:\n\u001b[1;32m     72\u001b[0m     \u001b[39mdel\u001b[39;00m filtered_tb\n",
      "File \u001b[0;32m~/.local/lib/python3.10/site-packages/keras/src/engine/sequential.py:185\u001b[0m, in \u001b[0;36mSequential.add\u001b[0;34m(self, layer)\u001b[0m\n\u001b[1;32m    183\u001b[0m         layer \u001b[39m=\u001b[39m functional\u001b[39m.\u001b[39mModuleWrapper(layer)\n\u001b[1;32m    184\u001b[0m \u001b[39melse\u001b[39;00m:\n\u001b[0;32m--> 185\u001b[0m     \u001b[39mraise\u001b[39;00m \u001b[39mTypeError\u001b[39;00m(\n\u001b[1;32m    186\u001b[0m         \u001b[39m\"\u001b[39m\u001b[39mThe added layer must be an instance of class Layer. \u001b[39m\u001b[39m\"\u001b[39m\n\u001b[1;32m    187\u001b[0m         \u001b[39mf\u001b[39m\u001b[39m\"\u001b[39m\u001b[39mReceived: layer=\u001b[39m\u001b[39m{\u001b[39;00mlayer\u001b[39m}\u001b[39;00m\u001b[39m of type \u001b[39m\u001b[39m{\u001b[39;00m\u001b[39mtype\u001b[39m(layer)\u001b[39m}\u001b[39;00m\u001b[39m.\u001b[39m\u001b[39m\"\u001b[39m\n\u001b[1;32m    188\u001b[0m     )\n\u001b[1;32m    190\u001b[0m tf_utils\u001b[39m.\u001b[39massert_no_legacy_layers([layer])\n\u001b[1;32m    191\u001b[0m \u001b[39mif\u001b[39;00m \u001b[39mnot\u001b[39;00m \u001b[39mself\u001b[39m\u001b[39m.\u001b[39m_is_layer_name_unique(layer):\n",
      "\u001b[0;31mTypeError\u001b[0m: The added layer must be an instance of class Layer. Received: layer=<class 'keras.src.layers.normalization.batch_normalization.BatchNormalization'> of type <class 'type'>."
     ]
    }
   ],
   "source": [
    "disc_model = make_discriminator()\n",
    "decision = disc_model(test_gen)\n",
    "print(decision)"
   ]
  },
  {
   "attachments": {},
   "cell_type": "markdown",
   "metadata": {},
   "source": [
    "## Loss and Optimizers"
   ]
  },
  {
   "cell_type": "code",
   "execution_count": null,
   "metadata": {},
   "outputs": [],
   "source": [
    "cross_entropy = BinaryCrossentropy(from_logits=True)\n",
    "\n"
   ]
  },
  {
   "attachments": {},
   "cell_type": "markdown",
   "metadata": {},
   "source": [
    "Discriminator loss, adapted from: https://www.tensorflow.org/tutorials/generative/dcgan"
   ]
  },
  {
   "cell_type": "code",
   "execution_count": null,
   "metadata": {},
   "outputs": [],
   "source": [
    "def discrim_loss(real_output, fake_output):\n",
    "    real_loss = cross_entropy(tf.ones_like(real_output), real_output)\n",
    "    fake_loss = cross_entropy(tf.zeros_like(fake_output), fake_output)\n",
    "    total_loss = real_loss + fake_loss\n",
    "    return total_loss"
   ]
  },
  {
   "attachments": {},
   "cell_type": "markdown",
   "metadata": {},
   "source": [
    "Generator loss"
   ]
  },
  {
   "cell_type": "code",
   "execution_count": null,
   "metadata": {},
   "outputs": [],
   "source": [
    "def generator_loss(fake_output):\n",
    "    return cross_entropy(tf.ones_like(fake_output), fake_output)"
   ]
  },
  {
   "attachments": {},
   "cell_type": "markdown",
   "metadata": {},
   "source": [
    "Optimizers:"
   ]
  },
  {
   "cell_type": "code",
   "execution_count": null,
   "metadata": {},
   "outputs": [],
   "source": [
    "gen_optimizer = Adam(learning_rate =1e-4, beta_1=0.5)\n",
    "disc_optimizer = Adam(learning_rate =1e-4, beta_1=0.5)"
   ]
  },
  {
   "attachments": {},
   "cell_type": "markdown",
   "metadata": {},
   "source": [
    "Discriminator accuracy"
   ]
  },
  {
   "cell_type": "code",
   "execution_count": null,
   "metadata": {},
   "outputs": [],
   "source": [
    "def compute_discrim_accuracy(real_output, fake_output):\n",
    "    if real_output >=0:\n",
    "        \n",
    "        if fake_output <0:\n",
    "            accuracy = (real_output + fake_output) / (real_output + fake_output)\n",
    "        else:\n",
    "            accuracy = real_output/ (real_output + fake_output)\n",
    "    elif fake_output <0:\n",
    "        accuracy = fake_output / (real_output + fake_output)\n",
    "    else:\n",
    "        accuracy = 0/ (real_output + fake_output)\n",
    "    \n",
    "    return accuracy"
   ]
  },
  {
   "attachments": {},
   "cell_type": "markdown",
   "metadata": {},
   "source": [
    "## Training"
   ]
  },
  {
   "attachments": {},
   "cell_type": "markdown",
   "metadata": {},
   "source": [
    "training parameters:"
   ]
  },
  {
   "cell_type": "code",
   "execution_count": null,
   "metadata": {},
   "outputs": [],
   "source": [
    "N_EPOCHS = 15\n",
    "\n",
    "VERBOSE = 1\n"
   ]
  },
  {
   "attachments": {},
   "cell_type": "markdown",
   "metadata": {},
   "source": [
    "Training step"
   ]
  },
  {
   "cell_type": "code",
   "execution_count": null,
   "metadata": {},
   "outputs": [],
   "source": [
    "@tf.function\n",
    "def training_step(current_batch):\n",
    "    \n",
    "    noise_sample = generate_generator_input()\n",
    "    \n",
    "\n",
    "    with tf.GradientTape() as gen_tape, tf.GradientTape() as disc_tape:\n",
    "\n",
    "        generated_map = gen_model(noise_sample, training=True)\n",
    "        print(\"generated map shape\" + str(generated_map.shape))\n",
    "        \n",
    "        fake_output = disc_model(generated_map,  training=True)\n",
    "        real_output = disc_model(current_batch, training=True)\n",
    "        \n",
    "\n",
    "        gen_loss = generator_loss(fake_output=fake_output)\n",
    "        disc_loss = discrim_loss(real_output=real_output, fake_output=fake_output)\n",
    "\n",
    "        #disc_accuracy = compute_discrim_accuracy(real_output, fake_output)\n",
    "\n",
    "        \n",
    "\n",
    "    gen_gradients = gen_tape.gradient(gen_loss, gen_model.trainable_variables)\n",
    "    disc_gradients = disc_tape.gradient(disc_loss, disc_model.trainable_variables)\n",
    "\n",
    "    gen_optimizer.apply_gradients(zip(gen_gradients, gen_model.trainable_variables))\n",
    "    disc_optimizer.apply_gradients(zip(disc_gradients, disc_model.trainable_variables))\n",
    "\n",
    "    return gen_loss, disc_loss"
   ]
  },
  {
   "attachments": {},
   "cell_type": "markdown",
   "metadata": {
    "vscode": {
     "languageId": "python"
    }
   },
   "source": [
    "Train models"
   ]
  },
  {
   "cell_type": "code",
   "execution_count": null,
   "metadata": {},
   "outputs": [],
   "source": [
    "def train(dataset, N_EPOCHS):\n",
    "\n",
    "    gen_losses = []\n",
    "    disc_losses = []\n",
    "\n",
    "    disc_accuracies = []\n",
    "    \n",
    "\n",
    "    for epoch in range(N_EPOCHS):\n",
    "        gen_losses_for_epoch = []\n",
    "        disc_losses_for_epoch = []\n",
    "\n",
    "        print(\"epoch = \" + str(epoch))\n",
    "\n",
    "        for map_batch in dataset:\n",
    "            \n",
    "            \n",
    "            gen_loss, disc_loss = training_step(map_batch)\n",
    "\n",
    "            gen_losses_for_epoch.append(gen_loss)\n",
    "            disc_losses_for_epoch.append(disc_loss)\n",
    "            #disc_accuracies.append(disc_accuracy)\n",
    "        \n",
    "        avg_gen_loss = sum(gen_losses_for_epoch) / 48\n",
    "        avg_disc_loss = sum(disc_losses_for_epoch) / 48\n",
    "\n",
    "        gen_losses.append(avg_gen_loss)\n",
    "        disc_losses.append(avg_disc_loss)\n",
    "\n",
    "        print(\"Gen loss = \" + str(avg_gen_loss))\n",
    "        print(\"Disc loss = \" + str(avg_disc_loss))\n",
    "    \n",
    "    input_for_map_after_training = generate_generator_input()\n",
    "    generated_map = gen_model(input_for_map_after_training, training=False)\n",
    "\n",
    "    \n",
    "\n",
    "    return gen_losses, disc_losses, generated_map\n"
   ]
  },
  {
   "attachments": {},
   "cell_type": "markdown",
   "metadata": {},
   "source": [
    "Train GAN"
   ]
  },
  {
   "cell_type": "code",
   "execution_count": null,
   "metadata": {},
   "outputs": [
    {
     "name": "stdout",
     "output_type": "stream",
     "text": [
      "epoch = 0\n",
      "generated map shape(1, 64, 64, 1)\n"
     ]
    },
    {
     "name": "stderr",
     "output_type": "stream",
     "text": [
      "2023-08-12 10:10:22.397089: W tensorflow/tsl/framework/cpu_allocator_impl.cc:83] Allocation of 209715200 exceeds 10% of free system memory.\n",
      "2023-08-12 10:10:22.489408: W tensorflow/tsl/framework/cpu_allocator_impl.cc:83] Allocation of 209715200 exceeds 10% of free system memory.\n"
     ]
    },
    {
     "name": "stdout",
     "output_type": "stream",
     "text": [
      "generated map shape(1, 64, 64, 1)\n",
      "Gen loss = tf.Tensor(0.1653389, shape=(), dtype=float32)\n",
      "Disc loss = tf.Tensor(0.28051963, shape=(), dtype=float32)\n",
      "epoch = 1\n",
      "Gen loss = tf.Tensor(0.27945536, shape=(), dtype=float32)\n",
      "Disc loss = tf.Tensor(0.18014456, shape=(), dtype=float32)\n",
      "epoch = 2\n",
      "Gen loss = tf.Tensor(0.3253112, shape=(), dtype=float32)\n",
      "Disc loss = tf.Tensor(0.15778589, shape=(), dtype=float32)\n",
      "epoch = 3\n",
      "Gen loss = tf.Tensor(0.32753232, shape=(), dtype=float32)\n",
      "Disc loss = tf.Tensor(0.15692557, shape=(), dtype=float32)\n",
      "epoch = 4\n",
      "Gen loss = tf.Tensor(0.32786375, shape=(), dtype=float32)\n",
      "Disc loss = tf.Tensor(0.15679935, shape=(), dtype=float32)\n",
      "epoch = 5\n",
      "Gen loss = tf.Tensor(0.32802963, shape=(), dtype=float32)\n",
      "Disc loss = tf.Tensor(0.15674017, shape=(), dtype=float32)\n",
      "epoch = 6\n",
      "Gen loss = tf.Tensor(0.32810196, shape=(), dtype=float32)\n",
      "Disc loss = tf.Tensor(0.15671004, shape=(), dtype=float32)\n",
      "epoch = 7\n",
      "Gen loss = tf.Tensor(0.32817695, shape=(), dtype=float32)\n",
      "Disc loss = tf.Tensor(0.15668295, shape=(), dtype=float32)\n",
      "epoch = 8\n",
      "Gen loss = tf.Tensor(0.32818723, shape=(), dtype=float32)\n",
      "Disc loss = tf.Tensor(0.15667947, shape=(), dtype=float32)\n",
      "epoch = 9\n",
      "Gen loss = tf.Tensor(0.32823357, shape=(), dtype=float32)\n",
      "Disc loss = tf.Tensor(0.15666156, shape=(), dtype=float32)\n",
      "epoch = 10\n",
      "Gen loss = tf.Tensor(0.32823277, shape=(), dtype=float32)\n",
      "Disc loss = tf.Tensor(0.15666166, shape=(), dtype=float32)\n",
      "epoch = 11\n",
      "Gen loss = tf.Tensor(0.32825324, shape=(), dtype=float32)\n",
      "Disc loss = tf.Tensor(0.15665449, shape=(), dtype=float32)\n",
      "epoch = 12\n",
      "Gen loss = tf.Tensor(0.32825142, shape=(), dtype=float32)\n",
      "Disc loss = tf.Tensor(0.15665467, shape=(), dtype=float32)\n",
      "epoch = 13\n",
      "Gen loss = tf.Tensor(0.32827136, shape=(), dtype=float32)\n",
      "Disc loss = tf.Tensor(0.1566476, shape=(), dtype=float32)\n",
      "epoch = 14\n",
      "Gen loss = tf.Tensor(0.3282666, shape=(), dtype=float32)\n",
      "Disc loss = tf.Tensor(0.15664962, shape=(), dtype=float32)\n",
      "(64, 64)\n",
      "[[0.0, 128.0, 127.0, 128.0, 127.0, 128.0, 127.0, 128.0, 0.0, 128.0, 127.0, 128.0, 127.0, 128.0, 127.0, 128.0, 255.0, 128.0, 127.0, 128.0, 127.0, 128.0, 127.0, 128.0, 255.0, 128.0, 127.0, 128.0, 127.0, 128.0, 127.0, 128.0, 0.0, 128.0, 127.0, 128.0, 127.0, 128.0, 127.0, 128.0, 255.0, 128.0, 127.0, 128.0, 127.0, 128.0, 127.0, 128.0, 255.0, 128.0, 127.0, 128.0, 127.0, 128.0, 127.0, 128.0, 255.0, 128.0, 127.0, 128.0, 127.0, 128.0, 127.0, 128.0], [128.0, 128.0, 128.0, 128.0, 128.0, 128.0, 128.0, 128.0, 128.0, 128.0, 128.0, 128.0, 128.0, 128.0, 128.0, 128.0, 128.0, 128.0, 128.0, 128.0, 128.0, 128.0, 128.0, 128.0, 128.0, 128.0, 128.0, 128.0, 128.0, 128.0, 128.0, 128.0, 128.0, 128.0, 128.0, 128.0, 128.0, 128.0, 128.0, 128.0, 128.0, 128.0, 128.0, 128.0, 128.0, 128.0, 128.0, 128.0, 128.0, 128.0, 128.0, 128.0, 128.0, 128.0, 128.0, 128.0, 128.0, 128.0, 128.0, 128.0, 128.0, 128.0, 128.0, 128.0], [127.0, 128.0, 127.0, 128.0, 127.0, 128.0, 127.0, 128.0, 127.0, 128.0, 127.0, 128.0, 127.0, 128.0, 127.0, 128.0, 127.0, 128.0, 127.0, 128.0, 127.0, 128.0, 127.0, 128.0, 127.0, 128.0, 127.0, 128.0, 127.0, 128.0, 127.0, 128.0, 127.0, 128.0, 127.0, 128.0, 127.0, 128.0, 127.0, 128.0, 127.0, 128.0, 127.0, 128.0, 127.0, 128.0, 127.0, 128.0, 127.0, 128.0, 127.0, 128.0, 127.0, 128.0, 127.0, 128.0, 127.0, 128.0, 127.0, 128.0, 127.0, 128.0, 127.0, 128.0], [128.0, 128.0, 128.0, 128.0, 128.0, 128.0, 128.0, 128.0, 128.0, 128.0, 128.0, 128.0, 128.0, 128.0, 128.0, 128.0, 128.0, 128.0, 128.0, 128.0, 128.0, 128.0, 128.0, 128.0, 128.0, 128.0, 128.0, 128.0, 128.0, 128.0, 128.0, 128.0, 128.0, 128.0, 128.0, 128.0, 128.0, 128.0, 128.0, 128.0, 128.0, 128.0, 128.0, 128.0, 128.0, 128.0, 128.0, 128.0, 128.0, 128.0, 128.0, 128.0, 128.0, 128.0, 128.0, 128.0, 128.0, 128.0, 128.0, 128.0, 128.0, 128.0, 128.0, 128.0], [127.0, 128.0, 127.0, 128.0, 127.0, 128.0, 127.0, 128.0, 127.0, 128.0, 127.0, 128.0, 127.0, 128.0, 127.0, 128.0, 127.0, 128.0, 127.0, 128.0, 127.0, 128.0, 127.0, 128.0, 127.0, 128.0, 127.0, 128.0, 127.0, 128.0, 127.0, 128.0, 127.0, 128.0, 127.0, 128.0, 127.0, 128.0, 127.0, 128.0, 127.0, 128.0, 127.0, 128.0, 127.0, 128.0, 127.0, 128.0, 127.0, 128.0, 127.0, 128.0, 127.0, 128.0, 127.0, 128.0, 127.0, 128.0, 127.0, 128.0, 127.0, 128.0, 127.0, 128.0], [128.0, 128.0, 128.0, 128.0, 128.0, 128.0, 128.0, 128.0, 128.0, 128.0, 128.0, 128.0, 128.0, 128.0, 128.0, 128.0, 128.0, 128.0, 128.0, 128.0, 128.0, 128.0, 128.0, 128.0, 128.0, 128.0, 128.0, 128.0, 128.0, 128.0, 128.0, 128.0, 128.0, 128.0, 128.0, 128.0, 128.0, 128.0, 128.0, 128.0, 128.0, 128.0, 128.0, 128.0, 128.0, 128.0, 128.0, 128.0, 128.0, 128.0, 128.0, 128.0, 128.0, 128.0, 128.0, 128.0, 128.0, 128.0, 128.0, 128.0, 128.0, 128.0, 128.0, 128.0], [127.0, 128.0, 127.0, 128.0, 127.0, 128.0, 127.0, 128.0, 127.0, 128.0, 127.0, 128.0, 127.0, 128.0, 127.0, 128.0, 127.0, 128.0, 127.0, 128.0, 127.0, 128.0, 127.0, 128.0, 127.0, 128.0, 127.0, 128.0, 127.0, 128.0, 127.0, 128.0, 127.0, 128.0, 127.0, 128.0, 127.0, 128.0, 127.0, 128.0, 127.0, 128.0, 127.0, 128.0, 127.0, 128.0, 127.0, 128.0, 127.0, 128.0, 127.0, 128.0, 127.0, 128.0, 127.0, 128.0, 127.0, 128.0, 127.0, 128.0, 127.0, 128.0, 127.0, 128.0], [128.0, 128.0, 128.0, 128.0, 128.0, 128.0, 128.0, 128.0, 128.0, 128.0, 128.0, 128.0, 128.0, 128.0, 128.0, 128.0, 128.0, 128.0, 128.0, 128.0, 128.0, 128.0, 128.0, 128.0, 128.0, 128.0, 128.0, 128.0, 128.0, 128.0, 128.0, 128.0, 128.0, 128.0, 128.0, 128.0, 128.0, 128.0, 128.0, 128.0, 128.0, 128.0, 128.0, 128.0, 128.0, 128.0, 128.0, 128.0, 128.0, 128.0, 128.0, 128.0, 128.0, 128.0, 128.0, 128.0, 128.0, 128.0, 128.0, 128.0, 128.0, 128.0, 128.0, 128.0], [255.0, 128.0, 127.0, 128.0, 127.0, 128.0, 127.0, 128.0, 255.0, 128.0, 127.0, 128.0, 127.0, 128.0, 127.0, 128.0, 0.0, 128.0, 127.0, 128.0, 127.0, 128.0, 127.0, 128.0, 255.0, 128.0, 127.0, 128.0, 127.0, 128.0, 127.0, 128.0, 255.0, 128.0, 127.0, 128.0, 127.0, 128.0, 127.0, 128.0, 255.0, 128.0, 127.0, 128.0, 127.0, 128.0, 127.0, 128.0, 255.0, 128.0, 127.0, 128.0, 127.0, 128.0, 127.0, 128.0, 0.0, 128.0, 127.0, 128.0, 127.0, 128.0, 127.0, 128.0], [128.0, 128.0, 128.0, 128.0, 128.0, 128.0, 128.0, 128.0, 128.0, 128.0, 128.0, 128.0, 128.0, 128.0, 128.0, 128.0, 128.0, 128.0, 128.0, 128.0, 128.0, 128.0, 128.0, 128.0, 128.0, 128.0, 128.0, 128.0, 128.0, 128.0, 128.0, 128.0, 128.0, 128.0, 128.0, 128.0, 128.0, 128.0, 128.0, 128.0, 128.0, 128.0, 128.0, 128.0, 128.0, 128.0, 128.0, 128.0, 128.0, 128.0, 128.0, 128.0, 128.0, 128.0, 128.0, 128.0, 128.0, 128.0, 128.0, 128.0, 128.0, 128.0, 128.0, 128.0], [127.0, 128.0, 127.0, 128.0, 127.0, 128.0, 127.0, 128.0, 127.0, 128.0, 127.0, 128.0, 127.0, 128.0, 127.0, 128.0, 127.0, 128.0, 127.0, 128.0, 127.0, 128.0, 127.0, 128.0, 127.0, 128.0, 127.0, 128.0, 127.0, 128.0, 127.0, 128.0, 127.0, 128.0, 127.0, 128.0, 127.0, 128.0, 127.0, 128.0, 127.0, 128.0, 127.0, 128.0, 127.0, 128.0, 127.0, 128.0, 127.0, 128.0, 127.0, 128.0, 127.0, 128.0, 127.0, 128.0, 127.0, 128.0, 127.0, 128.0, 127.0, 128.0, 127.0, 128.0], [128.0, 128.0, 128.0, 128.0, 128.0, 128.0, 128.0, 128.0, 128.0, 128.0, 128.0, 128.0, 128.0, 128.0, 128.0, 128.0, 128.0, 128.0, 128.0, 128.0, 128.0, 128.0, 128.0, 128.0, 128.0, 128.0, 128.0, 128.0, 128.0, 128.0, 128.0, 128.0, 128.0, 128.0, 128.0, 128.0, 128.0, 128.0, 128.0, 128.0, 128.0, 128.0, 128.0, 128.0, 128.0, 128.0, 128.0, 128.0, 128.0, 128.0, 128.0, 128.0, 128.0, 128.0, 128.0, 128.0, 128.0, 128.0, 128.0, 128.0, 128.0, 128.0, 128.0, 128.0], [127.0, 128.0, 127.0, 128.0, 127.0, 128.0, 127.0, 128.0, 127.0, 128.0, 127.0, 128.0, 127.0, 128.0, 127.0, 128.0, 127.0, 128.0, 127.0, 128.0, 127.0, 128.0, 127.0, 128.0, 127.0, 128.0, 127.0, 128.0, 127.0, 128.0, 127.0, 128.0, 127.0, 128.0, 127.0, 128.0, 127.0, 128.0, 127.0, 128.0, 127.0, 128.0, 127.0, 128.0, 127.0, 128.0, 127.0, 128.0, 127.0, 128.0, 127.0, 128.0, 127.0, 128.0, 127.0, 128.0, 127.0, 128.0, 127.0, 128.0, 127.0, 128.0, 127.0, 128.0], [128.0, 128.0, 128.0, 128.0, 128.0, 128.0, 128.0, 128.0, 128.0, 128.0, 128.0, 128.0, 128.0, 128.0, 128.0, 128.0, 128.0, 128.0, 128.0, 128.0, 128.0, 128.0, 128.0, 128.0, 128.0, 128.0, 128.0, 128.0, 128.0, 128.0, 128.0, 128.0, 128.0, 128.0, 128.0, 128.0, 128.0, 128.0, 128.0, 128.0, 128.0, 128.0, 128.0, 128.0, 128.0, 128.0, 128.0, 128.0, 128.0, 128.0, 128.0, 128.0, 128.0, 128.0, 128.0, 128.0, 128.0, 128.0, 128.0, 128.0, 128.0, 128.0, 128.0, 128.0], [127.0, 128.0, 127.0, 128.0, 127.0, 128.0, 127.0, 128.0, 127.0, 128.0, 127.0, 128.0, 127.0, 128.0, 127.0, 128.0, 127.0, 128.0, 127.0, 128.0, 127.0, 128.0, 127.0, 128.0, 127.0, 128.0, 127.0, 128.0, 127.0, 128.0, 127.0, 128.0, 127.0, 128.0, 127.0, 128.0, 127.0, 128.0, 127.0, 128.0, 127.0, 128.0, 127.0, 128.0, 127.0, 128.0, 127.0, 128.0, 127.0, 128.0, 127.0, 128.0, 127.0, 128.0, 127.0, 128.0, 127.0, 128.0, 127.0, 128.0, 127.0, 128.0, 127.0, 128.0], [128.0, 128.0, 128.0, 128.0, 128.0, 128.0, 128.0, 128.0, 128.0, 128.0, 128.0, 128.0, 128.0, 128.0, 128.0, 128.0, 128.0, 128.0, 128.0, 128.0, 128.0, 128.0, 128.0, 128.0, 128.0, 128.0, 128.0, 128.0, 128.0, 128.0, 128.0, 128.0, 128.0, 128.0, 128.0, 128.0, 128.0, 128.0, 128.0, 128.0, 128.0, 128.0, 128.0, 128.0, 128.0, 128.0, 128.0, 128.0, 128.0, 128.0, 128.0, 128.0, 128.0, 128.0, 128.0, 128.0, 128.0, 128.0, 128.0, 128.0, 128.0, 128.0, 128.0, 128.0], [255.0, 128.0, 127.0, 128.0, 127.0, 128.0, 127.0, 128.0, 255.0, 128.0, 127.0, 128.0, 127.0, 128.0, 127.0, 128.0, 255.0, 128.0, 127.0, 128.0, 127.0, 128.0, 127.0, 128.0, 255.0, 128.0, 127.0, 128.0, 127.0, 128.0, 127.0, 128.0, 255.0, 128.0, 127.0, 128.0, 127.0, 128.0, 127.0, 128.0, 0.0, 128.0, 127.0, 128.0, 127.0, 128.0, 127.0, 128.0, 0.0, 128.0, 127.0, 128.0, 127.0, 128.0, 127.0, 128.0, 255.0, 128.0, 127.0, 128.0, 127.0, 128.0, 127.0, 128.0], [128.0, 128.0, 128.0, 128.0, 128.0, 128.0, 128.0, 128.0, 128.0, 128.0, 128.0, 128.0, 128.0, 128.0, 128.0, 128.0, 128.0, 128.0, 128.0, 128.0, 128.0, 128.0, 128.0, 128.0, 128.0, 128.0, 128.0, 128.0, 128.0, 128.0, 128.0, 128.0, 128.0, 128.0, 128.0, 128.0, 128.0, 128.0, 128.0, 128.0, 128.0, 128.0, 128.0, 128.0, 128.0, 128.0, 128.0, 128.0, 128.0, 128.0, 128.0, 128.0, 128.0, 128.0, 128.0, 128.0, 128.0, 128.0, 128.0, 128.0, 128.0, 128.0, 128.0, 128.0], [127.0, 128.0, 127.0, 128.0, 127.0, 128.0, 127.0, 128.0, 127.0, 128.0, 127.0, 128.0, 127.0, 128.0, 127.0, 128.0, 127.0, 128.0, 127.0, 128.0, 127.0, 128.0, 127.0, 128.0, 127.0, 128.0, 127.0, 128.0, 127.0, 128.0, 127.0, 128.0, 127.0, 128.0, 127.0, 128.0, 127.0, 128.0, 127.0, 128.0, 127.0, 128.0, 127.0, 128.0, 127.0, 128.0, 127.0, 128.0, 127.0, 128.0, 127.0, 128.0, 127.0, 128.0, 127.0, 128.0, 127.0, 128.0, 127.0, 128.0, 127.0, 128.0, 127.0, 128.0], [128.0, 128.0, 128.0, 128.0, 128.0, 128.0, 128.0, 128.0, 128.0, 128.0, 128.0, 128.0, 128.0, 128.0, 128.0, 128.0, 128.0, 128.0, 128.0, 128.0, 128.0, 128.0, 128.0, 128.0, 128.0, 128.0, 128.0, 128.0, 128.0, 128.0, 128.0, 128.0, 128.0, 128.0, 128.0, 128.0, 128.0, 128.0, 128.0, 128.0, 128.0, 128.0, 128.0, 128.0, 128.0, 128.0, 128.0, 128.0, 128.0, 128.0, 128.0, 128.0, 128.0, 128.0, 128.0, 128.0, 128.0, 128.0, 128.0, 128.0, 128.0, 128.0, 128.0, 128.0], [127.0, 128.0, 127.0, 128.0, 127.0, 128.0, 127.0, 128.0, 127.0, 128.0, 127.0, 128.0, 127.0, 128.0, 127.0, 128.0, 127.0, 128.0, 127.0, 128.0, 127.0, 128.0, 127.0, 128.0, 127.0, 128.0, 127.0, 128.0, 127.0, 128.0, 127.0, 128.0, 127.0, 128.0, 127.0, 128.0, 127.0, 128.0, 127.0, 128.0, 127.0, 128.0, 127.0, 128.0, 127.0, 128.0, 127.0, 128.0, 127.0, 128.0, 127.0, 128.0, 127.0, 128.0, 127.0, 128.0, 127.0, 128.0, 127.0, 128.0, 127.0, 128.0, 127.0, 128.0], [128.0, 128.0, 128.0, 128.0, 128.0, 128.0, 128.0, 128.0, 128.0, 128.0, 128.0, 128.0, 128.0, 128.0, 128.0, 128.0, 128.0, 128.0, 128.0, 128.0, 128.0, 128.0, 128.0, 128.0, 128.0, 128.0, 128.0, 128.0, 128.0, 128.0, 128.0, 128.0, 128.0, 128.0, 128.0, 128.0, 128.0, 128.0, 128.0, 128.0, 128.0, 128.0, 128.0, 128.0, 128.0, 128.0, 128.0, 128.0, 128.0, 128.0, 128.0, 128.0, 128.0, 128.0, 128.0, 128.0, 128.0, 128.0, 128.0, 128.0, 128.0, 128.0, 128.0, 128.0], [127.0, 128.0, 127.0, 128.0, 127.0, 128.0, 127.0, 128.0, 127.0, 128.0, 127.0, 128.0, 127.0, 128.0, 127.0, 128.0, 127.0, 128.0, 127.0, 128.0, 127.0, 128.0, 127.0, 128.0, 127.0, 128.0, 127.0, 128.0, 127.0, 128.0, 127.0, 128.0, 127.0, 128.0, 127.0, 128.0, 127.0, 128.0, 127.0, 128.0, 127.0, 128.0, 127.0, 128.0, 127.0, 128.0, 127.0, 128.0, 127.0, 128.0, 127.0, 128.0, 127.0, 128.0, 127.0, 128.0, 127.0, 128.0, 127.0, 128.0, 127.0, 128.0, 127.0, 128.0], [128.0, 128.0, 128.0, 128.0, 128.0, 128.0, 128.0, 128.0, 128.0, 128.0, 128.0, 128.0, 128.0, 128.0, 128.0, 128.0, 128.0, 128.0, 128.0, 128.0, 128.0, 128.0, 128.0, 128.0, 128.0, 128.0, 128.0, 128.0, 128.0, 128.0, 128.0, 128.0, 128.0, 128.0, 128.0, 128.0, 128.0, 128.0, 128.0, 128.0, 128.0, 128.0, 128.0, 128.0, 128.0, 128.0, 128.0, 128.0, 128.0, 128.0, 128.0, 128.0, 128.0, 128.0, 128.0, 128.0, 128.0, 128.0, 128.0, 128.0, 128.0, 128.0, 128.0, 128.0], [0.0, 128.0, 127.0, 128.0, 127.0, 128.0, 127.0, 128.0, 255.0, 128.0, 127.0, 128.0, 127.0, 128.0, 127.0, 128.0, 0.0, 128.0, 127.0, 128.0, 127.0, 128.0, 127.0, 128.0, 255.0, 128.0, 127.0, 128.0, 127.0, 128.0, 127.0, 128.0, 255.0, 128.0, 127.0, 128.0, 127.0, 128.0, 127.0, 128.0, 255.0, 128.0, 127.0, 128.0, 127.0, 128.0, 127.0, 128.0, 0.0, 128.0, 127.0, 128.0, 127.0, 128.0, 127.0, 128.0, 255.0, 128.0, 127.0, 128.0, 127.0, 128.0, 127.0, 128.0], [128.0, 128.0, 128.0, 128.0, 128.0, 128.0, 128.0, 128.0, 128.0, 128.0, 128.0, 128.0, 128.0, 128.0, 128.0, 128.0, 128.0, 128.0, 128.0, 128.0, 128.0, 128.0, 128.0, 128.0, 128.0, 128.0, 128.0, 128.0, 128.0, 128.0, 128.0, 128.0, 128.0, 128.0, 128.0, 128.0, 128.0, 128.0, 128.0, 128.0, 128.0, 128.0, 128.0, 128.0, 128.0, 128.0, 128.0, 128.0, 128.0, 128.0, 128.0, 128.0, 128.0, 128.0, 128.0, 128.0, 128.0, 128.0, 128.0, 128.0, 128.0, 128.0, 128.0, 128.0], [127.0, 128.0, 127.0, 128.0, 127.0, 128.0, 127.0, 128.0, 127.0, 128.0, 127.0, 128.0, 127.0, 128.0, 127.0, 128.0, 127.0, 128.0, 127.0, 128.0, 127.0, 128.0, 127.0, 128.0, 127.0, 128.0, 127.0, 128.0, 127.0, 128.0, 127.0, 128.0, 127.0, 128.0, 127.0, 128.0, 127.0, 128.0, 127.0, 128.0, 127.0, 128.0, 127.0, 128.0, 127.0, 128.0, 127.0, 128.0, 127.0, 128.0, 127.0, 128.0, 127.0, 128.0, 127.0, 128.0, 127.0, 128.0, 127.0, 128.0, 127.0, 128.0, 127.0, 128.0], [128.0, 128.0, 128.0, 128.0, 128.0, 128.0, 128.0, 128.0, 128.0, 128.0, 128.0, 128.0, 128.0, 128.0, 128.0, 128.0, 128.0, 128.0, 128.0, 128.0, 128.0, 128.0, 128.0, 128.0, 128.0, 128.0, 128.0, 128.0, 128.0, 128.0, 128.0, 128.0, 128.0, 128.0, 128.0, 128.0, 128.0, 128.0, 128.0, 128.0, 128.0, 128.0, 128.0, 128.0, 128.0, 128.0, 128.0, 128.0, 128.0, 128.0, 128.0, 128.0, 128.0, 128.0, 128.0, 128.0, 128.0, 128.0, 128.0, 128.0, 128.0, 128.0, 128.0, 128.0], [127.0, 128.0, 127.0, 128.0, 127.0, 128.0, 127.0, 128.0, 127.0, 128.0, 127.0, 128.0, 127.0, 128.0, 127.0, 128.0, 127.0, 128.0, 127.0, 128.0, 127.0, 128.0, 127.0, 128.0, 127.0, 128.0, 127.0, 128.0, 127.0, 128.0, 127.0, 128.0, 127.0, 128.0, 127.0, 128.0, 127.0, 128.0, 127.0, 128.0, 127.0, 128.0, 127.0, 128.0, 127.0, 128.0, 127.0, 128.0, 127.0, 128.0, 127.0, 128.0, 127.0, 128.0, 127.0, 128.0, 127.0, 128.0, 127.0, 128.0, 127.0, 128.0, 127.0, 128.0], [128.0, 128.0, 128.0, 128.0, 128.0, 128.0, 128.0, 128.0, 128.0, 128.0, 128.0, 128.0, 128.0, 128.0, 128.0, 128.0, 128.0, 128.0, 128.0, 128.0, 128.0, 128.0, 128.0, 128.0, 128.0, 128.0, 128.0, 128.0, 128.0, 128.0, 128.0, 128.0, 128.0, 128.0, 128.0, 128.0, 128.0, 128.0, 128.0, 128.0, 128.0, 128.0, 128.0, 128.0, 128.0, 128.0, 128.0, 128.0, 128.0, 128.0, 128.0, 128.0, 128.0, 128.0, 128.0, 128.0, 128.0, 128.0, 128.0, 128.0, 128.0, 128.0, 128.0, 128.0], [127.0, 128.0, 127.0, 128.0, 127.0, 128.0, 127.0, 128.0, 127.0, 128.0, 127.0, 128.0, 127.0, 128.0, 127.0, 128.0, 127.0, 128.0, 127.0, 128.0, 127.0, 128.0, 127.0, 128.0, 127.0, 128.0, 127.0, 128.0, 127.0, 128.0, 127.0, 128.0, 127.0, 128.0, 127.0, 128.0, 127.0, 128.0, 127.0, 128.0, 127.0, 128.0, 127.0, 128.0, 127.0, 128.0, 127.0, 128.0, 127.0, 128.0, 127.0, 128.0, 127.0, 128.0, 127.0, 128.0, 127.0, 128.0, 127.0, 128.0, 127.0, 128.0, 127.0, 128.0], [128.0, 128.0, 128.0, 128.0, 128.0, 128.0, 128.0, 128.0, 128.0, 128.0, 128.0, 128.0, 128.0, 128.0, 128.0, 128.0, 128.0, 128.0, 128.0, 128.0, 128.0, 128.0, 128.0, 128.0, 128.0, 128.0, 128.0, 128.0, 128.0, 128.0, 128.0, 128.0, 128.0, 128.0, 128.0, 128.0, 128.0, 128.0, 128.0, 128.0, 128.0, 128.0, 128.0, 128.0, 128.0, 128.0, 128.0, 128.0, 128.0, 128.0, 128.0, 128.0, 128.0, 128.0, 128.0, 128.0, 128.0, 128.0, 128.0, 128.0, 128.0, 128.0, 128.0, 128.0], [255.0, 128.0, 127.0, 128.0, 127.0, 128.0, 127.0, 128.0, 255.0, 128.0, 127.0, 128.0, 127.0, 128.0, 127.0, 128.0, 0.0, 128.0, 127.0, 128.0, 127.0, 128.0, 127.0, 128.0, 255.0, 128.0, 127.0, 128.0, 127.0, 128.0, 127.0, 128.0, 0.0, 128.0, 127.0, 128.0, 127.0, 128.0, 127.0, 128.0, 255.0, 128.0, 127.0, 128.0, 127.0, 128.0, 127.0, 128.0, 255.0, 128.0, 127.0, 128.0, 127.0, 128.0, 127.0, 128.0, 255.0, 128.0, 127.0, 128.0, 127.0, 128.0, 127.0, 128.0], [128.0, 128.0, 128.0, 128.0, 128.0, 128.0, 128.0, 128.0, 128.0, 128.0, 128.0, 128.0, 128.0, 128.0, 128.0, 128.0, 128.0, 128.0, 128.0, 128.0, 128.0, 128.0, 128.0, 128.0, 128.0, 128.0, 128.0, 128.0, 128.0, 128.0, 128.0, 128.0, 128.0, 128.0, 128.0, 128.0, 128.0, 128.0, 128.0, 128.0, 128.0, 128.0, 128.0, 128.0, 128.0, 128.0, 128.0, 128.0, 128.0, 128.0, 128.0, 128.0, 128.0, 128.0, 128.0, 128.0, 128.0, 128.0, 128.0, 128.0, 128.0, 128.0, 128.0, 128.0], [127.0, 128.0, 127.0, 128.0, 127.0, 128.0, 127.0, 128.0, 127.0, 128.0, 127.0, 128.0, 127.0, 128.0, 127.0, 128.0, 127.0, 128.0, 127.0, 128.0, 127.0, 128.0, 127.0, 128.0, 127.0, 128.0, 127.0, 128.0, 127.0, 128.0, 127.0, 128.0, 127.0, 128.0, 127.0, 128.0, 127.0, 128.0, 127.0, 128.0, 127.0, 128.0, 127.0, 128.0, 127.0, 128.0, 127.0, 128.0, 127.0, 128.0, 127.0, 128.0, 127.0, 128.0, 127.0, 128.0, 127.0, 128.0, 127.0, 128.0, 127.0, 128.0, 127.0, 128.0], [128.0, 128.0, 128.0, 128.0, 128.0, 128.0, 128.0, 128.0, 128.0, 128.0, 128.0, 128.0, 128.0, 128.0, 128.0, 128.0, 128.0, 128.0, 128.0, 128.0, 128.0, 128.0, 128.0, 128.0, 128.0, 128.0, 128.0, 128.0, 128.0, 128.0, 128.0, 128.0, 128.0, 128.0, 128.0, 128.0, 128.0, 128.0, 128.0, 128.0, 128.0, 128.0, 128.0, 128.0, 128.0, 128.0, 128.0, 128.0, 128.0, 128.0, 128.0, 128.0, 128.0, 128.0, 128.0, 128.0, 128.0, 128.0, 128.0, 128.0, 128.0, 128.0, 128.0, 128.0], [127.0, 128.0, 127.0, 128.0, 127.0, 128.0, 127.0, 128.0, 127.0, 128.0, 127.0, 128.0, 127.0, 128.0, 127.0, 128.0, 127.0, 128.0, 127.0, 128.0, 127.0, 128.0, 127.0, 128.0, 127.0, 128.0, 127.0, 128.0, 127.0, 128.0, 127.0, 128.0, 127.0, 128.0, 127.0, 128.0, 127.0, 128.0, 127.0, 128.0, 127.0, 128.0, 127.0, 128.0, 127.0, 128.0, 127.0, 128.0, 127.0, 128.0, 127.0, 128.0, 127.0, 128.0, 127.0, 128.0, 127.0, 128.0, 127.0, 128.0, 127.0, 128.0, 127.0, 128.0], [128.0, 128.0, 128.0, 128.0, 128.0, 128.0, 128.0, 128.0, 128.0, 128.0, 128.0, 128.0, 128.0, 128.0, 128.0, 128.0, 128.0, 128.0, 128.0, 128.0, 128.0, 128.0, 128.0, 128.0, 128.0, 128.0, 128.0, 128.0, 128.0, 128.0, 128.0, 128.0, 128.0, 128.0, 128.0, 128.0, 128.0, 128.0, 128.0, 128.0, 128.0, 128.0, 128.0, 128.0, 128.0, 128.0, 128.0, 128.0, 128.0, 128.0, 128.0, 128.0, 128.0, 128.0, 128.0, 128.0, 128.0, 128.0, 128.0, 128.0, 128.0, 128.0, 128.0, 128.0], [127.0, 128.0, 127.0, 128.0, 127.0, 128.0, 127.0, 128.0, 127.0, 128.0, 127.0, 128.0, 127.0, 128.0, 127.0, 128.0, 127.0, 128.0, 127.0, 128.0, 127.0, 128.0, 127.0, 128.0, 127.0, 128.0, 127.0, 128.0, 127.0, 128.0, 127.0, 128.0, 127.0, 128.0, 127.0, 128.0, 127.0, 128.0, 127.0, 128.0, 127.0, 128.0, 127.0, 128.0, 127.0, 128.0, 127.0, 128.0, 127.0, 128.0, 127.0, 128.0, 127.0, 128.0, 127.0, 128.0, 127.0, 128.0, 127.0, 128.0, 127.0, 128.0, 127.0, 128.0], [128.0, 128.0, 128.0, 128.0, 128.0, 128.0, 128.0, 128.0, 128.0, 128.0, 128.0, 128.0, 128.0, 128.0, 128.0, 128.0, 128.0, 128.0, 128.0, 128.0, 128.0, 128.0, 128.0, 128.0, 128.0, 128.0, 128.0, 128.0, 128.0, 128.0, 128.0, 128.0, 128.0, 128.0, 128.0, 128.0, 128.0, 128.0, 128.0, 128.0, 128.0, 128.0, 128.0, 128.0, 128.0, 128.0, 128.0, 128.0, 128.0, 128.0, 128.0, 128.0, 128.0, 128.0, 128.0, 128.0, 128.0, 128.0, 128.0, 128.0, 128.0, 128.0, 128.0, 128.0], [0.0, 128.0, 127.0, 128.0, 127.0, 128.0, 127.0, 128.0, 255.0, 128.0, 127.0, 128.0, 127.0, 128.0, 127.0, 128.0, 255.0, 128.0, 127.0, 128.0, 127.0, 128.0, 127.0, 128.0, 255.0, 128.0, 127.0, 128.0, 127.0, 128.0, 127.0, 128.0, 0.0, 128.0, 127.0, 128.0, 127.0, 128.0, 127.0, 128.0, 0.0, 128.0, 127.0, 128.0, 127.0, 128.0, 127.0, 128.0, 255.0, 128.0, 127.0, 128.0, 127.0, 128.0, 127.0, 128.0, 0.0, 128.0, 127.0, 128.0, 127.0, 128.0, 127.0, 128.0], [128.0, 128.0, 128.0, 128.0, 128.0, 128.0, 128.0, 128.0, 128.0, 128.0, 128.0, 128.0, 128.0, 128.0, 128.0, 128.0, 128.0, 128.0, 128.0, 128.0, 128.0, 128.0, 128.0, 128.0, 128.0, 128.0, 128.0, 128.0, 128.0, 128.0, 128.0, 128.0, 128.0, 128.0, 128.0, 128.0, 128.0, 128.0, 128.0, 128.0, 128.0, 128.0, 128.0, 128.0, 128.0, 128.0, 128.0, 128.0, 128.0, 128.0, 128.0, 128.0, 128.0, 128.0, 128.0, 128.0, 128.0, 128.0, 128.0, 128.0, 128.0, 128.0, 128.0, 128.0], [127.0, 128.0, 127.0, 128.0, 127.0, 128.0, 127.0, 128.0, 127.0, 128.0, 127.0, 128.0, 127.0, 128.0, 127.0, 128.0, 127.0, 128.0, 127.0, 128.0, 127.0, 128.0, 127.0, 128.0, 127.0, 128.0, 127.0, 128.0, 127.0, 128.0, 127.0, 128.0, 127.0, 128.0, 127.0, 128.0, 127.0, 128.0, 127.0, 128.0, 127.0, 128.0, 127.0, 128.0, 127.0, 128.0, 127.0, 128.0, 127.0, 128.0, 127.0, 128.0, 127.0, 128.0, 127.0, 128.0, 127.0, 128.0, 127.0, 128.0, 127.0, 128.0, 127.0, 128.0], [128.0, 128.0, 128.0, 128.0, 128.0, 128.0, 128.0, 128.0, 128.0, 128.0, 128.0, 128.0, 128.0, 128.0, 128.0, 128.0, 128.0, 128.0, 128.0, 128.0, 128.0, 128.0, 128.0, 128.0, 128.0, 128.0, 128.0, 128.0, 128.0, 128.0, 128.0, 128.0, 128.0, 128.0, 128.0, 128.0, 128.0, 128.0, 128.0, 128.0, 128.0, 128.0, 128.0, 128.0, 128.0, 128.0, 128.0, 128.0, 128.0, 128.0, 128.0, 128.0, 128.0, 128.0, 128.0, 128.0, 128.0, 128.0, 128.0, 128.0, 128.0, 128.0, 128.0, 128.0], [127.0, 128.0, 127.0, 128.0, 127.0, 128.0, 127.0, 128.0, 127.0, 128.0, 127.0, 128.0, 127.0, 128.0, 127.0, 128.0, 127.0, 128.0, 127.0, 128.0, 127.0, 128.0, 127.0, 128.0, 127.0, 128.0, 127.0, 128.0, 127.0, 128.0, 127.0, 128.0, 127.0, 128.0, 127.0, 128.0, 127.0, 128.0, 127.0, 128.0, 127.0, 128.0, 127.0, 128.0, 127.0, 128.0, 127.0, 128.0, 127.0, 128.0, 127.0, 128.0, 127.0, 128.0, 127.0, 128.0, 127.0, 128.0, 127.0, 128.0, 127.0, 128.0, 127.0, 128.0], [128.0, 128.0, 128.0, 128.0, 128.0, 128.0, 128.0, 128.0, 128.0, 128.0, 128.0, 128.0, 128.0, 128.0, 128.0, 128.0, 128.0, 128.0, 128.0, 128.0, 128.0, 128.0, 128.0, 128.0, 128.0, 128.0, 128.0, 128.0, 128.0, 128.0, 128.0, 128.0, 128.0, 128.0, 128.0, 128.0, 128.0, 128.0, 128.0, 128.0, 128.0, 128.0, 128.0, 128.0, 128.0, 128.0, 128.0, 128.0, 128.0, 128.0, 128.0, 128.0, 128.0, 128.0, 128.0, 128.0, 128.0, 128.0, 128.0, 128.0, 128.0, 128.0, 128.0, 128.0], [127.0, 128.0, 127.0, 128.0, 127.0, 128.0, 127.0, 128.0, 127.0, 128.0, 127.0, 128.0, 127.0, 128.0, 127.0, 128.0, 127.0, 128.0, 127.0, 128.0, 127.0, 128.0, 127.0, 128.0, 127.0, 128.0, 127.0, 128.0, 127.0, 128.0, 127.0, 128.0, 127.0, 128.0, 127.0, 128.0, 127.0, 128.0, 127.0, 128.0, 127.0, 128.0, 127.0, 128.0, 127.0, 128.0, 127.0, 128.0, 127.0, 128.0, 127.0, 128.0, 127.0, 128.0, 127.0, 128.0, 127.0, 128.0, 127.0, 128.0, 127.0, 128.0, 127.0, 128.0], [128.0, 128.0, 128.0, 128.0, 128.0, 128.0, 128.0, 128.0, 128.0, 128.0, 128.0, 128.0, 128.0, 128.0, 128.0, 128.0, 128.0, 128.0, 128.0, 128.0, 128.0, 128.0, 128.0, 128.0, 128.0, 128.0, 128.0, 128.0, 128.0, 128.0, 128.0, 128.0, 128.0, 128.0, 128.0, 128.0, 128.0, 128.0, 128.0, 128.0, 128.0, 128.0, 128.0, 128.0, 128.0, 128.0, 128.0, 128.0, 128.0, 128.0, 128.0, 128.0, 128.0, 128.0, 128.0, 128.0, 128.0, 128.0, 128.0, 128.0, 128.0, 128.0, 128.0, 128.0], [255.0, 128.0, 127.0, 128.0, 127.0, 128.0, 127.0, 128.0, 255.0, 128.0, 127.0, 128.0, 127.0, 128.0, 127.0, 128.0, 255.0, 128.0, 127.0, 128.0, 127.0, 128.0, 127.0, 128.0, 0.0, 128.0, 127.0, 128.0, 127.0, 128.0, 127.0, 128.0, 255.0, 128.0, 127.0, 128.0, 127.0, 128.0, 127.0, 128.0, 255.0, 128.0, 127.0, 128.0, 127.0, 128.0, 127.0, 128.0, 255.0, 128.0, 127.0, 128.0, 127.0, 128.0, 127.0, 128.0, 0.0, 128.0, 127.0, 128.0, 127.0, 128.0, 127.0, 128.0], [128.0, 128.0, 128.0, 128.0, 128.0, 128.0, 128.0, 128.0, 128.0, 128.0, 128.0, 128.0, 128.0, 128.0, 128.0, 128.0, 128.0, 128.0, 128.0, 128.0, 128.0, 128.0, 128.0, 128.0, 128.0, 128.0, 128.0, 128.0, 128.0, 128.0, 128.0, 128.0, 128.0, 128.0, 128.0, 128.0, 128.0, 128.0, 128.0, 128.0, 128.0, 128.0, 128.0, 128.0, 128.0, 128.0, 128.0, 128.0, 128.0, 128.0, 128.0, 128.0, 128.0, 128.0, 128.0, 128.0, 128.0, 128.0, 128.0, 128.0, 128.0, 128.0, 128.0, 128.0], [127.0, 128.0, 127.0, 128.0, 127.0, 128.0, 127.0, 128.0, 127.0, 128.0, 127.0, 128.0, 127.0, 128.0, 127.0, 128.0, 127.0, 128.0, 127.0, 128.0, 127.0, 128.0, 127.0, 128.0, 127.0, 128.0, 127.0, 128.0, 127.0, 128.0, 127.0, 128.0, 127.0, 128.0, 127.0, 128.0, 127.0, 128.0, 127.0, 128.0, 127.0, 128.0, 127.0, 128.0, 127.0, 128.0, 127.0, 128.0, 127.0, 128.0, 127.0, 128.0, 127.0, 128.0, 127.0, 128.0, 127.0, 128.0, 127.0, 128.0, 127.0, 128.0, 127.0, 128.0], [128.0, 128.0, 128.0, 128.0, 128.0, 128.0, 128.0, 128.0, 128.0, 128.0, 128.0, 128.0, 128.0, 128.0, 128.0, 128.0, 128.0, 128.0, 128.0, 128.0, 128.0, 128.0, 128.0, 128.0, 128.0, 128.0, 128.0, 128.0, 128.0, 128.0, 128.0, 128.0, 128.0, 128.0, 128.0, 128.0, 128.0, 128.0, 128.0, 128.0, 128.0, 128.0, 128.0, 128.0, 128.0, 128.0, 128.0, 128.0, 128.0, 128.0, 128.0, 128.0, 128.0, 128.0, 128.0, 128.0, 128.0, 128.0, 128.0, 128.0, 128.0, 128.0, 128.0, 128.0], [127.0, 128.0, 127.0, 128.0, 127.0, 128.0, 127.0, 128.0, 127.0, 128.0, 127.0, 128.0, 127.0, 128.0, 127.0, 128.0, 127.0, 128.0, 127.0, 128.0, 127.0, 128.0, 127.0, 128.0, 127.0, 128.0, 127.0, 128.0, 127.0, 128.0, 127.0, 128.0, 127.0, 128.0, 127.0, 128.0, 127.0, 128.0, 127.0, 128.0, 127.0, 128.0, 127.0, 128.0, 127.0, 128.0, 127.0, 128.0, 127.0, 128.0, 127.0, 128.0, 127.0, 128.0, 127.0, 128.0, 127.0, 128.0, 127.0, 128.0, 127.0, 128.0, 127.0, 128.0], [128.0, 128.0, 128.0, 128.0, 128.0, 128.0, 128.0, 128.0, 128.0, 128.0, 128.0, 128.0, 128.0, 128.0, 128.0, 128.0, 128.0, 128.0, 128.0, 128.0, 128.0, 128.0, 128.0, 128.0, 128.0, 128.0, 128.0, 128.0, 128.0, 128.0, 128.0, 128.0, 128.0, 128.0, 128.0, 128.0, 128.0, 128.0, 128.0, 128.0, 128.0, 128.0, 128.0, 128.0, 128.0, 128.0, 128.0, 128.0, 128.0, 128.0, 128.0, 128.0, 128.0, 128.0, 128.0, 128.0, 128.0, 128.0, 128.0, 128.0, 128.0, 128.0, 128.0, 128.0], [127.0, 128.0, 127.0, 128.0, 127.0, 128.0, 127.0, 128.0, 127.0, 128.0, 127.0, 128.0, 127.0, 128.0, 127.0, 128.0, 127.0, 128.0, 127.0, 128.0, 127.0, 128.0, 127.0, 128.0, 127.0, 128.0, 127.0, 128.0, 127.0, 128.0, 127.0, 128.0, 127.0, 128.0, 127.0, 128.0, 127.0, 128.0, 127.0, 128.0, 127.0, 128.0, 127.0, 128.0, 127.0, 128.0, 127.0, 128.0, 127.0, 128.0, 127.0, 128.0, 127.0, 128.0, 127.0, 128.0, 127.0, 128.0, 127.0, 128.0, 127.0, 128.0, 127.0, 128.0], [128.0, 128.0, 128.0, 128.0, 128.0, 128.0, 128.0, 128.0, 128.0, 128.0, 128.0, 128.0, 128.0, 128.0, 128.0, 128.0, 128.0, 128.0, 128.0, 128.0, 128.0, 128.0, 128.0, 128.0, 128.0, 128.0, 128.0, 128.0, 128.0, 128.0, 128.0, 128.0, 128.0, 128.0, 128.0, 128.0, 128.0, 128.0, 128.0, 128.0, 128.0, 128.0, 128.0, 128.0, 128.0, 128.0, 128.0, 128.0, 128.0, 128.0, 128.0, 128.0, 128.0, 128.0, 128.0, 128.0, 128.0, 128.0, 128.0, 128.0, 128.0, 128.0, 128.0, 128.0], [255.0, 128.0, 127.0, 128.0, 127.0, 128.0, 127.0, 128.0, 255.0, 128.0, 127.0, 128.0, 127.0, 128.0, 127.0, 128.0, 0.0, 128.0, 127.0, 128.0, 127.0, 128.0, 127.0, 128.0, 255.0, 128.0, 127.0, 128.0, 127.0, 128.0, 127.0, 128.0, 255.0, 128.0, 127.0, 128.0, 127.0, 128.0, 127.0, 128.0, 255.0, 128.0, 127.0, 128.0, 127.0, 128.0, 127.0, 128.0, 255.0, 128.0, 127.0, 128.0, 127.0, 128.0, 127.0, 128.0, 255.0, 128.0, 127.0, 128.0, 127.0, 128.0, 127.0, 128.0], [128.0, 128.0, 128.0, 128.0, 128.0, 128.0, 128.0, 128.0, 128.0, 128.0, 128.0, 128.0, 128.0, 128.0, 128.0, 128.0, 128.0, 128.0, 128.0, 128.0, 128.0, 128.0, 128.0, 128.0, 128.0, 128.0, 128.0, 128.0, 128.0, 128.0, 128.0, 128.0, 128.0, 128.0, 128.0, 128.0, 128.0, 128.0, 128.0, 128.0, 128.0, 128.0, 128.0, 128.0, 128.0, 128.0, 128.0, 128.0, 128.0, 128.0, 128.0, 128.0, 128.0, 128.0, 128.0, 128.0, 128.0, 128.0, 128.0, 128.0, 128.0, 128.0, 128.0, 128.0], [127.0, 128.0, 127.0, 128.0, 127.0, 128.0, 127.0, 128.0, 127.0, 128.0, 127.0, 128.0, 127.0, 128.0, 127.0, 128.0, 127.0, 128.0, 127.0, 128.0, 127.0, 128.0, 127.0, 128.0, 127.0, 128.0, 127.0, 128.0, 127.0, 128.0, 127.0, 128.0, 127.0, 128.0, 127.0, 128.0, 127.0, 128.0, 127.0, 128.0, 127.0, 128.0, 127.0, 128.0, 127.0, 128.0, 127.0, 128.0, 127.0, 128.0, 127.0, 128.0, 127.0, 128.0, 127.0, 128.0, 127.0, 128.0, 127.0, 128.0, 127.0, 128.0, 127.0, 128.0], [128.0, 128.0, 128.0, 128.0, 128.0, 128.0, 128.0, 128.0, 128.0, 128.0, 128.0, 128.0, 128.0, 128.0, 128.0, 128.0, 128.0, 128.0, 128.0, 128.0, 128.0, 128.0, 128.0, 128.0, 128.0, 128.0, 128.0, 128.0, 128.0, 128.0, 128.0, 128.0, 128.0, 128.0, 128.0, 128.0, 128.0, 128.0, 128.0, 128.0, 128.0, 128.0, 128.0, 128.0, 128.0, 128.0, 128.0, 128.0, 128.0, 128.0, 128.0, 128.0, 128.0, 128.0, 128.0, 128.0, 128.0, 128.0, 128.0, 128.0, 128.0, 128.0, 128.0, 128.0], [127.0, 128.0, 127.0, 128.0, 127.0, 128.0, 127.0, 128.0, 127.0, 128.0, 127.0, 128.0, 127.0, 128.0, 127.0, 128.0, 127.0, 128.0, 127.0, 128.0, 127.0, 128.0, 127.0, 128.0, 127.0, 128.0, 127.0, 128.0, 127.0, 128.0, 127.0, 128.0, 127.0, 128.0, 127.0, 128.0, 127.0, 128.0, 127.0, 128.0, 127.0, 128.0, 127.0, 128.0, 127.0, 128.0, 127.0, 128.0, 127.0, 128.0, 127.0, 128.0, 127.0, 128.0, 127.0, 128.0, 127.0, 128.0, 127.0, 128.0, 127.0, 128.0, 127.0, 128.0], [128.0, 128.0, 128.0, 128.0, 128.0, 128.0, 128.0, 128.0, 128.0, 128.0, 128.0, 128.0, 128.0, 128.0, 128.0, 128.0, 128.0, 128.0, 128.0, 128.0, 128.0, 128.0, 128.0, 128.0, 128.0, 128.0, 128.0, 128.0, 128.0, 128.0, 128.0, 128.0, 128.0, 128.0, 128.0, 128.0, 128.0, 128.0, 128.0, 128.0, 128.0, 128.0, 128.0, 128.0, 128.0, 128.0, 128.0, 128.0, 128.0, 128.0, 128.0, 128.0, 128.0, 128.0, 128.0, 128.0, 128.0, 128.0, 128.0, 128.0, 128.0, 128.0, 128.0, 128.0], [127.0, 128.0, 127.0, 128.0, 127.0, 128.0, 127.0, 128.0, 127.0, 128.0, 127.0, 128.0, 127.0, 128.0, 127.0, 128.0, 127.0, 128.0, 127.0, 128.0, 127.0, 128.0, 127.0, 128.0, 127.0, 128.0, 127.0, 128.0, 127.0, 128.0, 127.0, 128.0, 127.0, 128.0, 127.0, 128.0, 127.0, 128.0, 127.0, 128.0, 127.0, 128.0, 127.0, 128.0, 127.0, 128.0, 127.0, 128.0, 127.0, 128.0, 127.0, 128.0, 127.0, 128.0, 127.0, 128.0, 127.0, 128.0, 127.0, 128.0, 127.0, 128.0, 127.0, 128.0], [128.0, 128.0, 128.0, 128.0, 128.0, 128.0, 128.0, 128.0, 128.0, 128.0, 128.0, 128.0, 128.0, 128.0, 128.0, 128.0, 128.0, 128.0, 128.0, 128.0, 128.0, 128.0, 128.0, 128.0, 128.0, 128.0, 128.0, 128.0, 128.0, 128.0, 128.0, 128.0, 128.0, 128.0, 128.0, 128.0, 128.0, 128.0, 128.0, 128.0, 128.0, 128.0, 128.0, 128.0, 128.0, 128.0, 128.0, 128.0, 128.0, 128.0, 128.0, 128.0, 128.0, 128.0, 128.0, 128.0, 128.0, 128.0, 128.0, 128.0, 128.0, 128.0, 128.0, 128.0]]\n"
     ]
    }
   ],
   "source": [
    "\n",
    "\n",
    "gen_losses, disc_losses, generated_map = train(training_data, N_EPOCHS)\n",
    "\n",
    "# denormalise generated map\n",
    "\n",
    "generated_map = (generated_map * 127.5) + 127.5\n",
    "\n",
    "\n",
    "\n",
    "\n",
    "generated_map = generated_map.numpy()\n",
    "\n",
    "generated_map = np.round(generated_map,0)\n",
    "\n",
    "generated_map = np.reshape(generated_map, (64,64))\n",
    "\n",
    "print(generated_map.shape)\n",
    "\n",
    "#write generated map to csv\n",
    "\n",
    "\n",
    "np.savetxt('generated_map.csv', generated_map, delimiter=',')\n",
    "\n",
    "generated_map = generated_map.tolist()\n",
    "\n",
    "print(generated_map)\n"
   ]
  },
  {
   "attachments": {},
   "cell_type": "markdown",
   "metadata": {},
   "source": [
    "graphs:"
   ]
  },
  {
   "cell_type": "code",
   "execution_count": null,
   "metadata": {},
   "outputs": [
    {
     "data": {
      "text/plain": [
       "Text(0.5, 0, 'Epoch')"
      ]
     },
     "execution_count": 18,
     "metadata": {},
     "output_type": "execute_result"
    },
    {
     "data": {
      "image/png": "[encoded data removed]",
      "text/plain": [
       "<Figure size 640x480 with 1 Axes>"
      ]
     },
     "metadata": {},
     "output_type": "display_data"
    }
   ],
   "source": [
    "epoch_list = [i for i in range(0,N_EPOCHS)]\n",
    "\n",
    "\n",
    "\n",
    "plt.plot(epoch_list,disc_losses,  'r-')\n",
    "plt.plot(epoch_list, gen_losses, 'b-')\n",
    "plt.title('Gen and Disc loss over epochs')\n",
    "plt.ylabel('Loss')\n",
    "plt.xlabel('Epoch')"
   ]
  }
 ],
 "metadata": {
  "kernelspec": {
   "display_name": "Python 3 (ipykernel)",
   "language": "python",
   "name": "python3"
  },
  "language_info": {
   "codemirror_mode": {
    "name": "ipython",
    "version": 3
   },
   "file_extension": ".py",
   "mimetype": "text/x-python",
   "name": "python",
   "nbconvert_exporter": "python",
   "pygments_lexer": "ipython3",
   "version": "3.10.12"
  }
 },
 "nbformat": 4,
 "nbformat_minor": 2
}
