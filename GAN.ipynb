{
 "cells": [
  {
   "attachments": {},
   "cell_type": "markdown",
   "metadata": {},
   "source": [
    "# Imports"
   ]
  },
  {
   "cell_type": "code",
   "execution_count": 1,
   "metadata": {},
   "outputs": [
    {
     "name": "stderr",
     "output_type": "stream",
     "text": [
      "2023-08-12 09:52:28.007893: I tensorflow/tsl/cuda/cudart_stub.cc:28] Could not find cuda drivers on your machine, GPU will not be used.\n",
      "2023-08-12 09:52:30.815489: I tensorflow/tsl/cuda/cudart_stub.cc:28] Could not find cuda drivers on your machine, GPU will not be used.\n",
      "2023-08-12 09:52:30.822242: I tensorflow/core/platform/cpu_feature_guard.cc:182] This TensorFlow binary is optimized to use available CPU instructions in performance-critical operations.\n",
      "To enable the following instructions: AVX2 FMA, in other operations, rebuild TensorFlow with the appropriate compiler flags.\n",
      "2023-08-12 09:52:37.368061: W tensorflow/compiler/tf2tensorrt/utils/py_utils.cc:38] TF-TRT Warning: Could not find TensorRT\n"
     ]
    }
   ],
   "source": [
    "import numpy as np\n",
    "import pandas as pd\n",
    "import random as rand\n",
    "import matplotlib.pyplot as plt\n",
    "import tensorflow as tf\n",
    "import csv\n",
    "\n",
    "from keras.utils import to_categorical\n",
    "from keras.layers import Dense, Activation, Conv2D,Conv2DTranspose, Dropout, Reshape, MaxPooling2D, Flatten, LeakyReLU, BatchNormalization\n",
    "from keras.models import Sequential, load_model\n",
    "from keras.losses import BinaryCrossentropy\n",
    "from keras.optimizers import Adam\n",
    "\n",
    "\n",
    "from sklearn.model_selection import train_test_split"
   ]
  },
  {
   "attachments": {},
   "cell_type": "markdown",
   "metadata": {},
   "source": [
    "# Data importing and pre-processing"
   ]
  },
  {
   "cell_type": "code",
   "execution_count": 2,
   "metadata": {},
   "outputs": [],
   "source": [
    "df = pd.read_csv('dataset.csv', header=None)\n",
    "\n",
    "\n",
    "df = df.values.reshape(60, 64, 64, 1)\n",
    "\n",
    "labels = np.zeros(60)\n",
    "\n",
    "x_real_train, x_real_test = train_test_split(df, test_size=0.2) #12 test values\n",
    "y_real_train, y_real_test = train_test_split(labels, test_size=0.2)"
   ]
  },
  {
   "attachments": {},
   "cell_type": "markdown",
   "metadata": {},
   "source": [
    "normalize dataset data into range of tanh (-1,1)"
   ]
  },
  {
   "cell_type": "code",
   "execution_count": 3,
   "metadata": {},
   "outputs": [],
   "source": [
    "x_real_train = x_real_train.astype('float32')\n",
    "x_real_train = (x_real_train - 127.5) / 127.5\n",
    "\n",
    "\n",
    "training_data = tf.data.Dataset.from_tensor_slices(x_real_train).shuffle(48).batch(4)"
   ]
  },
  {
   "attachments": {},
   "cell_type": "markdown",
   "metadata": {},
   "source": [
    "# Generator Model"
   ]
  },
  {
   "attachments": {},
   "cell_type": "markdown",
   "metadata": {},
   "source": [
    "Create points in latent space to be fed into generator"
   ]
  },
  {
   "cell_type": "code",
   "execution_count": 4,
   "metadata": {},
   "outputs": [],
   "source": [
    "def generate_generator_input():\n",
    "    input = np.random.normal(50,2,size=(1,100))\n",
    "    input = input * 10\n",
    "    \n",
    "\n",
    "    \n",
    "    return input"
   ]
  },
  {
   "cell_type": "code",
   "execution_count": 5,
   "metadata": {},
   "outputs": [],
   "source": [
    "def make_generator():\n",
    "    model = Sequential()\n",
    "    \n",
    "    model.add(Dense(60*8*8, input_shape=(100,)))\n",
    "\n",
    "    model.add(BatchNormalization())\n",
    "    model.add(LeakyReLU())\n",
    "    model.add(Reshape((8,8,60)))\n",
    "\n",
    "    model.add(Dropout(0.3))\n",
    "\n",
    "    \n",
    "    model.add(Conv2DTranspose(1, (1,1), strides=(2,2), padding='same', use_bias=False, input_shape=(8,8,60)))\n",
    "    model.add(BatchNormalization())\n",
    "    model.add(LeakyReLU())\n",
    "\n",
    "    model.add(Dropout(0.3))\n",
    "\n",
    "  \n",
    "    \n",
    "    model.add(Conv2DTranspose(1, (1,1), strides=(2,2), padding='same', use_bias=False, input_shape=(16,16,60)))\n",
    "    model.add(BatchNormalization())\n",
    "    model.add(LeakyReLU())\n",
    "\n",
    "    model.add(Dropout(0.3))\n",
    "\n",
    "\n",
    "    model.add(Conv2DTranspose(1, (1,1), strides=(2,2), padding='same', use_bias=False, input_shape=(32,32,60)))\n",
    "    model.add(Activation(\"tanh\"))\n",
    "    \n",
    "              \n",
    "    model.summary()\n",
    "    \n",
    "    return model\n",
    "    \n",
    "    "
   ]
  },
  {
   "attachments": {},
   "cell_type": "markdown",
   "metadata": {},
   "source": [
    "# Discriminator Model"
   ]
  },
  {
   "cell_type": "code",
   "execution_count": 6,
   "metadata": {},
   "outputs": [],
   "source": [
    "\n",
    "def make_discriminator():\n",
    "    \n",
    "    # 1st set of layers\n",
    "    model = Sequential()\n",
    "    model.add(Conv2D(256, (5,5), strides=(2,2), padding=\"same\", input_shape=(64,64,1)))\n",
    "    model.add(LeakyReLU())\n",
    "    model.add(MaxPooling2D(pool_size=(2,2), strides=(2,2), padding='same'))\n",
    "    model.add(Dropout(0.3))\n",
    "\n",
    "    model.add(Conv2D(1024, (5,5), strides=(2,2), padding='same'))\n",
    "    model.add(LeakyReLU())\n",
    "    model.add(MaxPooling2D(pool_size=(2,2), strides=(2,2), padding='same'))\n",
    "    model.add(Dropout(0.3))\n",
    "   \n",
    "    model.add(Conv2D(1024, (5,5), strides=(2,2), padding='same'))\n",
    "    model.add(LeakyReLU())\n",
    "    model.add(MaxPooling2D(pool_size=(2,2), strides=(2,2), padding='same'))\n",
    "    model.add(Dropout(0.3))\n",
    "\n",
    "    model.add(Conv2D(2048, (5,5), strides=(2,2), padding='same'))\n",
    "    model.add(LeakyReLU())\n",
    "    model.add(MaxPooling2D(pool_size=(2,2), strides=(2,2), padding='same'))\n",
    "    model.add(Dropout(0.3))\n",
    "  \n",
    "    \n",
    "    # output layer\n",
    "    model.add(Flatten())\n",
    "    \n",
    "    \n",
    "    model.add(Dense(1)) # Binary classification (2 outputs), so only 1 dense layer needed\n",
    "    model.add(Activation('tanh'))\n",
    "    \n",
    "    model.summary()\n",
    "    return model\n",
    "    "
   ]
  },
  {
   "attachments": {},
   "cell_type": "markdown",
   "metadata": {},
   "source": [
    "# Training"
   ]
  },
  {
   "attachments": {},
   "cell_type": "markdown",
   "metadata": {},
   "source": [
    "First, create the models from the functions"
   ]
  },
  {
   "cell_type": "code",
   "execution_count": 7,
   "metadata": {},
   "outputs": [
    {
     "name": "stdout",
     "output_type": "stream",
     "text": [
      "Model: \"sequential\"\n",
      "_________________________________________________________________\n",
      " Layer (type)                Output Shape              Param #   \n",
      "=================================================================\n",
      " dense (Dense)               (None, 3840)              387840    \n",
      "                                                                 \n",
      " batch_normalization (Batch  (None, 3840)              15360     \n",
      " Normalization)                                                  \n",
      "                                                                 \n",
      " leaky_re_lu (LeakyReLU)     (None, 3840)              0         \n",
      "                                                                 \n",
      " reshape (Reshape)           (None, 8, 8, 60)          0         \n",
      "                                                                 \n",
      " dropout (Dropout)           (None, 8, 8, 60)          0         \n",
      "                                                                 \n",
      " conv2d_transpose (Conv2DTr  (None, 16, 16, 1)         60        \n",
      " anspose)                                                        \n",
      "                                                                 \n",
      " batch_normalization_1 (Bat  (None, 16, 16, 1)         4         \n",
      " chNormalization)                                                \n",
      "                                                                 \n",
      " leaky_re_lu_1 (LeakyReLU)   (None, 16, 16, 1)         0         \n",
      "                                                                 \n",
      " dropout_1 (Dropout)         (None, 16, 16, 1)         0         \n",
      "                                                                 \n",
      " conv2d_transpose_1 (Conv2D  (None, 32, 32, 1)         1         \n",
      " Transpose)                                                      \n",
      "                                                                 \n",
      " batch_normalization_2 (Bat  (None, 32, 32, 1)         4         \n",
      " chNormalization)                                                \n",
      "                                                                 \n",
      " leaky_re_lu_2 (LeakyReLU)   (None, 32, 32, 1)         0         \n",
      "                                                                 \n",
      " dropout_2 (Dropout)         (None, 32, 32, 1)         0         \n",
      "                                                                 \n",
      " conv2d_transpose_2 (Conv2D  (None, 64, 64, 1)         1         \n",
      " Transpose)                                                      \n",
      "                                                                 \n",
      " activation (Activation)     (None, 64, 64, 1)         0         \n",
      "                                                                 \n",
      "=================================================================\n",
      "Total params: 403270 (1.54 MB)\n",
      "Trainable params: 395586 (1.51 MB)\n",
      "Non-trainable params: 7684 (30.02 KB)\n",
      "_________________________________________________________________\n",
      "tf.Tensor(\n",
      "[[[[0.9999668]\n",
      "   [0.       ]\n",
      "   [0.       ]\n",
      "   ...\n",
      "   [0.       ]\n",
      "   [0.       ]\n",
      "   [0.       ]]\n",
      "\n",
      "  [[0.       ]\n",
      "   [0.       ]\n",
      "   [0.       ]\n",
      "   ...\n",
      "   [0.       ]\n",
      "   [0.       ]\n",
      "   [0.       ]]\n",
      "\n",
      "  [[0.       ]\n",
      "   [0.       ]\n",
      "   [0.       ]\n",
      "   ...\n",
      "   [0.       ]\n",
      "   [0.       ]\n",
      "   [0.       ]]\n",
      "\n",
      "  ...\n",
      "\n",
      "  [[0.       ]\n",
      "   [0.       ]\n",
      "   [0.       ]\n",
      "   ...\n",
      "   [0.       ]\n",
      "   [0.       ]\n",
      "   [0.       ]]\n",
      "\n",
      "  [[0.       ]\n",
      "   [0.       ]\n",
      "   [0.       ]\n",
      "   ...\n",
      "   [0.       ]\n",
      "   [0.       ]\n",
      "   [0.       ]]\n",
      "\n",
      "  [[0.       ]\n",
      "   [0.       ]\n",
      "   [0.       ]\n",
      "   ...\n",
      "   [0.       ]\n",
      "   [0.       ]\n",
      "   [0.       ]]]], shape=(1, 64, 64, 1), dtype=float32)\n"
     ]
    }
   ],
   "source": [
    "gen_model = make_generator()\n",
    "\n",
    "noise = generate_generator_input()\n",
    "test_gen = gen_model(noise, training = False)\n",
    "\n",
    "print(test_gen)\n",
    "\n"
   ]
  },
  {
   "attachments": {},
   "cell_type": "markdown",
   "metadata": {},
   "source": [
    "Next, test the untrained discriminator on the map of noise generated before\n",
    "\n",
    "Negative values means fake, positive means real"
   ]
  },
  {
   "cell_type": "code",
   "execution_count": 8,
   "metadata": {},
   "outputs": [
    {
     "name": "stderr",
     "output_type": "stream",
     "text": [
      "2023-08-12 09:52:51.722842: W tensorflow/tsl/framework/cpu_allocator_impl.cc:83] Allocation of 209715200 exceeds 10% of free system memory.\n",
      "2023-08-12 09:52:51.973548: W tensorflow/tsl/framework/cpu_allocator_impl.cc:83] Allocation of 209715200 exceeds 10% of free system memory.\n",
      "2023-08-12 09:52:52.109095: W tensorflow/tsl/framework/cpu_allocator_impl.cc:83] Allocation of 209715200 exceeds 10% of free system memory.\n"
     ]
    },
    {
     "name": "stdout",
     "output_type": "stream",
     "text": [
      "Model: \"sequential_1\"\n",
      "_________________________________________________________________\n",
      " Layer (type)                Output Shape              Param #   \n",
      "=================================================================\n",
      " conv2d (Conv2D)             (None, 32, 32, 256)       6656      \n",
      "                                                                 \n",
      " leaky_re_lu_3 (LeakyReLU)   (None, 32, 32, 256)       0         \n",
      "                                                                 \n",
      " max_pooling2d (MaxPooling2  (None, 16, 16, 256)       0         \n",
      " D)                                                              \n",
      "                                                                 \n",
      " dropout_3 (Dropout)         (None, 16, 16, 256)       0         \n",
      "                                                                 \n",
      " conv2d_1 (Conv2D)           (None, 8, 8, 1024)        6554624   \n",
      "                                                                 \n",
      " leaky_re_lu_4 (LeakyReLU)   (None, 8, 8, 1024)        0         \n",
      "                                                                 \n",
      " max_pooling2d_1 (MaxPoolin  (None, 4, 4, 1024)        0         \n",
      " g2D)                                                            \n",
      "                                                                 \n",
      " dropout_4 (Dropout)         (None, 4, 4, 1024)        0         \n",
      "                                                                 \n",
      " conv2d_2 (Conv2D)           (None, 2, 2, 1024)        26215424  \n",
      "                                                                 \n",
      " leaky_re_lu_5 (LeakyReLU)   (None, 2, 2, 1024)        0         \n",
      "                                                                 \n",
      " max_pooling2d_2 (MaxPoolin  (None, 1, 1, 1024)        0         \n",
      " g2D)                                                            \n",
      "                                                                 \n",
      " dropout_5 (Dropout)         (None, 1, 1, 1024)        0         \n",
      "                                                                 \n",
      " conv2d_3 (Conv2D)           (None, 1, 1, 2048)        52430848  \n",
      "                                                                 \n",
      " leaky_re_lu_6 (LeakyReLU)   (None, 1, 1, 2048)        0         \n",
      "                                                                 \n",
      " max_pooling2d_3 (MaxPoolin  (None, 1, 1, 2048)        0         \n",
      " g2D)                                                            \n",
      "                                                                 \n",
      " dropout_6 (Dropout)         (None, 1, 1, 2048)        0         \n",
      "                                                                 \n",
      " flatten (Flatten)           (None, 2048)              0         \n",
      "                                                                 \n",
      " dense_1 (Dense)             (None, 1)                 2049      \n",
      "                                                                 \n",
      " activation_1 (Activation)   (None, 1)                 0         \n",
      "                                                                 \n",
      "=================================================================\n",
      "Total params: 85209601 (325.05 MB)\n",
      "Trainable params: 85209601 (325.05 MB)\n",
      "Non-trainable params: 0 (0.00 Byte)\n",
      "_________________________________________________________________\n",
      "tf.Tensor([[0.00103773]], shape=(1, 1), dtype=float32)\n"
     ]
    }
   ],
   "source": [
    "disc_model = make_discriminator()\n",
    "decision = disc_model(test_gen)\n",
    "print(decision)"
   ]
  },
  {
   "attachments": {},
   "cell_type": "markdown",
   "metadata": {},
   "source": [
    "## Loss and Optimizers"
   ]
  },
  {
   "cell_type": "code",
   "execution_count": 9,
   "metadata": {},
   "outputs": [],
   "source": [
    "cross_entropy = BinaryCrossentropy(from_logits=True)\n",
    "\n"
   ]
  },
  {
   "attachments": {},
   "cell_type": "markdown",
   "metadata": {},
   "source": [
    "Discriminator loss, adapted from: https://www.tensorflow.org/tutorials/generative/dcgan"
   ]
  },
  {
   "cell_type": "code",
   "execution_count": 10,
   "metadata": {},
   "outputs": [],
   "source": [
    "def discrim_loss(real_output, fake_output):\n",
    "    real_loss = cross_entropy(tf.ones_like(real_output), real_output)\n",
    "    fake_loss = cross_entropy(tf.zeros_like(fake_output), fake_output)\n",
    "    total_loss = real_loss + fake_loss\n",
    "    return total_loss"
   ]
  },
  {
   "attachments": {},
   "cell_type": "markdown",
   "metadata": {},
   "source": [
    "Generator loss"
   ]
  },
  {
   "cell_type": "code",
   "execution_count": 11,
   "metadata": {},
   "outputs": [],
   "source": [
    "def generator_loss(fake_output):\n",
    "    return cross_entropy(tf.ones_like(fake_output), fake_output)"
   ]
  },
  {
   "attachments": {},
   "cell_type": "markdown",
   "metadata": {},
   "source": [
    "Optimizers:"
   ]
  },
  {
   "cell_type": "code",
   "execution_count": 12,
   "metadata": {},
   "outputs": [],
   "source": [
    "gen_optimizer = Adam(learning_rate =1e-4, beta_1=0.5)\n",
    "disc_optimizer = Adam(learning_rate =1e-4, beta_1=0.5)"
   ]
  },
  {
   "attachments": {},
   "cell_type": "markdown",
   "metadata": {},
   "source": [
    "Discriminator accuracy"
   ]
  },
  {
   "cell_type": "code",
   "execution_count": 13,
   "metadata": {},
   "outputs": [],
   "source": [
    "def compute_discrim_accuracy(real_output, fake_output):\n",
    "    if real_output >=0:\n",
    "        \n",
    "        if fake_output <0:\n",
    "            accuracy = (real_output + fake_output) / (real_output + fake_output)\n",
    "        else:\n",
    "            accuracy = real_output/ (real_output + fake_output)\n",
    "    elif fake_output <0:\n",
    "        accuracy = fake_output / (real_output + fake_output)\n",
    "    else:\n",
    "        accuracy = 0/ (real_output + fake_output)\n",
    "    \n",
    "    return accuracy"
   ]
  },
  {
   "attachments": {},
   "cell_type": "markdown",
   "metadata": {},
   "source": [
    "## Training"
   ]
  },
  {
   "attachments": {},
   "cell_type": "markdown",
   "metadata": {},
   "source": [
    "training parameters:"
   ]
  },
  {
   "cell_type": "code",
   "execution_count": 14,
   "metadata": {},
   "outputs": [],
   "source": [
    "N_EPOCHS = 15\n",
    "\n",
    "VERBOSE = 1\n"
   ]
  },
  {
   "attachments": {},
   "cell_type": "markdown",
   "metadata": {},
   "source": [
    "Training step"
   ]
  },
  {
   "cell_type": "code",
   "execution_count": 15,
   "metadata": {},
   "outputs": [],
   "source": [
    "@tf.function\n",
    "def training_step(current_batch):\n",
    "    \n",
    "    noise_sample = generate_generator_input()\n",
    "    \n",
    "\n",
    "    with tf.GradientTape() as gen_tape, tf.GradientTape() as disc_tape:\n",
    "\n",
    "        generated_map = gen_model(noise_sample, training=True)\n",
    "        print(\"generated map shape\" + str(generated_map.shape))\n",
    "        \n",
    "        fake_output = disc_model(generated_map,  training=True)\n",
    "        real_output = disc_model(current_batch, training=True)\n",
    "        \n",
    "\n",
    "        gen_loss = generator_loss(fake_output=fake_output)\n",
    "        disc_loss = discrim_loss(real_output=real_output, fake_output=fake_output)\n",
    "\n",
    "        #disc_accuracy = compute_discrim_accuracy(real_output, fake_output)\n",
    "\n",
    "        \n",
    "\n",
    "    gen_gradients = gen_tape.gradient(gen_loss, gen_model.trainable_variables)\n",
    "    disc_gradients = disc_tape.gradient(disc_loss, disc_model.trainable_variables)\n",
    "\n",
    "    gen_optimizer.apply_gradients(zip(gen_gradients, gen_model.trainable_variables))\n",
    "    disc_optimizer.apply_gradients(zip(disc_gradients, disc_model.trainable_variables))\n",
    "\n",
    "    return gen_loss, disc_loss"
   ]
  },
  {
   "attachments": {},
   "cell_type": "markdown",
   "metadata": {
    "vscode": {
     "languageId": "python"
    }
   },
   "source": [
    "Train models"
   ]
  },
  {
   "cell_type": "code",
   "execution_count": 16,
   "metadata": {},
   "outputs": [],
   "source": [
    "def train(dataset, N_EPOCHS):\n",
    "\n",
    "    gen_losses = []\n",
    "    disc_losses = []\n",
    "\n",
    "    disc_accuracies = []\n",
    "    \n",
    "\n",
    "    for epoch in range(N_EPOCHS):\n",
    "        gen_losses_for_epoch = []\n",
    "        disc_losses_for_epoch = []\n",
    "\n",
    "        print(\"epoch = \" + str(epoch))\n",
    "\n",
    "        for map_batch in dataset:\n",
    "            \n",
    "            \n",
    "            gen_loss, disc_loss = training_step(map_batch)\n",
    "\n",
    "            gen_losses_for_epoch.append(gen_loss)\n",
    "            disc_losses_for_epoch.append(disc_loss)\n",
    "            #disc_accuracies.append(disc_accuracy)\n",
    "        \n",
    "        avg_gen_loss = sum(gen_losses_for_epoch) / 48\n",
    "        avg_disc_loss = sum(disc_losses_for_epoch) / 48\n",
    "\n",
    "        gen_losses.append(avg_gen_loss)\n",
    "        disc_losses.append(avg_disc_loss)\n",
    "\n",
    "        print(\"Gen loss = \" + str(avg_gen_loss))\n",
    "        print(\"Disc loss = \" + str(avg_disc_loss))\n",
    "    \n",
    "    input_for_map_after_training = generate_generator_input()\n",
    "    generated_map = gen_model(input_for_map_after_training, training=False)\n",
    "\n",
    "    \n",
    "\n",
    "    return gen_losses, disc_losses, generated_map\n"
   ]
  },
  {
   "attachments": {},
   "cell_type": "markdown",
   "metadata": {},
   "source": [
    "Train GAN"
   ]
  },
  {
   "cell_type": "code",
   "execution_count": 17,
   "metadata": {},
   "outputs": [
    {
     "name": "stdout",
     "output_type": "stream",
     "text": [
      "epoch = 0\n",
      "generated map shape(1, 64, 64, 1)\n"
     ]
    },
    {
     "name": "stderr",
     "output_type": "stream",
     "text": [
      "2023-08-12 09:52:55.535956: W tensorflow/tsl/framework/cpu_allocator_impl.cc:83] Allocation of 209715200 exceeds 10% of free system memory.\n",
      "2023-08-12 09:52:55.763677: W tensorflow/tsl/framework/cpu_allocator_impl.cc:83] Allocation of 209715200 exceeds 10% of free system memory.\n"
     ]
    },
    {
     "name": "stdout",
     "output_type": "stream",
     "text": [
      "generated map shape(1, 64, 64, 1)\n",
      "Gen loss = tf.Tensor(0.16645332, shape=(), dtype=float32)\n",
      "Disc loss = tf.Tensor(0.27850553, shape=(), dtype=float32)\n",
      "epoch = 1\n",
      "Gen loss = tf.Tensor(0.27125216, shape=(), dtype=float32)\n",
      "Disc loss = tf.Tensor(0.1840405, shape=(), dtype=float32)\n",
      "epoch = 2\n",
      "Gen loss = tf.Tensor(0.32507184, shape=(), dtype=float32)\n",
      "Disc loss = tf.Tensor(0.15783961, shape=(), dtype=float32)\n",
      "epoch = 3\n",
      "Gen loss = tf.Tensor(0.32745233, shape=(), dtype=float32)\n",
      "Disc loss = tf.Tensor(0.15695043, shape=(), dtype=float32)\n",
      "epoch = 4\n",
      "Gen loss = tf.Tensor(0.32772025, shape=(), dtype=float32)\n",
      "Disc loss = tf.Tensor(0.15685217, shape=(), dtype=float32)\n",
      "epoch = 5\n",
      "Gen loss = tf.Tensor(0.32802978, shape=(), dtype=float32)\n",
      "Disc loss = tf.Tensor(0.15673776, shape=(), dtype=float32)\n",
      "epoch = 6\n",
      "Gen loss = tf.Tensor(0.3280985, shape=(), dtype=float32)\n",
      "Disc loss = tf.Tensor(0.15671192, shape=(), dtype=float32)\n",
      "epoch = 7\n",
      "Gen loss = tf.Tensor(0.3282093, shape=(), dtype=float32)\n",
      "Disc loss = tf.Tensor(0.15667053, shape=(), dtype=float32)\n",
      "epoch = 8\n",
      "Gen loss = tf.Tensor(0.32819876, shape=(), dtype=float32)\n",
      "Disc loss = tf.Tensor(0.15667613, shape=(), dtype=float32)\n",
      "epoch = 9\n",
      "Gen loss = tf.Tensor(0.32824063, shape=(), dtype=float32)\n",
      "Disc loss = tf.Tensor(0.15665874, shape=(), dtype=float32)\n",
      "epoch = 10\n",
      "Gen loss = tf.Tensor(0.32826617, shape=(), dtype=float32)\n",
      "Disc loss = tf.Tensor(0.15664938, shape=(), dtype=float32)\n",
      "epoch = 11\n",
      "Gen loss = tf.Tensor(0.32826492, shape=(), dtype=float32)\n",
      "Disc loss = tf.Tensor(0.15664963, shape=(), dtype=float32)\n",
      "epoch = 12\n",
      "Gen loss = tf.Tensor(0.3282754, shape=(), dtype=float32)\n",
      "Disc loss = tf.Tensor(0.15664573, shape=(), dtype=float32)\n",
      "epoch = 13\n",
      "Gen loss = tf.Tensor(0.32827577, shape=(), dtype=float32)\n",
      "Disc loss = tf.Tensor(0.15664569, shape=(), dtype=float32)\n",
      "epoch = 14\n",
      "Gen loss = tf.Tensor(0.32827985, shape=(), dtype=float32)\n",
      "Disc loss = tf.Tensor(0.15664421, shape=(), dtype=float32)\n",
      "(64, 64)\n",
      "[[16384.0, 16256.0, 16256.0, 16256.0, 16256.0, 16256.0, 16256.0, 16256.0, 16384.0, 16256.0, 16256.0, 16256.0, 16256.0, 16256.0, 16256.0, 16256.0, 16384.0, 16256.0, 16256.0, 16256.0, 16256.0, 16256.0, 16256.0, 16256.0, 16129.0, 16256.0, 16256.0, 16256.0, 16256.0, 16256.0, 16256.0, 16256.0, 16384.0, 16256.0, 16256.0, 16256.0, 16256.0, 16256.0, 16256.0, 16256.0, 16384.0, 16256.0, 16256.0, 16256.0, 16256.0, 16256.0, 16256.0, 16256.0, 16384.0, 16256.0, 16256.0, 16256.0, 16256.0, 16256.0, 16256.0, 16256.0, 16129.0, 16256.0, 16256.0, 16256.0, 16256.0, 16256.0, 16256.0, 16256.0], [16256.0, 16256.0, 16256.0, 16256.0, 16256.0, 16256.0, 16256.0, 16256.0, 16256.0, 16256.0, 16256.0, 16256.0, 16256.0, 16256.0, 16256.0, 16256.0, 16256.0, 16256.0, 16256.0, 16256.0, 16256.0, 16256.0, 16256.0, 16256.0, 16256.0, 16256.0, 16256.0, 16256.0, 16256.0, 16256.0, 16256.0, 16256.0, 16256.0, 16256.0, 16256.0, 16256.0, 16256.0, 16256.0, 16256.0, 16256.0, 16256.0, 16256.0, 16256.0, 16256.0, 16256.0, 16256.0, 16256.0, 16256.0, 16256.0, 16256.0, 16256.0, 16256.0, 16256.0, 16256.0, 16256.0, 16256.0, 16256.0, 16256.0, 16256.0, 16256.0, 16256.0, 16256.0, 16256.0, 16256.0], [16256.0, 16256.0, 16256.0, 16256.0, 16256.0, 16256.0, 16256.0, 16256.0, 16256.0, 16256.0, 16256.0, 16256.0, 16256.0, 16256.0, 16256.0, 16256.0, 16256.0, 16256.0, 16256.0, 16256.0, 16256.0, 16256.0, 16256.0, 16256.0, 16256.0, 16256.0, 16256.0, 16256.0, 16256.0, 16256.0, 16256.0, 16256.0, 16256.0, 16256.0, 16256.0, 16256.0, 16256.0, 16256.0, 16256.0, 16256.0, 16256.0, 16256.0, 16256.0, 16256.0, 16256.0, 16256.0, 16256.0, 16256.0, 16256.0, 16256.0, 16256.0, 16256.0, 16256.0, 16256.0, 16256.0, 16256.0, 16256.0, 16256.0, 16256.0, 16256.0, 16256.0, 16256.0, 16256.0, 16256.0], [16256.0, 16256.0, 16256.0, 16256.0, 16256.0, 16256.0, 16256.0, 16256.0, 16256.0, 16256.0, 16256.0, 16256.0, 16256.0, 16256.0, 16256.0, 16256.0, 16256.0, 16256.0, 16256.0, 16256.0, 16256.0, 16256.0, 16256.0, 16256.0, 16256.0, 16256.0, 16256.0, 16256.0, 16256.0, 16256.0, 16256.0, 16256.0, 16256.0, 16256.0, 16256.0, 16256.0, 16256.0, 16256.0, 16256.0, 16256.0, 16256.0, 16256.0, 16256.0, 16256.0, 16256.0, 16256.0, 16256.0, 16256.0, 16256.0, 16256.0, 16256.0, 16256.0, 16256.0, 16256.0, 16256.0, 16256.0, 16256.0, 16256.0, 16256.0, 16256.0, 16256.0, 16256.0, 16256.0, 16256.0], [16256.0, 16256.0, 16256.0, 16256.0, 16256.0, 16256.0, 16256.0, 16256.0, 16256.0, 16256.0, 16256.0, 16256.0, 16256.0, 16256.0, 16256.0, 16256.0, 16256.0, 16256.0, 16256.0, 16256.0, 16256.0, 16256.0, 16256.0, 16256.0, 16256.0, 16256.0, 16256.0, 16256.0, 16256.0, 16256.0, 16256.0, 16256.0, 16256.0, 16256.0, 16256.0, 16256.0, 16256.0, 16256.0, 16256.0, 16256.0, 16256.0, 16256.0, 16256.0, 16256.0, 16256.0, 16256.0, 16256.0, 16256.0, 16256.0, 16256.0, 16256.0, 16256.0, 16256.0, 16256.0, 16256.0, 16256.0, 16256.0, 16256.0, 16256.0, 16256.0, 16256.0, 16256.0, 16256.0, 16256.0], [16256.0, 16256.0, 16256.0, 16256.0, 16256.0, 16256.0, 16256.0, 16256.0, 16256.0, 16256.0, 16256.0, 16256.0, 16256.0, 16256.0, 16256.0, 16256.0, 16256.0, 16256.0, 16256.0, 16256.0, 16256.0, 16256.0, 16256.0, 16256.0, 16256.0, 16256.0, 16256.0, 16256.0, 16256.0, 16256.0, 16256.0, 16256.0, 16256.0, 16256.0, 16256.0, 16256.0, 16256.0, 16256.0, 16256.0, 16256.0, 16256.0, 16256.0, 16256.0, 16256.0, 16256.0, 16256.0, 16256.0, 16256.0, 16256.0, 16256.0, 16256.0, 16256.0, 16256.0, 16256.0, 16256.0, 16256.0, 16256.0, 16256.0, 16256.0, 16256.0, 16256.0, 16256.0, 16256.0, 16256.0], [16256.0, 16256.0, 16256.0, 16256.0, 16256.0, 16256.0, 16256.0, 16256.0, 16256.0, 16256.0, 16256.0, 16256.0, 16256.0, 16256.0, 16256.0, 16256.0, 16256.0, 16256.0, 16256.0, 16256.0, 16256.0, 16256.0, 16256.0, 16256.0, 16256.0, 16256.0, 16256.0, 16256.0, 16256.0, 16256.0, 16256.0, 16256.0, 16256.0, 16256.0, 16256.0, 16256.0, 16256.0, 16256.0, 16256.0, 16256.0, 16256.0, 16256.0, 16256.0, 16256.0, 16256.0, 16256.0, 16256.0, 16256.0, 16256.0, 16256.0, 16256.0, 16256.0, 16256.0, 16256.0, 16256.0, 16256.0, 16256.0, 16256.0, 16256.0, 16256.0, 16256.0, 16256.0, 16256.0, 16256.0], [16256.0, 16256.0, 16256.0, 16256.0, 16256.0, 16256.0, 16256.0, 16256.0, 16256.0, 16256.0, 16256.0, 16256.0, 16256.0, 16256.0, 16256.0, 16256.0, 16256.0, 16256.0, 16256.0, 16256.0, 16256.0, 16256.0, 16256.0, 16256.0, 16256.0, 16256.0, 16256.0, 16256.0, 16256.0, 16256.0, 16256.0, 16256.0, 16256.0, 16256.0, 16256.0, 16256.0, 16256.0, 16256.0, 16256.0, 16256.0, 16256.0, 16256.0, 16256.0, 16256.0, 16256.0, 16256.0, 16256.0, 16256.0, 16256.0, 16256.0, 16256.0, 16256.0, 16256.0, 16256.0, 16256.0, 16256.0, 16256.0, 16256.0, 16256.0, 16256.0, 16256.0, 16256.0, 16256.0, 16256.0], [16384.0, 16256.0, 16256.0, 16256.0, 16256.0, 16256.0, 16256.0, 16256.0, 16384.0, 16256.0, 16256.0, 16256.0, 16256.0, 16256.0, 16256.0, 16256.0, 16384.0, 16256.0, 16256.0, 16256.0, 16256.0, 16256.0, 16256.0, 16256.0, 16384.0, 16256.0, 16256.0, 16256.0, 16256.0, 16256.0, 16256.0, 16256.0, 16384.0, 16256.0, 16256.0, 16256.0, 16256.0, 16256.0, 16256.0, 16256.0, 16384.0, 16256.0, 16256.0, 16256.0, 16256.0, 16256.0, 16256.0, 16256.0, 16384.0, 16256.0, 16256.0, 16256.0, 16256.0, 16256.0, 16256.0, 16256.0, 16384.0, 16256.0, 16256.0, 16256.0, 16256.0, 16256.0, 16256.0, 16256.0], [16256.0, 16256.0, 16256.0, 16256.0, 16256.0, 16256.0, 16256.0, 16256.0, 16256.0, 16256.0, 16256.0, 16256.0, 16256.0, 16256.0, 16256.0, 16256.0, 16256.0, 16256.0, 16256.0, 16256.0, 16256.0, 16256.0, 16256.0, 16256.0, 16256.0, 16256.0, 16256.0, 16256.0, 16256.0, 16256.0, 16256.0, 16256.0, 16256.0, 16256.0, 16256.0, 16256.0, 16256.0, 16256.0, 16256.0, 16256.0, 16256.0, 16256.0, 16256.0, 16256.0, 16256.0, 16256.0, 16256.0, 16256.0, 16256.0, 16256.0, 16256.0, 16256.0, 16256.0, 16256.0, 16256.0, 16256.0, 16256.0, 16256.0, 16256.0, 16256.0, 16256.0, 16256.0, 16256.0, 16256.0], [16256.0, 16256.0, 16256.0, 16256.0, 16256.0, 16256.0, 16256.0, 16256.0, 16256.0, 16256.0, 16256.0, 16256.0, 16256.0, 16256.0, 16256.0, 16256.0, 16256.0, 16256.0, 16256.0, 16256.0, 16256.0, 16256.0, 16256.0, 16256.0, 16256.0, 16256.0, 16256.0, 16256.0, 16256.0, 16256.0, 16256.0, 16256.0, 16256.0, 16256.0, 16256.0, 16256.0, 16256.0, 16256.0, 16256.0, 16256.0, 16256.0, 16256.0, 16256.0, 16256.0, 16256.0, 16256.0, 16256.0, 16256.0, 16256.0, 16256.0, 16256.0, 16256.0, 16256.0, 16256.0, 16256.0, 16256.0, 16256.0, 16256.0, 16256.0, 16256.0, 16256.0, 16256.0, 16256.0, 16256.0], [16256.0, 16256.0, 16256.0, 16256.0, 16256.0, 16256.0, 16256.0, 16256.0, 16256.0, 16256.0, 16256.0, 16256.0, 16256.0, 16256.0, 16256.0, 16256.0, 16256.0, 16256.0, 16256.0, 16256.0, 16256.0, 16256.0, 16256.0, 16256.0, 16256.0, 16256.0, 16256.0, 16256.0, 16256.0, 16256.0, 16256.0, 16256.0, 16256.0, 16256.0, 16256.0, 16256.0, 16256.0, 16256.0, 16256.0, 16256.0, 16256.0, 16256.0, 16256.0, 16256.0, 16256.0, 16256.0, 16256.0, 16256.0, 16256.0, 16256.0, 16256.0, 16256.0, 16256.0, 16256.0, 16256.0, 16256.0, 16256.0, 16256.0, 16256.0, 16256.0, 16256.0, 16256.0, 16256.0, 16256.0], [16256.0, 16256.0, 16256.0, 16256.0, 16256.0, 16256.0, 16256.0, 16256.0, 16256.0, 16256.0, 16256.0, 16256.0, 16256.0, 16256.0, 16256.0, 16256.0, 16256.0, 16256.0, 16256.0, 16256.0, 16256.0, 16256.0, 16256.0, 16256.0, 16256.0, 16256.0, 16256.0, 16256.0, 16256.0, 16256.0, 16256.0, 16256.0, 16256.0, 16256.0, 16256.0, 16256.0, 16256.0, 16256.0, 16256.0, 16256.0, 16256.0, 16256.0, 16256.0, 16256.0, 16256.0, 16256.0, 16256.0, 16256.0, 16256.0, 16256.0, 16256.0, 16256.0, 16256.0, 16256.0, 16256.0, 16256.0, 16256.0, 16256.0, 16256.0, 16256.0, 16256.0, 16256.0, 16256.0, 16256.0], [16256.0, 16256.0, 16256.0, 16256.0, 16256.0, 16256.0, 16256.0, 16256.0, 16256.0, 16256.0, 16256.0, 16256.0, 16256.0, 16256.0, 16256.0, 16256.0, 16256.0, 16256.0, 16256.0, 16256.0, 16256.0, 16256.0, 16256.0, 16256.0, 16256.0, 16256.0, 16256.0, 16256.0, 16256.0, 16256.0, 16256.0, 16256.0, 16256.0, 16256.0, 16256.0, 16256.0, 16256.0, 16256.0, 16256.0, 16256.0, 16256.0, 16256.0, 16256.0, 16256.0, 16256.0, 16256.0, 16256.0, 16256.0, 16256.0, 16256.0, 16256.0, 16256.0, 16256.0, 16256.0, 16256.0, 16256.0, 16256.0, 16256.0, 16256.0, 16256.0, 16256.0, 16256.0, 16256.0, 16256.0], [16256.0, 16256.0, 16256.0, 16256.0, 16256.0, 16256.0, 16256.0, 16256.0, 16256.0, 16256.0, 16256.0, 16256.0, 16256.0, 16256.0, 16256.0, 16256.0, 16256.0, 16256.0, 16256.0, 16256.0, 16256.0, 16256.0, 16256.0, 16256.0, 16256.0, 16256.0, 16256.0, 16256.0, 16256.0, 16256.0, 16256.0, 16256.0, 16256.0, 16256.0, 16256.0, 16256.0, 16256.0, 16256.0, 16256.0, 16256.0, 16256.0, 16256.0, 16256.0, 16256.0, 16256.0, 16256.0, 16256.0, 16256.0, 16256.0, 16256.0, 16256.0, 16256.0, 16256.0, 16256.0, 16256.0, 16256.0, 16256.0, 16256.0, 16256.0, 16256.0, 16256.0, 16256.0, 16256.0, 16256.0], [16256.0, 16256.0, 16256.0, 16256.0, 16256.0, 16256.0, 16256.0, 16256.0, 16256.0, 16256.0, 16256.0, 16256.0, 16256.0, 16256.0, 16256.0, 16256.0, 16256.0, 16256.0, 16256.0, 16256.0, 16256.0, 16256.0, 16256.0, 16256.0, 16256.0, 16256.0, 16256.0, 16256.0, 16256.0, 16256.0, 16256.0, 16256.0, 16256.0, 16256.0, 16256.0, 16256.0, 16256.0, 16256.0, 16256.0, 16256.0, 16256.0, 16256.0, 16256.0, 16256.0, 16256.0, 16256.0, 16256.0, 16256.0, 16256.0, 16256.0, 16256.0, 16256.0, 16256.0, 16256.0, 16256.0, 16256.0, 16256.0, 16256.0, 16256.0, 16256.0, 16256.0, 16256.0, 16256.0, 16256.0], [16384.0, 16256.0, 16256.0, 16256.0, 16256.0, 16256.0, 16256.0, 16256.0, 16384.0, 16256.0, 16256.0, 16256.0, 16256.0, 16256.0, 16256.0, 16256.0, 16384.0, 16256.0, 16256.0, 16256.0, 16256.0, 16256.0, 16256.0, 16256.0, 16384.0, 16256.0, 16256.0, 16256.0, 16256.0, 16256.0, 16256.0, 16256.0, 16384.0, 16256.0, 16256.0, 16256.0, 16256.0, 16256.0, 16256.0, 16256.0, 16129.0, 16256.0, 16256.0, 16256.0, 16256.0, 16256.0, 16256.0, 16256.0, 16384.0, 16256.0, 16256.0, 16256.0, 16256.0, 16256.0, 16256.0, 16256.0, 16384.0, 16256.0, 16256.0, 16256.0, 16256.0, 16256.0, 16256.0, 16256.0], [16256.0, 16256.0, 16256.0, 16256.0, 16256.0, 16256.0, 16256.0, 16256.0, 16256.0, 16256.0, 16256.0, 16256.0, 16256.0, 16256.0, 16256.0, 16256.0, 16256.0, 16256.0, 16256.0, 16256.0, 16256.0, 16256.0, 16256.0, 16256.0, 16256.0, 16256.0, 16256.0, 16256.0, 16256.0, 16256.0, 16256.0, 16256.0, 16256.0, 16256.0, 16256.0, 16256.0, 16256.0, 16256.0, 16256.0, 16256.0, 16256.0, 16256.0, 16256.0, 16256.0, 16256.0, 16256.0, 16256.0, 16256.0, 16256.0, 16256.0, 16256.0, 16256.0, 16256.0, 16256.0, 16256.0, 16256.0, 16256.0, 16256.0, 16256.0, 16256.0, 16256.0, 16256.0, 16256.0, 16256.0], [16256.0, 16256.0, 16256.0, 16256.0, 16256.0, 16256.0, 16256.0, 16256.0, 16256.0, 16256.0, 16256.0, 16256.0, 16256.0, 16256.0, 16256.0, 16256.0, 16256.0, 16256.0, 16256.0, 16256.0, 16256.0, 16256.0, 16256.0, 16256.0, 16256.0, 16256.0, 16256.0, 16256.0, 16256.0, 16256.0, 16256.0, 16256.0, 16256.0, 16256.0, 16256.0, 16256.0, 16256.0, 16256.0, 16256.0, 16256.0, 16256.0, 16256.0, 16256.0, 16256.0, 16256.0, 16256.0, 16256.0, 16256.0, 16256.0, 16256.0, 16256.0, 16256.0, 16256.0, 16256.0, 16256.0, 16256.0, 16256.0, 16256.0, 16256.0, 16256.0, 16256.0, 16256.0, 16256.0, 16256.0], [16256.0, 16256.0, 16256.0, 16256.0, 16256.0, 16256.0, 16256.0, 16256.0, 16256.0, 16256.0, 16256.0, 16256.0, 16256.0, 16256.0, 16256.0, 16256.0, 16256.0, 16256.0, 16256.0, 16256.0, 16256.0, 16256.0, 16256.0, 16256.0, 16256.0, 16256.0, 16256.0, 16256.0, 16256.0, 16256.0, 16256.0, 16256.0, 16256.0, 16256.0, 16256.0, 16256.0, 16256.0, 16256.0, 16256.0, 16256.0, 16256.0, 16256.0, 16256.0, 16256.0, 16256.0, 16256.0, 16256.0, 16256.0, 16256.0, 16256.0, 16256.0, 16256.0, 16256.0, 16256.0, 16256.0, 16256.0, 16256.0, 16256.0, 16256.0, 16256.0, 16256.0, 16256.0, 16256.0, 16256.0], [16256.0, 16256.0, 16256.0, 16256.0, 16256.0, 16256.0, 16256.0, 16256.0, 16256.0, 16256.0, 16256.0, 16256.0, 16256.0, 16256.0, 16256.0, 16256.0, 16256.0, 16256.0, 16256.0, 16256.0, 16256.0, 16256.0, 16256.0, 16256.0, 16256.0, 16256.0, 16256.0, 16256.0, 16256.0, 16256.0, 16256.0, 16256.0, 16256.0, 16256.0, 16256.0, 16256.0, 16256.0, 16256.0, 16256.0, 16256.0, 16256.0, 16256.0, 16256.0, 16256.0, 16256.0, 16256.0, 16256.0, 16256.0, 16256.0, 16256.0, 16256.0, 16256.0, 16256.0, 16256.0, 16256.0, 16256.0, 16256.0, 16256.0, 16256.0, 16256.0, 16256.0, 16256.0, 16256.0, 16256.0], [16256.0, 16256.0, 16256.0, 16256.0, 16256.0, 16256.0, 16256.0, 16256.0, 16256.0, 16256.0, 16256.0, 16256.0, 16256.0, 16256.0, 16256.0, 16256.0, 16256.0, 16256.0, 16256.0, 16256.0, 16256.0, 16256.0, 16256.0, 16256.0, 16256.0, 16256.0, 16256.0, 16256.0, 16256.0, 16256.0, 16256.0, 16256.0, 16256.0, 16256.0, 16256.0, 16256.0, 16256.0, 16256.0, 16256.0, 16256.0, 16256.0, 16256.0, 16256.0, 16256.0, 16256.0, 16256.0, 16256.0, 16256.0, 16256.0, 16256.0, 16256.0, 16256.0, 16256.0, 16256.0, 16256.0, 16256.0, 16256.0, 16256.0, 16256.0, 16256.0, 16256.0, 16256.0, 16256.0, 16256.0], [16256.0, 16256.0, 16256.0, 16256.0, 16256.0, 16256.0, 16256.0, 16256.0, 16256.0, 16256.0, 16256.0, 16256.0, 16256.0, 16256.0, 16256.0, 16256.0, 16256.0, 16256.0, 16256.0, 16256.0, 16256.0, 16256.0, 16256.0, 16256.0, 16256.0, 16256.0, 16256.0, 16256.0, 16256.0, 16256.0, 16256.0, 16256.0, 16256.0, 16256.0, 16256.0, 16256.0, 16256.0, 16256.0, 16256.0, 16256.0, 16256.0, 16256.0, 16256.0, 16256.0, 16256.0, 16256.0, 16256.0, 16256.0, 16256.0, 16256.0, 16256.0, 16256.0, 16256.0, 16256.0, 16256.0, 16256.0, 16256.0, 16256.0, 16256.0, 16256.0, 16256.0, 16256.0, 16256.0, 16256.0], [16256.0, 16256.0, 16256.0, 16256.0, 16256.0, 16256.0, 16256.0, 16256.0, 16256.0, 16256.0, 16256.0, 16256.0, 16256.0, 16256.0, 16256.0, 16256.0, 16256.0, 16256.0, 16256.0, 16256.0, 16256.0, 16256.0, 16256.0, 16256.0, 16256.0, 16256.0, 16256.0, 16256.0, 16256.0, 16256.0, 16256.0, 16256.0, 16256.0, 16256.0, 16256.0, 16256.0, 16256.0, 16256.0, 16256.0, 16256.0, 16256.0, 16256.0, 16256.0, 16256.0, 16256.0, 16256.0, 16256.0, 16256.0, 16256.0, 16256.0, 16256.0, 16256.0, 16256.0, 16256.0, 16256.0, 16256.0, 16256.0, 16256.0, 16256.0, 16256.0, 16256.0, 16256.0, 16256.0, 16256.0], [16129.0, 16256.0, 16256.0, 16256.0, 16256.0, 16256.0, 16256.0, 16256.0, 16384.0, 16256.0, 16256.0, 16256.0, 16256.0, 16256.0, 16256.0, 16256.0, 16384.0, 16256.0, 16256.0, 16256.0, 16256.0, 16256.0, 16256.0, 16256.0, 16384.0, 16256.0, 16256.0, 16256.0, 16256.0, 16256.0, 16256.0, 16256.0, 16384.0, 16256.0, 16256.0, 16256.0, 16256.0, 16256.0, 16256.0, 16256.0, 16384.0, 16256.0, 16256.0, 16256.0, 16256.0, 16256.0, 16256.0, 16256.0, 16129.0, 16256.0, 16256.0, 16256.0, 16256.0, 16256.0, 16256.0, 16256.0, 16377.0, 16256.0, 16256.0, 16256.0, 16256.0, 16256.0, 16256.0, 16256.0], [16256.0, 16256.0, 16256.0, 16256.0, 16256.0, 16256.0, 16256.0, 16256.0, 16256.0, 16256.0, 16256.0, 16256.0, 16256.0, 16256.0, 16256.0, 16256.0, 16256.0, 16256.0, 16256.0, 16256.0, 16256.0, 16256.0, 16256.0, 16256.0, 16256.0, 16256.0, 16256.0, 16256.0, 16256.0, 16256.0, 16256.0, 16256.0, 16256.0, 16256.0, 16256.0, 16256.0, 16256.0, 16256.0, 16256.0, 16256.0, 16256.0, 16256.0, 16256.0, 16256.0, 16256.0, 16256.0, 16256.0, 16256.0, 16256.0, 16256.0, 16256.0, 16256.0, 16256.0, 16256.0, 16256.0, 16256.0, 16256.0, 16256.0, 16256.0, 16256.0, 16256.0, 16256.0, 16256.0, 16256.0], [16256.0, 16256.0, 16256.0, 16256.0, 16256.0, 16256.0, 16256.0, 16256.0, 16256.0, 16256.0, 16256.0, 16256.0, 16256.0, 16256.0, 16256.0, 16256.0, 16256.0, 16256.0, 16256.0, 16256.0, 16256.0, 16256.0, 16256.0, 16256.0, 16256.0, 16256.0, 16256.0, 16256.0, 16256.0, 16256.0, 16256.0, 16256.0, 16256.0, 16256.0, 16256.0, 16256.0, 16256.0, 16256.0, 16256.0, 16256.0, 16256.0, 16256.0, 16256.0, 16256.0, 16256.0, 16256.0, 16256.0, 16256.0, 16256.0, 16256.0, 16256.0, 16256.0, 16256.0, 16256.0, 16256.0, 16256.0, 16256.0, 16256.0, 16256.0, 16256.0, 16256.0, 16256.0, 16256.0, 16256.0], [16256.0, 16256.0, 16256.0, 16256.0, 16256.0, 16256.0, 16256.0, 16256.0, 16256.0, 16256.0, 16256.0, 16256.0, 16256.0, 16256.0, 16256.0, 16256.0, 16256.0, 16256.0, 16256.0, 16256.0, 16256.0, 16256.0, 16256.0, 16256.0, 16256.0, 16256.0, 16256.0, 16256.0, 16256.0, 16256.0, 16256.0, 16256.0, 16256.0, 16256.0, 16256.0, 16256.0, 16256.0, 16256.0, 16256.0, 16256.0, 16256.0, 16256.0, 16256.0, 16256.0, 16256.0, 16256.0, 16256.0, 16256.0, 16256.0, 16256.0, 16256.0, 16256.0, 16256.0, 16256.0, 16256.0, 16256.0, 16256.0, 16256.0, 16256.0, 16256.0, 16256.0, 16256.0, 16256.0, 16256.0], [16256.0, 16256.0, 16256.0, 16256.0, 16256.0, 16256.0, 16256.0, 16256.0, 16256.0, 16256.0, 16256.0, 16256.0, 16256.0, 16256.0, 16256.0, 16256.0, 16256.0, 16256.0, 16256.0, 16256.0, 16256.0, 16256.0, 16256.0, 16256.0, 16256.0, 16256.0, 16256.0, 16256.0, 16256.0, 16256.0, 16256.0, 16256.0, 16256.0, 16256.0, 16256.0, 16256.0, 16256.0, 16256.0, 16256.0, 16256.0, 16256.0, 16256.0, 16256.0, 16256.0, 16256.0, 16256.0, 16256.0, 16256.0, 16256.0, 16256.0, 16256.0, 16256.0, 16256.0, 16256.0, 16256.0, 16256.0, 16256.0, 16256.0, 16256.0, 16256.0, 16256.0, 16256.0, 16256.0, 16256.0], [16256.0, 16256.0, 16256.0, 16256.0, 16256.0, 16256.0, 16256.0, 16256.0, 16256.0, 16256.0, 16256.0, 16256.0, 16256.0, 16256.0, 16256.0, 16256.0, 16256.0, 16256.0, 16256.0, 16256.0, 16256.0, 16256.0, 16256.0, 16256.0, 16256.0, 16256.0, 16256.0, 16256.0, 16256.0, 16256.0, 16256.0, 16256.0, 16256.0, 16256.0, 16256.0, 16256.0, 16256.0, 16256.0, 16256.0, 16256.0, 16256.0, 16256.0, 16256.0, 16256.0, 16256.0, 16256.0, 16256.0, 16256.0, 16256.0, 16256.0, 16256.0, 16256.0, 16256.0, 16256.0, 16256.0, 16256.0, 16256.0, 16256.0, 16256.0, 16256.0, 16256.0, 16256.0, 16256.0, 16256.0], [16256.0, 16256.0, 16256.0, 16256.0, 16256.0, 16256.0, 16256.0, 16256.0, 16256.0, 16256.0, 16256.0, 16256.0, 16256.0, 16256.0, 16256.0, 16256.0, 16256.0, 16256.0, 16256.0, 16256.0, 16256.0, 16256.0, 16256.0, 16256.0, 16256.0, 16256.0, 16256.0, 16256.0, 16256.0, 16256.0, 16256.0, 16256.0, 16256.0, 16256.0, 16256.0, 16256.0, 16256.0, 16256.0, 16256.0, 16256.0, 16256.0, 16256.0, 16256.0, 16256.0, 16256.0, 16256.0, 16256.0, 16256.0, 16256.0, 16256.0, 16256.0, 16256.0, 16256.0, 16256.0, 16256.0, 16256.0, 16256.0, 16256.0, 16256.0, 16256.0, 16256.0, 16256.0, 16256.0, 16256.0], [16256.0, 16256.0, 16256.0, 16256.0, 16256.0, 16256.0, 16256.0, 16256.0, 16256.0, 16256.0, 16256.0, 16256.0, 16256.0, 16256.0, 16256.0, 16256.0, 16256.0, 16256.0, 16256.0, 16256.0, 16256.0, 16256.0, 16256.0, 16256.0, 16256.0, 16256.0, 16256.0, 16256.0, 16256.0, 16256.0, 16256.0, 16256.0, 16256.0, 16256.0, 16256.0, 16256.0, 16256.0, 16256.0, 16256.0, 16256.0, 16256.0, 16256.0, 16256.0, 16256.0, 16256.0, 16256.0, 16256.0, 16256.0, 16256.0, 16256.0, 16256.0, 16256.0, 16256.0, 16256.0, 16256.0, 16256.0, 16256.0, 16256.0, 16256.0, 16256.0, 16256.0, 16256.0, 16256.0, 16256.0], [16384.0, 16256.0, 16256.0, 16256.0, 16256.0, 16256.0, 16256.0, 16256.0, 16129.0, 16256.0, 16256.0, 16256.0, 16256.0, 16256.0, 16256.0, 16256.0, 16384.0, 16256.0, 16256.0, 16256.0, 16256.0, 16256.0, 16256.0, 16256.0, 16384.0, 16256.0, 16256.0, 16256.0, 16256.0, 16256.0, 16256.0, 16256.0, 16384.0, 16256.0, 16256.0, 16256.0, 16256.0, 16256.0, 16256.0, 16256.0, 16384.0, 16256.0, 16256.0, 16256.0, 16256.0, 16256.0, 16256.0, 16256.0, 16384.0, 16256.0, 16256.0, 16256.0, 16256.0, 16256.0, 16256.0, 16256.0, 16384.0, 16256.0, 16256.0, 16256.0, 16256.0, 16256.0, 16256.0, 16256.0], [16256.0, 16256.0, 16256.0, 16256.0, 16256.0, 16256.0, 16256.0, 16256.0, 16256.0, 16256.0, 16256.0, 16256.0, 16256.0, 16256.0, 16256.0, 16256.0, 16256.0, 16256.0, 16256.0, 16256.0, 16256.0, 16256.0, 16256.0, 16256.0, 16256.0, 16256.0, 16256.0, 16256.0, 16256.0, 16256.0, 16256.0, 16256.0, 16256.0, 16256.0, 16256.0, 16256.0, 16256.0, 16256.0, 16256.0, 16256.0, 16256.0, 16256.0, 16256.0, 16256.0, 16256.0, 16256.0, 16256.0, 16256.0, 16256.0, 16256.0, 16256.0, 16256.0, 16256.0, 16256.0, 16256.0, 16256.0, 16256.0, 16256.0, 16256.0, 16256.0, 16256.0, 16256.0, 16256.0, 16256.0], [16256.0, 16256.0, 16256.0, 16256.0, 16256.0, 16256.0, 16256.0, 16256.0, 16256.0, 16256.0, 16256.0, 16256.0, 16256.0, 16256.0, 16256.0, 16256.0, 16256.0, 16256.0, 16256.0, 16256.0, 16256.0, 16256.0, 16256.0, 16256.0, 16256.0, 16256.0, 16256.0, 16256.0, 16256.0, 16256.0, 16256.0, 16256.0, 16256.0, 16256.0, 16256.0, 16256.0, 16256.0, 16256.0, 16256.0, 16256.0, 16256.0, 16256.0, 16256.0, 16256.0, 16256.0, 16256.0, 16256.0, 16256.0, 16256.0, 16256.0, 16256.0, 16256.0, 16256.0, 16256.0, 16256.0, 16256.0, 16256.0, 16256.0, 16256.0, 16256.0, 16256.0, 16256.0, 16256.0, 16256.0], [16256.0, 16256.0, 16256.0, 16256.0, 16256.0, 16256.0, 16256.0, 16256.0, 16256.0, 16256.0, 16256.0, 16256.0, 16256.0, 16256.0, 16256.0, 16256.0, 16256.0, 16256.0, 16256.0, 16256.0, 16256.0, 16256.0, 16256.0, 16256.0, 16256.0, 16256.0, 16256.0, 16256.0, 16256.0, 16256.0, 16256.0, 16256.0, 16256.0, 16256.0, 16256.0, 16256.0, 16256.0, 16256.0, 16256.0, 16256.0, 16256.0, 16256.0, 16256.0, 16256.0, 16256.0, 16256.0, 16256.0, 16256.0, 16256.0, 16256.0, 16256.0, 16256.0, 16256.0, 16256.0, 16256.0, 16256.0, 16256.0, 16256.0, 16256.0, 16256.0, 16256.0, 16256.0, 16256.0, 16256.0], [16256.0, 16256.0, 16256.0, 16256.0, 16256.0, 16256.0, 16256.0, 16256.0, 16256.0, 16256.0, 16256.0, 16256.0, 16256.0, 16256.0, 16256.0, 16256.0, 16256.0, 16256.0, 16256.0, 16256.0, 16256.0, 16256.0, 16256.0, 16256.0, 16256.0, 16256.0, 16256.0, 16256.0, 16256.0, 16256.0, 16256.0, 16256.0, 16256.0, 16256.0, 16256.0, 16256.0, 16256.0, 16256.0, 16256.0, 16256.0, 16256.0, 16256.0, 16256.0, 16256.0, 16256.0, 16256.0, 16256.0, 16256.0, 16256.0, 16256.0, 16256.0, 16256.0, 16256.0, 16256.0, 16256.0, 16256.0, 16256.0, 16256.0, 16256.0, 16256.0, 16256.0, 16256.0, 16256.0, 16256.0], [16256.0, 16256.0, 16256.0, 16256.0, 16256.0, 16256.0, 16256.0, 16256.0, 16256.0, 16256.0, 16256.0, 16256.0, 16256.0, 16256.0, 16256.0, 16256.0, 16256.0, 16256.0, 16256.0, 16256.0, 16256.0, 16256.0, 16256.0, 16256.0, 16256.0, 16256.0, 16256.0, 16256.0, 16256.0, 16256.0, 16256.0, 16256.0, 16256.0, 16256.0, 16256.0, 16256.0, 16256.0, 16256.0, 16256.0, 16256.0, 16256.0, 16256.0, 16256.0, 16256.0, 16256.0, 16256.0, 16256.0, 16256.0, 16256.0, 16256.0, 16256.0, 16256.0, 16256.0, 16256.0, 16256.0, 16256.0, 16256.0, 16256.0, 16256.0, 16256.0, 16256.0, 16256.0, 16256.0, 16256.0], [16256.0, 16256.0, 16256.0, 16256.0, 16256.0, 16256.0, 16256.0, 16256.0, 16256.0, 16256.0, 16256.0, 16256.0, 16256.0, 16256.0, 16256.0, 16256.0, 16256.0, 16256.0, 16256.0, 16256.0, 16256.0, 16256.0, 16256.0, 16256.0, 16256.0, 16256.0, 16256.0, 16256.0, 16256.0, 16256.0, 16256.0, 16256.0, 16256.0, 16256.0, 16256.0, 16256.0, 16256.0, 16256.0, 16256.0, 16256.0, 16256.0, 16256.0, 16256.0, 16256.0, 16256.0, 16256.0, 16256.0, 16256.0, 16256.0, 16256.0, 16256.0, 16256.0, 16256.0, 16256.0, 16256.0, 16256.0, 16256.0, 16256.0, 16256.0, 16256.0, 16256.0, 16256.0, 16256.0, 16256.0], [16256.0, 16256.0, 16256.0, 16256.0, 16256.0, 16256.0, 16256.0, 16256.0, 16256.0, 16256.0, 16256.0, 16256.0, 16256.0, 16256.0, 16256.0, 16256.0, 16256.0, 16256.0, 16256.0, 16256.0, 16256.0, 16256.0, 16256.0, 16256.0, 16256.0, 16256.0, 16256.0, 16256.0, 16256.0, 16256.0, 16256.0, 16256.0, 16256.0, 16256.0, 16256.0, 16256.0, 16256.0, 16256.0, 16256.0, 16256.0, 16256.0, 16256.0, 16256.0, 16256.0, 16256.0, 16256.0, 16256.0, 16256.0, 16256.0, 16256.0, 16256.0, 16256.0, 16256.0, 16256.0, 16256.0, 16256.0, 16256.0, 16256.0, 16256.0, 16256.0, 16256.0, 16256.0, 16256.0, 16256.0], [16384.0, 16256.0, 16256.0, 16256.0, 16256.0, 16256.0, 16256.0, 16256.0, 16384.0, 16256.0, 16256.0, 16256.0, 16256.0, 16256.0, 16256.0, 16256.0, 16384.0, 16256.0, 16256.0, 16256.0, 16256.0, 16256.0, 16256.0, 16256.0, 16384.0, 16256.0, 16256.0, 16256.0, 16256.0, 16256.0, 16256.0, 16256.0, 16384.0, 16256.0, 16256.0, 16256.0, 16256.0, 16256.0, 16256.0, 16256.0, 16129.0, 16256.0, 16256.0, 16256.0, 16256.0, 16256.0, 16256.0, 16256.0, 16384.0, 16256.0, 16256.0, 16256.0, 16256.0, 16256.0, 16256.0, 16256.0, 16129.0, 16256.0, 16256.0, 16256.0, 16256.0, 16256.0, 16256.0, 16256.0], [16256.0, 16256.0, 16256.0, 16256.0, 16256.0, 16256.0, 16256.0, 16256.0, 16256.0, 16256.0, 16256.0, 16256.0, 16256.0, 16256.0, 16256.0, 16256.0, 16256.0, 16256.0, 16256.0, 16256.0, 16256.0, 16256.0, 16256.0, 16256.0, 16256.0, 16256.0, 16256.0, 16256.0, 16256.0, 16256.0, 16256.0, 16256.0, 16256.0, 16256.0, 16256.0, 16256.0, 16256.0, 16256.0, 16256.0, 16256.0, 16256.0, 16256.0, 16256.0, 16256.0, 16256.0, 16256.0, 16256.0, 16256.0, 16256.0, 16256.0, 16256.0, 16256.0, 16256.0, 16256.0, 16256.0, 16256.0, 16256.0, 16256.0, 16256.0, 16256.0, 16256.0, 16256.0, 16256.0, 16256.0], [16256.0, 16256.0, 16256.0, 16256.0, 16256.0, 16256.0, 16256.0, 16256.0, 16256.0, 16256.0, 16256.0, 16256.0, 16256.0, 16256.0, 16256.0, 16256.0, 16256.0, 16256.0, 16256.0, 16256.0, 16256.0, 16256.0, 16256.0, 16256.0, 16256.0, 16256.0, 16256.0, 16256.0, 16256.0, 16256.0, 16256.0, 16256.0, 16256.0, 16256.0, 16256.0, 16256.0, 16256.0, 16256.0, 16256.0, 16256.0, 16256.0, 16256.0, 16256.0, 16256.0, 16256.0, 16256.0, 16256.0, 16256.0, 16256.0, 16256.0, 16256.0, 16256.0, 16256.0, 16256.0, 16256.0, 16256.0, 16256.0, 16256.0, 16256.0, 16256.0, 16256.0, 16256.0, 16256.0, 16256.0], [16256.0, 16256.0, 16256.0, 16256.0, 16256.0, 16256.0, 16256.0, 16256.0, 16256.0, 16256.0, 16256.0, 16256.0, 16256.0, 16256.0, 16256.0, 16256.0, 16256.0, 16256.0, 16256.0, 16256.0, 16256.0, 16256.0, 16256.0, 16256.0, 16256.0, 16256.0, 16256.0, 16256.0, 16256.0, 16256.0, 16256.0, 16256.0, 16256.0, 16256.0, 16256.0, 16256.0, 16256.0, 16256.0, 16256.0, 16256.0, 16256.0, 16256.0, 16256.0, 16256.0, 16256.0, 16256.0, 16256.0, 16256.0, 16256.0, 16256.0, 16256.0, 16256.0, 16256.0, 16256.0, 16256.0, 16256.0, 16256.0, 16256.0, 16256.0, 16256.0, 16256.0, 16256.0, 16256.0, 16256.0], [16256.0, 16256.0, 16256.0, 16256.0, 16256.0, 16256.0, 16256.0, 16256.0, 16256.0, 16256.0, 16256.0, 16256.0, 16256.0, 16256.0, 16256.0, 16256.0, 16256.0, 16256.0, 16256.0, 16256.0, 16256.0, 16256.0, 16256.0, 16256.0, 16256.0, 16256.0, 16256.0, 16256.0, 16256.0, 16256.0, 16256.0, 16256.0, 16256.0, 16256.0, 16256.0, 16256.0, 16256.0, 16256.0, 16256.0, 16256.0, 16256.0, 16256.0, 16256.0, 16256.0, 16256.0, 16256.0, 16256.0, 16256.0, 16256.0, 16256.0, 16256.0, 16256.0, 16256.0, 16256.0, 16256.0, 16256.0, 16256.0, 16256.0, 16256.0, 16256.0, 16256.0, 16256.0, 16256.0, 16256.0], [16256.0, 16256.0, 16256.0, 16256.0, 16256.0, 16256.0, 16256.0, 16256.0, 16256.0, 16256.0, 16256.0, 16256.0, 16256.0, 16256.0, 16256.0, 16256.0, 16256.0, 16256.0, 16256.0, 16256.0, 16256.0, 16256.0, 16256.0, 16256.0, 16256.0, 16256.0, 16256.0, 16256.0, 16256.0, 16256.0, 16256.0, 16256.0, 16256.0, 16256.0, 16256.0, 16256.0, 16256.0, 16256.0, 16256.0, 16256.0, 16256.0, 16256.0, 16256.0, 16256.0, 16256.0, 16256.0, 16256.0, 16256.0, 16256.0, 16256.0, 16256.0, 16256.0, 16256.0, 16256.0, 16256.0, 16256.0, 16256.0, 16256.0, 16256.0, 16256.0, 16256.0, 16256.0, 16256.0, 16256.0], [16256.0, 16256.0, 16256.0, 16256.0, 16256.0, 16256.0, 16256.0, 16256.0, 16256.0, 16256.0, 16256.0, 16256.0, 16256.0, 16256.0, 16256.0, 16256.0, 16256.0, 16256.0, 16256.0, 16256.0, 16256.0, 16256.0, 16256.0, 16256.0, 16256.0, 16256.0, 16256.0, 16256.0, 16256.0, 16256.0, 16256.0, 16256.0, 16256.0, 16256.0, 16256.0, 16256.0, 16256.0, 16256.0, 16256.0, 16256.0, 16256.0, 16256.0, 16256.0, 16256.0, 16256.0, 16256.0, 16256.0, 16256.0, 16256.0, 16256.0, 16256.0, 16256.0, 16256.0, 16256.0, 16256.0, 16256.0, 16256.0, 16256.0, 16256.0, 16256.0, 16256.0, 16256.0, 16256.0, 16256.0], [16256.0, 16256.0, 16256.0, 16256.0, 16256.0, 16256.0, 16256.0, 16256.0, 16256.0, 16256.0, 16256.0, 16256.0, 16256.0, 16256.0, 16256.0, 16256.0, 16256.0, 16256.0, 16256.0, 16256.0, 16256.0, 16256.0, 16256.0, 16256.0, 16256.0, 16256.0, 16256.0, 16256.0, 16256.0, 16256.0, 16256.0, 16256.0, 16256.0, 16256.0, 16256.0, 16256.0, 16256.0, 16256.0, 16256.0, 16256.0, 16256.0, 16256.0, 16256.0, 16256.0, 16256.0, 16256.0, 16256.0, 16256.0, 16256.0, 16256.0, 16256.0, 16256.0, 16256.0, 16256.0, 16256.0, 16256.0, 16256.0, 16256.0, 16256.0, 16256.0, 16256.0, 16256.0, 16256.0, 16256.0], [16384.0, 16256.0, 16256.0, 16256.0, 16256.0, 16256.0, 16256.0, 16256.0, 16129.0, 16256.0, 16256.0, 16256.0, 16256.0, 16256.0, 16256.0, 16256.0, 16384.0, 16256.0, 16256.0, 16256.0, 16256.0, 16256.0, 16256.0, 16256.0, 16384.0, 16256.0, 16256.0, 16256.0, 16256.0, 16256.0, 16256.0, 16256.0, 16384.0, 16256.0, 16256.0, 16256.0, 16256.0, 16256.0, 16256.0, 16256.0, 16384.0, 16256.0, 16256.0, 16256.0, 16256.0, 16256.0, 16256.0, 16256.0, 16384.0, 16256.0, 16256.0, 16256.0, 16256.0, 16256.0, 16256.0, 16256.0, 16384.0, 16256.0, 16256.0, 16256.0, 16256.0, 16256.0, 16256.0, 16256.0], [16256.0, 16256.0, 16256.0, 16256.0, 16256.0, 16256.0, 16256.0, 16256.0, 16256.0, 16256.0, 16256.0, 16256.0, 16256.0, 16256.0, 16256.0, 16256.0, 16256.0, 16256.0, 16256.0, 16256.0, 16256.0, 16256.0, 16256.0, 16256.0, 16256.0, 16256.0, 16256.0, 16256.0, 16256.0, 16256.0, 16256.0, 16256.0, 16256.0, 16256.0, 16256.0, 16256.0, 16256.0, 16256.0, 16256.0, 16256.0, 16256.0, 16256.0, 16256.0, 16256.0, 16256.0, 16256.0, 16256.0, 16256.0, 16256.0, 16256.0, 16256.0, 16256.0, 16256.0, 16256.0, 16256.0, 16256.0, 16256.0, 16256.0, 16256.0, 16256.0, 16256.0, 16256.0, 16256.0, 16256.0], [16256.0, 16256.0, 16256.0, 16256.0, 16256.0, 16256.0, 16256.0, 16256.0, 16256.0, 16256.0, 16256.0, 16256.0, 16256.0, 16256.0, 16256.0, 16256.0, 16256.0, 16256.0, 16256.0, 16256.0, 16256.0, 16256.0, 16256.0, 16256.0, 16256.0, 16256.0, 16256.0, 16256.0, 16256.0, 16256.0, 16256.0, 16256.0, 16256.0, 16256.0, 16256.0, 16256.0, 16256.0, 16256.0, 16256.0, 16256.0, 16256.0, 16256.0, 16256.0, 16256.0, 16256.0, 16256.0, 16256.0, 16256.0, 16256.0, 16256.0, 16256.0, 16256.0, 16256.0, 16256.0, 16256.0, 16256.0, 16256.0, 16256.0, 16256.0, 16256.0, 16256.0, 16256.0, 16256.0, 16256.0], [16256.0, 16256.0, 16256.0, 16256.0, 16256.0, 16256.0, 16256.0, 16256.0, 16256.0, 16256.0, 16256.0, 16256.0, 16256.0, 16256.0, 16256.0, 16256.0, 16256.0, 16256.0, 16256.0, 16256.0, 16256.0, 16256.0, 16256.0, 16256.0, 16256.0, 16256.0, 16256.0, 16256.0, 16256.0, 16256.0, 16256.0, 16256.0, 16256.0, 16256.0, 16256.0, 16256.0, 16256.0, 16256.0, 16256.0, 16256.0, 16256.0, 16256.0, 16256.0, 16256.0, 16256.0, 16256.0, 16256.0, 16256.0, 16256.0, 16256.0, 16256.0, 16256.0, 16256.0, 16256.0, 16256.0, 16256.0, 16256.0, 16256.0, 16256.0, 16256.0, 16256.0, 16256.0, 16256.0, 16256.0], [16256.0, 16256.0, 16256.0, 16256.0, 16256.0, 16256.0, 16256.0, 16256.0, 16256.0, 16256.0, 16256.0, 16256.0, 16256.0, 16256.0, 16256.0, 16256.0, 16256.0, 16256.0, 16256.0, 16256.0, 16256.0, 16256.0, 16256.0, 16256.0, 16256.0, 16256.0, 16256.0, 16256.0, 16256.0, 16256.0, 16256.0, 16256.0, 16256.0, 16256.0, 16256.0, 16256.0, 16256.0, 16256.0, 16256.0, 16256.0, 16256.0, 16256.0, 16256.0, 16256.0, 16256.0, 16256.0, 16256.0, 16256.0, 16256.0, 16256.0, 16256.0, 16256.0, 16256.0, 16256.0, 16256.0, 16256.0, 16256.0, 16256.0, 16256.0, 16256.0, 16256.0, 16256.0, 16256.0, 16256.0], [16256.0, 16256.0, 16256.0, 16256.0, 16256.0, 16256.0, 16256.0, 16256.0, 16256.0, 16256.0, 16256.0, 16256.0, 16256.0, 16256.0, 16256.0, 16256.0, 16256.0, 16256.0, 16256.0, 16256.0, 16256.0, 16256.0, 16256.0, 16256.0, 16256.0, 16256.0, 16256.0, 16256.0, 16256.0, 16256.0, 16256.0, 16256.0, 16256.0, 16256.0, 16256.0, 16256.0, 16256.0, 16256.0, 16256.0, 16256.0, 16256.0, 16256.0, 16256.0, 16256.0, 16256.0, 16256.0, 16256.0, 16256.0, 16256.0, 16256.0, 16256.0, 16256.0, 16256.0, 16256.0, 16256.0, 16256.0, 16256.0, 16256.0, 16256.0, 16256.0, 16256.0, 16256.0, 16256.0, 16256.0], [16256.0, 16256.0, 16256.0, 16256.0, 16256.0, 16256.0, 16256.0, 16256.0, 16256.0, 16256.0, 16256.0, 16256.0, 16256.0, 16256.0, 16256.0, 16256.0, 16256.0, 16256.0, 16256.0, 16256.0, 16256.0, 16256.0, 16256.0, 16256.0, 16256.0, 16256.0, 16256.0, 16256.0, 16256.0, 16256.0, 16256.0, 16256.0, 16256.0, 16256.0, 16256.0, 16256.0, 16256.0, 16256.0, 16256.0, 16256.0, 16256.0, 16256.0, 16256.0, 16256.0, 16256.0, 16256.0, 16256.0, 16256.0, 16256.0, 16256.0, 16256.0, 16256.0, 16256.0, 16256.0, 16256.0, 16256.0, 16256.0, 16256.0, 16256.0, 16256.0, 16256.0, 16256.0, 16256.0, 16256.0], [16256.0, 16256.0, 16256.0, 16256.0, 16256.0, 16256.0, 16256.0, 16256.0, 16256.0, 16256.0, 16256.0, 16256.0, 16256.0, 16256.0, 16256.0, 16256.0, 16256.0, 16256.0, 16256.0, 16256.0, 16256.0, 16256.0, 16256.0, 16256.0, 16256.0, 16256.0, 16256.0, 16256.0, 16256.0, 16256.0, 16256.0, 16256.0, 16256.0, 16256.0, 16256.0, 16256.0, 16256.0, 16256.0, 16256.0, 16256.0, 16256.0, 16256.0, 16256.0, 16256.0, 16256.0, 16256.0, 16256.0, 16256.0, 16256.0, 16256.0, 16256.0, 16256.0, 16256.0, 16256.0, 16256.0, 16256.0, 16256.0, 16256.0, 16256.0, 16256.0, 16256.0, 16256.0, 16256.0, 16256.0], [16384.0, 16256.0, 16256.0, 16256.0, 16256.0, 16256.0, 16256.0, 16256.0, 16384.0, 16256.0, 16256.0, 16256.0, 16256.0, 16256.0, 16256.0, 16256.0, 16384.0, 16256.0, 16256.0, 16256.0, 16256.0, 16256.0, 16256.0, 16256.0, 16384.0, 16256.0, 16256.0, 16256.0, 16256.0, 16256.0, 16256.0, 16256.0, 16384.0, 16256.0, 16256.0, 16256.0, 16256.0, 16256.0, 16256.0, 16256.0, 16384.0, 16256.0, 16256.0, 16256.0, 16256.0, 16256.0, 16256.0, 16256.0, 16384.0, 16256.0, 16256.0, 16256.0, 16256.0, 16256.0, 16256.0, 16256.0, 16147.0, 16256.0, 16256.0, 16256.0, 16256.0, 16256.0, 16256.0, 16256.0], [16256.0, 16256.0, 16256.0, 16256.0, 16256.0, 16256.0, 16256.0, 16256.0, 16256.0, 16256.0, 16256.0, 16256.0, 16256.0, 16256.0, 16256.0, 16256.0, 16256.0, 16256.0, 16256.0, 16256.0, 16256.0, 16256.0, 16256.0, 16256.0, 16256.0, 16256.0, 16256.0, 16256.0, 16256.0, 16256.0, 16256.0, 16256.0, 16256.0, 16256.0, 16256.0, 16256.0, 16256.0, 16256.0, 16256.0, 16256.0, 16256.0, 16256.0, 16256.0, 16256.0, 16256.0, 16256.0, 16256.0, 16256.0, 16256.0, 16256.0, 16256.0, 16256.0, 16256.0, 16256.0, 16256.0, 16256.0, 16256.0, 16256.0, 16256.0, 16256.0, 16256.0, 16256.0, 16256.0, 16256.0], [16256.0, 16256.0, 16256.0, 16256.0, 16256.0, 16256.0, 16256.0, 16256.0, 16256.0, 16256.0, 16256.0, 16256.0, 16256.0, 16256.0, 16256.0, 16256.0, 16256.0, 16256.0, 16256.0, 16256.0, 16256.0, 16256.0, 16256.0, 16256.0, 16256.0, 16256.0, 16256.0, 16256.0, 16256.0, 16256.0, 16256.0, 16256.0, 16256.0, 16256.0, 16256.0, 16256.0, 16256.0, 16256.0, 16256.0, 16256.0, 16256.0, 16256.0, 16256.0, 16256.0, 16256.0, 16256.0, 16256.0, 16256.0, 16256.0, 16256.0, 16256.0, 16256.0, 16256.0, 16256.0, 16256.0, 16256.0, 16256.0, 16256.0, 16256.0, 16256.0, 16256.0, 16256.0, 16256.0, 16256.0], [16256.0, 16256.0, 16256.0, 16256.0, 16256.0, 16256.0, 16256.0, 16256.0, 16256.0, 16256.0, 16256.0, 16256.0, 16256.0, 16256.0, 16256.0, 16256.0, 16256.0, 16256.0, 16256.0, 16256.0, 16256.0, 16256.0, 16256.0, 16256.0, 16256.0, 16256.0, 16256.0, 16256.0, 16256.0, 16256.0, 16256.0, 16256.0, 16256.0, 16256.0, 16256.0, 16256.0, 16256.0, 16256.0, 16256.0, 16256.0, 16256.0, 16256.0, 16256.0, 16256.0, 16256.0, 16256.0, 16256.0, 16256.0, 16256.0, 16256.0, 16256.0, 16256.0, 16256.0, 16256.0, 16256.0, 16256.0, 16256.0, 16256.0, 16256.0, 16256.0, 16256.0, 16256.0, 16256.0, 16256.0], [16256.0, 16256.0, 16256.0, 16256.0, 16256.0, 16256.0, 16256.0, 16256.0, 16256.0, 16256.0, 16256.0, 16256.0, 16256.0, 16256.0, 16256.0, 16256.0, 16256.0, 16256.0, 16256.0, 16256.0, 16256.0, 16256.0, 16256.0, 16256.0, 16256.0, 16256.0, 16256.0, 16256.0, 16256.0, 16256.0, 16256.0, 16256.0, 16256.0, 16256.0, 16256.0, 16256.0, 16256.0, 16256.0, 16256.0, 16256.0, 16256.0, 16256.0, 16256.0, 16256.0, 16256.0, 16256.0, 16256.0, 16256.0, 16256.0, 16256.0, 16256.0, 16256.0, 16256.0, 16256.0, 16256.0, 16256.0, 16256.0, 16256.0, 16256.0, 16256.0, 16256.0, 16256.0, 16256.0, 16256.0], [16256.0, 16256.0, 16256.0, 16256.0, 16256.0, 16256.0, 16256.0, 16256.0, 16256.0, 16256.0, 16256.0, 16256.0, 16256.0, 16256.0, 16256.0, 16256.0, 16256.0, 16256.0, 16256.0, 16256.0, 16256.0, 16256.0, 16256.0, 16256.0, 16256.0, 16256.0, 16256.0, 16256.0, 16256.0, 16256.0, 16256.0, 16256.0, 16256.0, 16256.0, 16256.0, 16256.0, 16256.0, 16256.0, 16256.0, 16256.0, 16256.0, 16256.0, 16256.0, 16256.0, 16256.0, 16256.0, 16256.0, 16256.0, 16256.0, 16256.0, 16256.0, 16256.0, 16256.0, 16256.0, 16256.0, 16256.0, 16256.0, 16256.0, 16256.0, 16256.0, 16256.0, 16256.0, 16256.0, 16256.0], [16256.0, 16256.0, 16256.0, 16256.0, 16256.0, 16256.0, 16256.0, 16256.0, 16256.0, 16256.0, 16256.0, 16256.0, 16256.0, 16256.0, 16256.0, 16256.0, 16256.0, 16256.0, 16256.0, 16256.0, 16256.0, 16256.0, 16256.0, 16256.0, 16256.0, 16256.0, 16256.0, 16256.0, 16256.0, 16256.0, 16256.0, 16256.0, 16256.0, 16256.0, 16256.0, 16256.0, 16256.0, 16256.0, 16256.0, 16256.0, 16256.0, 16256.0, 16256.0, 16256.0, 16256.0, 16256.0, 16256.0, 16256.0, 16256.0, 16256.0, 16256.0, 16256.0, 16256.0, 16256.0, 16256.0, 16256.0, 16256.0, 16256.0, 16256.0, 16256.0, 16256.0, 16256.0, 16256.0, 16256.0], [16256.0, 16256.0, 16256.0, 16256.0, 16256.0, 16256.0, 16256.0, 16256.0, 16256.0, 16256.0, 16256.0, 16256.0, 16256.0, 16256.0, 16256.0, 16256.0, 16256.0, 16256.0, 16256.0, 16256.0, 16256.0, 16256.0, 16256.0, 16256.0, 16256.0, 16256.0, 16256.0, 16256.0, 16256.0, 16256.0, 16256.0, 16256.0, 16256.0, 16256.0, 16256.0, 16256.0, 16256.0, 16256.0, 16256.0, 16256.0, 16256.0, 16256.0, 16256.0, 16256.0, 16256.0, 16256.0, 16256.0, 16256.0, 16256.0, 16256.0, 16256.0, 16256.0, 16256.0, 16256.0, 16256.0, 16256.0, 16256.0, 16256.0, 16256.0, 16256.0, 16256.0, 16256.0, 16256.0, 16256.0]]\n"
     ]
    }
   ],
   "source": [
    "\n",
    "\n",
    "gen_losses, disc_losses, generated_map = train(training_data, N_EPOCHS)\n",
    "\n",
    "# denormalise generated map\n",
    "\n",
    "generated_map = (generated_map * 127.5) + 127.5\n",
    "\n",
    "\n",
    "\n",
    "\n",
    "generated_map = generated_map.numpy()\n",
    "\n",
    "generated_map = np.round(generated_map,0)\n",
    "\n",
    "generated_map = np.reshape(generated_map, (64,64))\n",
    "\n",
    "print(generated_map.shape)\n",
    "\n",
    "#write generated map to csv\n",
    "\n",
    "\n",
    "np.savetxt('generated_map.csv', generated_map, delimiter=',')\n",
    "\n",
    "generated_map = generated_map.tolist()\n",
    "\n",
    "print(generated_map)\n"
   ]
  },
  {
   "attachments": {},
   "cell_type": "markdown",
   "metadata": {},
   "source": [
    "graphs:"
   ]
  },
  {
   "cell_type": "code",
   "execution_count": 18,
   "metadata": {},
   "outputs": [
    {
     "data": {
      "text/plain": [
       "Text(0.5, 0, 'Epoch')"
      ]
     },
     "execution_count": 18,
     "metadata": {},
     "output_type": "execute_result"
    },
    {
     "data": {
      "image/png": "[encoded data removed]",
      "text/plain": [
       "<Figure size 640x480 with 1 Axes>"
      ]
     },
     "metadata": {},
     "output_type": "display_data"
    }
   ],
   "source": [
    "epoch_list = [i for i in range(0,N_EPOCHS)]\n",
    "\n",
    "\n",
    "\n",
    "plt.plot(epoch_list,disc_losses,  'r-')\n",
    "plt.plot(epoch_list, gen_losses, 'b-')\n",
    "plt.title('Gen and Disc loss over epochs')\n",
    "plt.ylabel('Loss')\n",
    "plt.xlabel('Epoch')"
   ]
  }
 ],
 "metadata": {
  "kernelspec": {
   "display_name": "Python 3 (ipykernel)",
   "language": "python",
   "name": "python3"
  },
  "language_info": {
   "codemirror_mode": {
    "name": "ipython",
    "version": 3
   },
   "file_extension": ".py",
   "mimetype": "text/x-python",
   "name": "python",
   "nbconvert_exporter": "python",
   "pygments_lexer": "ipython3",
   "version": "3.10.12"
  }
 },
 "nbformat": 4,
 "nbformat_minor": 2
}
